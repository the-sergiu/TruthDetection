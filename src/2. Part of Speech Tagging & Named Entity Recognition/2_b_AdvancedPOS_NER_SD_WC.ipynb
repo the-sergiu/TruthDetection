{
 "cells": [
  {
   "cell_type": "markdown",
   "id": "resident-night",
   "metadata": {},
   "source": [
    "## Imports"
   ]
  },
  {
   "cell_type": "code",
   "execution_count": 40,
   "id": "organized-wheel",
   "metadata": {},
   "outputs": [],
   "source": [
    "# for Data Manipulation\n",
    "import pandas as pd\n",
    "import numpy as np\n",
    "import os\n",
    "import csv \n",
    "\n",
    "# for EDA\n",
    "from os import path\n",
    "from PIL import Image\n",
    "from wordcloud import WordCloud, STOPWORDS, ImageColorGenerator\n",
    "import matplotlib.pyplot as plt\n",
    "%matplotlib inline   \n",
    "from collections import Counter\n",
    "\n",
    "# for NLP\n",
    "from textatistic import Textatistic\n",
    "import spacy\n",
    "from spacy import displacy\n",
    "\n",
    "# for Statistics\n",
    "from scipy import stats\n",
    "\n",
    "# Parallelization\n",
    "import swifter"
   ]
  },
  {
   "cell_type": "markdown",
   "id": "under-addition",
   "metadata": {},
   "source": [
    "## Check Data"
   ]
  },
  {
   "cell_type": "code",
   "execution_count": 5,
   "id": "spiritual-nirvana",
   "metadata": {},
   "outputs": [
    {
     "data": {
      "text/html": [
       "<div>\n",
       "<style scoped>\n",
       "    .dataframe tbody tr th:only-of-type {\n",
       "        vertical-align: middle;\n",
       "    }\n",
       "\n",
       "    .dataframe tbody tr th {\n",
       "        vertical-align: top;\n",
       "    }\n",
       "\n",
       "    .dataframe thead th {\n",
       "        text-align: right;\n",
       "    }\n",
       "</style>\n",
       "<table border=\"1\" class=\"dataframe\">\n",
       "  <thead>\n",
       "    <tr style=\"text-align: right;\">\n",
       "      <th></th>\n",
       "      <th>statement</th>\n",
       "      <th>source</th>\n",
       "      <th>veracity</th>\n",
       "      <th>date</th>\n",
       "    </tr>\n",
       "  </thead>\n",
       "  <tbody>\n",
       "    <tr>\n",
       "      <th>0</th>\n",
       "      <td>Sen. Kamala Harris is \"supporting the animals of MS-13.\"</td>\n",
       "      <td>Donald Trump</td>\n",
       "      <td>0</td>\n",
       "      <td>2018-07-03</td>\n",
       "    </tr>\n",
       "    <tr>\n",
       "      <th>1</th>\n",
       "      <td>Says Ronald Reagan said immigrants \"brought with them courage and the values of family, work, and freedom. Let us pledge to each other that we can make America great again.\"</td>\n",
       "      <td>Becoming American Initiative</td>\n",
       "      <td>1</td>\n",
       "      <td>2018-07-03</td>\n",
       "    </tr>\n",
       "    <tr>\n",
       "      <th>2</th>\n",
       "      <td>Says Democratic Senators \"demand Supreme Court nominee not be unduly influenced by U.S. Constitution.\"</td>\n",
       "      <td>Viral image</td>\n",
       "      <td>0</td>\n",
       "      <td>2018-07-03</td>\n",
       "    </tr>\n",
       "    <tr>\n",
       "      <th>3</th>\n",
       "      <td>\"Tim Kaine doesn’t want a border at all. He wants to get rid of Immigration and Customs Enforcement and basically the border patrol as well.\"</td>\n",
       "      <td>Corey  Stewart</td>\n",
       "      <td>0</td>\n",
       "      <td>2018-07-03</td>\n",
       "    </tr>\n",
       "    <tr>\n",
       "      <th>4</th>\n",
       "      <td>\"George H.W. Bush has died at 94.\"</td>\n",
       "      <td>Bloggers</td>\n",
       "      <td>0</td>\n",
       "      <td>2018-07-02</td>\n",
       "    </tr>\n",
       "  </tbody>\n",
       "</table>\n",
       "</div>"
      ],
      "text/plain": [
       "                                                                                                                                                                       statement  \\\n",
       "0                                                                                                                       Sen. Kamala Harris is \"supporting the animals of MS-13.\"   \n",
       "1  Says Ronald Reagan said immigrants \"brought with them courage and the values of family, work, and freedom. Let us pledge to each other that we can make America great again.\"   \n",
       "2                                                                         Says Democratic Senators \"demand Supreme Court nominee not be unduly influenced by U.S. Constitution.\"   \n",
       "3                                  \"Tim Kaine doesn’t want a border at all. He wants to get rid of Immigration and Customs Enforcement and basically the border patrol as well.\"   \n",
       "4                                                                                                                                             \"George H.W. Bush has died at 94.\"   \n",
       "\n",
       "                         source  veracity        date  \n",
       "0                  Donald Trump         0  2018-07-03  \n",
       "1  Becoming American Initiative         1  2018-07-03  \n",
       "2                   Viral image         0  2018-07-03  \n",
       "3                Corey  Stewart         0  2018-07-03  \n",
       "4                      Bloggers         0  2018-07-02  "
      ]
     },
     "execution_count": 5,
     "metadata": {},
     "output_type": "execute_result"
    }
   ],
   "source": [
    "df = pd.read_csv('politifact_ner_cleaned_data.csv')\n",
    "# Option to extend the dataframe to the full width\n",
    "pd.set_option('display.max_colwidth', 200)\n",
    "df.head()"
   ]
  },
  {
   "cell_type": "code",
   "execution_count": 6,
   "id": "adaptive-extraction",
   "metadata": {},
   "outputs": [
    {
     "data": {
      "text/plain": [
       "0    6335\n",
       "1    4853\n",
       "Name: veracity, dtype: int64"
      ]
     },
     "execution_count": 6,
     "metadata": {},
     "output_type": "execute_result"
    }
   ],
   "source": [
    "df.veracity.value_counts()"
   ]
  },
  {
   "cell_type": "markdown",
   "id": "honest-legend",
   "metadata": {},
   "source": [
    "## Import lemmatized data"
   ]
  },
  {
   "cell_type": "markdown",
   "id": "complex-drove",
   "metadata": {},
   "source": [
    "This dataset was created in the previous notebook. It contains the cleaned politifact dataset, alongside the lemmatized version of statements."
   ]
  },
  {
   "cell_type": "code",
   "execution_count": 11,
   "id": "rocky-obligation",
   "metadata": {},
   "outputs": [
    {
     "data": {
      "text/html": [
       "<div>\n",
       "<style scoped>\n",
       "    .dataframe tbody tr th:only-of-type {\n",
       "        vertical-align: middle;\n",
       "    }\n",
       "\n",
       "    .dataframe tbody tr th {\n",
       "        vertical-align: top;\n",
       "    }\n",
       "\n",
       "    .dataframe thead th {\n",
       "        text-align: right;\n",
       "    }\n",
       "</style>\n",
       "<table border=\"1\" class=\"dataframe\">\n",
       "  <thead>\n",
       "    <tr style=\"text-align: right;\">\n",
       "      <th></th>\n",
       "      <th>statement</th>\n",
       "      <th>source</th>\n",
       "      <th>veracity</th>\n",
       "      <th>date</th>\n",
       "      <th>lemmas</th>\n",
       "    </tr>\n",
       "  </thead>\n",
       "  <tbody>\n",
       "    <tr>\n",
       "      <th>0</th>\n",
       "      <td>Sen. Kamala Harris is \"supporting the animals of MS-13.\"</td>\n",
       "      <td>Donald Trump</td>\n",
       "      <td>0</td>\n",
       "      <td>2018-07-03</td>\n",
       "      <td>kamala harris support animal</td>\n",
       "    </tr>\n",
       "    <tr>\n",
       "      <th>1</th>\n",
       "      <td>Says Ronald Reagan said immigrants \"brought with them courage and the values of family, work, and freedom. Let us pledge to each other that we can make America great again.\"</td>\n",
       "      <td>Becoming American Initiative</td>\n",
       "      <td>1</td>\n",
       "      <td>2018-07-03</td>\n",
       "      <td>ronald reagan immigrant bring courage value family work freedom let pledge america great</td>\n",
       "    </tr>\n",
       "    <tr>\n",
       "      <th>2</th>\n",
       "      <td>Says Democratic Senators \"demand Supreme Court nominee not be unduly influenced by U.S. Constitution.\"</td>\n",
       "      <td>Viral image</td>\n",
       "      <td>0</td>\n",
       "      <td>2018-07-03</td>\n",
       "      <td>democratic senators demand supreme court nominee unduly influence constitution</td>\n",
       "    </tr>\n",
       "    <tr>\n",
       "      <th>3</th>\n",
       "      <td>\"Tim Kaine doesn’t want a border at all. He wants to get rid of Immigration and Customs Enforcement and basically the border patrol as well.\"</td>\n",
       "      <td>Corey  Stewart</td>\n",
       "      <td>0</td>\n",
       "      <td>2018-07-03</td>\n",
       "      <td>tim kaine want border want rid immigration customs enforcement basically border patrol</td>\n",
       "    </tr>\n",
       "    <tr>\n",
       "      <th>4</th>\n",
       "      <td>\"George H.W. Bush has died at 94.\"</td>\n",
       "      <td>Bloggers</td>\n",
       "      <td>0</td>\n",
       "      <td>2018-07-02</td>\n",
       "      <td>george bush die</td>\n",
       "    </tr>\n",
       "  </tbody>\n",
       "</table>\n",
       "</div>"
      ],
      "text/plain": [
       "                                                                                                                                                                       statement  \\\n",
       "0                                                                                                                       Sen. Kamala Harris is \"supporting the animals of MS-13.\"   \n",
       "1  Says Ronald Reagan said immigrants \"brought with them courage and the values of family, work, and freedom. Let us pledge to each other that we can make America great again.\"   \n",
       "2                                                                         Says Democratic Senators \"demand Supreme Court nominee not be unduly influenced by U.S. Constitution.\"   \n",
       "3                                  \"Tim Kaine doesn’t want a border at all. He wants to get rid of Immigration and Customs Enforcement and basically the border patrol as well.\"   \n",
       "4                                                                                                                                             \"George H.W. Bush has died at 94.\"   \n",
       "\n",
       "                         source  veracity        date  \\\n",
       "0                  Donald Trump         0  2018-07-03   \n",
       "1  Becoming American Initiative         1  2018-07-03   \n",
       "2                   Viral image         0  2018-07-03   \n",
       "3                Corey  Stewart         0  2018-07-03   \n",
       "4                      Bloggers         0  2018-07-02   \n",
       "\n",
       "                                                                                     lemmas  \n",
       "0                                                              kamala harris support animal  \n",
       "1  ronald reagan immigrant bring courage value family work freedom let pledge america great  \n",
       "2            democratic senators demand supreme court nominee unduly influence constitution  \n",
       "3    tim kaine want border want rid immigration customs enforcement basically border patrol  \n",
       "4                                                                           george bush die  "
      ]
     },
     "execution_count": 11,
     "metadata": {},
     "output_type": "execute_result"
    }
   ],
   "source": [
    "df = pd.read_csv(\"politifact_ner_cleaned_lemmas.csv\")\n",
    "df.head()"
   ]
  },
  {
   "cell_type": "code",
   "execution_count": 8,
   "id": "dimensional-walnut",
   "metadata": {},
   "outputs": [
    {
     "data": {
      "text/plain": [
       "(11188, 5)"
      ]
     },
     "execution_count": 8,
     "metadata": {},
     "output_type": "execute_result"
    }
   ],
   "source": [
    "df.shape"
   ]
  },
  {
   "cell_type": "markdown",
   "id": "fixed-transcript",
   "metadata": {},
   "source": [
    "## Import feature engineered DataFrame from previous notebook"
   ]
  },
  {
   "cell_type": "code",
   "execution_count": 9,
   "id": "early-workplace",
   "metadata": {},
   "outputs": [
    {
     "data": {
      "text/html": [
       "<div>\n",
       "<style scoped>\n",
       "    .dataframe tbody tr th:only-of-type {\n",
       "        vertical-align: middle;\n",
       "    }\n",
       "\n",
       "    .dataframe tbody tr th {\n",
       "        vertical-align: top;\n",
       "    }\n",
       "\n",
       "    .dataframe thead th {\n",
       "        text-align: right;\n",
       "    }\n",
       "</style>\n",
       "<table border=\"1\" class=\"dataframe\">\n",
       "  <thead>\n",
       "    <tr style=\"text-align: right;\">\n",
       "      <th></th>\n",
       "      <th>source</th>\n",
       "      <th>veracity</th>\n",
       "      <th>date</th>\n",
       "      <th>lemmas</th>\n",
       "      <th>numb_of_letters</th>\n",
       "      <th>numb_of_words</th>\n",
       "      <th>avg_word_len</th>\n",
       "      <th>read_score_gun</th>\n",
       "      <th>pos_tags</th>\n",
       "      <th>count_of_adjective</th>\n",
       "      <th>...</th>\n",
       "      <th>count_of_punctuation</th>\n",
       "      <th>freq_of_punctuation</th>\n",
       "      <th>count_of_space</th>\n",
       "      <th>freq_of_space</th>\n",
       "      <th>count_of_symbol</th>\n",
       "      <th>freq_of_symbol</th>\n",
       "      <th>count_of_verb</th>\n",
       "      <th>freq_of_verb</th>\n",
       "      <th>count_of_unknown</th>\n",
       "      <th>freq_of_unknown</th>\n",
       "    </tr>\n",
       "  </thead>\n",
       "  <tbody>\n",
       "    <tr>\n",
       "      <th>0</th>\n",
       "      <td>Donald Trump</td>\n",
       "      <td>0</td>\n",
       "      <td>2018-07-03</td>\n",
       "      <td>kamala harris support animal</td>\n",
       "      <td>56</td>\n",
       "      <td>9</td>\n",
       "      <td>5.3</td>\n",
       "      <td>10.0</td>\n",
       "      <td>[('Sen.', 'PROPN'), ('Kamala', 'PROPN'), ('Harris', 'PROPN'), ('is', 'AUX'), ('\"', 'PUNCT'), ('supporting', 'VERB'), ('the', 'DET'), ('animals', 'NOUN'), ('of', 'ADP'), ('MS-13', 'PROPN'), ('.', '...</td>\n",
       "      <td>0</td>\n",
       "      <td>...</td>\n",
       "      <td>3</td>\n",
       "      <td>0.333333</td>\n",
       "      <td>0</td>\n",
       "      <td>0.000000</td>\n",
       "      <td>0</td>\n",
       "      <td>0.0</td>\n",
       "      <td>1</td>\n",
       "      <td>0.111111</td>\n",
       "      <td>0</td>\n",
       "      <td>0.0</td>\n",
       "    </tr>\n",
       "    <tr>\n",
       "      <th>1</th>\n",
       "      <td>Becoming American Initiative</td>\n",
       "      <td>1</td>\n",
       "      <td>2018-07-03</td>\n",
       "      <td>ronald reagan immigrant bring courage value family work freedom let pledge america great</td>\n",
       "      <td>173</td>\n",
       "      <td>30</td>\n",
       "      <td>4.8</td>\n",
       "      <td>7.3</td>\n",
       "      <td>[('Says', 'VERB'), ('Ronald', 'PROPN'), ('Reagan', 'PROPN'), ('said', 'VERB'), ('immigrants', 'NOUN'), ('\\xa0', 'SPACE'), ('\"', 'PUNCT'), ('brought', 'VERB'), ('with', 'ADP'), ('them', 'PRON'), ('...</td>\n",
       "      <td>2</td>\n",
       "      <td>...</td>\n",
       "      <td>6</td>\n",
       "      <td>0.200000</td>\n",
       "      <td>1</td>\n",
       "      <td>0.033333</td>\n",
       "      <td>0</td>\n",
       "      <td>0.0</td>\n",
       "      <td>6</td>\n",
       "      <td>0.200000</td>\n",
       "      <td>0</td>\n",
       "      <td>0.0</td>\n",
       "    </tr>\n",
       "  </tbody>\n",
       "</table>\n",
       "<p>2 rows × 41 columns</p>\n",
       "</div>"
      ],
      "text/plain": [
       "                         source  veracity        date  \\\n",
       "0                  Donald Trump         0  2018-07-03   \n",
       "1  Becoming American Initiative         1  2018-07-03   \n",
       "\n",
       "                                                                                     lemmas  \\\n",
       "0                                                              kamala harris support animal   \n",
       "1  ronald reagan immigrant bring courage value family work freedom let pledge america great   \n",
       "\n",
       "   numb_of_letters  numb_of_words  avg_word_len  read_score_gun  \\\n",
       "0               56              9           5.3            10.0   \n",
       "1              173             30           4.8             7.3   \n",
       "\n",
       "                                                                                                                                                                                                  pos_tags  \\\n",
       "0  [('Sen.', 'PROPN'), ('Kamala', 'PROPN'), ('Harris', 'PROPN'), ('is', 'AUX'), ('\"', 'PUNCT'), ('supporting', 'VERB'), ('the', 'DET'), ('animals', 'NOUN'), ('of', 'ADP'), ('MS-13', 'PROPN'), ('.', '...   \n",
       "1  [('Says', 'VERB'), ('Ronald', 'PROPN'), ('Reagan', 'PROPN'), ('said', 'VERB'), ('immigrants', 'NOUN'), ('\\xa0', 'SPACE'), ('\"', 'PUNCT'), ('brought', 'VERB'), ('with', 'ADP'), ('them', 'PRON'), ('...   \n",
       "\n",
       "   count_of_adjective  ...  count_of_punctuation  freq_of_punctuation  \\\n",
       "0                   0  ...                     3             0.333333   \n",
       "1                   2  ...                     6             0.200000   \n",
       "\n",
       "   count_of_space  freq_of_space  count_of_symbol  freq_of_symbol  \\\n",
       "0               0       0.000000                0             0.0   \n",
       "1               1       0.033333                0             0.0   \n",
       "\n",
       "   count_of_verb  freq_of_verb  count_of_unknown  freq_of_unknown  \n",
       "0              1      0.111111                 0              0.0  \n",
       "1              6      0.200000                 0              0.0  \n",
       "\n",
       "[2 rows x 41 columns]"
      ]
     },
     "execution_count": 9,
     "metadata": {},
     "output_type": "execute_result"
    }
   ],
   "source": [
    "# df = pd.read_csv(\"politifact_ner_automatic_pos_tag_counts.csv\")\n",
    "# df[:2]"
   ]
  },
  {
   "cell_type": "code",
   "execution_count": 10,
   "id": "genetic-biodiversity",
   "metadata": {},
   "outputs": [
    {
     "data": {
      "text/plain": [
       "Index(['source', 'veracity', 'date', 'lemmas', 'numb_of_letters',\n",
       "       'numb_of_words', 'avg_word_len', 'read_score_gun', 'pos_tags',\n",
       "       'count_of_adjective', 'freq_of_adjective',\n",
       "       'count_of_conjunction or particle or adverb',\n",
       "       'freq_of_conjunction or particle or adverb', 'count_of_adverb',\n",
       "       'freq_of_adverb', 'count_of_coordinating conjuction',\n",
       "       'freq_of_coordinating conjuction', 'count_of_determiner',\n",
       "       'freq_of_determiner', 'count_of_interjection', 'freq_of_interjection',\n",
       "       'count_of_noun', 'freq_of_noun', 'count_of_number', 'freq_of_number',\n",
       "       'count_of_possessive', 'freq_of_possessive', 'count_of_pronoun',\n",
       "       'freq_of_pronoun', 'count_of_proper noun', 'freq_of_proper noun',\n",
       "       'count_of_punctuation', 'freq_of_punctuation', 'count_of_space',\n",
       "       'freq_of_space', 'count_of_symbol', 'freq_of_symbol', 'count_of_verb',\n",
       "       'freq_of_verb', 'count_of_unknown', 'freq_of_unknown'],\n",
       "      dtype='object')"
      ]
     },
     "execution_count": 10,
     "metadata": {},
     "output_type": "execute_result"
    }
   ],
   "source": [
    "# df.columns"
   ]
  },
  {
   "cell_type": "markdown",
   "id": "allied-knight",
   "metadata": {},
   "source": [
    "## POS (Part of Speech) Tagging (simple version, also used in previous notebook)"
   ]
  },
  {
   "cell_type": "markdown",
   "id": "directed-reminder",
   "metadata": {},
   "source": [
    "Current method of POS tagging involved the use of 16 tags, being the simple version variant of POS tagging."
   ]
  },
  {
   "cell_type": "code",
   "execution_count": 12,
   "id": "assisted-nowhere",
   "metadata": {},
   "outputs": [],
   "source": [
    "nlp = spacy.load('en_core_web_lg')"
   ]
  },
  {
   "cell_type": "code",
   "execution_count": 13,
   "id": "level-model",
   "metadata": {},
   "outputs": [
    {
     "name": "stdout",
     "output_type": "stream",
     "text": [
      "[('Sen.', 'PROPN'), ('Kamala', 'PROPN'), ('Harris', 'PROPN'), ('is', 'AUX'), ('\"', 'PUNCT'), ('supporting', 'VERB'), ('the', 'DET'), ('animals', 'NOUN'), ('of', 'ADP'), ('MS-13', 'PROPN'), ('.', 'PUNCT'), ('\"', 'PUNCT')]\n"
     ]
    }
   ],
   "source": [
    "# First sample\n",
    "nobj = nlp(df.statement[0])\n",
    "pos = [(token.text, token.pos_) for token in nobj]\n",
    "print(pos)"
   ]
  },
  {
   "cell_type": "code",
   "execution_count": 14,
   "id": "orange-appearance",
   "metadata": {},
   "outputs": [],
   "source": [
    "# POS tagger function\n",
    "def pos_tagger(text):\n",
    "    \n",
    "    # nlp object\n",
    "    nobj = nlp(text)\n",
    "    \n",
    "    # POS tags\n",
    "    tagged_text = [(token.text, token.pos_) for token in nobj]\n",
    "    \n",
    "    # tagged text\n",
    "    return tagged_text"
   ]
  },
  {
   "cell_type": "code",
   "execution_count": 15,
   "id": "traditional-canyon",
   "metadata": {},
   "outputs": [],
   "source": [
    "# Create a column with the POS tags for each statement\n",
    "\n",
    "df[\"general_pos_tags\"] = df[\"statement\"].apply(pos_tagger)"
   ]
  },
  {
   "cell_type": "code",
   "execution_count": 16,
   "id": "confirmed-science",
   "metadata": {},
   "outputs": [
    {
     "data": {
      "text/html": [
       "<div>\n",
       "<style scoped>\n",
       "    .dataframe tbody tr th:only-of-type {\n",
       "        vertical-align: middle;\n",
       "    }\n",
       "\n",
       "    .dataframe tbody tr th {\n",
       "        vertical-align: top;\n",
       "    }\n",
       "\n",
       "    .dataframe thead th {\n",
       "        text-align: right;\n",
       "    }\n",
       "</style>\n",
       "<table border=\"1\" class=\"dataframe\">\n",
       "  <thead>\n",
       "    <tr style=\"text-align: right;\">\n",
       "      <th></th>\n",
       "      <th>general_pos_tags</th>\n",
       "    </tr>\n",
       "  </thead>\n",
       "  <tbody>\n",
       "    <tr>\n",
       "      <th>0</th>\n",
       "      <td>[(Sen., PROPN), (Kamala, PROPN), (Harris, PROPN), (is, AUX), (\", PUNCT), (supporting, VERB), (the, DET), (animals, NOUN), (of, ADP), (MS-13, PROPN), (., PUNCT), (\", PUNCT)]</td>\n",
       "    </tr>\n",
       "    <tr>\n",
       "      <th>1</th>\n",
       "      <td>[(Says, VERB), (Ronald, PROPN), (Reagan, PROPN), (said, VERB), (immigrants, NOUN), ( , SPACE), (\", PUNCT), (brought, VERB), (with, ADP), (them, PRON), (courage, NOUN), (and, CCONJ), (the, DET), (v...</td>\n",
       "    </tr>\n",
       "    <tr>\n",
       "      <th>2</th>\n",
       "      <td>[(Says, VERB), (Democratic, ADJ), (Senators, PROPN), (\", PUNCT), (demand, VERB), (Supreme, PROPN), (Court, PROPN), (nominee, NOUN), (not, PART), (be, AUX), (unduly, ADV), (influenced, VERB), (by, ...</td>\n",
       "    </tr>\n",
       "    <tr>\n",
       "      <th>3</th>\n",
       "      <td>[(\", PUNCT), (Tim, PROPN), (Kaine, PROPN), (does, AUX), (n’t, PART), (want, VERB), (a, DET), (border, NOUN), (at, ADV), (all, ADV), (., PUNCT), (He, PRON), (wants, VERB), (to, PART), (get, AUX), (...</td>\n",
       "    </tr>\n",
       "    <tr>\n",
       "      <th>4</th>\n",
       "      <td>[(\", PUNCT), (George, PROPN), (H.W., PROPN), (Bush, PROPN), (has, AUX), (died, VERB), (at, ADP), (94, NUM), (., PUNCT), (\", PUNCT)]</td>\n",
       "    </tr>\n",
       "  </tbody>\n",
       "</table>\n",
       "</div>"
      ],
      "text/plain": [
       "                                                                                                                                                                                          general_pos_tags\n",
       "0                             [(Sen., PROPN), (Kamala, PROPN), (Harris, PROPN), (is, AUX), (\", PUNCT), (supporting, VERB), (the, DET), (animals, NOUN), (of, ADP), (MS-13, PROPN), (., PUNCT), (\", PUNCT)]\n",
       "1  [(Says, VERB), (Ronald, PROPN), (Reagan, PROPN), (said, VERB), (immigrants, NOUN), ( , SPACE), (\", PUNCT), (brought, VERB), (with, ADP), (them, PRON), (courage, NOUN), (and, CCONJ), (the, DET), (v...\n",
       "2  [(Says, VERB), (Democratic, ADJ), (Senators, PROPN), (\", PUNCT), (demand, VERB), (Supreme, PROPN), (Court, PROPN), (nominee, NOUN), (not, PART), (be, AUX), (unduly, ADV), (influenced, VERB), (by, ...\n",
       "3  [(\", PUNCT), (Tim, PROPN), (Kaine, PROPN), (does, AUX), (n’t, PART), (want, VERB), (a, DET), (border, NOUN), (at, ADV), (all, ADV), (., PUNCT), (He, PRON), (wants, VERB), (to, PART), (get, AUX), (...\n",
       "4                                                                      [(\", PUNCT), (George, PROPN), (H.W., PROPN), (Bush, PROPN), (has, AUX), (died, VERB), (at, ADP), (94, NUM), (., PUNCT), (\", PUNCT)]"
      ]
     },
     "execution_count": 16,
     "metadata": {},
     "output_type": "execute_result"
    }
   ],
   "source": [
    "# Check that our column was properly created\n",
    "df[[\"general_pos_tags\"]][0:5]"
   ]
  },
  {
   "cell_type": "code",
   "execution_count": 17,
   "id": "arctic-buddy",
   "metadata": {},
   "outputs": [
    {
     "data": {
      "text/html": [
       "<span class=\"tex2jax_ignore\"><svg xmlns=\"http://www.w3.org/2000/svg\" xmlns:xlink=\"http://www.w3.org/1999/xlink\" xml:lang=\"en\" id=\"55304a5d276442dd9c7bb481270a9bb4-0\" class=\"displacy\" width=\"950\" height=\"238.0\" direction=\"ltr\" style=\"max-width: none; height: 238.0px; color: #000000; background: #ADD8E6; font-family: Helvetica; direction: ltr\">\n",
       "<text class=\"displacy-token\" fill=\"currentColor\" text-anchor=\"middle\" y=\"148.0\">\n",
       "    <tspan class=\"displacy-word\" fill=\"currentColor\" x=\"50\">Sen.</tspan>\n",
       "    <tspan class=\"displacy-tag\" dy=\"2em\" fill=\"currentColor\" x=\"50\">PROPN</tspan>\n",
       "</text>\n",
       "\n",
       "<text class=\"displacy-token\" fill=\"currentColor\" text-anchor=\"middle\" y=\"148.0\">\n",
       "    <tspan class=\"displacy-word\" fill=\"currentColor\" x=\"150\">Kamala</tspan>\n",
       "    <tspan class=\"displacy-tag\" dy=\"2em\" fill=\"currentColor\" x=\"150\">PROPN</tspan>\n",
       "</text>\n",
       "\n",
       "<text class=\"displacy-token\" fill=\"currentColor\" text-anchor=\"middle\" y=\"148.0\">\n",
       "    <tspan class=\"displacy-word\" fill=\"currentColor\" x=\"250\">Harris</tspan>\n",
       "    <tspan class=\"displacy-tag\" dy=\"2em\" fill=\"currentColor\" x=\"250\">PROPN</tspan>\n",
       "</text>\n",
       "\n",
       "<text class=\"displacy-token\" fill=\"currentColor\" text-anchor=\"middle\" y=\"148.0\">\n",
       "    <tspan class=\"displacy-word\" fill=\"currentColor\" x=\"350\">is &quot;</tspan>\n",
       "    <tspan class=\"displacy-tag\" dy=\"2em\" fill=\"currentColor\" x=\"350\">AUX</tspan>\n",
       "</text>\n",
       "\n",
       "<text class=\"displacy-token\" fill=\"currentColor\" text-anchor=\"middle\" y=\"148.0\">\n",
       "    <tspan class=\"displacy-word\" fill=\"currentColor\" x=\"450\">supporting</tspan>\n",
       "    <tspan class=\"displacy-tag\" dy=\"2em\" fill=\"currentColor\" x=\"450\">VERB</tspan>\n",
       "</text>\n",
       "\n",
       "<text class=\"displacy-token\" fill=\"currentColor\" text-anchor=\"middle\" y=\"148.0\">\n",
       "    <tspan class=\"displacy-word\" fill=\"currentColor\" x=\"550\">the</tspan>\n",
       "    <tspan class=\"displacy-tag\" dy=\"2em\" fill=\"currentColor\" x=\"550\">DET</tspan>\n",
       "</text>\n",
       "\n",
       "<text class=\"displacy-token\" fill=\"currentColor\" text-anchor=\"middle\" y=\"148.0\">\n",
       "    <tspan class=\"displacy-word\" fill=\"currentColor\" x=\"650\">animals</tspan>\n",
       "    <tspan class=\"displacy-tag\" dy=\"2em\" fill=\"currentColor\" x=\"650\">NOUN</tspan>\n",
       "</text>\n",
       "\n",
       "<text class=\"displacy-token\" fill=\"currentColor\" text-anchor=\"middle\" y=\"148.0\">\n",
       "    <tspan class=\"displacy-word\" fill=\"currentColor\" x=\"750\">of</tspan>\n",
       "    <tspan class=\"displacy-tag\" dy=\"2em\" fill=\"currentColor\" x=\"750\">ADP</tspan>\n",
       "</text>\n",
       "\n",
       "<text class=\"displacy-token\" fill=\"currentColor\" text-anchor=\"middle\" y=\"148.0\">\n",
       "    <tspan class=\"displacy-word\" fill=\"currentColor\" x=\"850\">MS-13.&quot;</tspan>\n",
       "    <tspan class=\"displacy-tag\" dy=\"2em\" fill=\"currentColor\" x=\"850\">PROPN</tspan>\n",
       "</text>\n",
       "\n",
       "<g class=\"displacy-arrow\">\n",
       "    <path class=\"displacy-arc\" id=\"arrow-55304a5d276442dd9c7bb481270a9bb4-0-0\" stroke-width=\"3px\" d=\"M70,103.0 C70,3.0 250.0,3.0 250.0,103.0\" fill=\"none\" stroke=\"currentColor\"/>\n",
       "    <text dy=\"1.25em\" style=\"font-size: 0.8em; letter-spacing: 1px\">\n",
       "        <textPath xlink:href=\"#arrow-55304a5d276442dd9c7bb481270a9bb4-0-0\" class=\"displacy-label\" startOffset=\"50%\" side=\"left\" fill=\"currentColor\" text-anchor=\"middle\">compound</textPath>\n",
       "    </text>\n",
       "    <path class=\"displacy-arrowhead\" d=\"M70,105.0 L64,95.0 76,95.0\" fill=\"currentColor\"/>\n",
       "</g>\n",
       "\n",
       "<g class=\"displacy-arrow\">\n",
       "    <path class=\"displacy-arc\" id=\"arrow-55304a5d276442dd9c7bb481270a9bb4-0-1\" stroke-width=\"3px\" d=\"M170,103.0 C170,53.0 245.0,53.0 245.0,103.0\" fill=\"none\" stroke=\"currentColor\"/>\n",
       "    <text dy=\"1.25em\" style=\"font-size: 0.8em; letter-spacing: 1px\">\n",
       "        <textPath xlink:href=\"#arrow-55304a5d276442dd9c7bb481270a9bb4-0-1\" class=\"displacy-label\" startOffset=\"50%\" side=\"left\" fill=\"currentColor\" text-anchor=\"middle\">compound</textPath>\n",
       "    </text>\n",
       "    <path class=\"displacy-arrowhead\" d=\"M170,105.0 L164,95.0 176,95.0\" fill=\"currentColor\"/>\n",
       "</g>\n",
       "\n",
       "<g class=\"displacy-arrow\">\n",
       "    <path class=\"displacy-arc\" id=\"arrow-55304a5d276442dd9c7bb481270a9bb4-0-2\" stroke-width=\"3px\" d=\"M270,103.0 C270,3.0 450.0,3.0 450.0,103.0\" fill=\"none\" stroke=\"currentColor\"/>\n",
       "    <text dy=\"1.25em\" style=\"font-size: 0.8em; letter-spacing: 1px\">\n",
       "        <textPath xlink:href=\"#arrow-55304a5d276442dd9c7bb481270a9bb4-0-2\" class=\"displacy-label\" startOffset=\"50%\" side=\"left\" fill=\"currentColor\" text-anchor=\"middle\">nsubj</textPath>\n",
       "    </text>\n",
       "    <path class=\"displacy-arrowhead\" d=\"M270,105.0 L264,95.0 276,95.0\" fill=\"currentColor\"/>\n",
       "</g>\n",
       "\n",
       "<g class=\"displacy-arrow\">\n",
       "    <path class=\"displacy-arc\" id=\"arrow-55304a5d276442dd9c7bb481270a9bb4-0-3\" stroke-width=\"3px\" d=\"M370,103.0 C370,53.0 445.0,53.0 445.0,103.0\" fill=\"none\" stroke=\"currentColor\"/>\n",
       "    <text dy=\"1.25em\" style=\"font-size: 0.8em; letter-spacing: 1px\">\n",
       "        <textPath xlink:href=\"#arrow-55304a5d276442dd9c7bb481270a9bb4-0-3\" class=\"displacy-label\" startOffset=\"50%\" side=\"left\" fill=\"currentColor\" text-anchor=\"middle\">aux</textPath>\n",
       "    </text>\n",
       "    <path class=\"displacy-arrowhead\" d=\"M370,105.0 L364,95.0 376,95.0\" fill=\"currentColor\"/>\n",
       "</g>\n",
       "\n",
       "<g class=\"displacy-arrow\">\n",
       "    <path class=\"displacy-arc\" id=\"arrow-55304a5d276442dd9c7bb481270a9bb4-0-4\" stroke-width=\"3px\" d=\"M570,103.0 C570,53.0 645.0,53.0 645.0,103.0\" fill=\"none\" stroke=\"currentColor\"/>\n",
       "    <text dy=\"1.25em\" style=\"font-size: 0.8em; letter-spacing: 1px\">\n",
       "        <textPath xlink:href=\"#arrow-55304a5d276442dd9c7bb481270a9bb4-0-4\" class=\"displacy-label\" startOffset=\"50%\" side=\"left\" fill=\"currentColor\" text-anchor=\"middle\">det</textPath>\n",
       "    </text>\n",
       "    <path class=\"displacy-arrowhead\" d=\"M570,105.0 L564,95.0 576,95.0\" fill=\"currentColor\"/>\n",
       "</g>\n",
       "\n",
       "<g class=\"displacy-arrow\">\n",
       "    <path class=\"displacy-arc\" id=\"arrow-55304a5d276442dd9c7bb481270a9bb4-0-5\" stroke-width=\"3px\" d=\"M470,103.0 C470,3.0 650.0,3.0 650.0,103.0\" fill=\"none\" stroke=\"currentColor\"/>\n",
       "    <text dy=\"1.25em\" style=\"font-size: 0.8em; letter-spacing: 1px\">\n",
       "        <textPath xlink:href=\"#arrow-55304a5d276442dd9c7bb481270a9bb4-0-5\" class=\"displacy-label\" startOffset=\"50%\" side=\"left\" fill=\"currentColor\" text-anchor=\"middle\">dobj</textPath>\n",
       "    </text>\n",
       "    <path class=\"displacy-arrowhead\" d=\"M650.0,105.0 L656.0,95.0 644.0,95.0\" fill=\"currentColor\"/>\n",
       "</g>\n",
       "\n",
       "<g class=\"displacy-arrow\">\n",
       "    <path class=\"displacy-arc\" id=\"arrow-55304a5d276442dd9c7bb481270a9bb4-0-6\" stroke-width=\"3px\" d=\"M670,103.0 C670,53.0 745.0,53.0 745.0,103.0\" fill=\"none\" stroke=\"currentColor\"/>\n",
       "    <text dy=\"1.25em\" style=\"font-size: 0.8em; letter-spacing: 1px\">\n",
       "        <textPath xlink:href=\"#arrow-55304a5d276442dd9c7bb481270a9bb4-0-6\" class=\"displacy-label\" startOffset=\"50%\" side=\"left\" fill=\"currentColor\" text-anchor=\"middle\">prep</textPath>\n",
       "    </text>\n",
       "    <path class=\"displacy-arrowhead\" d=\"M745.0,105.0 L751.0,95.0 739.0,95.0\" fill=\"currentColor\"/>\n",
       "</g>\n",
       "\n",
       "<g class=\"displacy-arrow\">\n",
       "    <path class=\"displacy-arc\" id=\"arrow-55304a5d276442dd9c7bb481270a9bb4-0-7\" stroke-width=\"3px\" d=\"M770,103.0 C770,53.0 845.0,53.0 845.0,103.0\" fill=\"none\" stroke=\"currentColor\"/>\n",
       "    <text dy=\"1.25em\" style=\"font-size: 0.8em; letter-spacing: 1px\">\n",
       "        <textPath xlink:href=\"#arrow-55304a5d276442dd9c7bb481270a9bb4-0-7\" class=\"displacy-label\" startOffset=\"50%\" side=\"left\" fill=\"currentColor\" text-anchor=\"middle\">pobj</textPath>\n",
       "    </text>\n",
       "    <path class=\"displacy-arrowhead\" d=\"M845.0,105.0 L851.0,95.0 839.0,95.0\" fill=\"currentColor\"/>\n",
       "</g>\n",
       "</svg></span>"
      ],
      "text/plain": [
       "<IPython.core.display.HTML object>"
      ]
     },
     "metadata": {},
     "output_type": "display_data"
    }
   ],
   "source": [
    "# Intuitive vizualization of how the POS tagger works\n",
    "displacy.render(nobj, \n",
    "                options = {\n",
    "                          \"distance\" : 100,\n",
    "                          \"arrow_stroke\" : 3, # thickness of arrow line\n",
    "                          \"arrow_width\" : 8, # thickness of arrow head\n",
    "                          \"font\" : \"Helvetica\", # font\n",
    "                          \"bg\" : \"#ADD8E6\" # background color\n",
    "                         })"
   ]
  },
  {
   "cell_type": "markdown",
   "id": "frequent-apple",
   "metadata": {},
   "source": [
    "## Advanced POS (Part of Speech) Tagging"
   ]
  },
  {
   "cell_type": "markdown",
   "id": "wireless-activation",
   "metadata": {},
   "source": [
    "The Advanced POS actually identifies specific parts of speech, which in turn includes 53 labels, as opposed to 16.\n",
    "\n",
    "The **tag_** field uses Penn Treebank tag set. More details [here](https://www.sketchengine.eu/penn-treebank-tagset/). "
   ]
  },
  {
   "cell_type": "code",
   "execution_count": 18,
   "id": "rubber-research",
   "metadata": {},
   "outputs": [
    {
     "name": "stdout",
     "output_type": "stream",
     "text": [
      "[('Says', 'VBZ'), ('Democratic', 'JJ'), ('Senators', 'NNPS'), ('\"', \"''\"), ('demand', 'VBP'), ('Supreme', 'NNP'), ('Court', 'NNP'), ('nominee', 'NN'), ('not', 'RB'), ('be', 'VB'), ('unduly', 'RB'), ('influenced', 'VBN'), ('by', 'IN'), ('U.S.', 'NNP'), ('Constitution', 'NNP'), ('.', '.'), ('\"', \"''\")]\n"
     ]
    }
   ],
   "source": [
    "# POS Advanced Tagging using .tag_ (Specific POS tagging)\n",
    "nobj = nlp(df.statement[2])\n",
    "pos = [(token.text, token.tag_) for token in nobj]\n",
    "print(pos)"
   ]
  },
  {
   "cell_type": "code",
   "execution_count": 19,
   "id": "touched-presentation",
   "metadata": {},
   "outputs": [],
   "source": [
    "def tag_tagger(text):\n",
    "    \n",
    "    # nlp object\n",
    "    nobj = nlp(text)\n",
    "    \n",
    "    # tags\n",
    "    tagged_text = [(token.text, token.tag_) for token in nobj]\n",
    "    \n",
    "    # tagged text\n",
    "    return tagged_text"
   ]
  },
  {
   "cell_type": "code",
   "execution_count": 20,
   "id": "loving-brass",
   "metadata": {},
   "outputs": [],
   "source": [
    "# Apply the tagger on statements and store the results in a new column\n",
    "# We use Swifter to parallelize operations. Should take around a few minutes (depending on number of cores)\n",
    "\n",
    "df[\"specific_pos_tags\"] = df[\"statement\"].swifter.apply(tag_tagger)"
   ]
  },
  {
   "cell_type": "code",
   "execution_count": 21,
   "id": "starting-double",
   "metadata": {},
   "outputs": [
    {
     "data": {
      "text/html": [
       "<div>\n",
       "<style scoped>\n",
       "    .dataframe tbody tr th:only-of-type {\n",
       "        vertical-align: middle;\n",
       "    }\n",
       "\n",
       "    .dataframe tbody tr th {\n",
       "        vertical-align: top;\n",
       "    }\n",
       "\n",
       "    .dataframe thead th {\n",
       "        text-align: right;\n",
       "    }\n",
       "</style>\n",
       "<table border=\"1\" class=\"dataframe\">\n",
       "  <thead>\n",
       "    <tr style=\"text-align: right;\">\n",
       "      <th></th>\n",
       "      <th>specific_pos_tags</th>\n",
       "    </tr>\n",
       "  </thead>\n",
       "  <tbody>\n",
       "    <tr>\n",
       "      <th>0</th>\n",
       "      <td>[(Sen., NNP), (Kamala, NNP), (Harris, NNP), (is, VBZ), (\", ``), (supporting, VBG), (the, DT), (animals, NNS), (of, IN), (MS-13, CD), (., .), (\", '')]</td>\n",
       "    </tr>\n",
       "    <tr>\n",
       "      <th>1</th>\n",
       "      <td>[(Says, VBZ), (Ronald, NNP), (Reagan, NNP), (said, VBD), (immigrants, NNS), ( , _SP), (\", ``), (brought, VBN), (with, IN), (them, PRP), (courage, NN), (and, CC), (the, DT), (values, NNS), (of, IN)...</td>\n",
       "    </tr>\n",
       "    <tr>\n",
       "      <th>2</th>\n",
       "      <td>[(Says, VBZ), (Democratic, JJ), (Senators, NNPS), (\", ''), (demand, VBP), (Supreme, NNP), (Court, NNP), (nominee, NN), (not, RB), (be, VB), (unduly, RB), (influenced, VBN), (by, IN), (U.S., NNP), ...</td>\n",
       "    </tr>\n",
       "    <tr>\n",
       "      <th>3</th>\n",
       "      <td>[(\", ``), (Tim, NNP), (Kaine, NNP), (does, VBZ), (n’t, RB), (want, VB), (a, DT), (border, NN), (at, RB), (all, RB), (., .), (He, PRP), (wants, VBZ), (to, TO), (get, VB), (rid, VBN), (of, IN), (Imm...</td>\n",
       "    </tr>\n",
       "    <tr>\n",
       "      <th>4</th>\n",
       "      <td>[(\", ``), (George, NNP), (H.W., NNP), (Bush, NNP), (has, VBZ), (died, VBN), (at, IN), (94, CD), (., .), (\", '')]</td>\n",
       "    </tr>\n",
       "  </tbody>\n",
       "</table>\n",
       "</div>"
      ],
      "text/plain": [
       "                                                                                                                                                                                         specific_pos_tags\n",
       "0                                                    [(Sen., NNP), (Kamala, NNP), (Harris, NNP), (is, VBZ), (\", ``), (supporting, VBG), (the, DT), (animals, NNS), (of, IN), (MS-13, CD), (., .), (\", '')]\n",
       "1  [(Says, VBZ), (Ronald, NNP), (Reagan, NNP), (said, VBD), (immigrants, NNS), ( , _SP), (\", ``), (brought, VBN), (with, IN), (them, PRP), (courage, NN), (and, CC), (the, DT), (values, NNS), (of, IN)...\n",
       "2  [(Says, VBZ), (Democratic, JJ), (Senators, NNPS), (\", ''), (demand, VBP), (Supreme, NNP), (Court, NNP), (nominee, NN), (not, RB), (be, VB), (unduly, RB), (influenced, VBN), (by, IN), (U.S., NNP), ...\n",
       "3  [(\", ``), (Tim, NNP), (Kaine, NNP), (does, VBZ), (n’t, RB), (want, VB), (a, DT), (border, NN), (at, RB), (all, RB), (., .), (He, PRP), (wants, VBZ), (to, TO), (get, VB), (rid, VBN), (of, IN), (Imm...\n",
       "4                                                                                         [(\", ``), (George, NNP), (H.W., NNP), (Bush, NNP), (has, VBZ), (died, VBN), (at, IN), (94, CD), (., .), (\", '')]"
      ]
     },
     "execution_count": 21,
     "metadata": {},
     "output_type": "execute_result"
    }
   ],
   "source": [
    "# Check that the data was transformed correctly\n",
    "df[[\"specific_pos_tags\"]][0:5]"
   ]
  },
  {
   "cell_type": "code",
   "execution_count": 22,
   "id": "practical-trademark",
   "metadata": {},
   "outputs": [],
   "source": [
    "# In case we wish to save progress up until now\n",
    "df.to_csv('politifact_pos_advanced.csv', index=False)"
   ]
  },
  {
   "cell_type": "markdown",
   "id": "employed-immunology",
   "metadata": {},
   "source": [
    "## POS lists and dictionaries based on tags"
   ]
  },
  {
   "cell_type": "markdown",
   "id": "alternate-traffic",
   "metadata": {},
   "source": [
    "### Creating list and dict for \"pos_\" field (16 entries)"
   ]
  },
  {
   "cell_type": "code",
   "execution_count": 23,
   "id": "sunrise-politics",
   "metadata": {},
   "outputs": [],
   "source": [
    "# We create a list of all Parts of Speech, as used in Spacy\n",
    "# Didn't include the POS entry, which contains the description\n",
    "# Source: https://web.archive.org/web/20201207014953/https://spacy.io/api/annotation\n",
    "\n",
    "list_pos = [ ('ADJ', 'adjective'),\n",
    "             ('ADP', 'conjunction or particle or adverb'),\n",
    "             ('ADV', 'adverb'),\n",
    "             ('CCONJ', 'coordinating conjuction'),\n",
    "             ('DET', 'determiner'),\n",
    "             ('INTJ', 'interjection'),\n",
    "             ('NOUN', 'noun'),\n",
    "             ('NUM', 'number'),\n",
    "             ('PART', 'possessive'),\n",
    "             ('PRON', 'pronoun'),\n",
    "             ('PROPN', 'proper noun'),\n",
    "             ('PUNCT', 'punctuation'),\n",
    "             ('SPACE', 'space'),\n",
    "             ('SYM', 'symbol'),\n",
    "             ('VERB', 'verb'),\n",
    "             ('X', 'unknown')]"
   ]
  },
  {
   "cell_type": "code",
   "execution_count": 24,
   "id": "sensitive-metallic",
   "metadata": {},
   "outputs": [
    {
     "data": {
      "text/plain": [
       "{'ADJ': 'adjective',\n",
       " 'ADP': 'conjunction or particle or adverb',\n",
       " 'ADV': 'adverb',\n",
       " 'CCONJ': 'coordinating conjuction',\n",
       " 'DET': 'determiner',\n",
       " 'INTJ': 'interjection',\n",
       " 'NOUN': 'noun',\n",
       " 'NUM': 'number',\n",
       " 'PART': 'possessive',\n",
       " 'PRON': 'pronoun',\n",
       " 'PROPN': 'proper noun',\n",
       " 'PUNCT': 'punctuation',\n",
       " 'SPACE': 'space',\n",
       " 'SYM': 'symbol',\n",
       " 'VERB': 'verb',\n",
       " 'X': 'unknown'}"
      ]
     },
     "execution_count": 24,
     "metadata": {},
     "output_type": "execute_result"
    }
   ],
   "source": [
    "# Create a dict from our list for speed of indexing\n",
    "mydict_pos = {}\n",
    "for (k, v) in list_pos:\n",
    "    mydict_pos[k] = v\n",
    "mydict_pos"
   ]
  },
  {
   "cell_type": "code",
   "execution_count": 25,
   "id": "korean-branch",
   "metadata": {},
   "outputs": [
    {
     "name": "stdout",
     "output_type": "stream",
     "text": [
      "[('ADJ', 'adjective'), ('ADP', 'conjunction or particle or adverb'), ('ADV', 'adverb'), ('CCONJ', 'coordinating conjuction'), ('DET', 'determiner'), ('INTJ', 'interjection'), ('NOUN', 'noun'), ('NUM', 'number'), ('PART', 'possessive'), ('PRON', 'pronoun'), ('PROPN', 'proper noun'), ('PUNCT', 'punctuation'), ('SPACE', 'space'), ('SYM', 'symbol'), ('VERB', 'verb'), ('X', 'unknown')]\n"
     ]
    }
   ],
   "source": [
    "dot_pos_list = list(mydict_pos.keys())\n",
    "print(list_pos[0:])"
   ]
  },
  {
   "cell_type": "markdown",
   "id": "central-routine",
   "metadata": {},
   "source": [
    "### Creating list and dict for \"tag_\" field (53 entries)"
   ]
  },
  {
   "cell_type": "code",
   "execution_count": 26,
   "id": "innocent-essence",
   "metadata": {},
   "outputs": [
    {
     "data": {
      "text/html": [
       "<div>\n",
       "<style scoped>\n",
       "    .dataframe tbody tr th:only-of-type {\n",
       "        vertical-align: middle;\n",
       "    }\n",
       "\n",
       "    .dataframe tbody tr th {\n",
       "        vertical-align: top;\n",
       "    }\n",
       "\n",
       "    .dataframe thead th {\n",
       "        text-align: right;\n",
       "    }\n",
       "</style>\n",
       "<table border=\"1\" class=\"dataframe\">\n",
       "  <thead>\n",
       "    <tr style=\"text-align: right;\">\n",
       "      <th></th>\n",
       "      <th>TAG</th>\n",
       "      <th>DESCRIPTION</th>\n",
       "    </tr>\n",
       "  </thead>\n",
       "  <tbody>\n",
       "    <tr>\n",
       "      <th>0</th>\n",
       "      <td>$</td>\n",
       "      <td>symbol, currency</td>\n",
       "    </tr>\n",
       "    <tr>\n",
       "      <th>1</th>\n",
       "      <td>``</td>\n",
       "      <td>opening quotation mark</td>\n",
       "    </tr>\n",
       "  </tbody>\n",
       "</table>\n",
       "</div>"
      ],
      "text/plain": [
       "  TAG             DESCRIPTION\n",
       "0   $        symbol, currency\n",
       "1  ``  opening quotation mark"
      ]
     },
     "execution_count": 26,
     "metadata": {},
     "output_type": "execute_result"
    }
   ],
   "source": [
    "# Copied the table and created a csv for ease of use\n",
    "# Source: https://web.archive.org/web/20201207014953/https://spacy.io/api/annotation\n",
    "\n",
    "dot_tag_df = pd.read_csv(\"pos_tags_specific.csv\")\n",
    "dot_tag_df[[\"TAG\",\"DESCRIPTION\"]][0:2]"
   ]
  },
  {
   "cell_type": "code",
   "execution_count": 27,
   "id": "identified-narrative",
   "metadata": {},
   "outputs": [
    {
     "data": {
      "text/plain": [
       "53"
      ]
     },
     "execution_count": 27,
     "metadata": {},
     "output_type": "execute_result"
    }
   ],
   "source": [
    "len(dot_tag_df)"
   ]
  },
  {
   "cell_type": "code",
   "execution_count": 28,
   "id": "suburban-globe",
   "metadata": {},
   "outputs": [
    {
     "name": "stdout",
     "output_type": "stream",
     "text": [
      "53 53\n"
     ]
    }
   ],
   "source": [
    "tags = dot_tag_df['TAG'].tolist()\n",
    "descr = dot_tag_df['DESCRIPTION'].tolist()\n",
    "print(len(tags), len(descr))\n"
   ]
  },
  {
   "cell_type": "code",
   "execution_count": 29,
   "id": "regular-movement",
   "metadata": {},
   "outputs": [
    {
     "data": {
      "text/plain": [
       "{'$': 'symbol, currency',\n",
       " '``': 'opening quotation mark',\n",
       " \"''\": 'closing quotation mark',\n",
       " ',': 'punctuation mark, comma',\n",
       " '-LRB-': 'left round bracket',\n",
       " '-RRB-': 'right round bracket',\n",
       " '.': 'punctuation mark, sentence closer',\n",
       " ':': 'punctuation mark, colon or ellipsis',\n",
       " 'ADD': 'email',\n",
       " 'AFX': 'affix',\n",
       " 'CC': 'conjunction, coordinating',\n",
       " 'CD': 'cardinal number',\n",
       " 'DT': 'determiner',\n",
       " 'EX': 'existential there',\n",
       " 'FW': 'foreign word',\n",
       " 'GW': 'additional word in multi-word expression',\n",
       " 'HYPH': 'punctuation mark, hyphen',\n",
       " 'IN': 'conjunction, subordinating or preposition',\n",
       " 'JJ': 'adjective',\n",
       " 'JJR': 'adjective, comparative',\n",
       " 'JJS': 'adjective, superlative',\n",
       " 'LS': 'list item marker',\n",
       " 'MD': 'verb, modal auxiliary',\n",
       " 'NFP': 'superfluous punctuation',\n",
       " 'NIL': 'missing tag',\n",
       " 'NN': 'noun, singular or mass',\n",
       " 'NNP': 'noun, proper singular',\n",
       " 'NNPS': 'noun, proper plural',\n",
       " 'NNS': 'noun, plural',\n",
       " 'PDT': 'predeterminer',\n",
       " 'POS': 'possessive ending',\n",
       " 'PRP': 'pronoun, personal',\n",
       " 'PRP$': 'pronoun, possessive',\n",
       " 'RB': 'adverb',\n",
       " 'RBR': 'adverb, comparative',\n",
       " 'RBS': 'adverb, superlative',\n",
       " 'RP': 'adverb, particle',\n",
       " 'SP': 'space',\n",
       " 'SYM': 'symbol',\n",
       " 'TO': 'infinitival \"to\"',\n",
       " 'UH': 'interjection',\n",
       " 'VB': 'verb, base form',\n",
       " 'VBD': 'verb, past tense',\n",
       " 'VBG': 'verb, gerund or present participle',\n",
       " 'VBN': 'verb, past participle',\n",
       " 'VBP': 'verb, non-3rd person singular present',\n",
       " 'VBZ': 'verb, 3rd person singular present',\n",
       " 'WDT': 'wh-determiner',\n",
       " 'WP': 'wh-pronoun, personal',\n",
       " 'WP$': 'wh-pronoun, possessive',\n",
       " 'WRB': 'wh-adverb',\n",
       " 'XX': 'unknown',\n",
       " '_SP': nan}"
      ]
     },
     "execution_count": 29,
     "metadata": {},
     "output_type": "execute_result"
    }
   ],
   "source": [
    "mydict_tag = {}\n",
    "for i in range(len(tags)):\n",
    "    mydict_tag[tags[i]] = descr[i]\n",
    "    \n",
    "mydict_tag"
   ]
  },
  {
   "cell_type": "code",
   "execution_count": 30,
   "id": "meaningful-scanning",
   "metadata": {},
   "outputs": [
    {
     "data": {
      "text/plain": [
       "[('ADD', 'email'), ('AFX', 'affix'), ('CC', 'conjunction, coordinating')]"
      ]
     },
     "execution_count": 30,
     "metadata": {},
     "output_type": "execute_result"
    }
   ],
   "source": [
    "list(mydict_tag.items())[8:11]"
   ]
  },
  {
   "cell_type": "code",
   "execution_count": 31,
   "id": "electric-gibraltar",
   "metadata": {},
   "outputs": [
    {
     "name": "stdout",
     "output_type": "stream",
     "text": [
      "['-RRB-', '.', ':', 'ADD', 'AFX']\n"
     ]
    }
   ],
   "source": [
    "dot_tag_list = list(mydict_tag.keys())\n",
    "print(dot_tag_list[5:10])"
   ]
  },
  {
   "cell_type": "markdown",
   "id": "micro-trouble",
   "metadata": {},
   "source": [
    "## Automatic POS (pos_ and tag_) counts"
   ]
  },
  {
   "cell_type": "code",
   "execution_count": 32,
   "id": "mathematical-snake",
   "metadata": {},
   "outputs": [],
   "source": [
    "def dot_pos_counter(text, p):\n",
    "    \n",
    "    # nlp object\n",
    "    nobj = nlp(text)\n",
    "    \n",
    "    # list of POS tags\n",
    "    pos = [token.pos_ for token in nobj]\n",
    "    \n",
    "    # count POS\n",
    "    return pos.count(p)"
   ]
  },
  {
   "cell_type": "code",
   "execution_count": 33,
   "id": "similar-alabama",
   "metadata": {},
   "outputs": [],
   "source": [
    "# loop through the list of .pos_ tags and create new columns with counts for each tag\n",
    "# We use Swifter to parallelize operations. Should take less than 30 minutes (depending on number of cores)\n",
    "# We iterate through the 53 entries of the pos_ attribute\n",
    "\n",
    "for p in dot_pos_list:\n",
    "    df[(\"pos_\"+mydict_pos[p])] = df[\"statement\"].swifter.apply(lambda x : dot_pos_counter(x, p))"
   ]
  },
  {
   "cell_type": "code",
   "execution_count": 34,
   "id": "cognitive-payday",
   "metadata": {},
   "outputs": [],
   "source": [
    "def dot_tag_counter(text, t):\n",
    "    \n",
    "    # nlp object\n",
    "    nobj = nlp(text)\n",
    "    \n",
    "    # list of tags\n",
    "    tg = [token.tag_ for token in nobj]\n",
    "    \n",
    "    # count\n",
    "    return tg.count(t)"
   ]
  },
  {
   "cell_type": "code",
   "execution_count": 41,
   "id": "insured-prize",
   "metadata": {
    "scrolled": true
   },
   "outputs": [
    {
     "data": {
      "application/vnd.jupyter.widget-view+json": {
       "model_id": "47aeadc6655d4a7d945e7525b7eaf450",
       "version_major": 2,
       "version_minor": 0
      },
      "text/plain": [
       "HBox(children=(HTML(value='Pandas Apply'), FloatProgress(value=0.0, max=11188.0), HTML(value='')))"
      ]
     },
     "metadata": {},
     "output_type": "display_data"
    },
    {
     "name": "stdout",
     "output_type": "stream",
     "text": [
      "\n"
     ]
    },
    {
     "data": {
      "application/vnd.jupyter.widget-view+json": {
       "model_id": "4928332cd82e49bfb83415dd9fa85ed1",
       "version_major": 2,
       "version_minor": 0
      },
      "text/plain": [
       "HBox(children=(HTML(value='Pandas Apply'), FloatProgress(value=0.0, max=11188.0), HTML(value='')))"
      ]
     },
     "metadata": {},
     "output_type": "display_data"
    },
    {
     "name": "stdout",
     "output_type": "stream",
     "text": [
      "\n"
     ]
    },
    {
     "data": {
      "application/vnd.jupyter.widget-view+json": {
       "model_id": "922b7305b1f4453fb571574f1172406b",
       "version_major": 2,
       "version_minor": 0
      },
      "text/plain": [
       "HBox(children=(HTML(value='Pandas Apply'), FloatProgress(value=0.0, max=11188.0), HTML(value='')))"
      ]
     },
     "metadata": {},
     "output_type": "display_data"
    },
    {
     "name": "stdout",
     "output_type": "stream",
     "text": [
      "\n"
     ]
    },
    {
     "data": {
      "application/vnd.jupyter.widget-view+json": {
       "model_id": "618d01d8dc4a4b89aecb64b7c8d9cfd8",
       "version_major": 2,
       "version_minor": 0
      },
      "text/plain": [
       "HBox(children=(HTML(value='Pandas Apply'), FloatProgress(value=0.0, max=11188.0), HTML(value='')))"
      ]
     },
     "metadata": {},
     "output_type": "display_data"
    },
    {
     "name": "stdout",
     "output_type": "stream",
     "text": [
      "\n"
     ]
    },
    {
     "data": {
      "application/vnd.jupyter.widget-view+json": {
       "model_id": "369e9819fe724a4c8dafd0739de703fd",
       "version_major": 2,
       "version_minor": 0
      },
      "text/plain": [
       "HBox(children=(HTML(value='Pandas Apply'), FloatProgress(value=0.0, max=11188.0), HTML(value='')))"
      ]
     },
     "metadata": {},
     "output_type": "display_data"
    },
    {
     "name": "stdout",
     "output_type": "stream",
     "text": [
      "\n"
     ]
    },
    {
     "data": {
      "application/vnd.jupyter.widget-view+json": {
       "model_id": "c69bc0c4c0714376ab929c01713bfbce",
       "version_major": 2,
       "version_minor": 0
      },
      "text/plain": [
       "HBox(children=(HTML(value='Pandas Apply'), FloatProgress(value=0.0, max=11188.0), HTML(value='')))"
      ]
     },
     "metadata": {},
     "output_type": "display_data"
    },
    {
     "name": "stdout",
     "output_type": "stream",
     "text": [
      "\n"
     ]
    },
    {
     "data": {
      "application/vnd.jupyter.widget-view+json": {
       "model_id": "a5d071e0b34542ea947e805ae62abcb9",
       "version_major": 2,
       "version_minor": 0
      },
      "text/plain": [
       "HBox(children=(HTML(value='Pandas Apply'), FloatProgress(value=0.0, max=11188.0), HTML(value='')))"
      ]
     },
     "metadata": {},
     "output_type": "display_data"
    },
    {
     "name": "stdout",
     "output_type": "stream",
     "text": [
      "\n"
     ]
    },
    {
     "data": {
      "application/vnd.jupyter.widget-view+json": {
       "model_id": "9a3970962e554e1d9cb2b0d33fd9cf30",
       "version_major": 2,
       "version_minor": 0
      },
      "text/plain": [
       "HBox(children=(HTML(value='Pandas Apply'), FloatProgress(value=0.0, max=11188.0), HTML(value='')))"
      ]
     },
     "metadata": {},
     "output_type": "display_data"
    },
    {
     "name": "stdout",
     "output_type": "stream",
     "text": [
      "\n"
     ]
    },
    {
     "data": {
      "application/vnd.jupyter.widget-view+json": {
       "model_id": "504c695ff5604e8d92fbaaa2363daf19",
       "version_major": 2,
       "version_minor": 0
      },
      "text/plain": [
       "HBox(children=(HTML(value='Pandas Apply'), FloatProgress(value=0.0, max=11188.0), HTML(value='')))"
      ]
     },
     "metadata": {},
     "output_type": "display_data"
    },
    {
     "name": "stdout",
     "output_type": "stream",
     "text": [
      "\n"
     ]
    },
    {
     "data": {
      "application/vnd.jupyter.widget-view+json": {
       "model_id": "8444281900054c278fd1f28993d7c9f1",
       "version_major": 2,
       "version_minor": 0
      },
      "text/plain": [
       "HBox(children=(HTML(value='Pandas Apply'), FloatProgress(value=0.0, max=11188.0), HTML(value='')))"
      ]
     },
     "metadata": {},
     "output_type": "display_data"
    },
    {
     "name": "stdout",
     "output_type": "stream",
     "text": [
      "\n"
     ]
    },
    {
     "data": {
      "application/vnd.jupyter.widget-view+json": {
       "model_id": "903d35322d3449ba970d5db4786afd05",
       "version_major": 2,
       "version_minor": 0
      },
      "text/plain": [
       "HBox(children=(HTML(value='Pandas Apply'), FloatProgress(value=0.0, max=11188.0), HTML(value='')))"
      ]
     },
     "metadata": {},
     "output_type": "display_data"
    },
    {
     "name": "stdout",
     "output_type": "stream",
     "text": [
      "\n"
     ]
    },
    {
     "data": {
      "application/vnd.jupyter.widget-view+json": {
       "model_id": "032cc7b0cbbb41b18d78255cd6aee98d",
       "version_major": 2,
       "version_minor": 0
      },
      "text/plain": [
       "HBox(children=(HTML(value='Pandas Apply'), FloatProgress(value=0.0, max=11188.0), HTML(value='')))"
      ]
     },
     "metadata": {},
     "output_type": "display_data"
    },
    {
     "name": "stdout",
     "output_type": "stream",
     "text": [
      "\n"
     ]
    },
    {
     "data": {
      "application/vnd.jupyter.widget-view+json": {
       "model_id": "837b3955daa04dd8953cdbac99ac974c",
       "version_major": 2,
       "version_minor": 0
      },
      "text/plain": [
       "HBox(children=(HTML(value='Pandas Apply'), FloatProgress(value=0.0, max=11188.0), HTML(value='')))"
      ]
     },
     "metadata": {},
     "output_type": "display_data"
    },
    {
     "name": "stdout",
     "output_type": "stream",
     "text": [
      "\n"
     ]
    },
    {
     "data": {
      "application/vnd.jupyter.widget-view+json": {
       "model_id": "34eda655ebfa4fddb62b9041f7c68144",
       "version_major": 2,
       "version_minor": 0
      },
      "text/plain": [
       "HBox(children=(HTML(value='Pandas Apply'), FloatProgress(value=0.0, max=11188.0), HTML(value='')))"
      ]
     },
     "metadata": {},
     "output_type": "display_data"
    },
    {
     "name": "stdout",
     "output_type": "stream",
     "text": [
      "\n"
     ]
    },
    {
     "data": {
      "application/vnd.jupyter.widget-view+json": {
       "model_id": "29c0b4a3db0a41e38f01604ef6a95796",
       "version_major": 2,
       "version_minor": 0
      },
      "text/plain": [
       "HBox(children=(HTML(value='Pandas Apply'), FloatProgress(value=0.0, max=11188.0), HTML(value='')))"
      ]
     },
     "metadata": {},
     "output_type": "display_data"
    },
    {
     "name": "stdout",
     "output_type": "stream",
     "text": [
      "\n"
     ]
    },
    {
     "data": {
      "application/vnd.jupyter.widget-view+json": {
       "model_id": "25da34c3bd79480b90e6b66cc63248ff",
       "version_major": 2,
       "version_minor": 0
      },
      "text/plain": [
       "HBox(children=(HTML(value='Pandas Apply'), FloatProgress(value=0.0, max=11188.0), HTML(value='')))"
      ]
     },
     "metadata": {},
     "output_type": "display_data"
    },
    {
     "name": "stdout",
     "output_type": "stream",
     "text": [
      "\n"
     ]
    },
    {
     "data": {
      "application/vnd.jupyter.widget-view+json": {
       "model_id": "96c3b7e1ecf847619ce99873bee49de5",
       "version_major": 2,
       "version_minor": 0
      },
      "text/plain": [
       "HBox(children=(HTML(value='Pandas Apply'), FloatProgress(value=0.0, max=11188.0), HTML(value='')))"
      ]
     },
     "metadata": {},
     "output_type": "display_data"
    },
    {
     "name": "stdout",
     "output_type": "stream",
     "text": [
      "\n"
     ]
    },
    {
     "data": {
      "application/vnd.jupyter.widget-view+json": {
       "model_id": "8642b72c89b840b8b9851dcc50dcd256",
       "version_major": 2,
       "version_minor": 0
      },
      "text/plain": [
       "HBox(children=(HTML(value='Pandas Apply'), FloatProgress(value=0.0, max=11188.0), HTML(value='')))"
      ]
     },
     "metadata": {},
     "output_type": "display_data"
    },
    {
     "name": "stdout",
     "output_type": "stream",
     "text": [
      "\n"
     ]
    },
    {
     "data": {
      "application/vnd.jupyter.widget-view+json": {
       "model_id": "063fa53cdae04ba39f2edc9760d42cad",
       "version_major": 2,
       "version_minor": 0
      },
      "text/plain": [
       "HBox(children=(HTML(value='Pandas Apply'), FloatProgress(value=0.0, max=11188.0), HTML(value='')))"
      ]
     },
     "metadata": {},
     "output_type": "display_data"
    },
    {
     "name": "stdout",
     "output_type": "stream",
     "text": [
      "\n"
     ]
    },
    {
     "data": {
      "application/vnd.jupyter.widget-view+json": {
       "model_id": "dd06eac9503f41bb9343b748c4d0ccc4",
       "version_major": 2,
       "version_minor": 0
      },
      "text/plain": [
       "HBox(children=(HTML(value='Pandas Apply'), FloatProgress(value=0.0, max=11188.0), HTML(value='')))"
      ]
     },
     "metadata": {},
     "output_type": "display_data"
    },
    {
     "name": "stdout",
     "output_type": "stream",
     "text": [
      "\n"
     ]
    },
    {
     "data": {
      "application/vnd.jupyter.widget-view+json": {
       "model_id": "b8b86bea60f24a87bf8f5a154d47345d",
       "version_major": 2,
       "version_minor": 0
      },
      "text/plain": [
       "HBox(children=(HTML(value='Pandas Apply'), FloatProgress(value=0.0, max=11188.0), HTML(value='')))"
      ]
     },
     "metadata": {},
     "output_type": "display_data"
    },
    {
     "name": "stdout",
     "output_type": "stream",
     "text": [
      "\n"
     ]
    },
    {
     "data": {
      "application/vnd.jupyter.widget-view+json": {
       "model_id": "61a9e5eadd354631b96a8c6f020f972c",
       "version_major": 2,
       "version_minor": 0
      },
      "text/plain": [
       "HBox(children=(HTML(value='Pandas Apply'), FloatProgress(value=0.0, max=11188.0), HTML(value='')))"
      ]
     },
     "metadata": {},
     "output_type": "display_data"
    },
    {
     "name": "stdout",
     "output_type": "stream",
     "text": [
      "\n"
     ]
    },
    {
     "data": {
      "application/vnd.jupyter.widget-view+json": {
       "model_id": "cbf2b63a3c9346e6a3d8e94cf8f69896",
       "version_major": 2,
       "version_minor": 0
      },
      "text/plain": [
       "HBox(children=(HTML(value='Pandas Apply'), FloatProgress(value=0.0, max=11188.0), HTML(value='')))"
      ]
     },
     "metadata": {},
     "output_type": "display_data"
    },
    {
     "name": "stdout",
     "output_type": "stream",
     "text": [
      "\n"
     ]
    },
    {
     "data": {
      "application/vnd.jupyter.widget-view+json": {
       "model_id": "b842808b328449c0b17b260e04abf268",
       "version_major": 2,
       "version_minor": 0
      },
      "text/plain": [
       "HBox(children=(HTML(value='Pandas Apply'), FloatProgress(value=0.0, max=11188.0), HTML(value='')))"
      ]
     },
     "metadata": {},
     "output_type": "display_data"
    },
    {
     "name": "stdout",
     "output_type": "stream",
     "text": [
      "\n"
     ]
    },
    {
     "data": {
      "application/vnd.jupyter.widget-view+json": {
       "model_id": "082e5d12e5b74322a2b1163c2c21ac3c",
       "version_major": 2,
       "version_minor": 0
      },
      "text/plain": [
       "HBox(children=(HTML(value='Pandas Apply'), FloatProgress(value=0.0, max=11188.0), HTML(value='')))"
      ]
     },
     "metadata": {},
     "output_type": "display_data"
    },
    {
     "name": "stdout",
     "output_type": "stream",
     "text": [
      "\n"
     ]
    },
    {
     "data": {
      "application/vnd.jupyter.widget-view+json": {
       "model_id": "5248c988e6f9437896853ec10fa1e52f",
       "version_major": 2,
       "version_minor": 0
      },
      "text/plain": [
       "HBox(children=(HTML(value='Pandas Apply'), FloatProgress(value=0.0, max=11188.0), HTML(value='')))"
      ]
     },
     "metadata": {},
     "output_type": "display_data"
    },
    {
     "name": "stdout",
     "output_type": "stream",
     "text": [
      "\n"
     ]
    },
    {
     "data": {
      "application/vnd.jupyter.widget-view+json": {
       "model_id": "d08517b3a957490083115f66d5ab9ec1",
       "version_major": 2,
       "version_minor": 0
      },
      "text/plain": [
       "HBox(children=(HTML(value='Pandas Apply'), FloatProgress(value=0.0, max=11188.0), HTML(value='')))"
      ]
     },
     "metadata": {},
     "output_type": "display_data"
    },
    {
     "name": "stdout",
     "output_type": "stream",
     "text": [
      "\n"
     ]
    },
    {
     "data": {
      "application/vnd.jupyter.widget-view+json": {
       "model_id": "6407c07c118e4083987eba1fa85140b1",
       "version_major": 2,
       "version_minor": 0
      },
      "text/plain": [
       "HBox(children=(HTML(value='Pandas Apply'), FloatProgress(value=0.0, max=11188.0), HTML(value='')))"
      ]
     },
     "metadata": {},
     "output_type": "display_data"
    },
    {
     "name": "stdout",
     "output_type": "stream",
     "text": [
      "\n"
     ]
    },
    {
     "data": {
      "application/vnd.jupyter.widget-view+json": {
       "model_id": "807e10dd5ef24f44a52ad93f8c76f792",
       "version_major": 2,
       "version_minor": 0
      },
      "text/plain": [
       "HBox(children=(HTML(value='Pandas Apply'), FloatProgress(value=0.0, max=11188.0), HTML(value='')))"
      ]
     },
     "metadata": {},
     "output_type": "display_data"
    },
    {
     "name": "stdout",
     "output_type": "stream",
     "text": [
      "\n"
     ]
    },
    {
     "data": {
      "application/vnd.jupyter.widget-view+json": {
       "model_id": "13e05695c1c447ffac04d86c6e67d8d0",
       "version_major": 2,
       "version_minor": 0
      },
      "text/plain": [
       "HBox(children=(HTML(value='Pandas Apply'), FloatProgress(value=0.0, max=11188.0), HTML(value='')))"
      ]
     },
     "metadata": {},
     "output_type": "display_data"
    },
    {
     "name": "stdout",
     "output_type": "stream",
     "text": [
      "\n"
     ]
    },
    {
     "data": {
      "application/vnd.jupyter.widget-view+json": {
       "model_id": "6889f2c6763b4e61a3a0cac7cf127ac9",
       "version_major": 2,
       "version_minor": 0
      },
      "text/plain": [
       "HBox(children=(HTML(value='Pandas Apply'), FloatProgress(value=0.0, max=11188.0), HTML(value='')))"
      ]
     },
     "metadata": {},
     "output_type": "display_data"
    },
    {
     "name": "stdout",
     "output_type": "stream",
     "text": [
      "\n"
     ]
    },
    {
     "data": {
      "application/vnd.jupyter.widget-view+json": {
       "model_id": "f2e3aa1841b5413dbba81f3a3d1dcd11",
       "version_major": 2,
       "version_minor": 0
      },
      "text/plain": [
       "HBox(children=(HTML(value='Pandas Apply'), FloatProgress(value=0.0, max=11188.0), HTML(value='')))"
      ]
     },
     "metadata": {},
     "output_type": "display_data"
    },
    {
     "name": "stdout",
     "output_type": "stream",
     "text": [
      "\n"
     ]
    },
    {
     "data": {
      "application/vnd.jupyter.widget-view+json": {
       "model_id": "2694305b0b1f4324b6ce4ec4a8eb2ba5",
       "version_major": 2,
       "version_minor": 0
      },
      "text/plain": [
       "HBox(children=(HTML(value='Pandas Apply'), FloatProgress(value=0.0, max=11188.0), HTML(value='')))"
      ]
     },
     "metadata": {},
     "output_type": "display_data"
    },
    {
     "name": "stdout",
     "output_type": "stream",
     "text": [
      "\n"
     ]
    },
    {
     "data": {
      "application/vnd.jupyter.widget-view+json": {
       "model_id": "0864657196944bbf9241dd154ac2d2d1",
       "version_major": 2,
       "version_minor": 0
      },
      "text/plain": [
       "HBox(children=(HTML(value='Pandas Apply'), FloatProgress(value=0.0, max=11188.0), HTML(value='')))"
      ]
     },
     "metadata": {},
     "output_type": "display_data"
    },
    {
     "name": "stdout",
     "output_type": "stream",
     "text": [
      "\n"
     ]
    },
    {
     "data": {
      "application/vnd.jupyter.widget-view+json": {
       "model_id": "2182770de1ab472eabc7e755259f50c6",
       "version_major": 2,
       "version_minor": 0
      },
      "text/plain": [
       "HBox(children=(HTML(value='Pandas Apply'), FloatProgress(value=0.0, max=11188.0), HTML(value='')))"
      ]
     },
     "metadata": {},
     "output_type": "display_data"
    },
    {
     "name": "stdout",
     "output_type": "stream",
     "text": [
      "\n"
     ]
    },
    {
     "data": {
      "application/vnd.jupyter.widget-view+json": {
       "model_id": "b4546c2a392d4be8a6f6e20c82456e13",
       "version_major": 2,
       "version_minor": 0
      },
      "text/plain": [
       "HBox(children=(HTML(value='Pandas Apply'), FloatProgress(value=0.0, max=11188.0), HTML(value='')))"
      ]
     },
     "metadata": {},
     "output_type": "display_data"
    },
    {
     "name": "stdout",
     "output_type": "stream",
     "text": [
      "\n"
     ]
    },
    {
     "data": {
      "application/vnd.jupyter.widget-view+json": {
       "model_id": "b7be579e7b67474c917905c62d49ce91",
       "version_major": 2,
       "version_minor": 0
      },
      "text/plain": [
       "HBox(children=(HTML(value='Pandas Apply'), FloatProgress(value=0.0, max=11188.0), HTML(value='')))"
      ]
     },
     "metadata": {},
     "output_type": "display_data"
    },
    {
     "name": "stdout",
     "output_type": "stream",
     "text": [
      "\n"
     ]
    },
    {
     "data": {
      "application/vnd.jupyter.widget-view+json": {
       "model_id": "683a97e69a2a4709b0a1796668db94e4",
       "version_major": 2,
       "version_minor": 0
      },
      "text/plain": [
       "HBox(children=(HTML(value='Pandas Apply'), FloatProgress(value=0.0, max=11188.0), HTML(value='')))"
      ]
     },
     "metadata": {},
     "output_type": "display_data"
    },
    {
     "name": "stdout",
     "output_type": "stream",
     "text": [
      "\n"
     ]
    },
    {
     "data": {
      "application/vnd.jupyter.widget-view+json": {
       "model_id": "c3e771bd14154f36bc1cf310776e7c9c",
       "version_major": 2,
       "version_minor": 0
      },
      "text/plain": [
       "HBox(children=(HTML(value='Pandas Apply'), FloatProgress(value=0.0, max=11188.0), HTML(value='')))"
      ]
     },
     "metadata": {},
     "output_type": "display_data"
    },
    {
     "name": "stdout",
     "output_type": "stream",
     "text": [
      "\n"
     ]
    },
    {
     "data": {
      "application/vnd.jupyter.widget-view+json": {
       "model_id": "062faedd0fa541c6b28b46248beacac3",
       "version_major": 2,
       "version_minor": 0
      },
      "text/plain": [
       "HBox(children=(HTML(value='Pandas Apply'), FloatProgress(value=0.0, max=11188.0), HTML(value='')))"
      ]
     },
     "metadata": {},
     "output_type": "display_data"
    },
    {
     "name": "stdout",
     "output_type": "stream",
     "text": [
      "\n"
     ]
    },
    {
     "data": {
      "application/vnd.jupyter.widget-view+json": {
       "model_id": "e8e3b84c1ab5497ab99efc4f80f46e01",
       "version_major": 2,
       "version_minor": 0
      },
      "text/plain": [
       "HBox(children=(HTML(value='Pandas Apply'), FloatProgress(value=0.0, max=11188.0), HTML(value='')))"
      ]
     },
     "metadata": {},
     "output_type": "display_data"
    },
    {
     "name": "stdout",
     "output_type": "stream",
     "text": [
      "\n"
     ]
    },
    {
     "data": {
      "application/vnd.jupyter.widget-view+json": {
       "model_id": "e8466eafeeef4850843fa656a96d803a",
       "version_major": 2,
       "version_minor": 0
      },
      "text/plain": [
       "HBox(children=(HTML(value='Pandas Apply'), FloatProgress(value=0.0, max=11188.0), HTML(value='')))"
      ]
     },
     "metadata": {},
     "output_type": "display_data"
    },
    {
     "name": "stdout",
     "output_type": "stream",
     "text": [
      "\n"
     ]
    },
    {
     "data": {
      "application/vnd.jupyter.widget-view+json": {
       "model_id": "47c9ce9437f2477283f7f4e8ccf57d2e",
       "version_major": 2,
       "version_minor": 0
      },
      "text/plain": [
       "HBox(children=(HTML(value='Pandas Apply'), FloatProgress(value=0.0, max=11188.0), HTML(value='')))"
      ]
     },
     "metadata": {},
     "output_type": "display_data"
    },
    {
     "name": "stdout",
     "output_type": "stream",
     "text": [
      "\n"
     ]
    },
    {
     "data": {
      "application/vnd.jupyter.widget-view+json": {
       "model_id": "20a2960f4b284483bf94207306063354",
       "version_major": 2,
       "version_minor": 0
      },
      "text/plain": [
       "HBox(children=(HTML(value='Pandas Apply'), FloatProgress(value=0.0, max=11188.0), HTML(value='')))"
      ]
     },
     "metadata": {},
     "output_type": "display_data"
    },
    {
     "name": "stdout",
     "output_type": "stream",
     "text": [
      "\n"
     ]
    },
    {
     "data": {
      "application/vnd.jupyter.widget-view+json": {
       "model_id": "0c2b9ac3e3784d2594c4cfd76430939c",
       "version_major": 2,
       "version_minor": 0
      },
      "text/plain": [
       "HBox(children=(HTML(value='Pandas Apply'), FloatProgress(value=0.0, max=11188.0), HTML(value='')))"
      ]
     },
     "metadata": {},
     "output_type": "display_data"
    },
    {
     "name": "stdout",
     "output_type": "stream",
     "text": [
      "\n"
     ]
    },
    {
     "data": {
      "application/vnd.jupyter.widget-view+json": {
       "model_id": "d4a921ae50ea4ff1b0be61b8daafeb4b",
       "version_major": 2,
       "version_minor": 0
      },
      "text/plain": [
       "HBox(children=(HTML(value='Pandas Apply'), FloatProgress(value=0.0, max=11188.0), HTML(value='')))"
      ]
     },
     "metadata": {},
     "output_type": "display_data"
    },
    {
     "name": "stdout",
     "output_type": "stream",
     "text": [
      "\n"
     ]
    },
    {
     "data": {
      "application/vnd.jupyter.widget-view+json": {
       "model_id": "ad0500023b644942baf2fa97ff597c86",
       "version_major": 2,
       "version_minor": 0
      },
      "text/plain": [
       "HBox(children=(HTML(value='Pandas Apply'), FloatProgress(value=0.0, max=11188.0), HTML(value='')))"
      ]
     },
     "metadata": {},
     "output_type": "display_data"
    },
    {
     "name": "stdout",
     "output_type": "stream",
     "text": [
      "\n"
     ]
    },
    {
     "data": {
      "application/vnd.jupyter.widget-view+json": {
       "model_id": "e2c904ac4d054653b5a8e1acaba3edd2",
       "version_major": 2,
       "version_minor": 0
      },
      "text/plain": [
       "HBox(children=(HTML(value='Pandas Apply'), FloatProgress(value=0.0, max=11188.0), HTML(value='')))"
      ]
     },
     "metadata": {},
     "output_type": "display_data"
    },
    {
     "name": "stdout",
     "output_type": "stream",
     "text": [
      "\n"
     ]
    },
    {
     "data": {
      "application/vnd.jupyter.widget-view+json": {
       "model_id": "3616c04bf30f4125bce36a9c9b9613bc",
       "version_major": 2,
       "version_minor": 0
      },
      "text/plain": [
       "HBox(children=(HTML(value='Pandas Apply'), FloatProgress(value=0.0, max=11188.0), HTML(value='')))"
      ]
     },
     "metadata": {},
     "output_type": "display_data"
    },
    {
     "name": "stdout",
     "output_type": "stream",
     "text": [
      "\n"
     ]
    },
    {
     "data": {
      "application/vnd.jupyter.widget-view+json": {
       "model_id": "025865f98d624fe597ee776139dff936",
       "version_major": 2,
       "version_minor": 0
      },
      "text/plain": [
       "HBox(children=(HTML(value='Pandas Apply'), FloatProgress(value=0.0, max=11188.0), HTML(value='')))"
      ]
     },
     "metadata": {},
     "output_type": "display_data"
    },
    {
     "name": "stdout",
     "output_type": "stream",
     "text": [
      "\n"
     ]
    },
    {
     "data": {
      "application/vnd.jupyter.widget-view+json": {
       "model_id": "89baa5a03b2c469b9599165c811baaad",
       "version_major": 2,
       "version_minor": 0
      },
      "text/plain": [
       "HBox(children=(HTML(value='Pandas Apply'), FloatProgress(value=0.0, max=11188.0), HTML(value='')))"
      ]
     },
     "metadata": {},
     "output_type": "display_data"
    },
    {
     "name": "stdout",
     "output_type": "stream",
     "text": [
      "\n"
     ]
    },
    {
     "data": {
      "application/vnd.jupyter.widget-view+json": {
       "model_id": "6e4c6613edea4675821e8fec7d377a14",
       "version_major": 2,
       "version_minor": 0
      },
      "text/plain": [
       "HBox(children=(HTML(value='Pandas Apply'), FloatProgress(value=0.0, max=11188.0), HTML(value='')))"
      ]
     },
     "metadata": {},
     "output_type": "display_data"
    },
    {
     "name": "stdout",
     "output_type": "stream",
     "text": [
      "\n"
     ]
    },
    {
     "data": {
      "application/vnd.jupyter.widget-view+json": {
       "model_id": "27039ba3e1774b559481d4751af757ef",
       "version_major": 2,
       "version_minor": 0
      },
      "text/plain": [
       "HBox(children=(HTML(value='Pandas Apply'), FloatProgress(value=0.0, max=11188.0), HTML(value='')))"
      ]
     },
     "metadata": {},
     "output_type": "display_data"
    },
    {
     "name": "stdout",
     "output_type": "stream",
     "text": [
      "\n"
     ]
    }
   ],
   "source": [
    "# loop through the list of .tag_ tags and create new columns with counts for each tag\n",
    "# We use Swifter to parallelize operations. Should take about 2 hours (depending on number of cores)\n",
    "# We iterate through the 53 entries of the tag_ attribute\n",
    "\n",
    "for t in dot_tag_list:\n",
    "    df[(\"tag_\"+str(mydict_tag[t]))] = df[\"statement\"].swifter.apply(lambda x : dot_tag_counter(x, t))"
   ]
  },
  {
   "cell_type": "code",
   "execution_count": 42,
   "id": "judicial-jungle",
   "metadata": {},
   "outputs": [
    {
     "data": {
      "text/html": [
       "<div>\n",
       "<style scoped>\n",
       "    .dataframe tbody tr th:only-of-type {\n",
       "        vertical-align: middle;\n",
       "    }\n",
       "\n",
       "    .dataframe tbody tr th {\n",
       "        vertical-align: top;\n",
       "    }\n",
       "\n",
       "    .dataframe thead th {\n",
       "        text-align: right;\n",
       "    }\n",
       "</style>\n",
       "<table border=\"1\" class=\"dataframe\">\n",
       "  <thead>\n",
       "    <tr style=\"text-align: right;\">\n",
       "      <th></th>\n",
       "      <th>statement</th>\n",
       "      <th>source</th>\n",
       "      <th>veracity</th>\n",
       "      <th>date</th>\n",
       "      <th>lemmas</th>\n",
       "      <th>general_pos_tags</th>\n",
       "      <th>specific_pos_tags</th>\n",
       "      <th>pos_adjective</th>\n",
       "      <th>pos_conjunction or particle or adverb</th>\n",
       "      <th>pos_adverb</th>\n",
       "      <th>pos_coordinating conjuction</th>\n",
       "      <th>pos_determiner</th>\n",
       "      <th>pos_interjection</th>\n",
       "      <th>pos_noun</th>\n",
       "      <th>pos_number</th>\n",
       "      <th>pos_possessive</th>\n",
       "      <th>pos_pronoun</th>\n",
       "      <th>pos_proper noun</th>\n",
       "      <th>pos_punctuation</th>\n",
       "      <th>pos_space</th>\n",
       "      <th>pos_symbol</th>\n",
       "      <th>pos_verb</th>\n",
       "      <th>pos_unknown</th>\n",
       "      <th>tag_symbol, currency</th>\n",
       "      <th>tag_opening quotation mark</th>\n",
       "      <th>tag_closing quotation mark</th>\n",
       "      <th>tag_punctuation mark, comma</th>\n",
       "      <th>tag_left round bracket</th>\n",
       "      <th>tag_right round bracket</th>\n",
       "      <th>tag_punctuation mark, sentence closer</th>\n",
       "      <th>tag_punctuation mark, colon or ellipsis</th>\n",
       "      <th>tag_email</th>\n",
       "      <th>tag_affix</th>\n",
       "      <th>tag_conjunction, coordinating</th>\n",
       "      <th>tag_cardinal number</th>\n",
       "      <th>tag_determiner</th>\n",
       "      <th>tag_existential there</th>\n",
       "      <th>tag_foreign word</th>\n",
       "      <th>tag_additional word in multi-word expression</th>\n",
       "      <th>tag_punctuation mark, hyphen</th>\n",
       "      <th>tag_conjunction, subordinating or preposition</th>\n",
       "      <th>tag_adjective</th>\n",
       "      <th>tag_adjective, comparative</th>\n",
       "      <th>tag_adjective, superlative</th>\n",
       "      <th>tag_list item marker</th>\n",
       "      <th>tag_verb, modal auxiliary</th>\n",
       "      <th>tag_superfluous punctuation</th>\n",
       "      <th>tag_missing tag</th>\n",
       "      <th>tag_noun, singular or mass</th>\n",
       "      <th>tag_noun, proper singular</th>\n",
       "      <th>tag_noun, proper plural</th>\n",
       "      <th>tag_noun, plural</th>\n",
       "      <th>tag_predeterminer</th>\n",
       "      <th>tag_possessive ending</th>\n",
       "      <th>tag_pronoun, personal</th>\n",
       "      <th>tag_pronoun, possessive</th>\n",
       "      <th>tag_adverb</th>\n",
       "      <th>tag_adverb, comparative</th>\n",
       "      <th>tag_adverb, superlative</th>\n",
       "      <th>tag_adverb, particle</th>\n",
       "      <th>tag_space</th>\n",
       "      <th>tag_symbol</th>\n",
       "      <th>tag_infinitival \"to\"</th>\n",
       "      <th>tag_interjection</th>\n",
       "      <th>tag_verb, base form</th>\n",
       "      <th>tag_verb, past tense</th>\n",
       "      <th>tag_verb, gerund or present participle</th>\n",
       "      <th>tag_verb, past participle</th>\n",
       "      <th>tag_verb, non-3rd person singular present</th>\n",
       "      <th>tag_verb, 3rd person singular present</th>\n",
       "      <th>tag_wh-determiner</th>\n",
       "      <th>tag_wh-pronoun, personal</th>\n",
       "      <th>tag_wh-pronoun, possessive</th>\n",
       "      <th>tag_wh-adverb</th>\n",
       "      <th>tag_unknown</th>\n",
       "      <th>tag_nan</th>\n",
       "    </tr>\n",
       "  </thead>\n",
       "  <tbody>\n",
       "    <tr>\n",
       "      <th>0</th>\n",
       "      <td>Sen. Kamala Harris is \"supporting the animals of MS-13.\"</td>\n",
       "      <td>Donald Trump</td>\n",
       "      <td>0</td>\n",
       "      <td>2018-07-03</td>\n",
       "      <td>kamala harris support animal</td>\n",
       "      <td>[(Sen., PROPN), (Kamala, PROPN), (Harris, PROPN), (is, AUX), (\", PUNCT), (supporting, VERB), (the, DET), (animals, NOUN), (of, ADP), (MS-13, PROPN), (., PUNCT), (\", PUNCT)]</td>\n",
       "      <td>[(Sen., NNP), (Kamala, NNP), (Harris, NNP), (is, VBZ), (\", ``), (supporting, VBG), (the, DT), (animals, NNS), (of, IN), (MS-13, CD), (., .), (\", '')]</td>\n",
       "      <td>0</td>\n",
       "      <td>1</td>\n",
       "      <td>0</td>\n",
       "      <td>0</td>\n",
       "      <td>1</td>\n",
       "      <td>0</td>\n",
       "      <td>1</td>\n",
       "      <td>1</td>\n",
       "      <td>0</td>\n",
       "      <td>0</td>\n",
       "      <td>3</td>\n",
       "      <td>3</td>\n",
       "      <td>0</td>\n",
       "      <td>0</td>\n",
       "      <td>1</td>\n",
       "      <td>0</td>\n",
       "      <td>0</td>\n",
       "      <td>1</td>\n",
       "      <td>1</td>\n",
       "      <td>0</td>\n",
       "      <td>0</td>\n",
       "      <td>0</td>\n",
       "      <td>1</td>\n",
       "      <td>0</td>\n",
       "      <td>0</td>\n",
       "      <td>0</td>\n",
       "      <td>0</td>\n",
       "      <td>1</td>\n",
       "      <td>1</td>\n",
       "      <td>0</td>\n",
       "      <td>0</td>\n",
       "      <td>0</td>\n",
       "      <td>0</td>\n",
       "      <td>1</td>\n",
       "      <td>0</td>\n",
       "      <td>0</td>\n",
       "      <td>0</td>\n",
       "      <td>0</td>\n",
       "      <td>0</td>\n",
       "      <td>0</td>\n",
       "      <td>0</td>\n",
       "      <td>0</td>\n",
       "      <td>3</td>\n",
       "      <td>0</td>\n",
       "      <td>1</td>\n",
       "      <td>0</td>\n",
       "      <td>0</td>\n",
       "      <td>0</td>\n",
       "      <td>0</td>\n",
       "      <td>0</td>\n",
       "      <td>0</td>\n",
       "      <td>0</td>\n",
       "      <td>0</td>\n",
       "      <td>0</td>\n",
       "      <td>0</td>\n",
       "      <td>0</td>\n",
       "      <td>0</td>\n",
       "      <td>0</td>\n",
       "      <td>0</td>\n",
       "      <td>1</td>\n",
       "      <td>0</td>\n",
       "      <td>0</td>\n",
       "      <td>1</td>\n",
       "      <td>0</td>\n",
       "      <td>0</td>\n",
       "      <td>0</td>\n",
       "      <td>0</td>\n",
       "      <td>0</td>\n",
       "      <td>0</td>\n",
       "    </tr>\n",
       "  </tbody>\n",
       "</table>\n",
       "</div>"
      ],
      "text/plain": [
       "                                                  statement        source  \\\n",
       "0  Sen. Kamala Harris is \"supporting the animals of MS-13.\"  Donald Trump   \n",
       "\n",
       "   veracity        date                        lemmas  \\\n",
       "0         0  2018-07-03  kamala harris support animal   \n",
       "\n",
       "                                                                                                                                                               general_pos_tags  \\\n",
       "0  [(Sen., PROPN), (Kamala, PROPN), (Harris, PROPN), (is, AUX), (\", PUNCT), (supporting, VERB), (the, DET), (animals, NOUN), (of, ADP), (MS-13, PROPN), (., PUNCT), (\", PUNCT)]   \n",
       "\n",
       "                                                                                                                                       specific_pos_tags  \\\n",
       "0  [(Sen., NNP), (Kamala, NNP), (Harris, NNP), (is, VBZ), (\", ``), (supporting, VBG), (the, DT), (animals, NNS), (of, IN), (MS-13, CD), (., .), (\", '')]   \n",
       "\n",
       "   pos_adjective  pos_conjunction or particle or adverb  pos_adverb  \\\n",
       "0              0                                      1           0   \n",
       "\n",
       "   pos_coordinating conjuction  pos_determiner  pos_interjection  pos_noun  \\\n",
       "0                            0               1                 0         1   \n",
       "\n",
       "   pos_number  pos_possessive  pos_pronoun  pos_proper noun  pos_punctuation  \\\n",
       "0           1               0            0                3                3   \n",
       "\n",
       "   pos_space  pos_symbol  pos_verb  pos_unknown  tag_symbol, currency  \\\n",
       "0          0           0         1            0                     0   \n",
       "\n",
       "   tag_opening quotation mark  tag_closing quotation mark  \\\n",
       "0                           1                           1   \n",
       "\n",
       "   tag_punctuation mark, comma  tag_left round bracket  \\\n",
       "0                            0                       0   \n",
       "\n",
       "   tag_right round bracket  tag_punctuation mark, sentence closer  \\\n",
       "0                        0                                      1   \n",
       "\n",
       "   tag_punctuation mark, colon or ellipsis  tag_email  tag_affix  \\\n",
       "0                                        0          0          0   \n",
       "\n",
       "   tag_conjunction, coordinating  tag_cardinal number  tag_determiner  \\\n",
       "0                              0                    1               1   \n",
       "\n",
       "   tag_existential there  tag_foreign word  \\\n",
       "0                      0                 0   \n",
       "\n",
       "   tag_additional word in multi-word expression  tag_punctuation mark, hyphen  \\\n",
       "0                                             0                             0   \n",
       "\n",
       "   tag_conjunction, subordinating or preposition  tag_adjective  \\\n",
       "0                                              1              0   \n",
       "\n",
       "   tag_adjective, comparative  tag_adjective, superlative  \\\n",
       "0                           0                           0   \n",
       "\n",
       "   tag_list item marker  tag_verb, modal auxiliary  \\\n",
       "0                     0                          0   \n",
       "\n",
       "   tag_superfluous punctuation  tag_missing tag  tag_noun, singular or mass  \\\n",
       "0                            0                0                           0   \n",
       "\n",
       "   tag_noun, proper singular  tag_noun, proper plural  tag_noun, plural  \\\n",
       "0                          3                        0                 1   \n",
       "\n",
       "   tag_predeterminer  tag_possessive ending  tag_pronoun, personal  \\\n",
       "0                  0                      0                      0   \n",
       "\n",
       "   tag_pronoun, possessive  tag_adverb  tag_adverb, comparative  \\\n",
       "0                        0           0                        0   \n",
       "\n",
       "   tag_adverb, superlative  tag_adverb, particle  tag_space  tag_symbol  \\\n",
       "0                        0                     0          0           0   \n",
       "\n",
       "   tag_infinitival \"to\"  tag_interjection  tag_verb, base form  \\\n",
       "0                     0                 0                    0   \n",
       "\n",
       "   tag_verb, past tense  tag_verb, gerund or present participle  \\\n",
       "0                     0                                       1   \n",
       "\n",
       "   tag_verb, past participle  tag_verb, non-3rd person singular present  \\\n",
       "0                          0                                          0   \n",
       "\n",
       "   tag_verb, 3rd person singular present  tag_wh-determiner  \\\n",
       "0                                      1                  0   \n",
       "\n",
       "   tag_wh-pronoun, personal  tag_wh-pronoun, possessive  tag_wh-adverb  \\\n",
       "0                         0                           0              0   \n",
       "\n",
       "   tag_unknown  tag_nan  \n",
       "0            0        0  "
      ]
     },
     "execution_count": 42,
     "metadata": {},
     "output_type": "execute_result"
    }
   ],
   "source": [
    "# to see df in full\n",
    "pd.set_option('display.max_columns', 200) \n",
    "\n",
    "df.head(1)"
   ]
  },
  {
   "cell_type": "markdown",
   "id": "fourth-signature",
   "metadata": {},
   "source": [
    "## POS Statistics"
   ]
  },
  {
   "cell_type": "code",
   "execution_count": 52,
   "id": "interpreted-craft",
   "metadata": {},
   "outputs": [],
   "source": [
    "\"\"\" \n",
    "since the tvsf function output would be difficult to read, let's convert to a dataframe output\n",
    "\"\"\"\n",
    "\n",
    "# func for comparing truth vs lie\n",
    "def df_tvsf(tag_type, column_dict, index_list):\n",
    "    #ex: df_tvsf(\"pos_\", mydict_pos, dot_pos_list)\n",
    "    \n",
    "    d = []\n",
    "    for x in index_list:\n",
    "        \n",
    "        # t & f variables\n",
    "        \n",
    "        truths = df[df['veracity'] == 1][tag_type+str(column_dict[x])]\n",
    "        falsehoods = df[df['veracity'] == 0][tag_type+str(column_dict[x])]\n",
    "\n",
    "        # means\n",
    "        truths_mean = round(truths.mean(), 2)\n",
    "        falsehoods_mean = round(falsehoods.mean(), 2)\n",
    "\n",
    "        # t-test\n",
    "        t,p = stats.ttest_ind(truths,\n",
    "                              falsehoods, \n",
    "                              equal_var = False)\n",
    "        # dataframe\n",
    "        d.append({'t_means' : truths_mean, \n",
    "                  'f_means' : falsehoods_mean, \n",
    "                  'p_value' : round(p,3)})\n",
    "        \n",
    "    return pd.DataFrame(d, index = column_dict.values())[['t_means', 'f_means', 'p_value']]"
   ]
  },
  {
   "cell_type": "markdown",
   "id": "fitting-chaos",
   "metadata": {},
   "source": [
    "### pos_ property"
   ]
  },
  {
   "cell_type": "code",
   "execution_count": 37,
   "id": "labeled-miniature",
   "metadata": {},
   "outputs": [
    {
     "data": {
      "text/html": [
       "<div>\n",
       "<style scoped>\n",
       "    .dataframe tbody tr th:only-of-type {\n",
       "        vertical-align: middle;\n",
       "    }\n",
       "\n",
       "    .dataframe tbody tr th {\n",
       "        vertical-align: top;\n",
       "    }\n",
       "\n",
       "    .dataframe thead th {\n",
       "        text-align: right;\n",
       "    }\n",
       "</style>\n",
       "<table border=\"1\" class=\"dataframe\">\n",
       "  <thead>\n",
       "    <tr style=\"text-align: right;\">\n",
       "      <th></th>\n",
       "      <th>t_means</th>\n",
       "      <th>f_means</th>\n",
       "      <th>p_value</th>\n",
       "    </tr>\n",
       "  </thead>\n",
       "  <tbody>\n",
       "    <tr>\n",
       "      <th>adjective</th>\n",
       "      <td>1.37</td>\n",
       "      <td>1.13</td>\n",
       "      <td>0.000</td>\n",
       "    </tr>\n",
       "    <tr>\n",
       "      <th>conjunction or particle or adverb</th>\n",
       "      <td>2.27</td>\n",
       "      <td>2.04</td>\n",
       "      <td>0.000</td>\n",
       "    </tr>\n",
       "    <tr>\n",
       "      <th>adverb</th>\n",
       "      <td>0.70</td>\n",
       "      <td>0.59</td>\n",
       "      <td>0.000</td>\n",
       "    </tr>\n",
       "    <tr>\n",
       "      <th>coordinating conjuction</th>\n",
       "      <td>0.37</td>\n",
       "      <td>0.33</td>\n",
       "      <td>0.004</td>\n",
       "    </tr>\n",
       "    <tr>\n",
       "      <th>determiner</th>\n",
       "      <td>1.83</td>\n",
       "      <td>1.64</td>\n",
       "      <td>0.000</td>\n",
       "    </tr>\n",
       "    <tr>\n",
       "      <th>interjection</th>\n",
       "      <td>0.00</td>\n",
       "      <td>0.01</td>\n",
       "      <td>0.007</td>\n",
       "    </tr>\n",
       "    <tr>\n",
       "      <th>noun</th>\n",
       "      <td>4.35</td>\n",
       "      <td>3.96</td>\n",
       "      <td>0.000</td>\n",
       "    </tr>\n",
       "    <tr>\n",
       "      <th>number</th>\n",
       "      <td>0.96</td>\n",
       "      <td>0.64</td>\n",
       "      <td>0.000</td>\n",
       "    </tr>\n",
       "    <tr>\n",
       "      <th>possessive</th>\n",
       "      <td>0.49</td>\n",
       "      <td>0.60</td>\n",
       "      <td>0.000</td>\n",
       "    </tr>\n",
       "    <tr>\n",
       "      <th>proper noun</th>\n",
       "      <td>2.02</td>\n",
       "      <td>2.51</td>\n",
       "      <td>0.000</td>\n",
       "    </tr>\n",
       "    <tr>\n",
       "      <th>symbol</th>\n",
       "      <td>0.14</td>\n",
       "      <td>0.12</td>\n",
       "      <td>0.048</td>\n",
       "    </tr>\n",
       "    <tr>\n",
       "      <th>verb</th>\n",
       "      <td>2.28</td>\n",
       "      <td>2.48</td>\n",
       "      <td>0.000</td>\n",
       "    </tr>\n",
       "  </tbody>\n",
       "</table>\n",
       "</div>"
      ],
      "text/plain": [
       "                                   t_means  f_means  p_value\n",
       "adjective                             1.37     1.13    0.000\n",
       "conjunction or particle or adverb     2.27     2.04    0.000\n",
       "adverb                                0.70     0.59    0.000\n",
       "coordinating conjuction               0.37     0.33    0.004\n",
       "determiner                            1.83     1.64    0.000\n",
       "interjection                          0.00     0.01    0.007\n",
       "noun                                  4.35     3.96    0.000\n",
       "number                                0.96     0.64    0.000\n",
       "possessive                            0.49     0.60    0.000\n",
       "proper noun                           2.02     2.51    0.000\n",
       "symbol                                0.14     0.12    0.048\n",
       "verb                                  2.28     2.48    0.000"
      ]
     },
     "execution_count": 37,
     "metadata": {},
     "output_type": "execute_result"
    }
   ],
   "source": [
    "# return df with probability values that approach or are significant\n",
    "dot_pos_df = df_tvsf(\"pos_\", mydict_pos, dot_pos_list)\n",
    "dot_pos_df[dot_pos_df.p_value < 0.05]"
   ]
  },
  {
   "cell_type": "markdown",
   "id": "assumed-pitch",
   "metadata": {},
   "source": [
    "#### Conclusions:"
   ]
  },
  {
   "cell_type": "markdown",
   "id": "played-integral",
   "metadata": {},
   "source": [
    "More present in TRUTHS as opposed to LIES: Adjectives, Determiners, Conjunctions, Adverbs, Nouns, Numbers. Might imply more details, more precision in affirmations.\n",
    "\n",
    "More present in LIES as opposed to TRUTHS: Possesiveness and proper nouns. Might imply speech about other people or a focus on oneself."
   ]
  },
  {
   "cell_type": "markdown",
   "id": "constant-supply",
   "metadata": {},
   "source": [
    "### tag_ property"
   ]
  },
  {
   "cell_type": "code",
   "execution_count": 53,
   "id": "spiritual-latest",
   "metadata": {},
   "outputs": [
    {
     "data": {
      "text/html": [
       "<div>\n",
       "<style scoped>\n",
       "    .dataframe tbody tr th:only-of-type {\n",
       "        vertical-align: middle;\n",
       "    }\n",
       "\n",
       "    .dataframe tbody tr th {\n",
       "        vertical-align: top;\n",
       "    }\n",
       "\n",
       "    .dataframe thead th {\n",
       "        text-align: right;\n",
       "    }\n",
       "</style>\n",
       "<table border=\"1\" class=\"dataframe\">\n",
       "  <thead>\n",
       "    <tr style=\"text-align: right;\">\n",
       "      <th></th>\n",
       "      <th>t_means</th>\n",
       "      <th>f_means</th>\n",
       "      <th>p_value</th>\n",
       "    </tr>\n",
       "  </thead>\n",
       "  <tbody>\n",
       "    <tr>\n",
       "      <th>symbol, currency</th>\n",
       "      <td>0.13</td>\n",
       "      <td>0.11</td>\n",
       "      <td>0.039</td>\n",
       "    </tr>\n",
       "    <tr>\n",
       "      <th>opening quotation mark</th>\n",
       "      <td>0.85</td>\n",
       "      <td>0.88</td>\n",
       "      <td>0.004</td>\n",
       "    </tr>\n",
       "    <tr>\n",
       "      <th>closing quotation mark</th>\n",
       "      <td>1.04</td>\n",
       "      <td>1.12</td>\n",
       "      <td>0.000</td>\n",
       "    </tr>\n",
       "    <tr>\n",
       "      <th>punctuation mark, comma</th>\n",
       "      <td>0.54</td>\n",
       "      <td>0.49</td>\n",
       "      <td>0.000</td>\n",
       "    </tr>\n",
       "    <tr>\n",
       "      <th>punctuation mark, sentence closer</th>\n",
       "      <td>1.12</td>\n",
       "      <td>1.09</td>\n",
       "      <td>0.009</td>\n",
       "    </tr>\n",
       "    <tr>\n",
       "      <th>conjunction, coordinating</th>\n",
       "      <td>0.37</td>\n",
       "      <td>0.33</td>\n",
       "      <td>0.004</td>\n",
       "    </tr>\n",
       "    <tr>\n",
       "      <th>cardinal number</th>\n",
       "      <td>0.96</td>\n",
       "      <td>0.64</td>\n",
       "      <td>0.000</td>\n",
       "    </tr>\n",
       "    <tr>\n",
       "      <th>determiner</th>\n",
       "      <td>1.72</td>\n",
       "      <td>1.53</td>\n",
       "      <td>0.000</td>\n",
       "    </tr>\n",
       "    <tr>\n",
       "      <th>punctuation mark, hyphen</th>\n",
       "      <td>0.15</td>\n",
       "      <td>0.14</td>\n",
       "      <td>0.049</td>\n",
       "    </tr>\n",
       "    <tr>\n",
       "      <th>conjunction, subordinating or preposition</th>\n",
       "      <td>2.59</td>\n",
       "      <td>2.24</td>\n",
       "      <td>0.000</td>\n",
       "    </tr>\n",
       "    <tr>\n",
       "      <th>adjective</th>\n",
       "      <td>1.10</td>\n",
       "      <td>0.98</td>\n",
       "      <td>0.000</td>\n",
       "    </tr>\n",
       "    <tr>\n",
       "      <th>adjective, comparative</th>\n",
       "      <td>0.18</td>\n",
       "      <td>0.09</td>\n",
       "      <td>0.000</td>\n",
       "    </tr>\n",
       "    <tr>\n",
       "      <th>adjective, superlative</th>\n",
       "      <td>0.10</td>\n",
       "      <td>0.05</td>\n",
       "      <td>0.000</td>\n",
       "    </tr>\n",
       "    <tr>\n",
       "      <th>verb, modal auxiliary</th>\n",
       "      <td>0.15</td>\n",
       "      <td>0.19</td>\n",
       "      <td>0.000</td>\n",
       "    </tr>\n",
       "    <tr>\n",
       "      <th>noun, singular or mass</th>\n",
       "      <td>3.09</td>\n",
       "      <td>2.83</td>\n",
       "      <td>0.000</td>\n",
       "    </tr>\n",
       "    <tr>\n",
       "      <th>noun, proper singular</th>\n",
       "      <td>1.92</td>\n",
       "      <td>2.41</td>\n",
       "      <td>0.000</td>\n",
       "    </tr>\n",
       "    <tr>\n",
       "      <th>noun, plural</th>\n",
       "      <td>1.29</td>\n",
       "      <td>1.16</td>\n",
       "      <td>0.000</td>\n",
       "    </tr>\n",
       "    <tr>\n",
       "      <th>predeterminer</th>\n",
       "      <td>0.02</td>\n",
       "      <td>0.01</td>\n",
       "      <td>0.003</td>\n",
       "    </tr>\n",
       "    <tr>\n",
       "      <th>possessive ending</th>\n",
       "      <td>0.12</td>\n",
       "      <td>0.15</td>\n",
       "      <td>0.000</td>\n",
       "    </tr>\n",
       "    <tr>\n",
       "      <th>adverb</th>\n",
       "      <td>0.72</td>\n",
       "      <td>0.64</td>\n",
       "      <td>0.000</td>\n",
       "    </tr>\n",
       "    <tr>\n",
       "      <th>adverb, particle</th>\n",
       "      <td>0.06</td>\n",
       "      <td>0.08</td>\n",
       "      <td>0.001</td>\n",
       "    </tr>\n",
       "    <tr>\n",
       "      <th>infinitival \"to\"</th>\n",
       "      <td>0.24</td>\n",
       "      <td>0.31</td>\n",
       "      <td>0.000</td>\n",
       "    </tr>\n",
       "    <tr>\n",
       "      <th>interjection</th>\n",
       "      <td>0.00</td>\n",
       "      <td>0.01</td>\n",
       "      <td>0.007</td>\n",
       "    </tr>\n",
       "    <tr>\n",
       "      <th>verb, base form</th>\n",
       "      <td>0.47</td>\n",
       "      <td>0.61</td>\n",
       "      <td>0.000</td>\n",
       "    </tr>\n",
       "    <tr>\n",
       "      <th>verb, past tense</th>\n",
       "      <td>0.57</td>\n",
       "      <td>0.62</td>\n",
       "      <td>0.015</td>\n",
       "    </tr>\n",
       "    <tr>\n",
       "      <th>verb, gerund or present participle</th>\n",
       "      <td>0.28</td>\n",
       "      <td>0.34</td>\n",
       "      <td>0.000</td>\n",
       "    </tr>\n",
       "    <tr>\n",
       "      <th>verb, past participle</th>\n",
       "      <td>0.48</td>\n",
       "      <td>0.45</td>\n",
       "      <td>0.017</td>\n",
       "    </tr>\n",
       "    <tr>\n",
       "      <th>verb, non-3rd person singular present</th>\n",
       "      <td>0.48</td>\n",
       "      <td>0.38</td>\n",
       "      <td>0.000</td>\n",
       "    </tr>\n",
       "    <tr>\n",
       "      <th>verb, 3rd person singular present</th>\n",
       "      <td>0.72</td>\n",
       "      <td>0.79</td>\n",
       "      <td>0.000</td>\n",
       "    </tr>\n",
       "  </tbody>\n",
       "</table>\n",
       "</div>"
      ],
      "text/plain": [
       "                                           t_means  f_means  p_value\n",
       "symbol, currency                              0.13     0.11    0.039\n",
       "opening quotation mark                        0.85     0.88    0.004\n",
       "closing quotation mark                        1.04     1.12    0.000\n",
       "punctuation mark, comma                       0.54     0.49    0.000\n",
       "punctuation mark, sentence closer             1.12     1.09    0.009\n",
       "conjunction, coordinating                     0.37     0.33    0.004\n",
       "cardinal number                               0.96     0.64    0.000\n",
       "determiner                                    1.72     1.53    0.000\n",
       "punctuation mark, hyphen                      0.15     0.14    0.049\n",
       "conjunction, subordinating or preposition     2.59     2.24    0.000\n",
       "adjective                                     1.10     0.98    0.000\n",
       "adjective, comparative                        0.18     0.09    0.000\n",
       "adjective, superlative                        0.10     0.05    0.000\n",
       "verb, modal auxiliary                         0.15     0.19    0.000\n",
       "noun, singular or mass                        3.09     2.83    0.000\n",
       "noun, proper singular                         1.92     2.41    0.000\n",
       "noun, plural                                  1.29     1.16    0.000\n",
       "predeterminer                                 0.02     0.01    0.003\n",
       "possessive ending                             0.12     0.15    0.000\n",
       "adverb                                        0.72     0.64    0.000\n",
       "adverb, particle                              0.06     0.08    0.001\n",
       "infinitival \"to\"                              0.24     0.31    0.000\n",
       "interjection                                  0.00     0.01    0.007\n",
       "verb, base form                               0.47     0.61    0.000\n",
       "verb, past tense                              0.57     0.62    0.015\n",
       "verb, gerund or present participle            0.28     0.34    0.000\n",
       "verb, past participle                         0.48     0.45    0.017\n",
       "verb, non-3rd person singular present         0.48     0.38    0.000\n",
       "verb, 3rd person singular present             0.72     0.79    0.000"
      ]
     },
     "execution_count": 53,
     "metadata": {},
     "output_type": "execute_result"
    }
   ],
   "source": [
    "# return df with probability values that approach or are significant\n",
    "dot_pos_df = df_tvsf(\"tag_\", mydict_tag, dot_tag_list)\n",
    "dot_pos_df[dot_pos_df.p_value < 0.05]"
   ]
  },
  {
   "cell_type": "markdown",
   "id": "outstanding-calibration",
   "metadata": {},
   "source": [
    "#### Conclusions"
   ]
  },
  {
   "cell_type": "markdown",
   "id": "ambient-migration",
   "metadata": {},
   "source": [
    "More present in TRUTHS as opposed to LIES: Cardinal number, Determiner, Adjectives, Conjunction, Noun, Adverbs, verb 3rd person non singular.\n",
    "\n",
    "More present in LIES as opposed to TRUTHS: Infinitval 'to', verbs in their base form, verbs in past tense, verbs, 3rd person singular."
   ]
  },
  {
   "cell_type": "markdown",
   "id": "coordinate-comment",
   "metadata": {},
   "source": [
    "## Named Entity Recognition (NER) Tagging"
   ]
  },
  {
   "cell_type": "code",
   "execution_count": null,
   "id": "expressed-following",
   "metadata": {},
   "outputs": [],
   "source": [
    "# NER example\n",
    "displacy.render(nobj, style=\"ent\")"
   ]
  },
  {
   "cell_type": "code",
   "execution_count": null,
   "id": "controversial-fault",
   "metadata": {},
   "outputs": [],
   "source": [
    "# NER tagger function that creates a list of all tags within a statement\n",
    "def ner_tagger(text):\n",
    "    \n",
    "    # nlp object\n",
    "    nobj = nlp(text)\n",
    "    \n",
    "    # ner tags\n",
    "    ne = [(ent.text, ent.label_) for ent in nobj.ents]\n",
    "\n",
    "    return ne"
   ]
  },
  {
   "cell_type": "code",
   "execution_count": null,
   "id": "floral-ambassador",
   "metadata": {},
   "outputs": [],
   "source": [
    "# Apply the tagger on statements and store the results in a new column\n",
    "df[\"ner_tags\"] = df[\"statement\"].swifter.apply(ner_tagger)"
   ]
  },
  {
   "cell_type": "code",
   "execution_count": null,
   "id": "loved-tonight",
   "metadata": {},
   "outputs": [],
   "source": [
    "# Check that the data was transformed correctly\n",
    "df[[\"ner_tags\"]][0:5]"
   ]
  },
  {
   "cell_type": "code",
   "execution_count": 25,
   "id": "swedish-maker",
   "metadata": {},
   "outputs": [],
   "source": [
    "# In case we wish to save progress up until now\n",
    "# df.to_csv('politifact_pos_advanced_ner.csv', index=False)"
   ]
  },
  {
   "cell_type": "markdown",
   "id": "measured-wrapping",
   "metadata": {},
   "source": [
    "## NER lists and dictionaries based on tags"
   ]
  },
  {
   "cell_type": "code",
   "execution_count": 54,
   "id": "liked-musical",
   "metadata": {},
   "outputs": [],
   "source": [
    "# We create a dictionary of all the possbile Entities within Spacy\n",
    "# Source: https://web.archive.org/web/20201207014953/https://spacy.io/api/annotation\n",
    "# Full information found within \"ner.csv\"\n",
    "\n",
    "mydict_ner = {\n",
    "    \"PERSON\" : \"people\",\n",
    "    \"NORP\" : \"groups\",\n",
    "    \"FAC\" : \"facilities\",\n",
    "    \"ORG\" : \"organizations\",\n",
    "    \"GPE\" : \"regions\",\n",
    "    \"LOC\" : \"landmarks\",\n",
    "    \"PRODUCT\" : \"products\",\n",
    "    \"EVENT\" : \"events\",\n",
    "    \"WORK_OF_ART\" : \"art\",\n",
    "    \"LAW\" : \"laws\",\n",
    "    \"LANGUAGE\" : \"languages\",\n",
    "    \"DATE\" : \"dates\",\n",
    "    \"TIME\" : \"times\",\n",
    "    \"PERCENT\" : \"percentages\",\n",
    "    \"MONEY\" : \"money\",\n",
    "    \"QUANTITY\" : \"quantity\",\n",
    "    \"ORDINAL\" : \"ordinality\",\n",
    "    \"CARDINAL\" : \"numerals\" \n",
    "}"
   ]
  },
  {
   "cell_type": "code",
   "execution_count": 55,
   "id": "worldwide-sleeping",
   "metadata": {},
   "outputs": [
    {
     "data": {
      "text/plain": [
       "[('PERSON', 'people'),\n",
       " ('NORP', 'groups'),\n",
       " ('FAC', 'facilities'),\n",
       " ('ORG', 'organizations'),\n",
       " ('GPE', 'regions')]"
      ]
     },
     "execution_count": 55,
     "metadata": {},
     "output_type": "execute_result"
    }
   ],
   "source": [
    "# preview dict\n",
    "list(mydict_ner.items())[0:5]"
   ]
  },
  {
   "cell_type": "code",
   "execution_count": 56,
   "id": "exact-russia",
   "metadata": {},
   "outputs": [],
   "source": [
    "ner_list = list(mydict_ner.keys())"
   ]
  },
  {
   "cell_type": "code",
   "execution_count": 57,
   "id": "registered-basement",
   "metadata": {},
   "outputs": [],
   "source": [
    "def ner_counter(text, n):\n",
    "    # nlp object\n",
    "    nobj = nlp(text)\n",
    "    # list of POS tags\n",
    "    ne = [ent.label_ for ent in nobj.ents]\n",
    "    # no. of proper nouns\n",
    "    return ne.count(n)"
   ]
  },
  {
   "cell_type": "markdown",
   "id": "decreased-reader",
   "metadata": {},
   "source": [
    "### Create new columns for each NER tag"
   ]
  },
  {
   "cell_type": "code",
   "execution_count": 58,
   "id": "favorite-cemetery",
   "metadata": {},
   "outputs": [
    {
     "data": {
      "application/vnd.jupyter.widget-view+json": {
       "model_id": "dff8fb21cbc045549ffc84a0bbab9195",
       "version_major": 2,
       "version_minor": 0
      },
      "text/plain": [
       "HBox(children=(HTML(value='Pandas Apply'), FloatProgress(value=0.0, max=11188.0), HTML(value='')))"
      ]
     },
     "metadata": {},
     "output_type": "display_data"
    },
    {
     "name": "stdout",
     "output_type": "stream",
     "text": [
      "\n"
     ]
    },
    {
     "data": {
      "application/vnd.jupyter.widget-view+json": {
       "model_id": "a0951e92494b483a98ede1dcec69752c",
       "version_major": 2,
       "version_minor": 0
      },
      "text/plain": [
       "HBox(children=(HTML(value='Pandas Apply'), FloatProgress(value=0.0, max=11188.0), HTML(value='')))"
      ]
     },
     "metadata": {},
     "output_type": "display_data"
    },
    {
     "name": "stdout",
     "output_type": "stream",
     "text": [
      "\n"
     ]
    },
    {
     "data": {
      "application/vnd.jupyter.widget-view+json": {
       "model_id": "13d4013753ff4418862352d4969b228a",
       "version_major": 2,
       "version_minor": 0
      },
      "text/plain": [
       "HBox(children=(HTML(value='Pandas Apply'), FloatProgress(value=0.0, max=11188.0), HTML(value='')))"
      ]
     },
     "metadata": {},
     "output_type": "display_data"
    },
    {
     "name": "stdout",
     "output_type": "stream",
     "text": [
      "\n"
     ]
    },
    {
     "data": {
      "application/vnd.jupyter.widget-view+json": {
       "model_id": "a76d7f74920640e7ba59bc4d09a886f9",
       "version_major": 2,
       "version_minor": 0
      },
      "text/plain": [
       "HBox(children=(HTML(value='Pandas Apply'), FloatProgress(value=0.0, max=11188.0), HTML(value='')))"
      ]
     },
     "metadata": {},
     "output_type": "display_data"
    },
    {
     "name": "stdout",
     "output_type": "stream",
     "text": [
      "\n"
     ]
    },
    {
     "data": {
      "application/vnd.jupyter.widget-view+json": {
       "model_id": "6b0a5a6d0a08400c8b99aad7b53bd56d",
       "version_major": 2,
       "version_minor": 0
      },
      "text/plain": [
       "HBox(children=(HTML(value='Pandas Apply'), FloatProgress(value=0.0, max=11188.0), HTML(value='')))"
      ]
     },
     "metadata": {},
     "output_type": "display_data"
    },
    {
     "name": "stdout",
     "output_type": "stream",
     "text": [
      "\n"
     ]
    },
    {
     "data": {
      "application/vnd.jupyter.widget-view+json": {
       "model_id": "a859832bc27a4f5fb8181c868e52fb4e",
       "version_major": 2,
       "version_minor": 0
      },
      "text/plain": [
       "HBox(children=(HTML(value='Pandas Apply'), FloatProgress(value=0.0, max=11188.0), HTML(value='')))"
      ]
     },
     "metadata": {},
     "output_type": "display_data"
    },
    {
     "name": "stdout",
     "output_type": "stream",
     "text": [
      "\n"
     ]
    },
    {
     "data": {
      "application/vnd.jupyter.widget-view+json": {
       "model_id": "a636402dea084b3bb772839597d3cd96",
       "version_major": 2,
       "version_minor": 0
      },
      "text/plain": [
       "HBox(children=(HTML(value='Pandas Apply'), FloatProgress(value=0.0, max=11188.0), HTML(value='')))"
      ]
     },
     "metadata": {},
     "output_type": "display_data"
    },
    {
     "name": "stdout",
     "output_type": "stream",
     "text": [
      "\n"
     ]
    },
    {
     "data": {
      "application/vnd.jupyter.widget-view+json": {
       "model_id": "bff0cb0d70644593b819454032ef90b9",
       "version_major": 2,
       "version_minor": 0
      },
      "text/plain": [
       "HBox(children=(HTML(value='Pandas Apply'), FloatProgress(value=0.0, max=11188.0), HTML(value='')))"
      ]
     },
     "metadata": {},
     "output_type": "display_data"
    },
    {
     "name": "stdout",
     "output_type": "stream",
     "text": [
      "\n"
     ]
    },
    {
     "data": {
      "application/vnd.jupyter.widget-view+json": {
       "model_id": "fb59805dc9494ef6bff5c0e17fd9f739",
       "version_major": 2,
       "version_minor": 0
      },
      "text/plain": [
       "HBox(children=(HTML(value='Pandas Apply'), FloatProgress(value=0.0, max=11188.0), HTML(value='')))"
      ]
     },
     "metadata": {},
     "output_type": "display_data"
    },
    {
     "name": "stdout",
     "output_type": "stream",
     "text": [
      "\n"
     ]
    },
    {
     "data": {
      "application/vnd.jupyter.widget-view+json": {
       "model_id": "e914210c8d074e5d8b898912145a2ba9",
       "version_major": 2,
       "version_minor": 0
      },
      "text/plain": [
       "HBox(children=(HTML(value='Pandas Apply'), FloatProgress(value=0.0, max=11188.0), HTML(value='')))"
      ]
     },
     "metadata": {},
     "output_type": "display_data"
    },
    {
     "name": "stdout",
     "output_type": "stream",
     "text": [
      "\n"
     ]
    },
    {
     "data": {
      "application/vnd.jupyter.widget-view+json": {
       "model_id": "c5e7be6fc011477b8c2292d0eac67e45",
       "version_major": 2,
       "version_minor": 0
      },
      "text/plain": [
       "HBox(children=(HTML(value='Pandas Apply'), FloatProgress(value=0.0, max=11188.0), HTML(value='')))"
      ]
     },
     "metadata": {},
     "output_type": "display_data"
    },
    {
     "name": "stdout",
     "output_type": "stream",
     "text": [
      "\n"
     ]
    },
    {
     "data": {
      "application/vnd.jupyter.widget-view+json": {
       "model_id": "f3cc92fedf3e4c1b91172659610107ef",
       "version_major": 2,
       "version_minor": 0
      },
      "text/plain": [
       "HBox(children=(HTML(value='Pandas Apply'), FloatProgress(value=0.0, max=11188.0), HTML(value='')))"
      ]
     },
     "metadata": {},
     "output_type": "display_data"
    },
    {
     "name": "stdout",
     "output_type": "stream",
     "text": [
      "\n"
     ]
    },
    {
     "data": {
      "application/vnd.jupyter.widget-view+json": {
       "model_id": "40e96a05b29d407e81df5b77c0c74dd8",
       "version_major": 2,
       "version_minor": 0
      },
      "text/plain": [
       "HBox(children=(HTML(value='Pandas Apply'), FloatProgress(value=0.0, max=11188.0), HTML(value='')))"
      ]
     },
     "metadata": {},
     "output_type": "display_data"
    },
    {
     "name": "stdout",
     "output_type": "stream",
     "text": [
      "\n"
     ]
    },
    {
     "data": {
      "application/vnd.jupyter.widget-view+json": {
       "model_id": "5712dd962f244bcdb9368811e98325fd",
       "version_major": 2,
       "version_minor": 0
      },
      "text/plain": [
       "HBox(children=(HTML(value='Pandas Apply'), FloatProgress(value=0.0, max=11188.0), HTML(value='')))"
      ]
     },
     "metadata": {},
     "output_type": "display_data"
    },
    {
     "name": "stdout",
     "output_type": "stream",
     "text": [
      "\n"
     ]
    },
    {
     "data": {
      "application/vnd.jupyter.widget-view+json": {
       "model_id": "150881a260b242d9afa729f6db628c4c",
       "version_major": 2,
       "version_minor": 0
      },
      "text/plain": [
       "HBox(children=(HTML(value='Pandas Apply'), FloatProgress(value=0.0, max=11188.0), HTML(value='')))"
      ]
     },
     "metadata": {},
     "output_type": "display_data"
    },
    {
     "name": "stdout",
     "output_type": "stream",
     "text": [
      "\n"
     ]
    },
    {
     "data": {
      "application/vnd.jupyter.widget-view+json": {
       "model_id": "6e1c35fb113141babc64e48992452656",
       "version_major": 2,
       "version_minor": 0
      },
      "text/plain": [
       "HBox(children=(HTML(value='Pandas Apply'), FloatProgress(value=0.0, max=11188.0), HTML(value='')))"
      ]
     },
     "metadata": {},
     "output_type": "display_data"
    },
    {
     "name": "stdout",
     "output_type": "stream",
     "text": [
      "\n"
     ]
    },
    {
     "data": {
      "application/vnd.jupyter.widget-view+json": {
       "model_id": "f53cfbd9faf84365b298a42d43ea114c",
       "version_major": 2,
       "version_minor": 0
      },
      "text/plain": [
       "HBox(children=(HTML(value='Pandas Apply'), FloatProgress(value=0.0, max=11188.0), HTML(value='')))"
      ]
     },
     "metadata": {},
     "output_type": "display_data"
    },
    {
     "name": "stdout",
     "output_type": "stream",
     "text": [
      "\n"
     ]
    },
    {
     "data": {
      "application/vnd.jupyter.widget-view+json": {
       "model_id": "0c95583716974b769de81d43a79983ed",
       "version_major": 2,
       "version_minor": 0
      },
      "text/plain": [
       "HBox(children=(HTML(value='Pandas Apply'), FloatProgress(value=0.0, max=11188.0), HTML(value='')))"
      ]
     },
     "metadata": {},
     "output_type": "display_data"
    },
    {
     "name": "stdout",
     "output_type": "stream",
     "text": [
      "\n"
     ]
    }
   ],
   "source": [
    "# to loop through the list of NER tags and create new columns with counts for each tag\n",
    "# We use Swifter to parallelize operations. Should take less than 30 minutes (depending on number of cores).\n",
    "for n in ner_list:\n",
    "    # df[n] = df.statement.apply(lambda x : proper_nouns(x, n)) #this works\n",
    "    df[(\"ner_\"+str(mydict_ner[n]))] = df[\"statement\"].swifter.apply(lambda x : ner_counter(x, n))"
   ]
  },
  {
   "cell_type": "code",
   "execution_count": 59,
   "id": "velvet-utility",
   "metadata": {},
   "outputs": [
    {
     "data": {
      "text/html": [
       "<div>\n",
       "<style scoped>\n",
       "    .dataframe tbody tr th:only-of-type {\n",
       "        vertical-align: middle;\n",
       "    }\n",
       "\n",
       "    .dataframe tbody tr th {\n",
       "        vertical-align: top;\n",
       "    }\n",
       "\n",
       "    .dataframe thead th {\n",
       "        text-align: right;\n",
       "    }\n",
       "</style>\n",
       "<table border=\"1\" class=\"dataframe\">\n",
       "  <thead>\n",
       "    <tr style=\"text-align: right;\">\n",
       "      <th></th>\n",
       "      <th>statement</th>\n",
       "      <th>source</th>\n",
       "      <th>veracity</th>\n",
       "      <th>date</th>\n",
       "      <th>lemmas</th>\n",
       "      <th>general_pos_tags</th>\n",
       "      <th>specific_pos_tags</th>\n",
       "      <th>pos_adjective</th>\n",
       "      <th>pos_conjunction or particle or adverb</th>\n",
       "      <th>pos_adverb</th>\n",
       "      <th>pos_coordinating conjuction</th>\n",
       "      <th>pos_determiner</th>\n",
       "      <th>pos_interjection</th>\n",
       "      <th>pos_noun</th>\n",
       "      <th>pos_number</th>\n",
       "      <th>pos_possessive</th>\n",
       "      <th>pos_pronoun</th>\n",
       "      <th>pos_proper noun</th>\n",
       "      <th>pos_punctuation</th>\n",
       "      <th>pos_space</th>\n",
       "      <th>pos_symbol</th>\n",
       "      <th>pos_verb</th>\n",
       "      <th>pos_unknown</th>\n",
       "      <th>tag_symbol, currency</th>\n",
       "      <th>tag_opening quotation mark</th>\n",
       "      <th>tag_closing quotation mark</th>\n",
       "      <th>tag_punctuation mark, comma</th>\n",
       "      <th>tag_left round bracket</th>\n",
       "      <th>tag_right round bracket</th>\n",
       "      <th>tag_punctuation mark, sentence closer</th>\n",
       "      <th>tag_punctuation mark, colon or ellipsis</th>\n",
       "      <th>tag_email</th>\n",
       "      <th>tag_affix</th>\n",
       "      <th>tag_conjunction, coordinating</th>\n",
       "      <th>tag_cardinal number</th>\n",
       "      <th>tag_determiner</th>\n",
       "      <th>tag_existential there</th>\n",
       "      <th>tag_foreign word</th>\n",
       "      <th>tag_additional word in multi-word expression</th>\n",
       "      <th>tag_punctuation mark, hyphen</th>\n",
       "      <th>tag_conjunction, subordinating or preposition</th>\n",
       "      <th>tag_adjective</th>\n",
       "      <th>tag_adjective, comparative</th>\n",
       "      <th>tag_adjective, superlative</th>\n",
       "      <th>tag_list item marker</th>\n",
       "      <th>tag_verb, modal auxiliary</th>\n",
       "      <th>tag_superfluous punctuation</th>\n",
       "      <th>tag_missing tag</th>\n",
       "      <th>tag_noun, singular or mass</th>\n",
       "      <th>tag_noun, proper singular</th>\n",
       "      <th>tag_noun, proper plural</th>\n",
       "      <th>tag_noun, plural</th>\n",
       "      <th>tag_predeterminer</th>\n",
       "      <th>tag_possessive ending</th>\n",
       "      <th>tag_pronoun, personal</th>\n",
       "      <th>tag_pronoun, possessive</th>\n",
       "      <th>tag_adverb</th>\n",
       "      <th>tag_adverb, comparative</th>\n",
       "      <th>tag_adverb, superlative</th>\n",
       "      <th>tag_adverb, particle</th>\n",
       "      <th>tag_space</th>\n",
       "      <th>tag_symbol</th>\n",
       "      <th>tag_infinitival \"to\"</th>\n",
       "      <th>tag_interjection</th>\n",
       "      <th>tag_verb, base form</th>\n",
       "      <th>tag_verb, past tense</th>\n",
       "      <th>tag_verb, gerund or present participle</th>\n",
       "      <th>tag_verb, past participle</th>\n",
       "      <th>tag_verb, non-3rd person singular present</th>\n",
       "      <th>tag_verb, 3rd person singular present</th>\n",
       "      <th>tag_wh-determiner</th>\n",
       "      <th>tag_wh-pronoun, personal</th>\n",
       "      <th>tag_wh-pronoun, possessive</th>\n",
       "      <th>tag_wh-adverb</th>\n",
       "      <th>tag_unknown</th>\n",
       "      <th>tag_nan</th>\n",
       "      <th>ner_people</th>\n",
       "      <th>ner_groups</th>\n",
       "      <th>ner_facilities</th>\n",
       "      <th>ner_organizations</th>\n",
       "      <th>ner_regions</th>\n",
       "      <th>ner_landmarks</th>\n",
       "      <th>ner_products</th>\n",
       "      <th>ner_events</th>\n",
       "      <th>ner_art</th>\n",
       "      <th>ner_laws</th>\n",
       "      <th>ner_languages</th>\n",
       "      <th>ner_dates</th>\n",
       "      <th>ner_times</th>\n",
       "      <th>ner_percentages</th>\n",
       "      <th>ner_money</th>\n",
       "      <th>ner_quantity</th>\n",
       "      <th>ner_ordinality</th>\n",
       "      <th>ner_numerals</th>\n",
       "    </tr>\n",
       "  </thead>\n",
       "  <tbody>\n",
       "    <tr>\n",
       "      <th>0</th>\n",
       "      <td>Sen. Kamala Harris is \"supporting the animals of MS-13.\"</td>\n",
       "      <td>Donald Trump</td>\n",
       "      <td>0</td>\n",
       "      <td>2018-07-03</td>\n",
       "      <td>kamala harris support animal</td>\n",
       "      <td>[(Sen., PROPN), (Kamala, PROPN), (Harris, PROPN), (is, AUX), (\", PUNCT), (supporting, VERB), (the, DET), (animals, NOUN), (of, ADP), (MS-13, PROPN), (., PUNCT), (\", PUNCT)]</td>\n",
       "      <td>[(Sen., NNP), (Kamala, NNP), (Harris, NNP), (is, VBZ), (\", ``), (supporting, VBG), (the, DT), (animals, NNS), (of, IN), (MS-13, CD), (., .), (\", '')]</td>\n",
       "      <td>0</td>\n",
       "      <td>1</td>\n",
       "      <td>0</td>\n",
       "      <td>0</td>\n",
       "      <td>1</td>\n",
       "      <td>0</td>\n",
       "      <td>1</td>\n",
       "      <td>1</td>\n",
       "      <td>0</td>\n",
       "      <td>0</td>\n",
       "      <td>3</td>\n",
       "      <td>3</td>\n",
       "      <td>0</td>\n",
       "      <td>0</td>\n",
       "      <td>1</td>\n",
       "      <td>0</td>\n",
       "      <td>0</td>\n",
       "      <td>1</td>\n",
       "      <td>1</td>\n",
       "      <td>0</td>\n",
       "      <td>0</td>\n",
       "      <td>0</td>\n",
       "      <td>1</td>\n",
       "      <td>0</td>\n",
       "      <td>0</td>\n",
       "      <td>0</td>\n",
       "      <td>0</td>\n",
       "      <td>1</td>\n",
       "      <td>1</td>\n",
       "      <td>0</td>\n",
       "      <td>0</td>\n",
       "      <td>0</td>\n",
       "      <td>0</td>\n",
       "      <td>1</td>\n",
       "      <td>0</td>\n",
       "      <td>0</td>\n",
       "      <td>0</td>\n",
       "      <td>0</td>\n",
       "      <td>0</td>\n",
       "      <td>0</td>\n",
       "      <td>0</td>\n",
       "      <td>0</td>\n",
       "      <td>3</td>\n",
       "      <td>0</td>\n",
       "      <td>1</td>\n",
       "      <td>0</td>\n",
       "      <td>0</td>\n",
       "      <td>0</td>\n",
       "      <td>0</td>\n",
       "      <td>0</td>\n",
       "      <td>0</td>\n",
       "      <td>0</td>\n",
       "      <td>0</td>\n",
       "      <td>0</td>\n",
       "      <td>0</td>\n",
       "      <td>0</td>\n",
       "      <td>0</td>\n",
       "      <td>0</td>\n",
       "      <td>0</td>\n",
       "      <td>1</td>\n",
       "      <td>0</td>\n",
       "      <td>0</td>\n",
       "      <td>1</td>\n",
       "      <td>0</td>\n",
       "      <td>0</td>\n",
       "      <td>0</td>\n",
       "      <td>0</td>\n",
       "      <td>0</td>\n",
       "      <td>0</td>\n",
       "      <td>1</td>\n",
       "      <td>0</td>\n",
       "      <td>0</td>\n",
       "      <td>0</td>\n",
       "      <td>0</td>\n",
       "      <td>0</td>\n",
       "      <td>1</td>\n",
       "      <td>0</td>\n",
       "      <td>0</td>\n",
       "      <td>0</td>\n",
       "      <td>0</td>\n",
       "      <td>0</td>\n",
       "      <td>0</td>\n",
       "      <td>0</td>\n",
       "      <td>0</td>\n",
       "      <td>0</td>\n",
       "      <td>0</td>\n",
       "      <td>0</td>\n",
       "    </tr>\n",
       "  </tbody>\n",
       "</table>\n",
       "</div>"
      ],
      "text/plain": [
       "                                                  statement        source  \\\n",
       "0  Sen. Kamala Harris is \"supporting the animals of MS-13.\"  Donald Trump   \n",
       "\n",
       "   veracity        date                        lemmas  \\\n",
       "0         0  2018-07-03  kamala harris support animal   \n",
       "\n",
       "                                                                                                                                                               general_pos_tags  \\\n",
       "0  [(Sen., PROPN), (Kamala, PROPN), (Harris, PROPN), (is, AUX), (\", PUNCT), (supporting, VERB), (the, DET), (animals, NOUN), (of, ADP), (MS-13, PROPN), (., PUNCT), (\", PUNCT)]   \n",
       "\n",
       "                                                                                                                                       specific_pos_tags  \\\n",
       "0  [(Sen., NNP), (Kamala, NNP), (Harris, NNP), (is, VBZ), (\", ``), (supporting, VBG), (the, DT), (animals, NNS), (of, IN), (MS-13, CD), (., .), (\", '')]   \n",
       "\n",
       "   pos_adjective  pos_conjunction or particle or adverb  pos_adverb  \\\n",
       "0              0                                      1           0   \n",
       "\n",
       "   pos_coordinating conjuction  pos_determiner  pos_interjection  pos_noun  \\\n",
       "0                            0               1                 0         1   \n",
       "\n",
       "   pos_number  pos_possessive  pos_pronoun  pos_proper noun  pos_punctuation  \\\n",
       "0           1               0            0                3                3   \n",
       "\n",
       "   pos_space  pos_symbol  pos_verb  pos_unknown  tag_symbol, currency  \\\n",
       "0          0           0         1            0                     0   \n",
       "\n",
       "   tag_opening quotation mark  tag_closing quotation mark  \\\n",
       "0                           1                           1   \n",
       "\n",
       "   tag_punctuation mark, comma  tag_left round bracket  \\\n",
       "0                            0                       0   \n",
       "\n",
       "   tag_right round bracket  tag_punctuation mark, sentence closer  \\\n",
       "0                        0                                      1   \n",
       "\n",
       "   tag_punctuation mark, colon or ellipsis  tag_email  tag_affix  \\\n",
       "0                                        0          0          0   \n",
       "\n",
       "   tag_conjunction, coordinating  tag_cardinal number  tag_determiner  \\\n",
       "0                              0                    1               1   \n",
       "\n",
       "   tag_existential there  tag_foreign word  \\\n",
       "0                      0                 0   \n",
       "\n",
       "   tag_additional word in multi-word expression  tag_punctuation mark, hyphen  \\\n",
       "0                                             0                             0   \n",
       "\n",
       "   tag_conjunction, subordinating or preposition  tag_adjective  \\\n",
       "0                                              1              0   \n",
       "\n",
       "   tag_adjective, comparative  tag_adjective, superlative  \\\n",
       "0                           0                           0   \n",
       "\n",
       "   tag_list item marker  tag_verb, modal auxiliary  \\\n",
       "0                     0                          0   \n",
       "\n",
       "   tag_superfluous punctuation  tag_missing tag  tag_noun, singular or mass  \\\n",
       "0                            0                0                           0   \n",
       "\n",
       "   tag_noun, proper singular  tag_noun, proper plural  tag_noun, plural  \\\n",
       "0                          3                        0                 1   \n",
       "\n",
       "   tag_predeterminer  tag_possessive ending  tag_pronoun, personal  \\\n",
       "0                  0                      0                      0   \n",
       "\n",
       "   tag_pronoun, possessive  tag_adverb  tag_adverb, comparative  \\\n",
       "0                        0           0                        0   \n",
       "\n",
       "   tag_adverb, superlative  tag_adverb, particle  tag_space  tag_symbol  \\\n",
       "0                        0                     0          0           0   \n",
       "\n",
       "   tag_infinitival \"to\"  tag_interjection  tag_verb, base form  \\\n",
       "0                     0                 0                    0   \n",
       "\n",
       "   tag_verb, past tense  tag_verb, gerund or present participle  \\\n",
       "0                     0                                       1   \n",
       "\n",
       "   tag_verb, past participle  tag_verb, non-3rd person singular present  \\\n",
       "0                          0                                          0   \n",
       "\n",
       "   tag_verb, 3rd person singular present  tag_wh-determiner  \\\n",
       "0                                      1                  0   \n",
       "\n",
       "   tag_wh-pronoun, personal  tag_wh-pronoun, possessive  tag_wh-adverb  \\\n",
       "0                         0                           0              0   \n",
       "\n",
       "   tag_unknown  tag_nan  ner_people  ner_groups  ner_facilities  \\\n",
       "0            0        0           1           0               0   \n",
       "\n",
       "   ner_organizations  ner_regions  ner_landmarks  ner_products  ner_events  \\\n",
       "0                  0            0              0             1           0   \n",
       "\n",
       "   ner_art  ner_laws  ner_languages  ner_dates  ner_times  ner_percentages  \\\n",
       "0        0         0              0          0          0                0   \n",
       "\n",
       "   ner_money  ner_quantity  ner_ordinality  ner_numerals  \n",
       "0          0             0               0             0  "
      ]
     },
     "execution_count": 59,
     "metadata": {},
     "output_type": "execute_result"
    }
   ],
   "source": [
    "df.head(1)"
   ]
  },
  {
   "cell_type": "markdown",
   "id": "greenhouse-concentrate",
   "metadata": {},
   "source": [
    "## NER Statistics"
   ]
  },
  {
   "cell_type": "code",
   "execution_count": 60,
   "id": "occupational-cannon",
   "metadata": {},
   "outputs": [
    {
     "data": {
      "text/html": [
       "<div>\n",
       "<style scoped>\n",
       "    .dataframe tbody tr th:only-of-type {\n",
       "        vertical-align: middle;\n",
       "    }\n",
       "\n",
       "    .dataframe tbody tr th {\n",
       "        vertical-align: top;\n",
       "    }\n",
       "\n",
       "    .dataframe thead th {\n",
       "        text-align: right;\n",
       "    }\n",
       "</style>\n",
       "<table border=\"1\" class=\"dataframe\">\n",
       "  <thead>\n",
       "    <tr style=\"text-align: right;\">\n",
       "      <th></th>\n",
       "      <th>t_means</th>\n",
       "      <th>f_means</th>\n",
       "      <th>p_value</th>\n",
       "    </tr>\n",
       "  </thead>\n",
       "  <tbody>\n",
       "    <tr>\n",
       "      <th>people</th>\n",
       "      <td>0.35</td>\n",
       "      <td>0.51</td>\n",
       "      <td>0.000</td>\n",
       "    </tr>\n",
       "    <tr>\n",
       "      <th>organizations</th>\n",
       "      <td>0.27</td>\n",
       "      <td>0.34</td>\n",
       "      <td>0.000</td>\n",
       "    </tr>\n",
       "    <tr>\n",
       "      <th>regions</th>\n",
       "      <td>0.44</td>\n",
       "      <td>0.39</td>\n",
       "      <td>0.000</td>\n",
       "    </tr>\n",
       "    <tr>\n",
       "      <th>art</th>\n",
       "      <td>0.01</td>\n",
       "      <td>0.02</td>\n",
       "      <td>0.000</td>\n",
       "    </tr>\n",
       "    <tr>\n",
       "      <th>dates</th>\n",
       "      <td>0.32</td>\n",
       "      <td>0.19</td>\n",
       "      <td>0.000</td>\n",
       "    </tr>\n",
       "    <tr>\n",
       "      <th>percentages</th>\n",
       "      <td>0.16</td>\n",
       "      <td>0.09</td>\n",
       "      <td>0.000</td>\n",
       "    </tr>\n",
       "    <tr>\n",
       "      <th>money</th>\n",
       "      <td>0.15</td>\n",
       "      <td>0.12</td>\n",
       "      <td>0.004</td>\n",
       "    </tr>\n",
       "    <tr>\n",
       "      <th>ordinality</th>\n",
       "      <td>0.05</td>\n",
       "      <td>0.03</td>\n",
       "      <td>0.000</td>\n",
       "    </tr>\n",
       "    <tr>\n",
       "      <th>numerals</th>\n",
       "      <td>0.31</td>\n",
       "      <td>0.20</td>\n",
       "      <td>0.000</td>\n",
       "    </tr>\n",
       "  </tbody>\n",
       "</table>\n",
       "</div>"
      ],
      "text/plain": [
       "               t_means  f_means  p_value\n",
       "people            0.35     0.51    0.000\n",
       "organizations     0.27     0.34    0.000\n",
       "regions           0.44     0.39    0.000\n",
       "art               0.01     0.02    0.000\n",
       "dates             0.32     0.19    0.000\n",
       "percentages       0.16     0.09    0.000\n",
       "money             0.15     0.12    0.004\n",
       "ordinality        0.05     0.03    0.000\n",
       "numerals          0.31     0.20    0.000"
      ]
     },
     "execution_count": 60,
     "metadata": {},
     "output_type": "execute_result"
    }
   ],
   "source": [
    "# return df with probability values that approach or are significant\n",
    "ner_df = df_tvsf(\"ner_\", mydict_ner, ner_list)\n",
    "ner_df[ner_df.p_value < 0.05]"
   ]
  },
  {
   "cell_type": "code",
   "execution_count": 61,
   "id": "centered-delight",
   "metadata": {},
   "outputs": [
    {
     "data": {
      "text/plain": [
       "18"
      ]
     },
     "execution_count": 61,
     "metadata": {},
     "output_type": "execute_result"
    }
   ],
   "source": [
    "len(ner_df)"
   ]
  },
  {
   "cell_type": "markdown",
   "id": "active-administrator",
   "metadata": {},
   "source": [
    "#### Conclusions"
   ]
  },
  {
   "cell_type": "markdown",
   "id": "psychological-chain",
   "metadata": {},
   "source": [
    "More present in TRUTH as opposed to LIES: Dates, Numerals, ordinality and regions. This might imply more precision and details in statements.\n",
    "\n",
    "More present in LIES as opposed to TRUTHS: People, organizations. This might imply more hearsay and accusations. "
   ]
  },
  {
   "cell_type": "markdown",
   "id": "worse-terminal",
   "metadata": {},
   "source": [
    "## Syntactic Dependency (SD) tagging"
   ]
  },
  {
   "cell_type": "code",
   "execution_count": 26,
   "id": "detailed-kidney",
   "metadata": {
    "scrolled": true
   },
   "outputs": [
    {
     "name": "stdout",
     "output_type": "stream",
     "text": [
      "[('Says', 'ROOT'), ('Republican', 'amod'), ('gubernatorial', 'amod'), ('candidate', 'compound'), ('Adam', 'compound'), ('Laxalt', 'nsubj'), ('\"', 'punct'), ('tried', 'ccomp'), ('to', 'aux'), ('cut', 'xcomp'), ('a', 'det'), ('deal', 'dobj'), ('with', 'prep'), ('big', 'amod'), ('pharma', 'pobj'), ('\"', 'punct'), ('in', 'prep'), ('a', 'det'), ('lawsuit', 'pobj'), ('.', 'punct')]\n"
     ]
    }
   ],
   "source": [
    "# Syntactic Dependency .dep_ example\n",
    "nobj = nlp(df.statement[21])\n",
    "sd = [(token.text, token.dep_) for token in nobj]\n",
    "print(sd)"
   ]
  },
  {
   "cell_type": "code",
   "execution_count": 27,
   "id": "bearing-composer",
   "metadata": {},
   "outputs": [],
   "source": [
    "# Syntactic Dependency tagger function\n",
    "def sd_tagger(text):\n",
    "    \n",
    "    # nlp object\n",
    "    nobj = nlp(text)\n",
    "    \n",
    "    # tags list\n",
    "    tagged_text = [(token.text, token.dep_) for token in nobj]\n",
    "    \n",
    "    return tagged_text"
   ]
  },
  {
   "cell_type": "code",
   "execution_count": 28,
   "id": "southwest-diameter",
   "metadata": {},
   "outputs": [],
   "source": [
    "# Apply the tagger on statements and store the results in a new column\n",
    "df[\"sd_tags\"] = df[\"statement\"].swifter.apply(sd_tagger)"
   ]
  },
  {
   "cell_type": "code",
   "execution_count": 29,
   "id": "passing-appendix",
   "metadata": {},
   "outputs": [
    {
     "data": {
      "text/html": [
       "<div>\n",
       "<style scoped>\n",
       "    .dataframe tbody tr th:only-of-type {\n",
       "        vertical-align: middle;\n",
       "    }\n",
       "\n",
       "    .dataframe tbody tr th {\n",
       "        vertical-align: top;\n",
       "    }\n",
       "\n",
       "    .dataframe thead th {\n",
       "        text-align: right;\n",
       "    }\n",
       "</style>\n",
       "<table border=\"1\" class=\"dataframe\">\n",
       "  <thead>\n",
       "    <tr style=\"text-align: right;\">\n",
       "      <th></th>\n",
       "      <th>sd_tags</th>\n",
       "    </tr>\n",
       "  </thead>\n",
       "  <tbody>\n",
       "    <tr>\n",
       "      <th>0</th>\n",
       "      <td>[(Sen., compound), (Kamala, compound), (Harris, nsubj), (is, aux), (\", punct), (supporting, ROOT), (the, det), (animals, dobj), (of, prep), (MS-13, pobj), (., punct), (\", punct)]</td>\n",
       "    </tr>\n",
       "    <tr>\n",
       "      <th>1</th>\n",
       "      <td>[(Says, ROOT), (Ronald, compound), (Reagan, nsubj), (said, ccomp), (immigrants, compound), ( , nsubj), (\", punct), (brought, ccomp), (with, prep), (them, pobj), (courage, dobj), (and, cc), (the, d...</td>\n",
       "    </tr>\n",
       "    <tr>\n",
       "      <th>2</th>\n",
       "      <td>[(Says, ROOT), (Democratic, amod), (Senators, nsubj), (\", punct), (demand, ccomp), (Supreme, compound), (Court, compound), (nominee, dobj), (not, neg), (be, auxpass), (unduly, advmod), (influenced...</td>\n",
       "    </tr>\n",
       "    <tr>\n",
       "      <th>3</th>\n",
       "      <td>[(\", punct), (Tim, compound), (Kaine, nsubj), (does, aux), (n’t, neg), (want, ROOT), (a, det), (border, dobj), (at, advmod), (all, advmod), (., punct), (He, nsubj), (wants, ROOT), (to, aux), (get,...</td>\n",
       "    </tr>\n",
       "    <tr>\n",
       "      <th>4</th>\n",
       "      <td>[(\", ROOT), (George, compound), (H.W., compound), (Bush, nsubj), (has, aux), (died, ROOT), (at, prep), (94, pobj), (., punct), (\", punct)]</td>\n",
       "    </tr>\n",
       "  </tbody>\n",
       "</table>\n",
       "</div>"
      ],
      "text/plain": [
       "                                                                                                                                                                                                   sd_tags\n",
       "0                       [(Sen., compound), (Kamala, compound), (Harris, nsubj), (is, aux), (\", punct), (supporting, ROOT), (the, det), (animals, dobj), (of, prep), (MS-13, pobj), (., punct), (\", punct)]\n",
       "1  [(Says, ROOT), (Ronald, compound), (Reagan, nsubj), (said, ccomp), (immigrants, compound), ( , nsubj), (\", punct), (brought, ccomp), (with, prep), (them, pobj), (courage, dobj), (and, cc), (the, d...\n",
       "2  [(Says, ROOT), (Democratic, amod), (Senators, nsubj), (\", punct), (demand, ccomp), (Supreme, compound), (Court, compound), (nominee, dobj), (not, neg), (be, auxpass), (unduly, advmod), (influenced...\n",
       "3  [(\", punct), (Tim, compound), (Kaine, nsubj), (does, aux), (n’t, neg), (want, ROOT), (a, det), (border, dobj), (at, advmod), (all, advmod), (., punct), (He, nsubj), (wants, ROOT), (to, aux), (get,...\n",
       "4                                                               [(\", ROOT), (George, compound), (H.W., compound), (Bush, nsubj), (has, aux), (died, ROOT), (at, prep), (94, pobj), (., punct), (\", punct)]"
      ]
     },
     "execution_count": 29,
     "metadata": {},
     "output_type": "execute_result"
    }
   ],
   "source": [
    "# Check that the data was transformed correctly\n",
    "df[[\"sd_tags\"]][0:5]"
   ]
  },
  {
   "cell_type": "markdown",
   "id": "dedicated-spiritual",
   "metadata": {},
   "source": [
    "### Create SD lists and dictionaries"
   ]
  },
  {
   "cell_type": "code",
   "execution_count": 62,
   "id": "active-republic",
   "metadata": {},
   "outputs": [
    {
     "data": {
      "text/html": [
       "<div>\n",
       "<style scoped>\n",
       "    .dataframe tbody tr th:only-of-type {\n",
       "        vertical-align: middle;\n",
       "    }\n",
       "\n",
       "    .dataframe tbody tr th {\n",
       "        vertical-align: top;\n",
       "    }\n",
       "\n",
       "    .dataframe thead th {\n",
       "        text-align: right;\n",
       "    }\n",
       "</style>\n",
       "<table border=\"1\" class=\"dataframe\">\n",
       "  <thead>\n",
       "    <tr style=\"text-align: right;\">\n",
       "      <th></th>\n",
       "      <th>LABEL</th>\n",
       "      <th>DESCRIPTION</th>\n",
       "    </tr>\n",
       "  </thead>\n",
       "  <tbody>\n",
       "    <tr>\n",
       "      <th>0</th>\n",
       "      <td>acl</td>\n",
       "      <td>clausal modifier of noun (adjectival clause)</td>\n",
       "    </tr>\n",
       "    <tr>\n",
       "      <th>1</th>\n",
       "      <td>advcl</td>\n",
       "      <td>adverbial clause modifier</td>\n",
       "    </tr>\n",
       "    <tr>\n",
       "      <th>2</th>\n",
       "      <td>advmod</td>\n",
       "      <td>adverbial modifier</td>\n",
       "    </tr>\n",
       "    <tr>\n",
       "      <th>3</th>\n",
       "      <td>amod</td>\n",
       "      <td>adjectival modifier</td>\n",
       "    </tr>\n",
       "    <tr>\n",
       "      <th>4</th>\n",
       "      <td>appos</td>\n",
       "      <td>appositional modifier</td>\n",
       "    </tr>\n",
       "  </tbody>\n",
       "</table>\n",
       "</div>"
      ],
      "text/plain": [
       "    LABEL                                   DESCRIPTION\n",
       "0     acl  clausal modifier of noun (adjectival clause)\n",
       "1   advcl                     adverbial clause modifier\n",
       "2  advmod                            adverbial modifier\n",
       "3    amod                           adjectival modifier\n",
       "4   appos                         appositional modifier"
      ]
     },
     "execution_count": 62,
     "metadata": {},
     "output_type": "execute_result"
    }
   ],
   "source": [
    "# Read in all syntactic dependency tags for ease of use\n",
    "# Source: https://web.archive.org/web/20201207014953/https://spacy.io/api/annotation\n",
    "# Full info found in \"sd.csv\"\n",
    "\n",
    "sd_df = pd.read_csv(\"sd.csv\")\n",
    "sd_df.head()"
   ]
  },
  {
   "cell_type": "code",
   "execution_count": 63,
   "id": "increased-boston",
   "metadata": {},
   "outputs": [
    {
     "name": "stdout",
     "output_type": "stream",
     "text": [
      "37 37\n"
     ]
    }
   ],
   "source": [
    "label = sd_df['LABEL'].tolist()\n",
    "descr = sd_df['DESCRIPTION'].tolist()\n",
    "print(len(label), len(descr))"
   ]
  },
  {
   "cell_type": "code",
   "execution_count": 64,
   "id": "municipal-parts",
   "metadata": {},
   "outputs": [
    {
     "data": {
      "text/plain": [
       "{'acl': 'clausal modifier of noun (adjectival clause)',\n",
       " 'advcl': 'adverbial clause modifier',\n",
       " 'advmod': 'adverbial modifier',\n",
       " 'amod': 'adjectival modifier',\n",
       " 'appos': 'appositional modifier',\n",
       " 'aux': 'auxiliary',\n",
       " 'case': 'case marking',\n",
       " 'cc': 'coordinating conjunction',\n",
       " 'ccomp': 'clausal complement',\n",
       " 'clf': 'classifier',\n",
       " 'compound': 'compound',\n",
       " 'conj': 'conjunct',\n",
       " 'cop': 'copula',\n",
       " 'csubj': 'clausal subject',\n",
       " 'dep': 'unspecified dependency',\n",
       " 'det': 'determiner',\n",
       " 'discourse': 'discourse element',\n",
       " 'dislocated': 'dislocated elements',\n",
       " 'expl': 'expletive',\n",
       " 'fixed': 'fixed multiword expression',\n",
       " 'flat': 'flat multiword expression',\n",
       " 'goeswith': 'goes with',\n",
       " 'iobj': 'indirect object',\n",
       " 'list': 'list',\n",
       " 'mark': 'marker',\n",
       " 'nmod': 'nominal modifier',\n",
       " 'nsubj': 'nominal subject',\n",
       " 'nummod': 'numeric modifier',\n",
       " 'obj': 'object',\n",
       " 'obl': 'oblique nominal',\n",
       " 'orphan': 'orphan',\n",
       " 'parataxis': 'parataxis',\n",
       " 'punct': 'punctuation',\n",
       " 'reparandum': 'overridden disfluency',\n",
       " 'root': 'root',\n",
       " 'vocative': 'vocative',\n",
       " 'xcomp': 'open clausal complement'}"
      ]
     },
     "execution_count": 64,
     "metadata": {},
     "output_type": "execute_result"
    }
   ],
   "source": [
    "# Create dictionary for later use\n",
    "mydict_sd = {}\n",
    "for i in range(len(label)):\n",
    "    mydict_sd[label[i]] = descr[i]\n",
    "mydict_sd"
   ]
  },
  {
   "cell_type": "code",
   "execution_count": 65,
   "id": "individual-disclosure",
   "metadata": {},
   "outputs": [
    {
     "name": "stdout",
     "output_type": "stream",
     "text": [
      "['acl', 'advcl', 'advmod', 'amod', 'appos']\n"
     ]
    }
   ],
   "source": [
    "# Create keys (SD tags) for later use\n",
    "sd_list = list(mydict_sd.keys())\n",
    "print(sd_list[:5])\n"
   ]
  },
  {
   "cell_type": "markdown",
   "id": "severe-webcam",
   "metadata": {},
   "source": [
    "## SD Statistics"
   ]
  },
  {
   "cell_type": "code",
   "execution_count": 66,
   "id": "limiting-notion",
   "metadata": {},
   "outputs": [],
   "source": [
    "def sd_counter(text, d):\n",
    "    \n",
    "    # nlp object\n",
    "    nobj = nlp(text)\n",
    "    \n",
    "    # list of tags\n",
    "    dep = [token.dep_ for token in nobj]\n",
    "    \n",
    "    # count\n",
    "    return dep.count(d)"
   ]
  },
  {
   "cell_type": "code",
   "execution_count": 67,
   "id": "given-teddy",
   "metadata": {
    "scrolled": true
   },
   "outputs": [
    {
     "data": {
      "application/vnd.jupyter.widget-view+json": {
       "model_id": "8f0c4e55a4264f44a7442982b19652d9",
       "version_major": 2,
       "version_minor": 0
      },
      "text/plain": [
       "HBox(children=(HTML(value='Pandas Apply'), FloatProgress(value=0.0, max=11188.0), HTML(value='')))"
      ]
     },
     "metadata": {},
     "output_type": "display_data"
    },
    {
     "name": "stdout",
     "output_type": "stream",
     "text": [
      "\n"
     ]
    },
    {
     "data": {
      "application/vnd.jupyter.widget-view+json": {
       "model_id": "1770d61629684a81997651220474926b",
       "version_major": 2,
       "version_minor": 0
      },
      "text/plain": [
       "HBox(children=(HTML(value='Pandas Apply'), FloatProgress(value=0.0, max=11188.0), HTML(value='')))"
      ]
     },
     "metadata": {},
     "output_type": "display_data"
    },
    {
     "name": "stdout",
     "output_type": "stream",
     "text": [
      "\n"
     ]
    },
    {
     "data": {
      "application/vnd.jupyter.widget-view+json": {
       "model_id": "1adf03d8b0e14d45ac35a9f977451fbb",
       "version_major": 2,
       "version_minor": 0
      },
      "text/plain": [
       "HBox(children=(HTML(value='Pandas Apply'), FloatProgress(value=0.0, max=11188.0), HTML(value='')))"
      ]
     },
     "metadata": {},
     "output_type": "display_data"
    },
    {
     "name": "stdout",
     "output_type": "stream",
     "text": [
      "\n"
     ]
    },
    {
     "data": {
      "application/vnd.jupyter.widget-view+json": {
       "model_id": "cd1a7f24723a420bb62bb1f0364f02af",
       "version_major": 2,
       "version_minor": 0
      },
      "text/plain": [
       "HBox(children=(HTML(value='Pandas Apply'), FloatProgress(value=0.0, max=11188.0), HTML(value='')))"
      ]
     },
     "metadata": {},
     "output_type": "display_data"
    },
    {
     "name": "stdout",
     "output_type": "stream",
     "text": [
      "\n"
     ]
    },
    {
     "data": {
      "application/vnd.jupyter.widget-view+json": {
       "model_id": "0f03be36d3fc4d7f85ba050535dd781d",
       "version_major": 2,
       "version_minor": 0
      },
      "text/plain": [
       "HBox(children=(HTML(value='Pandas Apply'), FloatProgress(value=0.0, max=11188.0), HTML(value='')))"
      ]
     },
     "metadata": {},
     "output_type": "display_data"
    },
    {
     "name": "stdout",
     "output_type": "stream",
     "text": [
      "\n"
     ]
    },
    {
     "data": {
      "application/vnd.jupyter.widget-view+json": {
       "model_id": "ad9a871a2201468d871cdba46e118ec8",
       "version_major": 2,
       "version_minor": 0
      },
      "text/plain": [
       "HBox(children=(HTML(value='Pandas Apply'), FloatProgress(value=0.0, max=11188.0), HTML(value='')))"
      ]
     },
     "metadata": {},
     "output_type": "display_data"
    },
    {
     "name": "stdout",
     "output_type": "stream",
     "text": [
      "\n"
     ]
    },
    {
     "data": {
      "application/vnd.jupyter.widget-view+json": {
       "model_id": "5bd8233b74654d7c8ffc80cc3ecbb310",
       "version_major": 2,
       "version_minor": 0
      },
      "text/plain": [
       "HBox(children=(HTML(value='Pandas Apply'), FloatProgress(value=0.0, max=11188.0), HTML(value='')))"
      ]
     },
     "metadata": {},
     "output_type": "display_data"
    },
    {
     "name": "stdout",
     "output_type": "stream",
     "text": [
      "\n"
     ]
    },
    {
     "data": {
      "application/vnd.jupyter.widget-view+json": {
       "model_id": "4450bd5e686641ea9ea0d469feda19d8",
       "version_major": 2,
       "version_minor": 0
      },
      "text/plain": [
       "HBox(children=(HTML(value='Pandas Apply'), FloatProgress(value=0.0, max=11188.0), HTML(value='')))"
      ]
     },
     "metadata": {},
     "output_type": "display_data"
    },
    {
     "name": "stdout",
     "output_type": "stream",
     "text": [
      "\n"
     ]
    },
    {
     "data": {
      "application/vnd.jupyter.widget-view+json": {
       "model_id": "a5514ecc65544fcd8f6df23fa2491d72",
       "version_major": 2,
       "version_minor": 0
      },
      "text/plain": [
       "HBox(children=(HTML(value='Pandas Apply'), FloatProgress(value=0.0, max=11188.0), HTML(value='')))"
      ]
     },
     "metadata": {},
     "output_type": "display_data"
    },
    {
     "name": "stdout",
     "output_type": "stream",
     "text": [
      "\n"
     ]
    },
    {
     "data": {
      "application/vnd.jupyter.widget-view+json": {
       "model_id": "7adf65407d3446cd98a3a54c729e24d9",
       "version_major": 2,
       "version_minor": 0
      },
      "text/plain": [
       "HBox(children=(HTML(value='Pandas Apply'), FloatProgress(value=0.0, max=11188.0), HTML(value='')))"
      ]
     },
     "metadata": {},
     "output_type": "display_data"
    },
    {
     "name": "stdout",
     "output_type": "stream",
     "text": [
      "\n"
     ]
    },
    {
     "data": {
      "application/vnd.jupyter.widget-view+json": {
       "model_id": "4b12ae1346114e8080a6bce93d87834e",
       "version_major": 2,
       "version_minor": 0
      },
      "text/plain": [
       "HBox(children=(HTML(value='Pandas Apply'), FloatProgress(value=0.0, max=11188.0), HTML(value='')))"
      ]
     },
     "metadata": {},
     "output_type": "display_data"
    },
    {
     "name": "stdout",
     "output_type": "stream",
     "text": [
      "\n"
     ]
    },
    {
     "data": {
      "application/vnd.jupyter.widget-view+json": {
       "model_id": "fc5ee3f738c54a7d87eff28739db4fe5",
       "version_major": 2,
       "version_minor": 0
      },
      "text/plain": [
       "HBox(children=(HTML(value='Pandas Apply'), FloatProgress(value=0.0, max=11188.0), HTML(value='')))"
      ]
     },
     "metadata": {},
     "output_type": "display_data"
    },
    {
     "name": "stdout",
     "output_type": "stream",
     "text": [
      "\n"
     ]
    },
    {
     "data": {
      "application/vnd.jupyter.widget-view+json": {
       "model_id": "517256529892427a855f01ac471c54e9",
       "version_major": 2,
       "version_minor": 0
      },
      "text/plain": [
       "HBox(children=(HTML(value='Pandas Apply'), FloatProgress(value=0.0, max=11188.0), HTML(value='')))"
      ]
     },
     "metadata": {},
     "output_type": "display_data"
    },
    {
     "name": "stdout",
     "output_type": "stream",
     "text": [
      "\n"
     ]
    },
    {
     "data": {
      "application/vnd.jupyter.widget-view+json": {
       "model_id": "bd2026b56d334d168f2ba5b2b026fa5a",
       "version_major": 2,
       "version_minor": 0
      },
      "text/plain": [
       "HBox(children=(HTML(value='Pandas Apply'), FloatProgress(value=0.0, max=11188.0), HTML(value='')))"
      ]
     },
     "metadata": {},
     "output_type": "display_data"
    },
    {
     "name": "stdout",
     "output_type": "stream",
     "text": [
      "\n"
     ]
    },
    {
     "data": {
      "application/vnd.jupyter.widget-view+json": {
       "model_id": "d6af1bc2f2f14db18f233966d6516463",
       "version_major": 2,
       "version_minor": 0
      },
      "text/plain": [
       "HBox(children=(HTML(value='Pandas Apply'), FloatProgress(value=0.0, max=11188.0), HTML(value='')))"
      ]
     },
     "metadata": {},
     "output_type": "display_data"
    },
    {
     "name": "stdout",
     "output_type": "stream",
     "text": [
      "\n"
     ]
    },
    {
     "data": {
      "application/vnd.jupyter.widget-view+json": {
       "model_id": "a0910c6e66574f33b96a7f96fbe6dddd",
       "version_major": 2,
       "version_minor": 0
      },
      "text/plain": [
       "HBox(children=(HTML(value='Pandas Apply'), FloatProgress(value=0.0, max=11188.0), HTML(value='')))"
      ]
     },
     "metadata": {},
     "output_type": "display_data"
    },
    {
     "name": "stdout",
     "output_type": "stream",
     "text": [
      "\n"
     ]
    },
    {
     "data": {
      "application/vnd.jupyter.widget-view+json": {
       "model_id": "bfc335ec50454273b8ad6edaae5a2392",
       "version_major": 2,
       "version_minor": 0
      },
      "text/plain": [
       "HBox(children=(HTML(value='Pandas Apply'), FloatProgress(value=0.0, max=11188.0), HTML(value='')))"
      ]
     },
     "metadata": {},
     "output_type": "display_data"
    },
    {
     "name": "stdout",
     "output_type": "stream",
     "text": [
      "\n"
     ]
    },
    {
     "data": {
      "application/vnd.jupyter.widget-view+json": {
       "model_id": "a9c7b59099b749a892569320badc9884",
       "version_major": 2,
       "version_minor": 0
      },
      "text/plain": [
       "HBox(children=(HTML(value='Pandas Apply'), FloatProgress(value=0.0, max=11188.0), HTML(value='')))"
      ]
     },
     "metadata": {},
     "output_type": "display_data"
    },
    {
     "name": "stdout",
     "output_type": "stream",
     "text": [
      "\n"
     ]
    },
    {
     "data": {
      "application/vnd.jupyter.widget-view+json": {
       "model_id": "790178df1731407ab2d7541552044042",
       "version_major": 2,
       "version_minor": 0
      },
      "text/plain": [
       "HBox(children=(HTML(value='Pandas Apply'), FloatProgress(value=0.0, max=11188.0), HTML(value='')))"
      ]
     },
     "metadata": {},
     "output_type": "display_data"
    },
    {
     "name": "stdout",
     "output_type": "stream",
     "text": [
      "\n"
     ]
    },
    {
     "data": {
      "application/vnd.jupyter.widget-view+json": {
       "model_id": "fe4a48db17b54b90bd1dba020c2048d0",
       "version_major": 2,
       "version_minor": 0
      },
      "text/plain": [
       "HBox(children=(HTML(value='Pandas Apply'), FloatProgress(value=0.0, max=11188.0), HTML(value='')))"
      ]
     },
     "metadata": {},
     "output_type": "display_data"
    },
    {
     "name": "stdout",
     "output_type": "stream",
     "text": [
      "\n"
     ]
    },
    {
     "data": {
      "application/vnd.jupyter.widget-view+json": {
       "model_id": "9e1e746a0e6e4a719575fdc7b77d3baf",
       "version_major": 2,
       "version_minor": 0
      },
      "text/plain": [
       "HBox(children=(HTML(value='Pandas Apply'), FloatProgress(value=0.0, max=11188.0), HTML(value='')))"
      ]
     },
     "metadata": {},
     "output_type": "display_data"
    },
    {
     "name": "stdout",
     "output_type": "stream",
     "text": [
      "\n"
     ]
    },
    {
     "data": {
      "application/vnd.jupyter.widget-view+json": {
       "model_id": "090568847de4498488fc29997bb1abab",
       "version_major": 2,
       "version_minor": 0
      },
      "text/plain": [
       "HBox(children=(HTML(value='Pandas Apply'), FloatProgress(value=0.0, max=11188.0), HTML(value='')))"
      ]
     },
     "metadata": {},
     "output_type": "display_data"
    },
    {
     "name": "stdout",
     "output_type": "stream",
     "text": [
      "\n"
     ]
    },
    {
     "data": {
      "application/vnd.jupyter.widget-view+json": {
       "model_id": "2b4343ca4b6b4193acba6315633fb658",
       "version_major": 2,
       "version_minor": 0
      },
      "text/plain": [
       "HBox(children=(HTML(value='Pandas Apply'), FloatProgress(value=0.0, max=11188.0), HTML(value='')))"
      ]
     },
     "metadata": {},
     "output_type": "display_data"
    },
    {
     "name": "stdout",
     "output_type": "stream",
     "text": [
      "\n"
     ]
    },
    {
     "data": {
      "application/vnd.jupyter.widget-view+json": {
       "model_id": "4f80b1451d88451e95f9e1015bee5cc5",
       "version_major": 2,
       "version_minor": 0
      },
      "text/plain": [
       "HBox(children=(HTML(value='Pandas Apply'), FloatProgress(value=0.0, max=11188.0), HTML(value='')))"
      ]
     },
     "metadata": {},
     "output_type": "display_data"
    },
    {
     "name": "stdout",
     "output_type": "stream",
     "text": [
      "\n"
     ]
    },
    {
     "data": {
      "application/vnd.jupyter.widget-view+json": {
       "model_id": "a61dc0bfaa934546ab04dc3f28ddca15",
       "version_major": 2,
       "version_minor": 0
      },
      "text/plain": [
       "HBox(children=(HTML(value='Pandas Apply'), FloatProgress(value=0.0, max=11188.0), HTML(value='')))"
      ]
     },
     "metadata": {},
     "output_type": "display_data"
    },
    {
     "name": "stdout",
     "output_type": "stream",
     "text": [
      "\n"
     ]
    },
    {
     "data": {
      "application/vnd.jupyter.widget-view+json": {
       "model_id": "a4a2720a32854516a23217daeb281113",
       "version_major": 2,
       "version_minor": 0
      },
      "text/plain": [
       "HBox(children=(HTML(value='Pandas Apply'), FloatProgress(value=0.0, max=11188.0), HTML(value='')))"
      ]
     },
     "metadata": {},
     "output_type": "display_data"
    },
    {
     "name": "stdout",
     "output_type": "stream",
     "text": [
      "\n"
     ]
    },
    {
     "data": {
      "application/vnd.jupyter.widget-view+json": {
       "model_id": "5c0e5560ba2c462291f3812ba9714a5d",
       "version_major": 2,
       "version_minor": 0
      },
      "text/plain": [
       "HBox(children=(HTML(value='Pandas Apply'), FloatProgress(value=0.0, max=11188.0), HTML(value='')))"
      ]
     },
     "metadata": {},
     "output_type": "display_data"
    },
    {
     "name": "stdout",
     "output_type": "stream",
     "text": [
      "\n"
     ]
    },
    {
     "data": {
      "application/vnd.jupyter.widget-view+json": {
       "model_id": "8fd1500fbe4b43f6b74db2e027c28557",
       "version_major": 2,
       "version_minor": 0
      },
      "text/plain": [
       "HBox(children=(HTML(value='Pandas Apply'), FloatProgress(value=0.0, max=11188.0), HTML(value='')))"
      ]
     },
     "metadata": {},
     "output_type": "display_data"
    },
    {
     "name": "stdout",
     "output_type": "stream",
     "text": [
      "\n"
     ]
    },
    {
     "data": {
      "application/vnd.jupyter.widget-view+json": {
       "model_id": "54325dd7fd7249d4bd9dc03b939f2db2",
       "version_major": 2,
       "version_minor": 0
      },
      "text/plain": [
       "HBox(children=(HTML(value='Pandas Apply'), FloatProgress(value=0.0, max=11188.0), HTML(value='')))"
      ]
     },
     "metadata": {},
     "output_type": "display_data"
    },
    {
     "name": "stdout",
     "output_type": "stream",
     "text": [
      "\n"
     ]
    },
    {
     "data": {
      "application/vnd.jupyter.widget-view+json": {
       "model_id": "8dd5e1ed96244aac90415db2862b1e0f",
       "version_major": 2,
       "version_minor": 0
      },
      "text/plain": [
       "HBox(children=(HTML(value='Pandas Apply'), FloatProgress(value=0.0, max=11188.0), HTML(value='')))"
      ]
     },
     "metadata": {},
     "output_type": "display_data"
    },
    {
     "name": "stdout",
     "output_type": "stream",
     "text": [
      "\n"
     ]
    },
    {
     "data": {
      "application/vnd.jupyter.widget-view+json": {
       "model_id": "fb373dbd7ce5485f920c9180405dc935",
       "version_major": 2,
       "version_minor": 0
      },
      "text/plain": [
       "HBox(children=(HTML(value='Pandas Apply'), FloatProgress(value=0.0, max=11188.0), HTML(value='')))"
      ]
     },
     "metadata": {},
     "output_type": "display_data"
    },
    {
     "name": "stdout",
     "output_type": "stream",
     "text": [
      "\n"
     ]
    },
    {
     "data": {
      "application/vnd.jupyter.widget-view+json": {
       "model_id": "32c5267d892b4c329b90fdadce62b7f0",
       "version_major": 2,
       "version_minor": 0
      },
      "text/plain": [
       "HBox(children=(HTML(value='Pandas Apply'), FloatProgress(value=0.0, max=11188.0), HTML(value='')))"
      ]
     },
     "metadata": {},
     "output_type": "display_data"
    },
    {
     "name": "stdout",
     "output_type": "stream",
     "text": [
      "\n"
     ]
    },
    {
     "data": {
      "application/vnd.jupyter.widget-view+json": {
       "model_id": "beab9742f7ee4546be12e101564c0857",
       "version_major": 2,
       "version_minor": 0
      },
      "text/plain": [
       "HBox(children=(HTML(value='Pandas Apply'), FloatProgress(value=0.0, max=11188.0), HTML(value='')))"
      ]
     },
     "metadata": {},
     "output_type": "display_data"
    },
    {
     "name": "stdout",
     "output_type": "stream",
     "text": [
      "\n"
     ]
    },
    {
     "data": {
      "application/vnd.jupyter.widget-view+json": {
       "model_id": "082904817723471fb254f9984c1ac9b9",
       "version_major": 2,
       "version_minor": 0
      },
      "text/plain": [
       "HBox(children=(HTML(value='Pandas Apply'), FloatProgress(value=0.0, max=11188.0), HTML(value='')))"
      ]
     },
     "metadata": {},
     "output_type": "display_data"
    },
    {
     "name": "stdout",
     "output_type": "stream",
     "text": [
      "\n"
     ]
    },
    {
     "data": {
      "application/vnd.jupyter.widget-view+json": {
       "model_id": "893ef344879e41b5ae5c0663b7de0ddb",
       "version_major": 2,
       "version_minor": 0
      },
      "text/plain": [
       "HBox(children=(HTML(value='Pandas Apply'), FloatProgress(value=0.0, max=11188.0), HTML(value='')))"
      ]
     },
     "metadata": {},
     "output_type": "display_data"
    },
    {
     "name": "stdout",
     "output_type": "stream",
     "text": [
      "\n"
     ]
    },
    {
     "data": {
      "application/vnd.jupyter.widget-view+json": {
       "model_id": "40666097411a4286ae7cf9a90043a762",
       "version_major": 2,
       "version_minor": 0
      },
      "text/plain": [
       "HBox(children=(HTML(value='Pandas Apply'), FloatProgress(value=0.0, max=11188.0), HTML(value='')))"
      ]
     },
     "metadata": {},
     "output_type": "display_data"
    },
    {
     "name": "stdout",
     "output_type": "stream",
     "text": [
      "\n"
     ]
    },
    {
     "data": {
      "application/vnd.jupyter.widget-view+json": {
       "model_id": "3b396d2a1ea0443cb78853c8c6f3b80e",
       "version_major": 2,
       "version_minor": 0
      },
      "text/plain": [
       "HBox(children=(HTML(value='Pandas Apply'), FloatProgress(value=0.0, max=11188.0), HTML(value='')))"
      ]
     },
     "metadata": {},
     "output_type": "display_data"
    },
    {
     "name": "stdout",
     "output_type": "stream",
     "text": [
      "\n"
     ]
    }
   ],
   "source": [
    "# loop through the list of tags and create new columns with counts for each tag\n",
    "# We use Swifter to parallelize operations. Should take less than an hour (depending on number of cores).\n",
    "for d in sd_list:\n",
    "    df[(\"sd_\"+str(mydict_sd[d]))] = df[\"statement\"].swifter.apply(lambda x : sd_counter(x, d))"
   ]
  },
  {
   "cell_type": "code",
   "execution_count": 68,
   "id": "surprised-offset",
   "metadata": {},
   "outputs": [
    {
     "data": {
      "text/html": [
       "<div>\n",
       "<style scoped>\n",
       "    .dataframe tbody tr th:only-of-type {\n",
       "        vertical-align: middle;\n",
       "    }\n",
       "\n",
       "    .dataframe tbody tr th {\n",
       "        vertical-align: top;\n",
       "    }\n",
       "\n",
       "    .dataframe thead th {\n",
       "        text-align: right;\n",
       "    }\n",
       "</style>\n",
       "<table border=\"1\" class=\"dataframe\">\n",
       "  <thead>\n",
       "    <tr style=\"text-align: right;\">\n",
       "      <th></th>\n",
       "      <th>statement</th>\n",
       "      <th>source</th>\n",
       "      <th>veracity</th>\n",
       "      <th>date</th>\n",
       "      <th>lemmas</th>\n",
       "      <th>general_pos_tags</th>\n",
       "      <th>specific_pos_tags</th>\n",
       "      <th>pos_adjective</th>\n",
       "      <th>pos_conjunction or particle or adverb</th>\n",
       "      <th>pos_adverb</th>\n",
       "      <th>pos_coordinating conjuction</th>\n",
       "      <th>pos_determiner</th>\n",
       "      <th>pos_interjection</th>\n",
       "      <th>pos_noun</th>\n",
       "      <th>pos_number</th>\n",
       "      <th>pos_possessive</th>\n",
       "      <th>pos_pronoun</th>\n",
       "      <th>pos_proper noun</th>\n",
       "      <th>pos_punctuation</th>\n",
       "      <th>pos_space</th>\n",
       "      <th>pos_symbol</th>\n",
       "      <th>pos_verb</th>\n",
       "      <th>pos_unknown</th>\n",
       "      <th>tag_symbol, currency</th>\n",
       "      <th>tag_opening quotation mark</th>\n",
       "      <th>tag_closing quotation mark</th>\n",
       "      <th>tag_punctuation mark, comma</th>\n",
       "      <th>tag_left round bracket</th>\n",
       "      <th>tag_right round bracket</th>\n",
       "      <th>tag_punctuation mark, sentence closer</th>\n",
       "      <th>tag_punctuation mark, colon or ellipsis</th>\n",
       "      <th>tag_email</th>\n",
       "      <th>tag_affix</th>\n",
       "      <th>tag_conjunction, coordinating</th>\n",
       "      <th>tag_cardinal number</th>\n",
       "      <th>tag_determiner</th>\n",
       "      <th>tag_existential there</th>\n",
       "      <th>tag_foreign word</th>\n",
       "      <th>tag_additional word in multi-word expression</th>\n",
       "      <th>tag_punctuation mark, hyphen</th>\n",
       "      <th>tag_conjunction, subordinating or preposition</th>\n",
       "      <th>tag_adjective</th>\n",
       "      <th>tag_adjective, comparative</th>\n",
       "      <th>tag_adjective, superlative</th>\n",
       "      <th>tag_list item marker</th>\n",
       "      <th>tag_verb, modal auxiliary</th>\n",
       "      <th>tag_superfluous punctuation</th>\n",
       "      <th>tag_missing tag</th>\n",
       "      <th>tag_noun, singular or mass</th>\n",
       "      <th>tag_noun, proper singular</th>\n",
       "      <th>tag_noun, proper plural</th>\n",
       "      <th>tag_noun, plural</th>\n",
       "      <th>tag_predeterminer</th>\n",
       "      <th>tag_possessive ending</th>\n",
       "      <th>tag_pronoun, personal</th>\n",
       "      <th>tag_pronoun, possessive</th>\n",
       "      <th>tag_adverb</th>\n",
       "      <th>tag_adverb, comparative</th>\n",
       "      <th>tag_adverb, superlative</th>\n",
       "      <th>tag_adverb, particle</th>\n",
       "      <th>tag_space</th>\n",
       "      <th>tag_symbol</th>\n",
       "      <th>tag_infinitival \"to\"</th>\n",
       "      <th>tag_interjection</th>\n",
       "      <th>tag_verb, base form</th>\n",
       "      <th>tag_verb, past tense</th>\n",
       "      <th>tag_verb, gerund or present participle</th>\n",
       "      <th>tag_verb, past participle</th>\n",
       "      <th>tag_verb, non-3rd person singular present</th>\n",
       "      <th>tag_verb, 3rd person singular present</th>\n",
       "      <th>tag_wh-determiner</th>\n",
       "      <th>tag_wh-pronoun, personal</th>\n",
       "      <th>tag_wh-pronoun, possessive</th>\n",
       "      <th>tag_wh-adverb</th>\n",
       "      <th>tag_unknown</th>\n",
       "      <th>tag_nan</th>\n",
       "      <th>ner_people</th>\n",
       "      <th>ner_groups</th>\n",
       "      <th>ner_facilities</th>\n",
       "      <th>ner_organizations</th>\n",
       "      <th>ner_regions</th>\n",
       "      <th>ner_landmarks</th>\n",
       "      <th>ner_products</th>\n",
       "      <th>ner_events</th>\n",
       "      <th>ner_art</th>\n",
       "      <th>ner_laws</th>\n",
       "      <th>ner_languages</th>\n",
       "      <th>ner_dates</th>\n",
       "      <th>ner_times</th>\n",
       "      <th>ner_percentages</th>\n",
       "      <th>ner_money</th>\n",
       "      <th>ner_quantity</th>\n",
       "      <th>ner_ordinality</th>\n",
       "      <th>ner_numerals</th>\n",
       "      <th>sd_clausal modifier of noun (adjectival clause)</th>\n",
       "      <th>sd_adverbial clause modifier</th>\n",
       "      <th>sd_adverbial modifier</th>\n",
       "      <th>sd_adjectival modifier</th>\n",
       "      <th>sd_appositional modifier</th>\n",
       "      <th>sd_auxiliary</th>\n",
       "      <th>sd_case marking</th>\n",
       "      <th>sd_coordinating conjunction</th>\n",
       "      <th>sd_clausal complement</th>\n",
       "      <th>sd_classifier</th>\n",
       "      <th>sd_compound</th>\n",
       "      <th>sd_conjunct</th>\n",
       "      <th>sd_copula</th>\n",
       "      <th>sd_clausal subject</th>\n",
       "      <th>sd_unspecified dependency</th>\n",
       "      <th>sd_determiner</th>\n",
       "      <th>sd_discourse element</th>\n",
       "      <th>sd_dislocated elements</th>\n",
       "      <th>sd_expletive</th>\n",
       "      <th>sd_fixed multiword expression</th>\n",
       "      <th>sd_flat multiword expression</th>\n",
       "      <th>sd_goes with</th>\n",
       "      <th>sd_indirect object</th>\n",
       "      <th>sd_list</th>\n",
       "      <th>sd_marker</th>\n",
       "      <th>sd_nominal modifier</th>\n",
       "      <th>sd_nominal subject</th>\n",
       "      <th>sd_numeric modifier</th>\n",
       "      <th>sd_object</th>\n",
       "      <th>sd_oblique nominal</th>\n",
       "      <th>sd_orphan</th>\n",
       "      <th>sd_parataxis</th>\n",
       "      <th>sd_punctuation</th>\n",
       "      <th>sd_overridden disfluency</th>\n",
       "      <th>sd_root</th>\n",
       "      <th>sd_vocative</th>\n",
       "      <th>sd_open clausal complement</th>\n",
       "    </tr>\n",
       "  </thead>\n",
       "  <tbody>\n",
       "    <tr>\n",
       "      <th>0</th>\n",
       "      <td>Sen. Kamala Harris is \"supporting the animals of MS-13.\"</td>\n",
       "      <td>Donald Trump</td>\n",
       "      <td>0</td>\n",
       "      <td>2018-07-03</td>\n",
       "      <td>kamala harris support animal</td>\n",
       "      <td>[(Sen., PROPN), (Kamala, PROPN), (Harris, PROPN), (is, AUX), (\", PUNCT), (supporting, VERB), (the, DET), (animals, NOUN), (of, ADP), (MS-13, PROPN), (., PUNCT), (\", PUNCT)]</td>\n",
       "      <td>[(Sen., NNP), (Kamala, NNP), (Harris, NNP), (is, VBZ), (\", ``), (supporting, VBG), (the, DT), (animals, NNS), (of, IN), (MS-13, CD), (., .), (\", '')]</td>\n",
       "      <td>0</td>\n",
       "      <td>1</td>\n",
       "      <td>0</td>\n",
       "      <td>0</td>\n",
       "      <td>1</td>\n",
       "      <td>0</td>\n",
       "      <td>1</td>\n",
       "      <td>1</td>\n",
       "      <td>0</td>\n",
       "      <td>0</td>\n",
       "      <td>3</td>\n",
       "      <td>3</td>\n",
       "      <td>0</td>\n",
       "      <td>0</td>\n",
       "      <td>1</td>\n",
       "      <td>0</td>\n",
       "      <td>0</td>\n",
       "      <td>1</td>\n",
       "      <td>1</td>\n",
       "      <td>0</td>\n",
       "      <td>0</td>\n",
       "      <td>0</td>\n",
       "      <td>1</td>\n",
       "      <td>0</td>\n",
       "      <td>0</td>\n",
       "      <td>0</td>\n",
       "      <td>0</td>\n",
       "      <td>1</td>\n",
       "      <td>1</td>\n",
       "      <td>0</td>\n",
       "      <td>0</td>\n",
       "      <td>0</td>\n",
       "      <td>0</td>\n",
       "      <td>1</td>\n",
       "      <td>0</td>\n",
       "      <td>0</td>\n",
       "      <td>0</td>\n",
       "      <td>0</td>\n",
       "      <td>0</td>\n",
       "      <td>0</td>\n",
       "      <td>0</td>\n",
       "      <td>0</td>\n",
       "      <td>3</td>\n",
       "      <td>0</td>\n",
       "      <td>1</td>\n",
       "      <td>0</td>\n",
       "      <td>0</td>\n",
       "      <td>0</td>\n",
       "      <td>0</td>\n",
       "      <td>0</td>\n",
       "      <td>0</td>\n",
       "      <td>0</td>\n",
       "      <td>0</td>\n",
       "      <td>0</td>\n",
       "      <td>0</td>\n",
       "      <td>0</td>\n",
       "      <td>0</td>\n",
       "      <td>0</td>\n",
       "      <td>0</td>\n",
       "      <td>1</td>\n",
       "      <td>0</td>\n",
       "      <td>0</td>\n",
       "      <td>1</td>\n",
       "      <td>0</td>\n",
       "      <td>0</td>\n",
       "      <td>0</td>\n",
       "      <td>0</td>\n",
       "      <td>0</td>\n",
       "      <td>0</td>\n",
       "      <td>1</td>\n",
       "      <td>0</td>\n",
       "      <td>0</td>\n",
       "      <td>0</td>\n",
       "      <td>0</td>\n",
       "      <td>0</td>\n",
       "      <td>1</td>\n",
       "      <td>0</td>\n",
       "      <td>0</td>\n",
       "      <td>0</td>\n",
       "      <td>0</td>\n",
       "      <td>0</td>\n",
       "      <td>0</td>\n",
       "      <td>0</td>\n",
       "      <td>0</td>\n",
       "      <td>0</td>\n",
       "      <td>0</td>\n",
       "      <td>0</td>\n",
       "      <td>0</td>\n",
       "      <td>0</td>\n",
       "      <td>0</td>\n",
       "      <td>0</td>\n",
       "      <td>0</td>\n",
       "      <td>1</td>\n",
       "      <td>0</td>\n",
       "      <td>0</td>\n",
       "      <td>0</td>\n",
       "      <td>0</td>\n",
       "      <td>2</td>\n",
       "      <td>0</td>\n",
       "      <td>0</td>\n",
       "      <td>0</td>\n",
       "      <td>0</td>\n",
       "      <td>1</td>\n",
       "      <td>0</td>\n",
       "      <td>0</td>\n",
       "      <td>0</td>\n",
       "      <td>0</td>\n",
       "      <td>0</td>\n",
       "      <td>0</td>\n",
       "      <td>0</td>\n",
       "      <td>0</td>\n",
       "      <td>0</td>\n",
       "      <td>0</td>\n",
       "      <td>1</td>\n",
       "      <td>0</td>\n",
       "      <td>0</td>\n",
       "      <td>0</td>\n",
       "      <td>0</td>\n",
       "      <td>0</td>\n",
       "      <td>3</td>\n",
       "      <td>0</td>\n",
       "      <td>0</td>\n",
       "      <td>0</td>\n",
       "      <td>0</td>\n",
       "    </tr>\n",
       "  </tbody>\n",
       "</table>\n",
       "</div>"
      ],
      "text/plain": [
       "                                                  statement        source  \\\n",
       "0  Sen. Kamala Harris is \"supporting the animals of MS-13.\"  Donald Trump   \n",
       "\n",
       "   veracity        date                        lemmas  \\\n",
       "0         0  2018-07-03  kamala harris support animal   \n",
       "\n",
       "                                                                                                                                                               general_pos_tags  \\\n",
       "0  [(Sen., PROPN), (Kamala, PROPN), (Harris, PROPN), (is, AUX), (\", PUNCT), (supporting, VERB), (the, DET), (animals, NOUN), (of, ADP), (MS-13, PROPN), (., PUNCT), (\", PUNCT)]   \n",
       "\n",
       "                                                                                                                                       specific_pos_tags  \\\n",
       "0  [(Sen., NNP), (Kamala, NNP), (Harris, NNP), (is, VBZ), (\", ``), (supporting, VBG), (the, DT), (animals, NNS), (of, IN), (MS-13, CD), (., .), (\", '')]   \n",
       "\n",
       "   pos_adjective  pos_conjunction or particle or adverb  pos_adverb  \\\n",
       "0              0                                      1           0   \n",
       "\n",
       "   pos_coordinating conjuction  pos_determiner  pos_interjection  pos_noun  \\\n",
       "0                            0               1                 0         1   \n",
       "\n",
       "   pos_number  pos_possessive  pos_pronoun  pos_proper noun  pos_punctuation  \\\n",
       "0           1               0            0                3                3   \n",
       "\n",
       "   pos_space  pos_symbol  pos_verb  pos_unknown  tag_symbol, currency  \\\n",
       "0          0           0         1            0                     0   \n",
       "\n",
       "   tag_opening quotation mark  tag_closing quotation mark  \\\n",
       "0                           1                           1   \n",
       "\n",
       "   tag_punctuation mark, comma  tag_left round bracket  \\\n",
       "0                            0                       0   \n",
       "\n",
       "   tag_right round bracket  tag_punctuation mark, sentence closer  \\\n",
       "0                        0                                      1   \n",
       "\n",
       "   tag_punctuation mark, colon or ellipsis  tag_email  tag_affix  \\\n",
       "0                                        0          0          0   \n",
       "\n",
       "   tag_conjunction, coordinating  tag_cardinal number  tag_determiner  \\\n",
       "0                              0                    1               1   \n",
       "\n",
       "   tag_existential there  tag_foreign word  \\\n",
       "0                      0                 0   \n",
       "\n",
       "   tag_additional word in multi-word expression  tag_punctuation mark, hyphen  \\\n",
       "0                                             0                             0   \n",
       "\n",
       "   tag_conjunction, subordinating or preposition  tag_adjective  \\\n",
       "0                                              1              0   \n",
       "\n",
       "   tag_adjective, comparative  tag_adjective, superlative  \\\n",
       "0                           0                           0   \n",
       "\n",
       "   tag_list item marker  tag_verb, modal auxiliary  \\\n",
       "0                     0                          0   \n",
       "\n",
       "   tag_superfluous punctuation  tag_missing tag  tag_noun, singular or mass  \\\n",
       "0                            0                0                           0   \n",
       "\n",
       "   tag_noun, proper singular  tag_noun, proper plural  tag_noun, plural  \\\n",
       "0                          3                        0                 1   \n",
       "\n",
       "   tag_predeterminer  tag_possessive ending  tag_pronoun, personal  \\\n",
       "0                  0                      0                      0   \n",
       "\n",
       "   tag_pronoun, possessive  tag_adverb  tag_adverb, comparative  \\\n",
       "0                        0           0                        0   \n",
       "\n",
       "   tag_adverb, superlative  tag_adverb, particle  tag_space  tag_symbol  \\\n",
       "0                        0                     0          0           0   \n",
       "\n",
       "   tag_infinitival \"to\"  tag_interjection  tag_verb, base form  \\\n",
       "0                     0                 0                    0   \n",
       "\n",
       "   tag_verb, past tense  tag_verb, gerund or present participle  \\\n",
       "0                     0                                       1   \n",
       "\n",
       "   tag_verb, past participle  tag_verb, non-3rd person singular present  \\\n",
       "0                          0                                          0   \n",
       "\n",
       "   tag_verb, 3rd person singular present  tag_wh-determiner  \\\n",
       "0                                      1                  0   \n",
       "\n",
       "   tag_wh-pronoun, personal  tag_wh-pronoun, possessive  tag_wh-adverb  \\\n",
       "0                         0                           0              0   \n",
       "\n",
       "   tag_unknown  tag_nan  ner_people  ner_groups  ner_facilities  \\\n",
       "0            0        0           1           0               0   \n",
       "\n",
       "   ner_organizations  ner_regions  ner_landmarks  ner_products  ner_events  \\\n",
       "0                  0            0              0             1           0   \n",
       "\n",
       "   ner_art  ner_laws  ner_languages  ner_dates  ner_times  ner_percentages  \\\n",
       "0        0         0              0          0          0                0   \n",
       "\n",
       "   ner_money  ner_quantity  ner_ordinality  ner_numerals  \\\n",
       "0          0             0               0             0   \n",
       "\n",
       "   sd_clausal modifier of noun (adjectival clause)  \\\n",
       "0                                                0   \n",
       "\n",
       "   sd_adverbial clause modifier  sd_adverbial modifier  \\\n",
       "0                             0                      0   \n",
       "\n",
       "   sd_adjectival modifier  sd_appositional modifier  sd_auxiliary  \\\n",
       "0                       0                         0             1   \n",
       "\n",
       "   sd_case marking  sd_coordinating conjunction  sd_clausal complement  \\\n",
       "0                0                            0                      0   \n",
       "\n",
       "   sd_classifier  sd_compound  sd_conjunct  sd_copula  sd_clausal subject  \\\n",
       "0              0            2            0          0                   0   \n",
       "\n",
       "   sd_unspecified dependency  sd_determiner  sd_discourse element  \\\n",
       "0                          0              1                     0   \n",
       "\n",
       "   sd_dislocated elements  sd_expletive  sd_fixed multiword expression  \\\n",
       "0                       0             0                              0   \n",
       "\n",
       "   sd_flat multiword expression  sd_goes with  sd_indirect object  sd_list  \\\n",
       "0                             0             0                   0        0   \n",
       "\n",
       "   sd_marker  sd_nominal modifier  sd_nominal subject  sd_numeric modifier  \\\n",
       "0          0                    0                   1                    0   \n",
       "\n",
       "   sd_object  sd_oblique nominal  sd_orphan  sd_parataxis  sd_punctuation  \\\n",
       "0          0                   0          0             0               3   \n",
       "\n",
       "   sd_overridden disfluency  sd_root  sd_vocative  sd_open clausal complement  \n",
       "0                         0        0            0                           0  "
      ]
     },
     "execution_count": 68,
     "metadata": {},
     "output_type": "execute_result"
    }
   ],
   "source": [
    "# to see df in full\n",
    "pd.set_option('display.max_columns', 200) \n",
    "\n",
    "df.head(1)"
   ]
  },
  {
   "cell_type": "code",
   "execution_count": 69,
   "id": "talented-adoption",
   "metadata": {},
   "outputs": [
    {
     "data": {
      "text/html": [
       "<div>\n",
       "<style scoped>\n",
       "    .dataframe tbody tr th:only-of-type {\n",
       "        vertical-align: middle;\n",
       "    }\n",
       "\n",
       "    .dataframe tbody tr th {\n",
       "        vertical-align: top;\n",
       "    }\n",
       "\n",
       "    .dataframe thead th {\n",
       "        text-align: right;\n",
       "    }\n",
       "</style>\n",
       "<table border=\"1\" class=\"dataframe\">\n",
       "  <thead>\n",
       "    <tr style=\"text-align: right;\">\n",
       "      <th></th>\n",
       "      <th>t_means</th>\n",
       "      <th>f_means</th>\n",
       "      <th>p_value</th>\n",
       "    </tr>\n",
       "  </thead>\n",
       "  <tbody>\n",
       "    <tr>\n",
       "      <th>adverbial clause modifier</th>\n",
       "      <td>0.23</td>\n",
       "      <td>0.25</td>\n",
       "      <td>0.011</td>\n",
       "    </tr>\n",
       "    <tr>\n",
       "      <th>adverbial modifier</th>\n",
       "      <td>0.69</td>\n",
       "      <td>0.57</td>\n",
       "      <td>0.000</td>\n",
       "    </tr>\n",
       "    <tr>\n",
       "      <th>adjectival modifier</th>\n",
       "      <td>1.23</td>\n",
       "      <td>1.03</td>\n",
       "      <td>0.000</td>\n",
       "    </tr>\n",
       "    <tr>\n",
       "      <th>auxiliary</th>\n",
       "      <td>0.71</td>\n",
       "      <td>0.82</td>\n",
       "      <td>0.000</td>\n",
       "    </tr>\n",
       "    <tr>\n",
       "      <th>case marking</th>\n",
       "      <td>0.12</td>\n",
       "      <td>0.15</td>\n",
       "      <td>0.000</td>\n",
       "    </tr>\n",
       "    <tr>\n",
       "      <th>coordinating conjunction</th>\n",
       "      <td>0.36</td>\n",
       "      <td>0.33</td>\n",
       "      <td>0.002</td>\n",
       "    </tr>\n",
       "    <tr>\n",
       "      <th>clausal complement</th>\n",
       "      <td>0.37</td>\n",
       "      <td>0.49</td>\n",
       "      <td>0.000</td>\n",
       "    </tr>\n",
       "    <tr>\n",
       "      <th>compound</th>\n",
       "      <td>1.76</td>\n",
       "      <td>2.01</td>\n",
       "      <td>0.000</td>\n",
       "    </tr>\n",
       "    <tr>\n",
       "      <th>conjunct</th>\n",
       "      <td>0.39</td>\n",
       "      <td>0.36</td>\n",
       "      <td>0.034</td>\n",
       "    </tr>\n",
       "    <tr>\n",
       "      <th>determiner</th>\n",
       "      <td>1.64</td>\n",
       "      <td>1.46</td>\n",
       "      <td>0.000</td>\n",
       "    </tr>\n",
       "    <tr>\n",
       "      <th>numeric modifier</th>\n",
       "      <td>0.58</td>\n",
       "      <td>0.37</td>\n",
       "      <td>0.000</td>\n",
       "    </tr>\n",
       "    <tr>\n",
       "      <th>open clausal complement</th>\n",
       "      <td>0.16</td>\n",
       "      <td>0.21</td>\n",
       "      <td>0.000</td>\n",
       "    </tr>\n",
       "  </tbody>\n",
       "</table>\n",
       "</div>"
      ],
      "text/plain": [
       "                           t_means  f_means  p_value\n",
       "adverbial clause modifier     0.23     0.25    0.011\n",
       "adverbial modifier            0.69     0.57    0.000\n",
       "adjectival modifier           1.23     1.03    0.000\n",
       "auxiliary                     0.71     0.82    0.000\n",
       "case marking                  0.12     0.15    0.000\n",
       "coordinating conjunction      0.36     0.33    0.002\n",
       "clausal complement            0.37     0.49    0.000\n",
       "compound                      1.76     2.01    0.000\n",
       "conjunct                      0.39     0.36    0.034\n",
       "determiner                    1.64     1.46    0.000\n",
       "numeric modifier              0.58     0.37    0.000\n",
       "open clausal complement       0.16     0.21    0.000"
      ]
     },
     "execution_count": 69,
     "metadata": {},
     "output_type": "execute_result"
    }
   ],
   "source": [
    "# return df with probability values that approach or are significant\n",
    "sd_df = df_tvsf(\"sd_\", mydict_sd, sd_list)\n",
    "sd_df[sd_df.p_value < 0.05]"
   ]
  },
  {
   "cell_type": "markdown",
   "id": "signal-certificate",
   "metadata": {},
   "source": [
    "#### Conclusions "
   ]
  },
  {
   "cell_type": "markdown",
   "id": "after-banner",
   "metadata": {},
   "source": [
    "More present in TRUTHS as opposed to LIES: Adverbial modified, adjectival modifier, Determiner, Numeric Modifier\n",
    "\n",
    "More present in LIES as opposed to TRUTHS: Auxiliary, Clausal complement, Compound, Open clausal complement"
   ]
  },
  {
   "cell_type": "markdown",
   "id": "numerical-juice",
   "metadata": {},
   "source": [
    "#### Test results"
   ]
  },
  {
   "cell_type": "code",
   "execution_count": 72,
   "id": "substantial-three",
   "metadata": {},
   "outputs": [
    {
     "data": {
      "text/plain": [
       "37"
      ]
     },
     "execution_count": 72,
     "metadata": {},
     "output_type": "execute_result"
    }
   ],
   "source": [
    "len(sd_df)"
   ]
  },
  {
   "cell_type": "markdown",
   "id": "annoying-occasions",
   "metadata": {},
   "source": [
    "## Word Clouds to visualize top words in dataset"
   ]
  },
  {
   "cell_type": "code",
   "execution_count": 109,
   "id": "congressional-philosophy",
   "metadata": {},
   "outputs": [
    {
     "data": {
      "text/html": [
       "<div>\n",
       "<style scoped>\n",
       "    .dataframe tbody tr th:only-of-type {\n",
       "        vertical-align: middle;\n",
       "    }\n",
       "\n",
       "    .dataframe tbody tr th {\n",
       "        vertical-align: top;\n",
       "    }\n",
       "\n",
       "    .dataframe thead th {\n",
       "        text-align: right;\n",
       "    }\n",
       "</style>\n",
       "<table border=\"1\" class=\"dataframe\">\n",
       "  <thead>\n",
       "    <tr style=\"text-align: right;\">\n",
       "      <th></th>\n",
       "      <th>statement</th>\n",
       "      <th>source</th>\n",
       "      <th>veracity</th>\n",
       "      <th>date</th>\n",
       "      <th>lemmas</th>\n",
       "    </tr>\n",
       "  </thead>\n",
       "  <tbody>\n",
       "    <tr>\n",
       "      <th>0</th>\n",
       "      <td>Sen. Kamala Harris is \"supporting the animals of MS-13.\"</td>\n",
       "      <td>Donald Trump</td>\n",
       "      <td>0</td>\n",
       "      <td>2018-07-03</td>\n",
       "      <td>kamala harris support animal</td>\n",
       "    </tr>\n",
       "    <tr>\n",
       "      <th>1</th>\n",
       "      <td>Says Ronald Reagan said immigrants \"brought with them courage and the values of family, work, and freedom. Let us pledge to each other that we can make America great again.\"</td>\n",
       "      <td>Becoming American Initiative</td>\n",
       "      <td>1</td>\n",
       "      <td>2018-07-03</td>\n",
       "      <td>ronald reagan immigrant bring courage value family work freedom let pledge america great</td>\n",
       "    </tr>\n",
       "    <tr>\n",
       "      <th>2</th>\n",
       "      <td>Says Democratic Senators \"demand Supreme Court nominee not be unduly influenced by U.S. Constitution.\"</td>\n",
       "      <td>Viral image</td>\n",
       "      <td>0</td>\n",
       "      <td>2018-07-03</td>\n",
       "      <td>democratic senators demand supreme court nominee unduly influence constitution</td>\n",
       "    </tr>\n",
       "    <tr>\n",
       "      <th>3</th>\n",
       "      <td>\"Tim Kaine doesn’t want a border at all. He wants to get rid of Immigration and Customs Enforcement and basically the border patrol as well.\"</td>\n",
       "      <td>Corey  Stewart</td>\n",
       "      <td>0</td>\n",
       "      <td>2018-07-03</td>\n",
       "      <td>tim kaine want border want rid immigration customs enforcement basically border patrol</td>\n",
       "    </tr>\n",
       "    <tr>\n",
       "      <th>4</th>\n",
       "      <td>\"George H.W. Bush has died at 94.\"</td>\n",
       "      <td>Bloggers</td>\n",
       "      <td>0</td>\n",
       "      <td>2018-07-02</td>\n",
       "      <td>george bush die</td>\n",
       "    </tr>\n",
       "  </tbody>\n",
       "</table>\n",
       "</div>"
      ],
      "text/plain": [
       "                                                                                                                                                                       statement  \\\n",
       "0                                                                                                                       Sen. Kamala Harris is \"supporting the animals of MS-13.\"   \n",
       "1  Says Ronald Reagan said immigrants \"brought with them courage and the values of family, work, and freedom. Let us pledge to each other that we can make America great again.\"   \n",
       "2                                                                         Says Democratic Senators \"demand Supreme Court nominee not be unduly influenced by U.S. Constitution.\"   \n",
       "3                                  \"Tim Kaine doesn’t want a border at all. He wants to get rid of Immigration and Customs Enforcement and basically the border patrol as well.\"   \n",
       "4                                                                                                                                             \"George H.W. Bush has died at 94.\"   \n",
       "\n",
       "                         source  veracity        date  \\\n",
       "0                  Donald Trump         0  2018-07-03   \n",
       "1  Becoming American Initiative         1  2018-07-03   \n",
       "2                   Viral image         0  2018-07-03   \n",
       "3                Corey  Stewart         0  2018-07-03   \n",
       "4                      Bloggers         0  2018-07-02   \n",
       "\n",
       "                                                                                     lemmas  \n",
       "0                                                              kamala harris support animal  \n",
       "1  ronald reagan immigrant bring courage value family work freedom let pledge america great  \n",
       "2            democratic senators demand supreme court nominee unduly influence constitution  \n",
       "3    tim kaine want border want rid immigration customs enforcement basically border patrol  \n",
       "4                                                                           george bush die  "
      ]
     },
     "execution_count": 109,
     "metadata": {},
     "output_type": "execute_result"
    }
   ],
   "source": [
    "# We actually don't need the previous data. We can do with any dataset that contains the statements\n",
    "df = pd.read_csv(\"politifact_ner_cleaned_lemmas.csv\")\n",
    "df.head()"
   ]
  },
  {
   "cell_type": "code",
   "execution_count": 110,
   "id": "organic-chase",
   "metadata": {},
   "outputs": [
    {
     "data": {
      "text/plain": [
       "Index(['statement', 'source', 'veracity', 'date', 'lemmas'], dtype='object')"
      ]
     },
     "execution_count": 110,
     "metadata": {},
     "output_type": "execute_result"
    }
   ],
   "source": [
    "df.columns"
   ]
  },
  {
   "cell_type": "code",
   "execution_count": 111,
   "id": "prescription-novel",
   "metadata": {},
   "outputs": [
    {
     "data": {
      "text/plain": [
       "(11188, 5)"
      ]
     },
     "execution_count": 111,
     "metadata": {},
     "output_type": "execute_result"
    }
   ],
   "source": [
    "df.shape"
   ]
  },
  {
   "cell_type": "code",
   "execution_count": 112,
   "id": "actual-capability",
   "metadata": {},
   "outputs": [
    {
     "data": {
      "image/png": "[encoded data removed]",
      "text/plain": [
       "<Figure size 432x288 with 1 Axes>"
      ]
     },
     "metadata": {
      "needs_background": "light"
     },
     "output_type": "display_data"
    }
   ],
   "source": [
    "# generate word cloud for first statement\n",
    "text = df.statement[0]\n",
    "\n",
    "# Create and generate a word cloud image:\n",
    "wordcloud = WordCloud().generate(text)\n",
    "\n",
    "# Display the generated image:\n",
    "plt.imshow(wordcloud, interpolation='bilinear')\n",
    "plt.axis(\"off\")\n",
    "plt.show()\n",
    "\n",
    "# Uncomment to save file\n",
    "#wordcloud.to_file(\"all_doc_cloud.png\")"
   ]
  },
  {
   "cell_type": "code",
   "execution_count": 113,
   "id": "explicit-soldier",
   "metadata": {},
   "outputs": [
    {
     "data": {
      "image/png": "[encoded data removed]",
      "text/plain": [
       "<Figure size 432x288 with 1 Axes>"
      ]
     },
     "metadata": {
      "needs_background": "light"
     },
     "output_type": "display_data"
    }
   ],
   "source": [
    "# changing settings\n",
    "wordcloud = WordCloud(min_font_size=30, \n",
    "                      max_font_size=100, \n",
    "                      max_words=20, \n",
    "                      background_color=\"white\").generate(text)\n",
    "\n",
    "plt.figure()\n",
    "plt.imshow(wordcloud, interpolation=\"bilinear\")\n",
    "plt.axis(\"off\")\n",
    "plt.show()"
   ]
  },
  {
   "cell_type": "code",
   "execution_count": 114,
   "id": "laughing-mathematics",
   "metadata": {},
   "outputs": [],
   "source": [
    "# wordcloud generator function function \n",
    "def word_cloud(df, column, max_words=20):\n",
    "    \n",
    "    # Combine documents\n",
    "    text = \" \".join( _ for _ in column)\n",
    "    \n",
    "    # Sanity check\n",
    "    print (\"There are\", len(text) ,\"words\")\n",
    "\n",
    "    # Generate image\n",
    "    plt.figure(figsize=(10, 8))\n",
    "    wordcloud = WordCloud(min_font_size=5, \n",
    "                          max_font_size=60, \n",
    "                          max_words=max_words, \n",
    "                          background_color=\"white\").generate(text)\n",
    "\n",
    "    # Display the generated image\n",
    "    plt.imshow(wordcloud, interpolation='bilinear')\n",
    "    plt.axis(\"off\")\n",
    "    plt.show()"
   ]
  },
  {
   "cell_type": "markdown",
   "id": "average-hawaii",
   "metadata": {},
   "source": [
    "## Truth Word Cloud"
   ]
  },
  {
   "cell_type": "markdown",
   "id": "organic-carpet",
   "metadata": {},
   "source": [
    "#### For the statement column"
   ]
  },
  {
   "cell_type": "code",
   "execution_count": 115,
   "id": "fitted-intelligence",
   "metadata": {
    "scrolled": false
   },
   "outputs": [
    {
     "name": "stdout",
     "output_type": "stream",
     "text": [
      "There are 537144 words\n"
     ]
    },
    {
     "data": {
      "image/png": "[encoded data removed]",
      "text/plain": [
       "<Figure size 720x576 with 1 Axes>"
      ]
     },
     "metadata": {
      "needs_background": "light"
     },
     "output_type": "display_data"
    }
   ],
   "source": [
    "word_cloud(df, df[df.veracity == 1][\"statement\"])"
   ]
  },
  {
   "cell_type": "markdown",
   "id": "complete-client",
   "metadata": {},
   "source": [
    "#### For the lemmas column"
   ]
  },
  {
   "cell_type": "code",
   "execution_count": 116,
   "id": "consistent-athens",
   "metadata": {
    "scrolled": true
   },
   "outputs": [
    {
     "name": "stdout",
     "output_type": "stream",
     "text": [
      "There are 311977 words\n"
     ]
    },
    {
     "data": {
      "image/png": "[encoded data removed]",
      "text/plain": [
       "<Figure size 720x576 with 1 Axes>"
      ]
     },
     "metadata": {
      "needs_background": "light"
     },
     "output_type": "display_data"
    }
   ],
   "source": [
    "word_cloud(df, df[df.veracity == 1][\"lemmas\"])"
   ]
  },
  {
   "cell_type": "markdown",
   "id": "composite-clear",
   "metadata": {},
   "source": [
    "## False Word Cloud"
   ]
  },
  {
   "cell_type": "markdown",
   "id": "frozen-moment",
   "metadata": {},
   "source": [
    "#### For the statement column"
   ]
  },
  {
   "cell_type": "code",
   "execution_count": 117,
   "id": "after-climate",
   "metadata": {},
   "outputs": [
    {
     "name": "stdout",
     "output_type": "stream",
     "text": [
      "There are 681547 words\n"
     ]
    },
    {
     "data": {
      "image/png": "[encoded data removed]",
      "text/plain": [
       "<Figure size 720x576 with 1 Axes>"
      ]
     },
     "metadata": {
      "needs_background": "light"
     },
     "output_type": "display_data"
    }
   ],
   "source": [
    "word_cloud(df, df[df.veracity == 0][\"statement\"])"
   ]
  },
  {
   "cell_type": "markdown",
   "id": "executed-audit",
   "metadata": {},
   "source": [
    "#### For the lemmas column"
   ]
  },
  {
   "cell_type": "code",
   "execution_count": 118,
   "id": "voluntary-dinner",
   "metadata": {},
   "outputs": [
    {
     "name": "stdout",
     "output_type": "stream",
     "text": [
      "There are 410895 words\n"
     ]
    },
    {
     "data": {
      "image/png": "[encoded data removed]",
      "text/plain": [
       "<Figure size 720x576 with 1 Axes>"
      ]
     },
     "metadata": {
      "needs_background": "light"
     },
     "output_type": "display_data"
    }
   ],
   "source": [
    "word_cloud(df, df[df.veracity == 0][\"lemmas\"])"
   ]
  },
  {
   "cell_type": "markdown",
   "id": "future-veteran",
   "metadata": {},
   "source": [
    "### Import another dataset to check Pants on Fire"
   ]
  },
  {
   "cell_type": "code",
   "execution_count": 119,
   "id": "material-storage",
   "metadata": {},
   "outputs": [
    {
     "data": {
      "text/html": [
       "<div>\n",
       "<style scoped>\n",
       "    .dataframe tbody tr th:only-of-type {\n",
       "        vertical-align: middle;\n",
       "    }\n",
       "\n",
       "    .dataframe tbody tr th {\n",
       "        vertical-align: top;\n",
       "    }\n",
       "\n",
       "    .dataframe thead th {\n",
       "        text-align: right;\n",
       "    }\n",
       "</style>\n",
       "<table border=\"1\" class=\"dataframe\">\n",
       "  <thead>\n",
       "    <tr style=\"text-align: right;\">\n",
       "      <th></th>\n",
       "      <th>statement</th>\n",
       "      <th>source</th>\n",
       "      <th>link</th>\n",
       "      <th>veracity</th>\n",
       "    </tr>\n",
       "  </thead>\n",
       "  <tbody>\n",
       "    <tr>\n",
       "      <th>0</th>\n",
       "      <td>Sen. Kamala Harris is \"supporting the animals of MS-13.\"</td>\n",
       "      <td>Donald Trump</td>\n",
       "      <td>/web/20180705082623/https://www.politifact.com/california/statements/2018/jul/03/donald-trump/pants-fire-white-house-claim-sen-harris-supporting/</td>\n",
       "      <td>Pants on Fire!</td>\n",
       "    </tr>\n",
       "    <tr>\n",
       "      <th>1</th>\n",
       "      <td>Says Ronald Reagan said immigrants \"brought with them courage and the values of family, work, and freedom. Let us pledge to each other that we can make America great again.\"</td>\n",
       "      <td>Becoming American Initiative</td>\n",
       "      <td>/web/20180705082623/https://www.politifact.com/truth-o-meter/statements/2018/jul/03/becoming-american-initiative/did-ronald-reagan-say-immigrants-made-america-grea/</td>\n",
       "      <td>Mostly True</td>\n",
       "    </tr>\n",
       "    <tr>\n",
       "      <th>2</th>\n",
       "      <td>Says Democratic Senators \"demand Supreme Court nominee not be unduly influenced by U.S. Constitution.\"</td>\n",
       "      <td>Viral image</td>\n",
       "      <td>/web/20180705082623/https://www.politifact.com/punditfact/statements/2018/jul/03/viral-image/viral-image-criticizing-democrats-featured-fabrica/</td>\n",
       "      <td>Pants on Fire!</td>\n",
       "    </tr>\n",
       "    <tr>\n",
       "      <th>3</th>\n",
       "      <td>\"Tim Kaine doesn’t want a border at all. He wants to get rid of Immigration and Customs Enforcement and basically the border patrol as well.\"</td>\n",
       "      <td>Corey  Stewart</td>\n",
       "      <td>/web/20180705082623/https://www.politifact.com/truth-o-meter/statements/2018/jul/03/corey-stewart/corey-stewart-falsely-claims-sen-tim-kaine-wants-d/</td>\n",
       "      <td>Pants on Fire!</td>\n",
       "    </tr>\n",
       "    <tr>\n",
       "      <th>4</th>\n",
       "      <td>\"George H.W. Bush has died at 94.\"</td>\n",
       "      <td>Bloggers</td>\n",
       "      <td>/web/20180705082623/https://www.politifact.com/punditfact/statements/2018/jul/02/blog-posting/hoax-website-says-george-h-w-bush-died-he-didnt/</td>\n",
       "      <td>Pants on Fire!</td>\n",
       "    </tr>\n",
       "  </tbody>\n",
       "</table>\n",
       "</div>"
      ],
      "text/plain": [
       "                                                                                                                                                                       statement  \\\n",
       "0                                                                                                                       Sen. Kamala Harris is \"supporting the animals of MS-13.\"   \n",
       "1  Says Ronald Reagan said immigrants \"brought with them courage and the values of family, work, and freedom. Let us pledge to each other that we can make America great again.\"   \n",
       "2                                                                         Says Democratic Senators \"demand Supreme Court nominee not be unduly influenced by U.S. Constitution.\"   \n",
       "3                                  \"Tim Kaine doesn’t want a border at all. He wants to get rid of Immigration and Customs Enforcement and basically the border patrol as well.\"   \n",
       "4                                                                                                                                             \"George H.W. Bush has died at 94.\"   \n",
       "\n",
       "                         source  \\\n",
       "0                  Donald Trump   \n",
       "1  Becoming American Initiative   \n",
       "2                   Viral image   \n",
       "3                Corey  Stewart   \n",
       "4                      Bloggers   \n",
       "\n",
       "                                                                                                                                                                   link  \\\n",
       "0                     /web/20180705082623/https://www.politifact.com/california/statements/2018/jul/03/donald-trump/pants-fire-white-house-claim-sen-harris-supporting/   \n",
       "1  /web/20180705082623/https://www.politifact.com/truth-o-meter/statements/2018/jul/03/becoming-american-initiative/did-ronald-reagan-say-immigrants-made-america-grea/   \n",
       "2                      /web/20180705082623/https://www.politifact.com/punditfact/statements/2018/jul/03/viral-image/viral-image-criticizing-democrats-featured-fabrica/   \n",
       "3                 /web/20180705082623/https://www.politifact.com/truth-o-meter/statements/2018/jul/03/corey-stewart/corey-stewart-falsely-claims-sen-tim-kaine-wants-d/   \n",
       "4                        /web/20180705082623/https://www.politifact.com/punditfact/statements/2018/jul/02/blog-posting/hoax-website-says-george-h-w-bush-died-he-didnt/   \n",
       "\n",
       "         veracity  \n",
       "0  Pants on Fire!  \n",
       "1     Mostly True  \n",
       "2  Pants on Fire!  \n",
       "3  Pants on Fire!  \n",
       "4  Pants on Fire!  "
      ]
     },
     "execution_count": 119,
     "metadata": {},
     "output_type": "execute_result"
    }
   ],
   "source": [
    "df = pd.read_csv(\"politifact_clean.csv\")\n",
    "df.head()"
   ]
  },
  {
   "cell_type": "code",
   "execution_count": 120,
   "id": "described-intelligence",
   "metadata": {},
   "outputs": [
    {
     "name": "stdout",
     "output_type": "stream",
     "text": [
      "There are 139192 words\n"
     ]
    },
    {
     "data": {
      "image/png": "[encoded data removed]",
      "text/plain": [
       "<Figure size 720x576 with 1 Axes>"
      ]
     },
     "metadata": {
      "needs_background": "light"
     },
     "output_type": "display_data"
    }
   ],
   "source": [
    "word_cloud(df, df[df.veracity == \"Pants on Fire!\"][\"statement\"])"
   ]
  },
  {
   "cell_type": "code",
   "execution_count": null,
   "id": "extreme-panama",
   "metadata": {},
   "outputs": [],
   "source": []
  },
  {
   "cell_type": "code",
   "execution_count": null,
   "id": "connected-illinois",
   "metadata": {},
   "outputs": [],
   "source": []
  }
 ],
 "metadata": {
  "kernelspec": {
   "display_name": "Python 3",
   "language": "python",
   "name": "python3"
  },
  "language_info": {
   "codemirror_mode": {
    "name": "ipython",
    "version": 3
   },
   "file_extension": ".py",
   "mimetype": "text/x-python",
   "name": "python",
   "nbconvert_exporter": "python",
   "pygments_lexer": "ipython3",
   "version": "3.7.9"
  }
 },
 "nbformat": 4,
 "nbformat_minor": 5
}
