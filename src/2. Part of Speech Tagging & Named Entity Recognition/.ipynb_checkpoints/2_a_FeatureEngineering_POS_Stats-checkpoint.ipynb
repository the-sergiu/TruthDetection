{
 "cells": [
  {
   "cell_type": "markdown",
   "id": "critical-platinum",
   "metadata": {},
   "source": [
    "## Imports"
   ]
  },
  {
   "cell_type": "code",
   "execution_count": 1,
   "id": "broken-federal",
   "metadata": {},
   "outputs": [],
   "source": [
    "import pandas as pd\n",
    "import numpy as np\n",
    "import os\n",
    "import csv\n",
    "\n",
    "# EDA\n",
    "from os import path\n",
    "from PIL import Image\n",
    "from wordcloud import WordCloud, STOPWORDS, ImageColorGenerator\n",
    "import matplotlib.pyplot as plt\n",
    "%matplotlib inline   \n",
    "from collections import Counter\n",
    "\n",
    "# Visualizations\n",
    "import seaborn as sns\n",
    "import matplotlib as mpl\n",
    "import matplotlib.pyplot as plt\n",
    "\n",
    "# NLP\n",
    "from textatistic import Textatistic\n",
    "import spacy\n",
    "from spacy import displacy\n",
    "\n",
    "# Stats\n",
    "from scipy import stats"
   ]
  },
  {
   "cell_type": "markdown",
   "id": "therapeutic-budapest",
   "metadata": {},
   "source": [
    "## Check Data"
   ]
  },
  {
   "cell_type": "code",
   "execution_count": 2,
   "id": "moral-observer",
   "metadata": {},
   "outputs": [
    {
     "data": {
      "text/html": [
       "<div>\n",
       "<style scoped>\n",
       "    .dataframe tbody tr th:only-of-type {\n",
       "        vertical-align: middle;\n",
       "    }\n",
       "\n",
       "    .dataframe tbody tr th {\n",
       "        vertical-align: top;\n",
       "    }\n",
       "\n",
       "    .dataframe thead th {\n",
       "        text-align: right;\n",
       "    }\n",
       "</style>\n",
       "<table border=\"1\" class=\"dataframe\">\n",
       "  <thead>\n",
       "    <tr style=\"text-align: right;\">\n",
       "      <th></th>\n",
       "      <th>statement</th>\n",
       "      <th>source</th>\n",
       "      <th>veracity</th>\n",
       "      <th>date</th>\n",
       "    </tr>\n",
       "  </thead>\n",
       "  <tbody>\n",
       "    <tr>\n",
       "      <th>0</th>\n",
       "      <td>Sen. Kamala Harris is \"supporting the animals of MS-13.\"</td>\n",
       "      <td>Donald Trump</td>\n",
       "      <td>0</td>\n",
       "      <td>2018-07-03</td>\n",
       "    </tr>\n",
       "    <tr>\n",
       "      <th>1</th>\n",
       "      <td>Says Ronald Reagan said immigrants \"brought with them courage and the values of family, work, and freedom. Let us pledge to each other that we can make America great again.\"</td>\n",
       "      <td>Becoming American Initiative</td>\n",
       "      <td>1</td>\n",
       "      <td>2018-07-03</td>\n",
       "    </tr>\n",
       "    <tr>\n",
       "      <th>2</th>\n",
       "      <td>Says Democratic Senators \"demand Supreme Court nominee not be unduly influenced by U.S. Constitution.\"</td>\n",
       "      <td>Viral image</td>\n",
       "      <td>0</td>\n",
       "      <td>2018-07-03</td>\n",
       "    </tr>\n",
       "    <tr>\n",
       "      <th>3</th>\n",
       "      <td>\"Tim Kaine doesn’t want a border at all. He wants to get rid of Immigration and Customs Enforcement and basically the border patrol as well.\"</td>\n",
       "      <td>Corey  Stewart</td>\n",
       "      <td>0</td>\n",
       "      <td>2018-07-03</td>\n",
       "    </tr>\n",
       "    <tr>\n",
       "      <th>4</th>\n",
       "      <td>\"George H.W. Bush has died at 94.\"</td>\n",
       "      <td>Bloggers</td>\n",
       "      <td>0</td>\n",
       "      <td>2018-07-02</td>\n",
       "    </tr>\n",
       "  </tbody>\n",
       "</table>\n",
       "</div>"
      ],
      "text/plain": [
       "                                                                                                                                                                       statement  \\\n",
       "0                                                                                                                       Sen. Kamala Harris is \"supporting the animals of MS-13.\"   \n",
       "1  Says Ronald Reagan said immigrants \"brought with them courage and the values of family, work, and freedom. Let us pledge to each other that we can make America great again.\"   \n",
       "2                                                                         Says Democratic Senators \"demand Supreme Court nominee not be unduly influenced by U.S. Constitution.\"   \n",
       "3                                  \"Tim Kaine doesn’t want a border at all. He wants to get rid of Immigration and Customs Enforcement and basically the border patrol as well.\"   \n",
       "4                                                                                                                                             \"George H.W. Bush has died at 94.\"   \n",
       "\n",
       "                         source  veracity        date  \n",
       "0                  Donald Trump         0  2018-07-03  \n",
       "1  Becoming American Initiative         1  2018-07-03  \n",
       "2                   Viral image         0  2018-07-03  \n",
       "3                Corey  Stewart         0  2018-07-03  \n",
       "4                      Bloggers         0  2018-07-02  "
      ]
     },
     "execution_count": 2,
     "metadata": {},
     "output_type": "execute_result"
    }
   ],
   "source": [
    "df = pd.read_csv('politifact_ner_cleaned_data.csv')\n",
    "# Option to extend the dataframe to the full width\n",
    "pd.set_option('display.max_colwidth', 200)\n",
    "df.head()"
   ]
  },
  {
   "cell_type": "code",
   "execution_count": 3,
   "id": "julian-presence",
   "metadata": {},
   "outputs": [
    {
     "data": {
      "text/plain": [
       "0    6335\n",
       "1    4853\n",
       "Name: veracity, dtype: int64"
      ]
     },
     "execution_count": 3,
     "metadata": {},
     "output_type": "execute_result"
    }
   ],
   "source": [
    "df.veracity.value_counts()"
   ]
  },
  {
   "cell_type": "markdown",
   "id": "atlantic-zoning",
   "metadata": {},
   "source": [
    "## Preprocessing"
   ]
  },
  {
   "cell_type": "markdown",
   "id": "charged-condition",
   "metadata": {},
   "source": [
    "We will perform 2 operations using spacy:\n",
    " - lowercasing\n",
    " - lemmatizing (reduce words to their root form)\n",
    " \n",
    "Create a new column with result."
   ]
  },
  {
   "cell_type": "code",
   "execution_count": 4,
   "id": "greatest-richards",
   "metadata": {},
   "outputs": [],
   "source": [
    "nlp = spacy.load('en_core_web_lg')"
   ]
  },
  {
   "cell_type": "code",
   "execution_count": 5,
   "id": "willing-employment",
   "metadata": {},
   "outputs": [],
   "source": [
    "# Lemmatization function\n",
    "def lemmatize(text):\n",
    "    # create nlp object\n",
    "    nobj = nlp(text)\n",
    "    \n",
    "    # stopword list from spacy\n",
    "    stopwords = spacy.lang.en.stop_words.STOP_WORDS\n",
    "    \n",
    "    # simple lemmas\n",
    "    lemmas = [token.lemma_ for token in nobj]\n",
    "    \n",
    "    # lowercase; remove non-alphabetic characters & overly used words, i.e., stop words\n",
    "    a_lemmas = [lemma.lower() for lemma in lemmas\n",
    "                if lemma.isalpha() \n",
    "                and lemma not in stopwords]\n",
    "    \n",
    "    # strings\n",
    "    strings = \" \".join(a_lemmas)\n",
    "    \n",
    "    return strings"
   ]
  },
  {
   "cell_type": "code",
   "execution_count": 6,
   "id": "sporting-booth",
   "metadata": {},
   "outputs": [
    {
     "data": {
      "text/plain": [
       "'i angry i find sample sentence lemmatize i write'"
      ]
     },
     "execution_count": 6,
     "metadata": {},
     "output_type": "execute_result"
    }
   ],
   "source": [
    "# Test function\n",
    "lemmatize(\"@username123 I'm angry I couldn't find a sample sentence to lemmatize so I had to write this!! :(\")"
   ]
  },
  {
   "cell_type": "code",
   "execution_count": 7,
   "id": "employed-refund",
   "metadata": {},
   "outputs": [
    {
     "data": {
      "text/plain": [
       "Index(['statement', 'source', 'veracity', 'date'], dtype='object')"
      ]
     },
     "execution_count": 7,
     "metadata": {},
     "output_type": "execute_result"
    }
   ],
   "source": [
    "df.columns"
   ]
  },
  {
   "cell_type": "code",
   "execution_count": 8,
   "id": "vietnamese-trinity",
   "metadata": {},
   "outputs": [],
   "source": [
    "# Apply lemmatize function (that also implicitly lowercases) to all statements and create new column\n",
    "df[\"lemmas\"] = df[\"statement\"].apply(lemmatize)"
   ]
  },
  {
   "cell_type": "code",
   "execution_count": 9,
   "id": "compact-marks",
   "metadata": {},
   "outputs": [
    {
     "data": {
      "text/html": [
       "<div>\n",
       "<style scoped>\n",
       "    .dataframe tbody tr th:only-of-type {\n",
       "        vertical-align: middle;\n",
       "    }\n",
       "\n",
       "    .dataframe tbody tr th {\n",
       "        vertical-align: top;\n",
       "    }\n",
       "\n",
       "    .dataframe thead th {\n",
       "        text-align: right;\n",
       "    }\n",
       "</style>\n",
       "<table border=\"1\" class=\"dataframe\">\n",
       "  <thead>\n",
       "    <tr style=\"text-align: right;\">\n",
       "      <th></th>\n",
       "      <th>statement</th>\n",
       "      <th>source</th>\n",
       "      <th>veracity</th>\n",
       "      <th>date</th>\n",
       "      <th>lemmas</th>\n",
       "    </tr>\n",
       "  </thead>\n",
       "  <tbody>\n",
       "    <tr>\n",
       "      <th>500</th>\n",
       "      <td>\"Midtown crime is up by 30 percent the last quarter.\"</td>\n",
       "      <td>Rick Baker</td>\n",
       "      <td>0</td>\n",
       "      <td>2017-07-11</td>\n",
       "      <td>midtown crime percent quarter</td>\n",
       "    </tr>\n",
       "    <tr>\n",
       "      <th>1000</th>\n",
       "      <td>\"We've dropped from a top 10 state in elementary reading to 30th in the nation\" under State Schools Superintendent Tony Evers’ watch.</td>\n",
       "      <td>John Humphries</td>\n",
       "      <td>0</td>\n",
       "      <td>2017-02-06</td>\n",
       "      <td>drop state elementary reading nation state schools superintendent tony evers watch</td>\n",
       "    </tr>\n",
       "  </tbody>\n",
       "</table>\n",
       "</div>"
      ],
      "text/plain": [
       "                                                                                                                                  statement  \\\n",
       "500                                                                                   \"Midtown crime is up by 30 percent the last quarter.\"   \n",
       "1000  \"We've dropped from a top 10 state in elementary reading to 30th in the nation\" under State Schools Superintendent Tony Evers’ watch.   \n",
       "\n",
       "              source  veracity        date  \\\n",
       "500       Rick Baker         0  2017-07-11   \n",
       "1000  John Humphries         0  2017-02-06   \n",
       "\n",
       "                                                                                  lemmas  \n",
       "500                                                        midtown crime percent quarter  \n",
       "1000  drop state elementary reading nation state schools superintendent tony evers watch  "
      ]
     },
     "execution_count": 9,
     "metadata": {},
     "output_type": "execute_result"
    }
   ],
   "source": [
    "# Test that the operation was performed sucessfully\n",
    "df[500:1500:500]"
   ]
  },
  {
   "cell_type": "code",
   "execution_count": 10,
   "id": "young-philadelphia",
   "metadata": {},
   "outputs": [],
   "source": [
    "# In case we want to save our progress\n",
    "df.to_csv('politifact_ner_cleaned_lemmas.csv', index=False)"
   ]
  },
  {
   "cell_type": "markdown",
   "id": "dimensional-reservation",
   "metadata": {},
   "source": [
    "## Dataframe NLP Feature Engineering"
   ]
  },
  {
   "cell_type": "markdown",
   "id": "living-jimmy",
   "metadata": {},
   "source": [
    "#### Column for number of letters"
   ]
  },
  {
   "cell_type": "code",
   "execution_count": 11,
   "id": "experimental-engine",
   "metadata": {},
   "outputs": [],
   "source": [
    "df[\"numb_of_letters\"] = df.statement.apply(len)"
   ]
  },
  {
   "cell_type": "markdown",
   "id": "generous-black",
   "metadata": {},
   "source": [
    "#### Column for number of words"
   ]
  },
  {
   "cell_type": "code",
   "execution_count": 12,
   "id": "bronze-metallic",
   "metadata": {},
   "outputs": [],
   "source": [
    "# No. of words function\n",
    "def word_counter(text):\n",
    "    \n",
    "    # split text by blank spaces\n",
    "    words = text.split()\n",
    "    \n",
    "    # count words\n",
    "    return len(words)"
   ]
  },
  {
   "cell_type": "code",
   "execution_count": 13,
   "id": "incident-sacrifice",
   "metadata": {},
   "outputs": [],
   "source": [
    "df[\"numb_of_words\"] = df.statement.apply(word_counter)"
   ]
  },
  {
   "cell_type": "markdown",
   "id": "alpine-danger",
   "metadata": {},
   "source": [
    "#### Column for average word length"
   ]
  },
  {
   "cell_type": "code",
   "execution_count": 14,
   "id": "continent-facial",
   "metadata": {},
   "outputs": [],
   "source": [
    "# Average word length function\n",
    "def avg_word_length(text):\n",
    "    \n",
    "    # split text into words\n",
    "    words = text.split()\n",
    "    \n",
    "    # length of each word\n",
    "    word_lengths = [len(w) for w in words] \n",
    "    \n",
    "    # avg length\n",
    "    avg_length = sum(word_lengths)/len(word_lengths)     \n",
    "    return round((avg_length), 1)"
   ]
  },
  {
   "cell_type": "code",
   "execution_count": 15,
   "id": "unsigned-throw",
   "metadata": {},
   "outputs": [],
   "source": [
    "df[\"avg_word_len\"] = df.statement.apply(avg_word_length)"
   ]
  },
  {
   "cell_type": "markdown",
   "id": "confident-while",
   "metadata": {},
   "source": [
    "#### Readability Score column"
   ]
  },
  {
   "cell_type": "markdown",
   "id": "functional-quantum",
   "metadata": {},
   "source": [
    "Gunning Fog Score is used to calculate the measure of readability. It ranges from **6** (6th grade level English) to **17** (College Graduate level English).\n",
    "\n",
    "More details: https://en.wikipedia.org/wiki/Gunning_fog_index"
   ]
  },
  {
   "cell_type": "code",
   "execution_count": 16,
   "id": "grave-facility",
   "metadata": {},
   "outputs": [],
   "source": [
    "# Function that calculates readability\n",
    "def readability(text):    \n",
    "    \n",
    "    # scores\n",
    "    readability_scores = Textatistic(text).scores\n",
    "\n",
    "    gunningfog_score = readability_scores[\"gunningfog_score\"]\n",
    "    \n",
    "    return gunningfog_score\n",
    "\n",
    "# We use a try-except block because some sentences do not end with usual punctuation\n",
    "def readability_try(text):\n",
    "    \n",
    "    try:\n",
    "        return round(readability(text),1)\n",
    "    except ZeroDivisionError:\n",
    "        return 0"
   ]
  },
  {
   "cell_type": "code",
   "execution_count": 17,
   "id": "downtown-intervention",
   "metadata": {},
   "outputs": [],
   "source": [
    "df[\"read_score_gun\"] = df.statement.apply(readability_try)"
   ]
  },
  {
   "cell_type": "code",
   "execution_count": 18,
   "id": "interpreted-observer",
   "metadata": {},
   "outputs": [
    {
     "data": {
      "text/html": [
       "<div>\n",
       "<style scoped>\n",
       "    .dataframe tbody tr th:only-of-type {\n",
       "        vertical-align: middle;\n",
       "    }\n",
       "\n",
       "    .dataframe tbody tr th {\n",
       "        vertical-align: top;\n",
       "    }\n",
       "\n",
       "    .dataframe thead th {\n",
       "        text-align: right;\n",
       "    }\n",
       "</style>\n",
       "<table border=\"1\" class=\"dataframe\">\n",
       "  <thead>\n",
       "    <tr style=\"text-align: right;\">\n",
       "      <th></th>\n",
       "      <th>statement</th>\n",
       "      <th>source</th>\n",
       "      <th>veracity</th>\n",
       "      <th>date</th>\n",
       "      <th>lemmas</th>\n",
       "      <th>numb_of_letters</th>\n",
       "      <th>numb_of_words</th>\n",
       "      <th>avg_word_len</th>\n",
       "      <th>read_score_gun</th>\n",
       "    </tr>\n",
       "  </thead>\n",
       "  <tbody>\n",
       "    <tr>\n",
       "      <th>10</th>\n",
       "      <td>Says a progressive income tax proposal from Democratic governor candidate J.B. Pritzker \"is wholly regressive.\"</td>\n",
       "      <td>Evelyn Sanguinetti</td>\n",
       "      <td>0</td>\n",
       "      <td>2018-07-02</td>\n",
       "      <td>progressive income tax proposal democratic governor candidate pritzker wholly regressive</td>\n",
       "      <td>111</td>\n",
       "      <td>15</td>\n",
       "      <td>6.5</td>\n",
       "      <td>12.7</td>\n",
       "    </tr>\n",
       "    <tr>\n",
       "      <th>60</th>\n",
       "      <td>\"Breaking: Trump fires deputy attorney general Rod Rosenstein, raising questions over Mueller’s fate.\"</td>\n",
       "      <td>HoustonChronicle-tv.com</td>\n",
       "      <td>0</td>\n",
       "      <td>2017-12-12</td>\n",
       "      <td>breaking trump fire deputy attorney general rod rosenstein raise question mueller fate</td>\n",
       "      <td>102</td>\n",
       "      <td>13</td>\n",
       "      <td>6.9</td>\n",
       "      <td>8.3</td>\n",
       "    </tr>\n",
       "  </tbody>\n",
       "</table>\n",
       "</div>"
      ],
      "text/plain": [
       "                                                                                                          statement  \\\n",
       "10  Says a progressive income tax proposal from Democratic governor candidate J.B. Pritzker \"is wholly regressive.\"   \n",
       "60           \"Breaking: Trump fires deputy attorney general Rod Rosenstein, raising questions over Mueller’s fate.\"   \n",
       "\n",
       "                     source  veracity        date  \\\n",
       "10       Evelyn Sanguinetti         0  2018-07-02   \n",
       "60  HoustonChronicle-tv.com         0  2017-12-12   \n",
       "\n",
       "                                                                                      lemmas  \\\n",
       "10  progressive income tax proposal democratic governor candidate pritzker wholly regressive   \n",
       "60    breaking trump fire deputy attorney general rod rosenstein raise question mueller fate   \n",
       "\n",
       "    numb_of_letters  numb_of_words  avg_word_len  read_score_gun  \n",
       "10              111             15           6.5            12.7  \n",
       "60              102             13           6.9             8.3  "
      ]
     },
     "execution_count": 18,
     "metadata": {},
     "output_type": "execute_result"
    }
   ],
   "source": [
    "df[10:100:50]"
   ]
  },
  {
   "cell_type": "code",
   "execution_count": 19,
   "id": "confident-sunglasses",
   "metadata": {},
   "outputs": [],
   "source": [
    "# In case we want to save our progress\n",
    "# df.to_csv('politifact_ner_cleaned_ft.csv', index=False)"
   ]
  },
  {
   "cell_type": "markdown",
   "id": "confident-silence",
   "metadata": {},
   "source": [
    "## POS (Part of Speech) Tagging"
   ]
  },
  {
   "cell_type": "markdown",
   "id": "unnecessary-strand",
   "metadata": {},
   "source": [
    "We look at the parts of speech found in our text. We use implicit POS tags from Spacy. In our case, there are 16 tags."
   ]
  },
  {
   "cell_type": "code",
   "execution_count": 20,
   "id": "centered-toolbox",
   "metadata": {},
   "outputs": [
    {
     "name": "stdout",
     "output_type": "stream",
     "text": [
      "[('Sen.', 'PROPN'), ('Kamala', 'PROPN'), ('Harris', 'PROPN'), ('is', 'AUX'), ('\"', 'PUNCT'), ('supporting', 'VERB'), ('the', 'DET'), ('animals', 'NOUN'), ('of', 'ADP'), ('MS-13', 'PROPN'), ('.', 'PUNCT'), ('\"', 'PUNCT')]\n"
     ]
    }
   ],
   "source": [
    "# First sample\n",
    "nobj = nlp(df.statement[0])\n",
    "pos = [(token.text, token.pos_) for token in nobj]\n",
    "print(pos)"
   ]
  },
  {
   "cell_type": "code",
   "execution_count": 21,
   "id": "frequent-mason",
   "metadata": {},
   "outputs": [],
   "source": [
    "# POS tagger function\n",
    "def pos_tagger(text):\n",
    "    \n",
    "    # nlp object\n",
    "    nobj = nlp(text)\n",
    "    \n",
    "    # POS tags\n",
    "    tagged_text = [(token.text, token.pos_) for token in nobj]\n",
    "    \n",
    "    # tagged text\n",
    "    return tagged_text"
   ]
  },
  {
   "cell_type": "code",
   "execution_count": 22,
   "id": "right-extraction",
   "metadata": {},
   "outputs": [],
   "source": [
    "# Apply the function and create a new column with the results\n",
    "df[\"pos_tags\"] = df.statement.apply(pos_tagger)"
   ]
  },
  {
   "cell_type": "code",
   "execution_count": 23,
   "id": "adjacent-stevens",
   "metadata": {},
   "outputs": [
    {
     "data": {
      "text/html": [
       "<div>\n",
       "<style scoped>\n",
       "    .dataframe tbody tr th:only-of-type {\n",
       "        vertical-align: middle;\n",
       "    }\n",
       "\n",
       "    .dataframe tbody tr th {\n",
       "        vertical-align: top;\n",
       "    }\n",
       "\n",
       "    .dataframe thead th {\n",
       "        text-align: right;\n",
       "    }\n",
       "</style>\n",
       "<table border=\"1\" class=\"dataframe\">\n",
       "  <thead>\n",
       "    <tr style=\"text-align: right;\">\n",
       "      <th></th>\n",
       "      <th>pos_tags</th>\n",
       "    </tr>\n",
       "  </thead>\n",
       "  <tbody>\n",
       "    <tr>\n",
       "      <th>0</th>\n",
       "      <td>[(Sen., PROPN), (Kamala, PROPN), (Harris, PROPN), (is, AUX), (\", PUNCT), (supporting, VERB), (the, DET), (animals, NOUN), (of, ADP), (MS-13, PROPN), (., PUNCT), (\", PUNCT)]</td>\n",
       "    </tr>\n",
       "    <tr>\n",
       "      <th>1</th>\n",
       "      <td>[(Says, VERB), (Ronald, PROPN), (Reagan, PROPN), (said, VERB), (immigrants, NOUN), ( , SPACE), (\", PUNCT), (brought, VERB), (with, ADP), (them, PRON), (courage, NOUN), (and, CCONJ), (the, DET), (v...</td>\n",
       "    </tr>\n",
       "    <tr>\n",
       "      <th>2</th>\n",
       "      <td>[(Says, VERB), (Democratic, ADJ), (Senators, PROPN), (\", PUNCT), (demand, VERB), (Supreme, PROPN), (Court, PROPN), (nominee, NOUN), (not, PART), (be, AUX), (unduly, ADV), (influenced, VERB), (by, ...</td>\n",
       "    </tr>\n",
       "    <tr>\n",
       "      <th>3</th>\n",
       "      <td>[(\", PUNCT), (Tim, PROPN), (Kaine, PROPN), (does, AUX), (n’t, PART), (want, VERB), (a, DET), (border, NOUN), (at, ADV), (all, ADV), (., PUNCT), (He, PRON), (wants, VERB), (to, PART), (get, AUX), (...</td>\n",
       "    </tr>\n",
       "    <tr>\n",
       "      <th>4</th>\n",
       "      <td>[(\", PUNCT), (George, PROPN), (H.W., PROPN), (Bush, PROPN), (has, AUX), (died, VERB), (at, ADP), (94, NUM), (., PUNCT), (\", PUNCT)]</td>\n",
       "    </tr>\n",
       "  </tbody>\n",
       "</table>\n",
       "</div>"
      ],
      "text/plain": [
       "                                                                                                                                                                                                  pos_tags\n",
       "0                             [(Sen., PROPN), (Kamala, PROPN), (Harris, PROPN), (is, AUX), (\", PUNCT), (supporting, VERB), (the, DET), (animals, NOUN), (of, ADP), (MS-13, PROPN), (., PUNCT), (\", PUNCT)]\n",
       "1  [(Says, VERB), (Ronald, PROPN), (Reagan, PROPN), (said, VERB), (immigrants, NOUN), ( , SPACE), (\", PUNCT), (brought, VERB), (with, ADP), (them, PRON), (courage, NOUN), (and, CCONJ), (the, DET), (v...\n",
       "2  [(Says, VERB), (Democratic, ADJ), (Senators, PROPN), (\", PUNCT), (demand, VERB), (Supreme, PROPN), (Court, PROPN), (nominee, NOUN), (not, PART), (be, AUX), (unduly, ADV), (influenced, VERB), (by, ...\n",
       "3  [(\", PUNCT), (Tim, PROPN), (Kaine, PROPN), (does, AUX), (n’t, PART), (want, VERB), (a, DET), (border, NOUN), (at, ADV), (all, ADV), (., PUNCT), (He, PRON), (wants, VERB), (to, PART), (get, AUX), (...\n",
       "4                                                                      [(\", PUNCT), (George, PROPN), (H.W., PROPN), (Bush, PROPN), (has, AUX), (died, VERB), (at, ADP), (94, NUM), (., PUNCT), (\", PUNCT)]"
      ]
     },
     "execution_count": 23,
     "metadata": {},
     "output_type": "execute_result"
    }
   ],
   "source": [
    "# Check that the operation was performed correctly\n",
    "df[[\"pos_tags\"]][0:5]"
   ]
  },
  {
   "cell_type": "markdown",
   "id": "southeast-mexico",
   "metadata": {},
   "source": [
    "Showcase what the POS tagger does, and how it perceives connections between words"
   ]
  },
  {
   "cell_type": "code",
   "execution_count": 24,
   "id": "hollow-nirvana",
   "metadata": {},
   "outputs": [
    {
     "data": {
      "text/html": [
       "<span class=\"tex2jax_ignore\"><svg xmlns=\"http://www.w3.org/2000/svg\" xmlns:xlink=\"http://www.w3.org/1999/xlink\" xml:lang=\"en\" id=\"4b312a7d74024a6dbdca1cae67c707d9-0\" class=\"displacy\" width=\"950\" height=\"238.0\" direction=\"ltr\" style=\"max-width: none; height: 238.0px; color: #000000; background: #ADD8E6; font-family: Helvetica; direction: ltr\">\n",
       "<text class=\"displacy-token\" fill=\"currentColor\" text-anchor=\"middle\" y=\"148.0\">\n",
       "    <tspan class=\"displacy-word\" fill=\"currentColor\" x=\"50\">Sen.</tspan>\n",
       "    <tspan class=\"displacy-tag\" dy=\"2em\" fill=\"currentColor\" x=\"50\">PROPN</tspan>\n",
       "</text>\n",
       "\n",
       "<text class=\"displacy-token\" fill=\"currentColor\" text-anchor=\"middle\" y=\"148.0\">\n",
       "    <tspan class=\"displacy-word\" fill=\"currentColor\" x=\"150\">Kamala</tspan>\n",
       "    <tspan class=\"displacy-tag\" dy=\"2em\" fill=\"currentColor\" x=\"150\">PROPN</tspan>\n",
       "</text>\n",
       "\n",
       "<text class=\"displacy-token\" fill=\"currentColor\" text-anchor=\"middle\" y=\"148.0\">\n",
       "    <tspan class=\"displacy-word\" fill=\"currentColor\" x=\"250\">Harris</tspan>\n",
       "    <tspan class=\"displacy-tag\" dy=\"2em\" fill=\"currentColor\" x=\"250\">PROPN</tspan>\n",
       "</text>\n",
       "\n",
       "<text class=\"displacy-token\" fill=\"currentColor\" text-anchor=\"middle\" y=\"148.0\">\n",
       "    <tspan class=\"displacy-word\" fill=\"currentColor\" x=\"350\">is &quot;</tspan>\n",
       "    <tspan class=\"displacy-tag\" dy=\"2em\" fill=\"currentColor\" x=\"350\">AUX</tspan>\n",
       "</text>\n",
       "\n",
       "<text class=\"displacy-token\" fill=\"currentColor\" text-anchor=\"middle\" y=\"148.0\">\n",
       "    <tspan class=\"displacy-word\" fill=\"currentColor\" x=\"450\">supporting</tspan>\n",
       "    <tspan class=\"displacy-tag\" dy=\"2em\" fill=\"currentColor\" x=\"450\">VERB</tspan>\n",
       "</text>\n",
       "\n",
       "<text class=\"displacy-token\" fill=\"currentColor\" text-anchor=\"middle\" y=\"148.0\">\n",
       "    <tspan class=\"displacy-word\" fill=\"currentColor\" x=\"550\">the</tspan>\n",
       "    <tspan class=\"displacy-tag\" dy=\"2em\" fill=\"currentColor\" x=\"550\">DET</tspan>\n",
       "</text>\n",
       "\n",
       "<text class=\"displacy-token\" fill=\"currentColor\" text-anchor=\"middle\" y=\"148.0\">\n",
       "    <tspan class=\"displacy-word\" fill=\"currentColor\" x=\"650\">animals</tspan>\n",
       "    <tspan class=\"displacy-tag\" dy=\"2em\" fill=\"currentColor\" x=\"650\">NOUN</tspan>\n",
       "</text>\n",
       "\n",
       "<text class=\"displacy-token\" fill=\"currentColor\" text-anchor=\"middle\" y=\"148.0\">\n",
       "    <tspan class=\"displacy-word\" fill=\"currentColor\" x=\"750\">of</tspan>\n",
       "    <tspan class=\"displacy-tag\" dy=\"2em\" fill=\"currentColor\" x=\"750\">ADP</tspan>\n",
       "</text>\n",
       "\n",
       "<text class=\"displacy-token\" fill=\"currentColor\" text-anchor=\"middle\" y=\"148.0\">\n",
       "    <tspan class=\"displacy-word\" fill=\"currentColor\" x=\"850\">MS-13.&quot;</tspan>\n",
       "    <tspan class=\"displacy-tag\" dy=\"2em\" fill=\"currentColor\" x=\"850\">PROPN</tspan>\n",
       "</text>\n",
       "\n",
       "<g class=\"displacy-arrow\">\n",
       "    <path class=\"displacy-arc\" id=\"arrow-4b312a7d74024a6dbdca1cae67c707d9-0-0\" stroke-width=\"3px\" d=\"M70,103.0 C70,3.0 250.0,3.0 250.0,103.0\" fill=\"none\" stroke=\"currentColor\"/>\n",
       "    <text dy=\"1.25em\" style=\"font-size: 0.8em; letter-spacing: 1px\">\n",
       "        <textPath xlink:href=\"#arrow-4b312a7d74024a6dbdca1cae67c707d9-0-0\" class=\"displacy-label\" startOffset=\"50%\" side=\"left\" fill=\"currentColor\" text-anchor=\"middle\">compound</textPath>\n",
       "    </text>\n",
       "    <path class=\"displacy-arrowhead\" d=\"M70,105.0 L64,95.0 76,95.0\" fill=\"currentColor\"/>\n",
       "</g>\n",
       "\n",
       "<g class=\"displacy-arrow\">\n",
       "    <path class=\"displacy-arc\" id=\"arrow-4b312a7d74024a6dbdca1cae67c707d9-0-1\" stroke-width=\"3px\" d=\"M170,103.0 C170,53.0 245.0,53.0 245.0,103.0\" fill=\"none\" stroke=\"currentColor\"/>\n",
       "    <text dy=\"1.25em\" style=\"font-size: 0.8em; letter-spacing: 1px\">\n",
       "        <textPath xlink:href=\"#arrow-4b312a7d74024a6dbdca1cae67c707d9-0-1\" class=\"displacy-label\" startOffset=\"50%\" side=\"left\" fill=\"currentColor\" text-anchor=\"middle\">compound</textPath>\n",
       "    </text>\n",
       "    <path class=\"displacy-arrowhead\" d=\"M170,105.0 L164,95.0 176,95.0\" fill=\"currentColor\"/>\n",
       "</g>\n",
       "\n",
       "<g class=\"displacy-arrow\">\n",
       "    <path class=\"displacy-arc\" id=\"arrow-4b312a7d74024a6dbdca1cae67c707d9-0-2\" stroke-width=\"3px\" d=\"M270,103.0 C270,3.0 450.0,3.0 450.0,103.0\" fill=\"none\" stroke=\"currentColor\"/>\n",
       "    <text dy=\"1.25em\" style=\"font-size: 0.8em; letter-spacing: 1px\">\n",
       "        <textPath xlink:href=\"#arrow-4b312a7d74024a6dbdca1cae67c707d9-0-2\" class=\"displacy-label\" startOffset=\"50%\" side=\"left\" fill=\"currentColor\" text-anchor=\"middle\">nsubj</textPath>\n",
       "    </text>\n",
       "    <path class=\"displacy-arrowhead\" d=\"M270,105.0 L264,95.0 276,95.0\" fill=\"currentColor\"/>\n",
       "</g>\n",
       "\n",
       "<g class=\"displacy-arrow\">\n",
       "    <path class=\"displacy-arc\" id=\"arrow-4b312a7d74024a6dbdca1cae67c707d9-0-3\" stroke-width=\"3px\" d=\"M370,103.0 C370,53.0 445.0,53.0 445.0,103.0\" fill=\"none\" stroke=\"currentColor\"/>\n",
       "    <text dy=\"1.25em\" style=\"font-size: 0.8em; letter-spacing: 1px\">\n",
       "        <textPath xlink:href=\"#arrow-4b312a7d74024a6dbdca1cae67c707d9-0-3\" class=\"displacy-label\" startOffset=\"50%\" side=\"left\" fill=\"currentColor\" text-anchor=\"middle\">aux</textPath>\n",
       "    </text>\n",
       "    <path class=\"displacy-arrowhead\" d=\"M370,105.0 L364,95.0 376,95.0\" fill=\"currentColor\"/>\n",
       "</g>\n",
       "\n",
       "<g class=\"displacy-arrow\">\n",
       "    <path class=\"displacy-arc\" id=\"arrow-4b312a7d74024a6dbdca1cae67c707d9-0-4\" stroke-width=\"3px\" d=\"M570,103.0 C570,53.0 645.0,53.0 645.0,103.0\" fill=\"none\" stroke=\"currentColor\"/>\n",
       "    <text dy=\"1.25em\" style=\"font-size: 0.8em; letter-spacing: 1px\">\n",
       "        <textPath xlink:href=\"#arrow-4b312a7d74024a6dbdca1cae67c707d9-0-4\" class=\"displacy-label\" startOffset=\"50%\" side=\"left\" fill=\"currentColor\" text-anchor=\"middle\">det</textPath>\n",
       "    </text>\n",
       "    <path class=\"displacy-arrowhead\" d=\"M570,105.0 L564,95.0 576,95.0\" fill=\"currentColor\"/>\n",
       "</g>\n",
       "\n",
       "<g class=\"displacy-arrow\">\n",
       "    <path class=\"displacy-arc\" id=\"arrow-4b312a7d74024a6dbdca1cae67c707d9-0-5\" stroke-width=\"3px\" d=\"M470,103.0 C470,3.0 650.0,3.0 650.0,103.0\" fill=\"none\" stroke=\"currentColor\"/>\n",
       "    <text dy=\"1.25em\" style=\"font-size: 0.8em; letter-spacing: 1px\">\n",
       "        <textPath xlink:href=\"#arrow-4b312a7d74024a6dbdca1cae67c707d9-0-5\" class=\"displacy-label\" startOffset=\"50%\" side=\"left\" fill=\"currentColor\" text-anchor=\"middle\">dobj</textPath>\n",
       "    </text>\n",
       "    <path class=\"displacy-arrowhead\" d=\"M650.0,105.0 L656.0,95.0 644.0,95.0\" fill=\"currentColor\"/>\n",
       "</g>\n",
       "\n",
       "<g class=\"displacy-arrow\">\n",
       "    <path class=\"displacy-arc\" id=\"arrow-4b312a7d74024a6dbdca1cae67c707d9-0-6\" stroke-width=\"3px\" d=\"M670,103.0 C670,53.0 745.0,53.0 745.0,103.0\" fill=\"none\" stroke=\"currentColor\"/>\n",
       "    <text dy=\"1.25em\" style=\"font-size: 0.8em; letter-spacing: 1px\">\n",
       "        <textPath xlink:href=\"#arrow-4b312a7d74024a6dbdca1cae67c707d9-0-6\" class=\"displacy-label\" startOffset=\"50%\" side=\"left\" fill=\"currentColor\" text-anchor=\"middle\">prep</textPath>\n",
       "    </text>\n",
       "    <path class=\"displacy-arrowhead\" d=\"M745.0,105.0 L751.0,95.0 739.0,95.0\" fill=\"currentColor\"/>\n",
       "</g>\n",
       "\n",
       "<g class=\"displacy-arrow\">\n",
       "    <path class=\"displacy-arc\" id=\"arrow-4b312a7d74024a6dbdca1cae67c707d9-0-7\" stroke-width=\"3px\" d=\"M770,103.0 C770,53.0 845.0,53.0 845.0,103.0\" fill=\"none\" stroke=\"currentColor\"/>\n",
       "    <text dy=\"1.25em\" style=\"font-size: 0.8em; letter-spacing: 1px\">\n",
       "        <textPath xlink:href=\"#arrow-4b312a7d74024a6dbdca1cae67c707d9-0-7\" class=\"displacy-label\" startOffset=\"50%\" side=\"left\" fill=\"currentColor\" text-anchor=\"middle\">pobj</textPath>\n",
       "    </text>\n",
       "    <path class=\"displacy-arrowhead\" d=\"M845.0,105.0 L851.0,95.0 839.0,95.0\" fill=\"currentColor\"/>\n",
       "</g>\n",
       "</svg></span>"
      ],
      "text/plain": [
       "<IPython.core.display.HTML object>"
      ]
     },
     "metadata": {},
     "output_type": "display_data"
    }
   ],
   "source": [
    "# Intuitive vizualization of how the POS tagger works\n",
    "displacy.render(nobj, \n",
    "                options = {\n",
    "                          \"distance\" : 100,\n",
    "                          \"arrow_stroke\" : 3, # thickness of arrow line\n",
    "                          \"arrow_width\" : 8, # thickness of arrow head\n",
    "                          \"font\" : \"Helvetica\", # font\n",
    "                          \"bg\" : \"#ADD8E6\" # background color\n",
    "                         })"
   ]
  },
  {
   "cell_type": "code",
   "execution_count": 30,
   "id": "continental-deployment",
   "metadata": {},
   "outputs": [],
   "source": [
    "# We create a list of all Parts of Speech, as used in Spacy\n",
    "# Didn't include the POS entry, which contains the description\n",
    "# Source: https://web.archive.org/web/20201207014953/https://spacy.io/api/annotation\n",
    "list_pos = [ ('ADJ', 'adjective'),\n",
    "             ('ADP', 'conjunction or particle or adverb'),\n",
    "             ('ADV', 'adverb'),\n",
    "             ('CCONJ', 'coordinating conjuction'),\n",
    "             ('DET', 'determiner'),\n",
    "             ('INTJ', 'interjection'),\n",
    "             ('NOUN', 'noun'),\n",
    "             ('NUM', 'number'),\n",
    "             ('PART', 'possessive'),\n",
    "             ('PRON', 'pronoun'),\n",
    "             ('PROPN', 'proper noun'),\n",
    "             ('PUNCT', 'punctuation'),\n",
    "             ('SPACE', 'space'),\n",
    "             ('SYM', 'symbol'),\n",
    "             ('VERB', 'verb'),\n",
    "             ('X', 'unknown')]"
   ]
  },
  {
   "cell_type": "code",
   "execution_count": 31,
   "id": "daily-volunteer",
   "metadata": {},
   "outputs": [
    {
     "data": {
      "text/plain": [
       "{'ADJ': 'adjective',\n",
       " 'ADP': 'conjunction or particle or adverb',\n",
       " 'ADV': 'adverb',\n",
       " 'CCONJ': 'coordinating conjuction',\n",
       " 'DET': 'determiner',\n",
       " 'INTJ': 'interjection',\n",
       " 'NOUN': 'noun',\n",
       " 'NUM': 'number',\n",
       " 'PART': 'possessive',\n",
       " 'PRON': 'pronoun',\n",
       " 'PROPN': 'proper noun',\n",
       " 'PUNCT': 'punctuation',\n",
       " 'SPACE': 'space',\n",
       " 'SYM': 'symbol',\n",
       " 'VERB': 'verb',\n",
       " 'X': 'unknown'}"
      ]
     },
     "execution_count": 31,
     "metadata": {},
     "output_type": "execute_result"
    }
   ],
   "source": [
    "# Create a dict from our list for speed of indexing\n",
    "mydict_pos = {}\n",
    "for (k, v) in list_pos:\n",
    "    mydict_pos[k] = v\n",
    "mydict_pos"
   ]
  },
  {
   "cell_type": "code",
   "execution_count": 35,
   "id": "limited-kelly",
   "metadata": {},
   "outputs": [
    {
     "name": "stdout",
     "output_type": "stream",
     "text": [
      "['ADJ', 'ADP', 'ADV', 'CCONJ', 'DET', 'INTJ', 'NOUN', 'NUM', 'PART', 'PRON', 'PROPN', 'PUNCT', 'SPACE', 'SYM', 'VERB', 'X']\n"
     ]
    }
   ],
   "source": [
    "list_pos = list(mydict_pos.keys())\n",
    "print(list_pos[0:])"
   ]
  },
  {
   "cell_type": "code",
   "execution_count": 36,
   "id": "following-contact",
   "metadata": {},
   "outputs": [],
   "source": [
    "# Function that essentially creates a list of (POS, POS Tag) from a sample\n",
    "def pos_counter(text, tag):\n",
    "    \n",
    "    # nlp object\n",
    "    nobj = nlp(text)\n",
    "    \n",
    "    # list of POS tags\n",
    "    pos = [token.pos_ for token in nobj]\n",
    "    \n",
    "    # count POS\n",
    "    return pos.count(tag)"
   ]
  },
  {
   "cell_type": "markdown",
   "id": "related-excerpt",
   "metadata": {},
   "source": [
    "The function below iterates through each sample and creates new columns based on counts and frequencies of POS. Each entry is introduced as a new column\n",
    "\n",
    "The cell below takes more than 35 minutes to run."
   ]
  },
  {
   "cell_type": "code",
   "execution_count": 37,
   "id": "creative-rogers",
   "metadata": {
    "scrolled": true
   },
   "outputs": [],
   "source": [
    "for tag in list_pos:\n",
    "    df[(\"count_of_\" + mydict_pos[tag])] = df.statement.apply(lambda text : pos_counter(text, tag))\n",
    "    df[(\"freq_of_\" + mydict_pos[tag])] = df[(\"count_of_\" + mydict_pos[tag])] / df.numb_of_words"
   ]
  },
  {
   "cell_type": "code",
   "execution_count": 38,
   "id": "virgin-bidder",
   "metadata": {},
   "outputs": [
    {
     "data": {
      "text/html": [
       "<div>\n",
       "<style scoped>\n",
       "    .dataframe tbody tr th:only-of-type {\n",
       "        vertical-align: middle;\n",
       "    }\n",
       "\n",
       "    .dataframe tbody tr th {\n",
       "        vertical-align: top;\n",
       "    }\n",
       "\n",
       "    .dataframe thead th {\n",
       "        text-align: right;\n",
       "    }\n",
       "</style>\n",
       "<table border=\"1\" class=\"dataframe\">\n",
       "  <thead>\n",
       "    <tr style=\"text-align: right;\">\n",
       "      <th></th>\n",
       "      <th>statement</th>\n",
       "      <th>source</th>\n",
       "      <th>veracity</th>\n",
       "      <th>date</th>\n",
       "      <th>lemmas</th>\n",
       "      <th>numb_of_letters</th>\n",
       "      <th>numb_of_words</th>\n",
       "      <th>avg_word_len</th>\n",
       "      <th>read_score_gun</th>\n",
       "      <th>pos_tags</th>\n",
       "      <th>count_of_adjective</th>\n",
       "      <th>freq_of_adjective</th>\n",
       "      <th>count_of_conjunction or particle or adverb</th>\n",
       "      <th>freq_of_conjunction or particle or adverb</th>\n",
       "      <th>count_of_adverb</th>\n",
       "      <th>freq_of_adverb</th>\n",
       "      <th>count_of_coordinating conjuction</th>\n",
       "      <th>freq_of_coordinating conjuction</th>\n",
       "      <th>count_of_determiner</th>\n",
       "      <th>freq_of_determiner</th>\n",
       "      <th>count_of_interjection</th>\n",
       "      <th>freq_of_interjection</th>\n",
       "      <th>count_of_noun</th>\n",
       "      <th>freq_of_noun</th>\n",
       "      <th>count_of_number</th>\n",
       "      <th>freq_of_number</th>\n",
       "      <th>count_of_possessive</th>\n",
       "      <th>freq_of_possessive</th>\n",
       "      <th>count_of_pronoun</th>\n",
       "      <th>freq_of_pronoun</th>\n",
       "      <th>count_of_proper noun</th>\n",
       "      <th>freq_of_proper noun</th>\n",
       "      <th>count_of_punctuation</th>\n",
       "      <th>freq_of_punctuation</th>\n",
       "      <th>count_of_space</th>\n",
       "      <th>freq_of_space</th>\n",
       "      <th>count_of_symbol</th>\n",
       "      <th>freq_of_symbol</th>\n",
       "      <th>count_of_verb</th>\n",
       "      <th>freq_of_verb</th>\n",
       "      <th>count_of_unknown</th>\n",
       "      <th>freq_of_unknown</th>\n",
       "    </tr>\n",
       "  </thead>\n",
       "  <tbody>\n",
       "    <tr>\n",
       "      <th>0</th>\n",
       "      <td>Sen. Kamala Harris is \"supporting the animals of MS-13.\"</td>\n",
       "      <td>Donald Trump</td>\n",
       "      <td>0</td>\n",
       "      <td>2018-07-03</td>\n",
       "      <td>kamala harris support animal</td>\n",
       "      <td>56</td>\n",
       "      <td>9</td>\n",
       "      <td>5.3</td>\n",
       "      <td>10.0</td>\n",
       "      <td>[(Sen., PROPN), (Kamala, PROPN), (Harris, PROPN), (is, AUX), (\", PUNCT), (supporting, VERB), (the, DET), (animals, NOUN), (of, ADP), (MS-13, PROPN), (., PUNCT), (\", PUNCT)]</td>\n",
       "      <td>0</td>\n",
       "      <td>0.000000</td>\n",
       "      <td>1</td>\n",
       "      <td>0.111111</td>\n",
       "      <td>0</td>\n",
       "      <td>0.000000</td>\n",
       "      <td>0</td>\n",
       "      <td>0.000000</td>\n",
       "      <td>1</td>\n",
       "      <td>0.111111</td>\n",
       "      <td>0</td>\n",
       "      <td>0.0</td>\n",
       "      <td>1</td>\n",
       "      <td>0.111111</td>\n",
       "      <td>1</td>\n",
       "      <td>0.111111</td>\n",
       "      <td>0</td>\n",
       "      <td>0.000000</td>\n",
       "      <td>0</td>\n",
       "      <td>0.00</td>\n",
       "      <td>3</td>\n",
       "      <td>0.333333</td>\n",
       "      <td>3</td>\n",
       "      <td>0.333333</td>\n",
       "      <td>0</td>\n",
       "      <td>0.000000</td>\n",
       "      <td>0</td>\n",
       "      <td>0.0</td>\n",
       "      <td>1</td>\n",
       "      <td>0.111111</td>\n",
       "      <td>0</td>\n",
       "      <td>0.0</td>\n",
       "    </tr>\n",
       "    <tr>\n",
       "      <th>1</th>\n",
       "      <td>Says Ronald Reagan said immigrants \"brought with them courage and the values of family, work, and freedom. Let us pledge to each other that we can make America great again.\"</td>\n",
       "      <td>Becoming American Initiative</td>\n",
       "      <td>1</td>\n",
       "      <td>2018-07-03</td>\n",
       "      <td>ronald reagan immigrant bring courage value family work freedom let pledge america great</td>\n",
       "      <td>173</td>\n",
       "      <td>30</td>\n",
       "      <td>4.8</td>\n",
       "      <td>7.3</td>\n",
       "      <td>[(Says, VERB), (Ronald, PROPN), (Reagan, PROPN), (said, VERB), (immigrants, NOUN), ( , SPACE), (\", PUNCT), (brought, VERB), (with, ADP), (them, PRON), (courage, NOUN), (and, CCONJ), (the, DET), (v...</td>\n",
       "      <td>2</td>\n",
       "      <td>0.066667</td>\n",
       "      <td>3</td>\n",
       "      <td>0.100000</td>\n",
       "      <td>1</td>\n",
       "      <td>0.033333</td>\n",
       "      <td>2</td>\n",
       "      <td>0.066667</td>\n",
       "      <td>2</td>\n",
       "      <td>0.066667</td>\n",
       "      <td>0</td>\n",
       "      <td>0.0</td>\n",
       "      <td>6</td>\n",
       "      <td>0.200000</td>\n",
       "      <td>0</td>\n",
       "      <td>0.000000</td>\n",
       "      <td>0</td>\n",
       "      <td>0.000000</td>\n",
       "      <td>3</td>\n",
       "      <td>0.10</td>\n",
       "      <td>3</td>\n",
       "      <td>0.100000</td>\n",
       "      <td>6</td>\n",
       "      <td>0.200000</td>\n",
       "      <td>1</td>\n",
       "      <td>0.033333</td>\n",
       "      <td>0</td>\n",
       "      <td>0.0</td>\n",
       "      <td>6</td>\n",
       "      <td>0.200000</td>\n",
       "      <td>0</td>\n",
       "      <td>0.0</td>\n",
       "    </tr>\n",
       "    <tr>\n",
       "      <th>2</th>\n",
       "      <td>Says Democratic Senators \"demand Supreme Court nominee not be unduly influenced by U.S. Constitution.\"</td>\n",
       "      <td>Viral image</td>\n",
       "      <td>0</td>\n",
       "      <td>2018-07-03</td>\n",
       "      <td>democratic senators demand supreme court nominee unduly influence constitution</td>\n",
       "      <td>102</td>\n",
       "      <td>14</td>\n",
       "      <td>6.4</td>\n",
       "      <td>16.7</td>\n",
       "      <td>[(Says, VERB), (Democratic, ADJ), (Senators, PROPN), (\", PUNCT), (demand, VERB), (Supreme, PROPN), (Court, PROPN), (nominee, NOUN), (not, PART), (be, AUX), (unduly, ADV), (influenced, VERB), (by, ...</td>\n",
       "      <td>1</td>\n",
       "      <td>0.071429</td>\n",
       "      <td>1</td>\n",
       "      <td>0.071429</td>\n",
       "      <td>1</td>\n",
       "      <td>0.071429</td>\n",
       "      <td>0</td>\n",
       "      <td>0.000000</td>\n",
       "      <td>0</td>\n",
       "      <td>0.000000</td>\n",
       "      <td>0</td>\n",
       "      <td>0.0</td>\n",
       "      <td>1</td>\n",
       "      <td>0.071429</td>\n",
       "      <td>0</td>\n",
       "      <td>0.000000</td>\n",
       "      <td>1</td>\n",
       "      <td>0.071429</td>\n",
       "      <td>0</td>\n",
       "      <td>0.00</td>\n",
       "      <td>5</td>\n",
       "      <td>0.357143</td>\n",
       "      <td>3</td>\n",
       "      <td>0.214286</td>\n",
       "      <td>0</td>\n",
       "      <td>0.000000</td>\n",
       "      <td>0</td>\n",
       "      <td>0.0</td>\n",
       "      <td>3</td>\n",
       "      <td>0.214286</td>\n",
       "      <td>0</td>\n",
       "      <td>0.0</td>\n",
       "    </tr>\n",
       "    <tr>\n",
       "      <th>3</th>\n",
       "      <td>\"Tim Kaine doesn’t want a border at all. He wants to get rid of Immigration and Customs Enforcement and basically the border patrol as well.\"</td>\n",
       "      <td>Corey  Stewart</td>\n",
       "      <td>0</td>\n",
       "      <td>2018-07-03</td>\n",
       "      <td>tim kaine want border want rid immigration customs enforcement basically border patrol</td>\n",
       "      <td>141</td>\n",
       "      <td>25</td>\n",
       "      <td>4.7</td>\n",
       "      <td>9.8</td>\n",
       "      <td>[(\", PUNCT), (Tim, PROPN), (Kaine, PROPN), (does, AUX), (n’t, PART), (want, VERB), (a, DET), (border, NOUN), (at, ADV), (all, ADV), (., PUNCT), (He, PRON), (wants, VERB), (to, PART), (get, AUX), (...</td>\n",
       "      <td>0</td>\n",
       "      <td>0.000000</td>\n",
       "      <td>1</td>\n",
       "      <td>0.040000</td>\n",
       "      <td>5</td>\n",
       "      <td>0.200000</td>\n",
       "      <td>2</td>\n",
       "      <td>0.080000</td>\n",
       "      <td>2</td>\n",
       "      <td>0.080000</td>\n",
       "      <td>0</td>\n",
       "      <td>0.0</td>\n",
       "      <td>3</td>\n",
       "      <td>0.120000</td>\n",
       "      <td>0</td>\n",
       "      <td>0.000000</td>\n",
       "      <td>2</td>\n",
       "      <td>0.080000</td>\n",
       "      <td>1</td>\n",
       "      <td>0.04</td>\n",
       "      <td>5</td>\n",
       "      <td>0.200000</td>\n",
       "      <td>4</td>\n",
       "      <td>0.160000</td>\n",
       "      <td>0</td>\n",
       "      <td>0.000000</td>\n",
       "      <td>0</td>\n",
       "      <td>0.0</td>\n",
       "      <td>3</td>\n",
       "      <td>0.120000</td>\n",
       "      <td>0</td>\n",
       "      <td>0.0</td>\n",
       "    </tr>\n",
       "    <tr>\n",
       "      <th>4</th>\n",
       "      <td>\"George H.W. Bush has died at 94.\"</td>\n",
       "      <td>Bloggers</td>\n",
       "      <td>0</td>\n",
       "      <td>2018-07-02</td>\n",
       "      <td>george bush die</td>\n",
       "      <td>34</td>\n",
       "      <td>7</td>\n",
       "      <td>4.0</td>\n",
       "      <td>0.9</td>\n",
       "      <td>[(\", PUNCT), (George, PROPN), (H.W., PROPN), (Bush, PROPN), (has, AUX), (died, VERB), (at, ADP), (94, NUM), (., PUNCT), (\", PUNCT)]</td>\n",
       "      <td>0</td>\n",
       "      <td>0.000000</td>\n",
       "      <td>1</td>\n",
       "      <td>0.142857</td>\n",
       "      <td>0</td>\n",
       "      <td>0.000000</td>\n",
       "      <td>0</td>\n",
       "      <td>0.000000</td>\n",
       "      <td>0</td>\n",
       "      <td>0.000000</td>\n",
       "      <td>0</td>\n",
       "      <td>0.0</td>\n",
       "      <td>0</td>\n",
       "      <td>0.000000</td>\n",
       "      <td>1</td>\n",
       "      <td>0.142857</td>\n",
       "      <td>0</td>\n",
       "      <td>0.000000</td>\n",
       "      <td>0</td>\n",
       "      <td>0.00</td>\n",
       "      <td>3</td>\n",
       "      <td>0.428571</td>\n",
       "      <td>3</td>\n",
       "      <td>0.428571</td>\n",
       "      <td>0</td>\n",
       "      <td>0.000000</td>\n",
       "      <td>0</td>\n",
       "      <td>0.0</td>\n",
       "      <td>1</td>\n",
       "      <td>0.142857</td>\n",
       "      <td>0</td>\n",
       "      <td>0.0</td>\n",
       "    </tr>\n",
       "  </tbody>\n",
       "</table>\n",
       "</div>"
      ],
      "text/plain": [
       "                                                                                                                                                                       statement  \\\n",
       "0                                                                                                                       Sen. Kamala Harris is \"supporting the animals of MS-13.\"   \n",
       "1  Says Ronald Reagan said immigrants \"brought with them courage and the values of family, work, and freedom. Let us pledge to each other that we can make America great again.\"   \n",
       "2                                                                         Says Democratic Senators \"demand Supreme Court nominee not be unduly influenced by U.S. Constitution.\"   \n",
       "3                                  \"Tim Kaine doesn’t want a border at all. He wants to get rid of Immigration and Customs Enforcement and basically the border patrol as well.\"   \n",
       "4                                                                                                                                             \"George H.W. Bush has died at 94.\"   \n",
       "\n",
       "                         source  veracity        date  \\\n",
       "0                  Donald Trump         0  2018-07-03   \n",
       "1  Becoming American Initiative         1  2018-07-03   \n",
       "2                   Viral image         0  2018-07-03   \n",
       "3                Corey  Stewart         0  2018-07-03   \n",
       "4                      Bloggers         0  2018-07-02   \n",
       "\n",
       "                                                                                     lemmas  \\\n",
       "0                                                              kamala harris support animal   \n",
       "1  ronald reagan immigrant bring courage value family work freedom let pledge america great   \n",
       "2            democratic senators demand supreme court nominee unduly influence constitution   \n",
       "3    tim kaine want border want rid immigration customs enforcement basically border patrol   \n",
       "4                                                                           george bush die   \n",
       "\n",
       "   numb_of_letters  numb_of_words  avg_word_len  read_score_gun  \\\n",
       "0               56              9           5.3            10.0   \n",
       "1              173             30           4.8             7.3   \n",
       "2              102             14           6.4            16.7   \n",
       "3              141             25           4.7             9.8   \n",
       "4               34              7           4.0             0.9   \n",
       "\n",
       "                                                                                                                                                                                                  pos_tags  \\\n",
       "0                             [(Sen., PROPN), (Kamala, PROPN), (Harris, PROPN), (is, AUX), (\", PUNCT), (supporting, VERB), (the, DET), (animals, NOUN), (of, ADP), (MS-13, PROPN), (., PUNCT), (\", PUNCT)]   \n",
       "1  [(Says, VERB), (Ronald, PROPN), (Reagan, PROPN), (said, VERB), (immigrants, NOUN), ( , SPACE), (\", PUNCT), (brought, VERB), (with, ADP), (them, PRON), (courage, NOUN), (and, CCONJ), (the, DET), (v...   \n",
       "2  [(Says, VERB), (Democratic, ADJ), (Senators, PROPN), (\", PUNCT), (demand, VERB), (Supreme, PROPN), (Court, PROPN), (nominee, NOUN), (not, PART), (be, AUX), (unduly, ADV), (influenced, VERB), (by, ...   \n",
       "3  [(\", PUNCT), (Tim, PROPN), (Kaine, PROPN), (does, AUX), (n’t, PART), (want, VERB), (a, DET), (border, NOUN), (at, ADV), (all, ADV), (., PUNCT), (He, PRON), (wants, VERB), (to, PART), (get, AUX), (...   \n",
       "4                                                                      [(\", PUNCT), (George, PROPN), (H.W., PROPN), (Bush, PROPN), (has, AUX), (died, VERB), (at, ADP), (94, NUM), (., PUNCT), (\", PUNCT)]   \n",
       "\n",
       "   count_of_adjective  freq_of_adjective  \\\n",
       "0                   0           0.000000   \n",
       "1                   2           0.066667   \n",
       "2                   1           0.071429   \n",
       "3                   0           0.000000   \n",
       "4                   0           0.000000   \n",
       "\n",
       "   count_of_conjunction or particle or adverb  \\\n",
       "0                                           1   \n",
       "1                                           3   \n",
       "2                                           1   \n",
       "3                                           1   \n",
       "4                                           1   \n",
       "\n",
       "   freq_of_conjunction or particle or adverb  count_of_adverb  freq_of_adverb  \\\n",
       "0                                   0.111111                0        0.000000   \n",
       "1                                   0.100000                1        0.033333   \n",
       "2                                   0.071429                1        0.071429   \n",
       "3                                   0.040000                5        0.200000   \n",
       "4                                   0.142857                0        0.000000   \n",
       "\n",
       "   count_of_coordinating conjuction  freq_of_coordinating conjuction  \\\n",
       "0                                 0                         0.000000   \n",
       "1                                 2                         0.066667   \n",
       "2                                 0                         0.000000   \n",
       "3                                 2                         0.080000   \n",
       "4                                 0                         0.000000   \n",
       "\n",
       "   count_of_determiner  freq_of_determiner  count_of_interjection  \\\n",
       "0                    1            0.111111                      0   \n",
       "1                    2            0.066667                      0   \n",
       "2                    0            0.000000                      0   \n",
       "3                    2            0.080000                      0   \n",
       "4                    0            0.000000                      0   \n",
       "\n",
       "   freq_of_interjection  count_of_noun  freq_of_noun  count_of_number  \\\n",
       "0                   0.0              1      0.111111                1   \n",
       "1                   0.0              6      0.200000                0   \n",
       "2                   0.0              1      0.071429                0   \n",
       "3                   0.0              3      0.120000                0   \n",
       "4                   0.0              0      0.000000                1   \n",
       "\n",
       "   freq_of_number  count_of_possessive  freq_of_possessive  count_of_pronoun  \\\n",
       "0        0.111111                    0            0.000000                 0   \n",
       "1        0.000000                    0            0.000000                 3   \n",
       "2        0.000000                    1            0.071429                 0   \n",
       "3        0.000000                    2            0.080000                 1   \n",
       "4        0.142857                    0            0.000000                 0   \n",
       "\n",
       "   freq_of_pronoun  count_of_proper noun  freq_of_proper noun  \\\n",
       "0             0.00                     3             0.333333   \n",
       "1             0.10                     3             0.100000   \n",
       "2             0.00                     5             0.357143   \n",
       "3             0.04                     5             0.200000   \n",
       "4             0.00                     3             0.428571   \n",
       "\n",
       "   count_of_punctuation  freq_of_punctuation  count_of_space  freq_of_space  \\\n",
       "0                     3             0.333333               0       0.000000   \n",
       "1                     6             0.200000               1       0.033333   \n",
       "2                     3             0.214286               0       0.000000   \n",
       "3                     4             0.160000               0       0.000000   \n",
       "4                     3             0.428571               0       0.000000   \n",
       "\n",
       "   count_of_symbol  freq_of_symbol  count_of_verb  freq_of_verb  \\\n",
       "0                0             0.0              1      0.111111   \n",
       "1                0             0.0              6      0.200000   \n",
       "2                0             0.0              3      0.214286   \n",
       "3                0             0.0              3      0.120000   \n",
       "4                0             0.0              1      0.142857   \n",
       "\n",
       "   count_of_unknown  freq_of_unknown  \n",
       "0                 0              0.0  \n",
       "1                 0              0.0  \n",
       "2                 0              0.0  \n",
       "3                 0              0.0  \n",
       "4                 0              0.0  "
      ]
     },
     "execution_count": 38,
     "metadata": {},
     "output_type": "execute_result"
    }
   ],
   "source": [
    "# Check that the Dataframe has been transformed properly\n",
    "pd.set_option('display.max_columns', 200)\n",
    "df.head(5)"
   ]
  },
  {
   "cell_type": "code",
   "execution_count": 39,
   "id": "advisory-routine",
   "metadata": {},
   "outputs": [],
   "source": [
    "df = df.drop(df.columns[0], axis=1)\n",
    "# Save df to make sure we don't lose progress up until now\n",
    "df.to_csv('politifact_ner_automatic_pos_tag_counts.csv', index=False)"
   ]
  },
  {
   "cell_type": "code",
   "execution_count": 40,
   "id": "buried-emission",
   "metadata": {},
   "outputs": [
    {
     "data": {
      "text/html": [
       "<div>\n",
       "<style scoped>\n",
       "    .dataframe tbody tr th:only-of-type {\n",
       "        vertical-align: middle;\n",
       "    }\n",
       "\n",
       "    .dataframe tbody tr th {\n",
       "        vertical-align: top;\n",
       "    }\n",
       "\n",
       "    .dataframe thead th {\n",
       "        text-align: right;\n",
       "    }\n",
       "</style>\n",
       "<table border=\"1\" class=\"dataframe\">\n",
       "  <thead>\n",
       "    <tr style=\"text-align: right;\">\n",
       "      <th></th>\n",
       "      <th>source</th>\n",
       "      <th>veracity</th>\n",
       "      <th>date</th>\n",
       "      <th>lemmas</th>\n",
       "      <th>numb_of_letters</th>\n",
       "      <th>numb_of_words</th>\n",
       "      <th>avg_word_len</th>\n",
       "      <th>read_score_gun</th>\n",
       "      <th>pos_tags</th>\n",
       "      <th>count_of_adjective</th>\n",
       "      <th>freq_of_adjective</th>\n",
       "      <th>count_of_conjunction or particle or adverb</th>\n",
       "      <th>freq_of_conjunction or particle or adverb</th>\n",
       "      <th>count_of_adverb</th>\n",
       "      <th>freq_of_adverb</th>\n",
       "      <th>count_of_coordinating conjuction</th>\n",
       "      <th>freq_of_coordinating conjuction</th>\n",
       "      <th>count_of_determiner</th>\n",
       "      <th>freq_of_determiner</th>\n",
       "      <th>count_of_interjection</th>\n",
       "      <th>freq_of_interjection</th>\n",
       "      <th>count_of_noun</th>\n",
       "      <th>freq_of_noun</th>\n",
       "      <th>count_of_number</th>\n",
       "      <th>freq_of_number</th>\n",
       "      <th>count_of_possessive</th>\n",
       "      <th>freq_of_possessive</th>\n",
       "      <th>count_of_pronoun</th>\n",
       "      <th>freq_of_pronoun</th>\n",
       "      <th>count_of_proper noun</th>\n",
       "      <th>freq_of_proper noun</th>\n",
       "      <th>count_of_punctuation</th>\n",
       "      <th>freq_of_punctuation</th>\n",
       "      <th>count_of_space</th>\n",
       "      <th>freq_of_space</th>\n",
       "      <th>count_of_symbol</th>\n",
       "      <th>freq_of_symbol</th>\n",
       "      <th>count_of_verb</th>\n",
       "      <th>freq_of_verb</th>\n",
       "      <th>count_of_unknown</th>\n",
       "      <th>freq_of_unknown</th>\n",
       "    </tr>\n",
       "  </thead>\n",
       "  <tbody>\n",
       "    <tr>\n",
       "      <th>0</th>\n",
       "      <td>Donald Trump</td>\n",
       "      <td>0</td>\n",
       "      <td>2018-07-03</td>\n",
       "      <td>kamala harris support animal</td>\n",
       "      <td>56</td>\n",
       "      <td>9</td>\n",
       "      <td>5.3</td>\n",
       "      <td>10.0</td>\n",
       "      <td>[('Sen.', 'PROPN'), ('Kamala', 'PROPN'), ('Harris', 'PROPN'), ('is', 'AUX'), ('\"', 'PUNCT'), ('supporting', 'VERB'), ('the', 'DET'), ('animals', 'NOUN'), ('of', 'ADP'), ('MS-13', 'PROPN'), ('.', '...</td>\n",
       "      <td>0</td>\n",
       "      <td>0.000000</td>\n",
       "      <td>1</td>\n",
       "      <td>0.111111</td>\n",
       "      <td>0</td>\n",
       "      <td>0.000000</td>\n",
       "      <td>0</td>\n",
       "      <td>0.000000</td>\n",
       "      <td>1</td>\n",
       "      <td>0.111111</td>\n",
       "      <td>0</td>\n",
       "      <td>0.0</td>\n",
       "      <td>1</td>\n",
       "      <td>0.111111</td>\n",
       "      <td>1</td>\n",
       "      <td>0.111111</td>\n",
       "      <td>0</td>\n",
       "      <td>0.000000</td>\n",
       "      <td>0</td>\n",
       "      <td>0.00</td>\n",
       "      <td>3</td>\n",
       "      <td>0.333333</td>\n",
       "      <td>3</td>\n",
       "      <td>0.333333</td>\n",
       "      <td>0</td>\n",
       "      <td>0.000000</td>\n",
       "      <td>0</td>\n",
       "      <td>0.0</td>\n",
       "      <td>1</td>\n",
       "      <td>0.111111</td>\n",
       "      <td>0</td>\n",
       "      <td>0.0</td>\n",
       "    </tr>\n",
       "    <tr>\n",
       "      <th>1</th>\n",
       "      <td>Becoming American Initiative</td>\n",
       "      <td>1</td>\n",
       "      <td>2018-07-03</td>\n",
       "      <td>ronald reagan immigrant bring courage value family work freedom let pledge america great</td>\n",
       "      <td>173</td>\n",
       "      <td>30</td>\n",
       "      <td>4.8</td>\n",
       "      <td>7.3</td>\n",
       "      <td>[('Says', 'VERB'), ('Ronald', 'PROPN'), ('Reagan', 'PROPN'), ('said', 'VERB'), ('immigrants', 'NOUN'), ('\\xa0', 'SPACE'), ('\"', 'PUNCT'), ('brought', 'VERB'), ('with', 'ADP'), ('them', 'PRON'), ('...</td>\n",
       "      <td>2</td>\n",
       "      <td>0.066667</td>\n",
       "      <td>3</td>\n",
       "      <td>0.100000</td>\n",
       "      <td>1</td>\n",
       "      <td>0.033333</td>\n",
       "      <td>2</td>\n",
       "      <td>0.066667</td>\n",
       "      <td>2</td>\n",
       "      <td>0.066667</td>\n",
       "      <td>0</td>\n",
       "      <td>0.0</td>\n",
       "      <td>6</td>\n",
       "      <td>0.200000</td>\n",
       "      <td>0</td>\n",
       "      <td>0.000000</td>\n",
       "      <td>0</td>\n",
       "      <td>0.000000</td>\n",
       "      <td>3</td>\n",
       "      <td>0.10</td>\n",
       "      <td>3</td>\n",
       "      <td>0.100000</td>\n",
       "      <td>6</td>\n",
       "      <td>0.200000</td>\n",
       "      <td>1</td>\n",
       "      <td>0.033333</td>\n",
       "      <td>0</td>\n",
       "      <td>0.0</td>\n",
       "      <td>6</td>\n",
       "      <td>0.200000</td>\n",
       "      <td>0</td>\n",
       "      <td>0.0</td>\n",
       "    </tr>\n",
       "    <tr>\n",
       "      <th>2</th>\n",
       "      <td>Viral image</td>\n",
       "      <td>0</td>\n",
       "      <td>2018-07-03</td>\n",
       "      <td>democratic senators demand supreme court nominee unduly influence constitution</td>\n",
       "      <td>102</td>\n",
       "      <td>14</td>\n",
       "      <td>6.4</td>\n",
       "      <td>16.7</td>\n",
       "      <td>[('Says', 'VERB'), ('Democratic', 'ADJ'), ('Senators', 'PROPN'), ('\"', 'PUNCT'), ('demand', 'VERB'), ('Supreme', 'PROPN'), ('Court', 'PROPN'), ('nominee', 'NOUN'), ('not', 'PART'), ('be', 'AUX'), ...</td>\n",
       "      <td>1</td>\n",
       "      <td>0.071429</td>\n",
       "      <td>1</td>\n",
       "      <td>0.071429</td>\n",
       "      <td>1</td>\n",
       "      <td>0.071429</td>\n",
       "      <td>0</td>\n",
       "      <td>0.000000</td>\n",
       "      <td>0</td>\n",
       "      <td>0.000000</td>\n",
       "      <td>0</td>\n",
       "      <td>0.0</td>\n",
       "      <td>1</td>\n",
       "      <td>0.071429</td>\n",
       "      <td>0</td>\n",
       "      <td>0.000000</td>\n",
       "      <td>1</td>\n",
       "      <td>0.071429</td>\n",
       "      <td>0</td>\n",
       "      <td>0.00</td>\n",
       "      <td>5</td>\n",
       "      <td>0.357143</td>\n",
       "      <td>3</td>\n",
       "      <td>0.214286</td>\n",
       "      <td>0</td>\n",
       "      <td>0.000000</td>\n",
       "      <td>0</td>\n",
       "      <td>0.0</td>\n",
       "      <td>3</td>\n",
       "      <td>0.214286</td>\n",
       "      <td>0</td>\n",
       "      <td>0.0</td>\n",
       "    </tr>\n",
       "    <tr>\n",
       "      <th>3</th>\n",
       "      <td>Corey  Stewart</td>\n",
       "      <td>0</td>\n",
       "      <td>2018-07-03</td>\n",
       "      <td>tim kaine want border want rid immigration customs enforcement basically border patrol</td>\n",
       "      <td>141</td>\n",
       "      <td>25</td>\n",
       "      <td>4.7</td>\n",
       "      <td>9.8</td>\n",
       "      <td>[('\"', 'PUNCT'), ('Tim', 'PROPN'), ('Kaine', 'PROPN'), ('does', 'AUX'), ('n’t', 'PART'), ('want', 'VERB'), ('a', 'DET'), ('border', 'NOUN'), ('at', 'ADV'), ('all', 'ADV'), ('.', 'PUNCT'), ('He', '...</td>\n",
       "      <td>0</td>\n",
       "      <td>0.000000</td>\n",
       "      <td>1</td>\n",
       "      <td>0.040000</td>\n",
       "      <td>5</td>\n",
       "      <td>0.200000</td>\n",
       "      <td>2</td>\n",
       "      <td>0.080000</td>\n",
       "      <td>2</td>\n",
       "      <td>0.080000</td>\n",
       "      <td>0</td>\n",
       "      <td>0.0</td>\n",
       "      <td>3</td>\n",
       "      <td>0.120000</td>\n",
       "      <td>0</td>\n",
       "      <td>0.000000</td>\n",
       "      <td>2</td>\n",
       "      <td>0.080000</td>\n",
       "      <td>1</td>\n",
       "      <td>0.04</td>\n",
       "      <td>5</td>\n",
       "      <td>0.200000</td>\n",
       "      <td>4</td>\n",
       "      <td>0.160000</td>\n",
       "      <td>0</td>\n",
       "      <td>0.000000</td>\n",
       "      <td>0</td>\n",
       "      <td>0.0</td>\n",
       "      <td>3</td>\n",
       "      <td>0.120000</td>\n",
       "      <td>0</td>\n",
       "      <td>0.0</td>\n",
       "    </tr>\n",
       "    <tr>\n",
       "      <th>4</th>\n",
       "      <td>Bloggers</td>\n",
       "      <td>0</td>\n",
       "      <td>2018-07-02</td>\n",
       "      <td>george bush die</td>\n",
       "      <td>34</td>\n",
       "      <td>7</td>\n",
       "      <td>4.0</td>\n",
       "      <td>0.9</td>\n",
       "      <td>[('\"', 'PUNCT'), ('George', 'PROPN'), ('H.W.', 'PROPN'), ('Bush', 'PROPN'), ('has', 'AUX'), ('died', 'VERB'), ('at', 'ADP'), ('94', 'NUM'), ('.', 'PUNCT'), ('\"', 'PUNCT')]</td>\n",
       "      <td>0</td>\n",
       "      <td>0.000000</td>\n",
       "      <td>1</td>\n",
       "      <td>0.142857</td>\n",
       "      <td>0</td>\n",
       "      <td>0.000000</td>\n",
       "      <td>0</td>\n",
       "      <td>0.000000</td>\n",
       "      <td>0</td>\n",
       "      <td>0.000000</td>\n",
       "      <td>0</td>\n",
       "      <td>0.0</td>\n",
       "      <td>0</td>\n",
       "      <td>0.000000</td>\n",
       "      <td>1</td>\n",
       "      <td>0.142857</td>\n",
       "      <td>0</td>\n",
       "      <td>0.000000</td>\n",
       "      <td>0</td>\n",
       "      <td>0.00</td>\n",
       "      <td>3</td>\n",
       "      <td>0.428571</td>\n",
       "      <td>3</td>\n",
       "      <td>0.428571</td>\n",
       "      <td>0</td>\n",
       "      <td>0.000000</td>\n",
       "      <td>0</td>\n",
       "      <td>0.0</td>\n",
       "      <td>1</td>\n",
       "      <td>0.142857</td>\n",
       "      <td>0</td>\n",
       "      <td>0.0</td>\n",
       "    </tr>\n",
       "  </tbody>\n",
       "</table>\n",
       "</div>"
      ],
      "text/plain": [
       "                         source  veracity        date  \\\n",
       "0                  Donald Trump         0  2018-07-03   \n",
       "1  Becoming American Initiative         1  2018-07-03   \n",
       "2                   Viral image         0  2018-07-03   \n",
       "3                Corey  Stewart         0  2018-07-03   \n",
       "4                      Bloggers         0  2018-07-02   \n",
       "\n",
       "                                                                                     lemmas  \\\n",
       "0                                                              kamala harris support animal   \n",
       "1  ronald reagan immigrant bring courage value family work freedom let pledge america great   \n",
       "2            democratic senators demand supreme court nominee unduly influence constitution   \n",
       "3    tim kaine want border want rid immigration customs enforcement basically border patrol   \n",
       "4                                                                           george bush die   \n",
       "\n",
       "   numb_of_letters  numb_of_words  avg_word_len  read_score_gun  \\\n",
       "0               56              9           5.3            10.0   \n",
       "1              173             30           4.8             7.3   \n",
       "2              102             14           6.4            16.7   \n",
       "3              141             25           4.7             9.8   \n",
       "4               34              7           4.0             0.9   \n",
       "\n",
       "                                                                                                                                                                                                  pos_tags  \\\n",
       "0  [('Sen.', 'PROPN'), ('Kamala', 'PROPN'), ('Harris', 'PROPN'), ('is', 'AUX'), ('\"', 'PUNCT'), ('supporting', 'VERB'), ('the', 'DET'), ('animals', 'NOUN'), ('of', 'ADP'), ('MS-13', 'PROPN'), ('.', '...   \n",
       "1  [('Says', 'VERB'), ('Ronald', 'PROPN'), ('Reagan', 'PROPN'), ('said', 'VERB'), ('immigrants', 'NOUN'), ('\\xa0', 'SPACE'), ('\"', 'PUNCT'), ('brought', 'VERB'), ('with', 'ADP'), ('them', 'PRON'), ('...   \n",
       "2  [('Says', 'VERB'), ('Democratic', 'ADJ'), ('Senators', 'PROPN'), ('\"', 'PUNCT'), ('demand', 'VERB'), ('Supreme', 'PROPN'), ('Court', 'PROPN'), ('nominee', 'NOUN'), ('not', 'PART'), ('be', 'AUX'), ...   \n",
       "3  [('\"', 'PUNCT'), ('Tim', 'PROPN'), ('Kaine', 'PROPN'), ('does', 'AUX'), ('n’t', 'PART'), ('want', 'VERB'), ('a', 'DET'), ('border', 'NOUN'), ('at', 'ADV'), ('all', 'ADV'), ('.', 'PUNCT'), ('He', '...   \n",
       "4                              [('\"', 'PUNCT'), ('George', 'PROPN'), ('H.W.', 'PROPN'), ('Bush', 'PROPN'), ('has', 'AUX'), ('died', 'VERB'), ('at', 'ADP'), ('94', 'NUM'), ('.', 'PUNCT'), ('\"', 'PUNCT')]   \n",
       "\n",
       "   count_of_adjective  freq_of_adjective  \\\n",
       "0                   0           0.000000   \n",
       "1                   2           0.066667   \n",
       "2                   1           0.071429   \n",
       "3                   0           0.000000   \n",
       "4                   0           0.000000   \n",
       "\n",
       "   count_of_conjunction or particle or adverb  \\\n",
       "0                                           1   \n",
       "1                                           3   \n",
       "2                                           1   \n",
       "3                                           1   \n",
       "4                                           1   \n",
       "\n",
       "   freq_of_conjunction or particle or adverb  count_of_adverb  freq_of_adverb  \\\n",
       "0                                   0.111111                0        0.000000   \n",
       "1                                   0.100000                1        0.033333   \n",
       "2                                   0.071429                1        0.071429   \n",
       "3                                   0.040000                5        0.200000   \n",
       "4                                   0.142857                0        0.000000   \n",
       "\n",
       "   count_of_coordinating conjuction  freq_of_coordinating conjuction  \\\n",
       "0                                 0                         0.000000   \n",
       "1                                 2                         0.066667   \n",
       "2                                 0                         0.000000   \n",
       "3                                 2                         0.080000   \n",
       "4                                 0                         0.000000   \n",
       "\n",
       "   count_of_determiner  freq_of_determiner  count_of_interjection  \\\n",
       "0                    1            0.111111                      0   \n",
       "1                    2            0.066667                      0   \n",
       "2                    0            0.000000                      0   \n",
       "3                    2            0.080000                      0   \n",
       "4                    0            0.000000                      0   \n",
       "\n",
       "   freq_of_interjection  count_of_noun  freq_of_noun  count_of_number  \\\n",
       "0                   0.0              1      0.111111                1   \n",
       "1                   0.0              6      0.200000                0   \n",
       "2                   0.0              1      0.071429                0   \n",
       "3                   0.0              3      0.120000                0   \n",
       "4                   0.0              0      0.000000                1   \n",
       "\n",
       "   freq_of_number  count_of_possessive  freq_of_possessive  count_of_pronoun  \\\n",
       "0        0.111111                    0            0.000000                 0   \n",
       "1        0.000000                    0            0.000000                 3   \n",
       "2        0.000000                    1            0.071429                 0   \n",
       "3        0.000000                    2            0.080000                 1   \n",
       "4        0.142857                    0            0.000000                 0   \n",
       "\n",
       "   freq_of_pronoun  count_of_proper noun  freq_of_proper noun  \\\n",
       "0             0.00                     3             0.333333   \n",
       "1             0.10                     3             0.100000   \n",
       "2             0.00                     5             0.357143   \n",
       "3             0.04                     5             0.200000   \n",
       "4             0.00                     3             0.428571   \n",
       "\n",
       "   count_of_punctuation  freq_of_punctuation  count_of_space  freq_of_space  \\\n",
       "0                     3             0.333333               0       0.000000   \n",
       "1                     6             0.200000               1       0.033333   \n",
       "2                     3             0.214286               0       0.000000   \n",
       "3                     4             0.160000               0       0.000000   \n",
       "4                     3             0.428571               0       0.000000   \n",
       "\n",
       "   count_of_symbol  freq_of_symbol  count_of_verb  freq_of_verb  \\\n",
       "0                0             0.0              1      0.111111   \n",
       "1                0             0.0              6      0.200000   \n",
       "2                0             0.0              3      0.214286   \n",
       "3                0             0.0              3      0.120000   \n",
       "4                0             0.0              1      0.142857   \n",
       "\n",
       "   count_of_unknown  freq_of_unknown  \n",
       "0                 0              0.0  \n",
       "1                 0              0.0  \n",
       "2                 0              0.0  \n",
       "3                 0              0.0  \n",
       "4                 0              0.0  "
      ]
     },
     "execution_count": 40,
     "metadata": {},
     "output_type": "execute_result"
    }
   ],
   "source": [
    "# We import the df if we have already generated it. No use in creating it again.\n",
    "df = pd.read_csv('politifact_ner_automatic_pos_tag_counts.csv')\n",
    "df.head()"
   ]
  },
  {
   "cell_type": "markdown",
   "id": "middle-judges",
   "metadata": {},
   "source": [
    "## Statistics / Analytics"
   ]
  },
  {
   "cell_type": "markdown",
   "id": "egyptian-doubt",
   "metadata": {},
   "source": [
    "Below we try to understand how deceptive entries vary from truthful ones. We will look at the distribution of  number of words, number of adjectives, number of verbs, number of nouns, readability scores etc."
   ]
  },
  {
   "cell_type": "code",
   "execution_count": 41,
   "id": "tamil-casino",
   "metadata": {},
   "outputs": [],
   "source": [
    "# Function that receives the df, the name of the column, and plots the histograms of truthful and deceptive entries\n",
    "def plot_pos(df, column):\n",
    "    \n",
    "    # Plot truths histogram\n",
    "    truths = df[df.veracity == 1]\n",
    "    truths[column].hist(\n",
    "        bins=10, \n",
    "        edgecolor='black')\n",
    "\n",
    "    plt.title(\"Distribution in Truth\")\n",
    "    plt.xlabel(column)\n",
    "    plt.ylabel(\"Count\")\n",
    "    plt.show()\n",
    "    \n",
    "    # Plot lies histogram\n",
    "    lies = df[df.veracity == 0]\n",
    "\n",
    "    lies[column].hist(\n",
    "        bins=10, \n",
    "        edgecolor='black')\n",
    "\n",
    "    plt.title(\"Distribution in Lies\")\n",
    "    plt.xlabel(column)\n",
    "    plt.ylabel(\"Count\")\n",
    "    plt.show()"
   ]
  },
  {
   "cell_type": "markdown",
   "id": "explicit-moscow",
   "metadata": {},
   "source": [
    "#### Number of words"
   ]
  },
  {
   "cell_type": "code",
   "execution_count": 42,
   "id": "native-livestock",
   "metadata": {},
   "outputs": [
    {
     "data": {
      "image/png": "[encoded data removed]",
      "text/plain": [
       "<Figure size 432x288 with 1 Axes>"
      ]
     },
     "metadata": {
      "needs_background": "light"
     },
     "output_type": "display_data"
    },
    {
     "data": {
      "image/png": "[encoded data removed]",
      "text/plain": [
       "<Figure size 432x288 with 1 Axes>"
      ]
     },
     "metadata": {
      "needs_background": "light"
     },
     "output_type": "display_data"
    }
   ],
   "source": [
    "plot_pos(df, \"numb_of_words\")"
   ]
  },
  {
   "cell_type": "markdown",
   "id": "agricultural-rating",
   "metadata": {},
   "source": [
    "#### Number of adjectives"
   ]
  },
  {
   "cell_type": "code",
   "execution_count": 43,
   "id": "international-adjustment",
   "metadata": {},
   "outputs": [
    {
     "data": {
      "image/png": "[encoded data removed]",
      "text/plain": [
       "<Figure size 432x288 with 1 Axes>"
      ]
     },
     "metadata": {
      "needs_background": "light"
     },
     "output_type": "display_data"
    },
    {
     "data": {
      "image/png": "[encoded data removed]",
      "text/plain": [
       "<Figure size 432x288 with 1 Axes>"
      ]
     },
     "metadata": {
      "needs_background": "light"
     },
     "output_type": "display_data"
    }
   ],
   "source": [
    "plot_pos(df, \"count_of_adjective\")"
   ]
  },
  {
   "cell_type": "markdown",
   "id": "studied-constraint",
   "metadata": {},
   "source": [
    "#### Number of verbs"
   ]
  },
  {
   "cell_type": "code",
   "execution_count": 44,
   "id": "considerable-kidney",
   "metadata": {},
   "outputs": [
    {
     "data": {
      "image/png": "[encoded data removed]",
      "text/plain": [
       "<Figure size 432x288 with 1 Axes>"
      ]
     },
     "metadata": {
      "needs_background": "light"
     },
     "output_type": "display_data"
    },
    {
     "data": {
      "image/png": "[encoded data removed]",
      "text/plain": [
       "<Figure size 432x288 with 1 Axes>"
      ]
     },
     "metadata": {
      "needs_background": "light"
     },
     "output_type": "display_data"
    }
   ],
   "source": [
    "plot_pos(df, \"count_of_verb\")"
   ]
  },
  {
   "cell_type": "markdown",
   "id": "upset-villa",
   "metadata": {},
   "source": [
    "#### Number of nouns"
   ]
  },
  {
   "cell_type": "code",
   "execution_count": 45,
   "id": "aging-property",
   "metadata": {},
   "outputs": [
    {
     "data": {
      "image/png": "[encoded data removed]",
      "text/plain": [
       "<Figure size 432x288 with 1 Axes>"
      ]
     },
     "metadata": {
      "needs_background": "light"
     },
     "output_type": "display_data"
    },
    {
     "data": {
      "image/png": "[encoded data removed]",
      "text/plain": [
       "<Figure size 432x288 with 1 Axes>"
      ]
     },
     "metadata": {
      "needs_background": "light"
     },
     "output_type": "display_data"
    }
   ],
   "source": [
    "plot_pos(df, \"count_of_noun\")"
   ]
  },
  {
   "cell_type": "markdown",
   "id": "rubber-crossing",
   "metadata": {},
   "source": [
    "#### Compare average values for truthful entries versus deceiteful entries"
   ]
  },
  {
   "cell_type": "markdown",
   "id": "infectious-variable",
   "metadata": {},
   "source": [
    "We take 3 parameters into consideration:\n",
    " - True values average\n",
    " - False values average\n",
    " - p value\n",
    " \n",
    "The p value is the evidence against a null hypothesis. The smaller the p-value, the stronger the evidence that you should reject the null hypothesis. More details: [p-value details](https://www.statisticshowto.com/probability-and-statistics/statistics-definitions/p-value/#:~:text=The%20p%20value%20is%20the,value%20of%200.0254%20is%202.54%25.)"
   ]
  },
  {
   "cell_type": "code",
   "execution_count": 46,
   "id": "premium-kuwait",
   "metadata": {},
   "outputs": [],
   "source": [
    "# Function for comparing truth vs false\n",
    "def true_false_comparison(df, column_label, threshold=0.05):\n",
    "    \n",
    "    # We extract the Series we send as a column label for true and false values\n",
    "    truths = df[df['veracity'] == 1][column_label]\n",
    "    falsehoods = df[df['veracity'] == 0][column_label]\n",
    "    \n",
    "    # We calculate the average\n",
    "    truths_mean = round(truths.mean(), 1)\n",
    "    falsehoods_mean = round(falsehoods.mean(), 1)\n",
    "    \n",
    "    # t-test\n",
    "    t,p = stats.ttest_ind(truths,\n",
    "                          falsehoods, \n",
    "                          equal_var = False)\n",
    "    \n",
    "    # If p value is smaller than threshold, it means the statistical value is significant\n",
    "    if p <= threshold:\n",
    "        print(column_label, \"p-value:\", \"{:.3f}\".format(p))\n",
    "        print(\"T Avg.\", column_label, \":\", truths_mean)\n",
    "        print(\"F Avg.\", column_label, \":\", falsehoods_mean)\n",
    "    \n",
    "    return truths_mean, falsehoods_mean\n",
    "    \n",
    "   "
   ]
  },
  {
   "cell_type": "markdown",
   "id": "careful-canyon",
   "metadata": {},
   "source": [
    "#### Average number of letters"
   ]
  },
  {
   "cell_type": "code",
   "execution_count": 47,
   "id": "palestinian-scottish",
   "metadata": {},
   "outputs": [
    {
     "name": "stdout",
     "output_type": "stream",
     "text": [
      "numb_of_letters p-value: 0.000\n",
      "T Avg. numb_of_letters : 109.7\n",
      "F Avg. numb_of_letters : 106.6\n"
     ]
    },
    {
     "data": {
      "text/plain": [
       "(109.7, 106.6)"
      ]
     },
     "execution_count": 47,
     "metadata": {},
     "output_type": "execute_result"
    }
   ],
   "source": [
    "true_false_comparison(df, \"numb_of_letters\")"
   ]
  },
  {
   "cell_type": "markdown",
   "id": "anonymous-progress",
   "metadata": {},
   "source": [
    "#### Average number of words"
   ]
  },
  {
   "cell_type": "code",
   "execution_count": 48,
   "id": "going-commerce",
   "metadata": {},
   "outputs": [
    {
     "name": "stdout",
     "output_type": "stream",
     "text": [
      "numb_of_words p-value: 0.000\n",
      "T Avg. numb_of_words : 18.3\n",
      "F Avg. numb_of_words : 17.5\n"
     ]
    },
    {
     "data": {
      "text/plain": [
       "(18.3, 17.5)"
      ]
     },
     "execution_count": 48,
     "metadata": {},
     "output_type": "execute_result"
    }
   ],
   "source": [
    "true_false_comparison(df, \"numb_of_words\")"
   ]
  },
  {
   "cell_type": "markdown",
   "id": "muslim-sunrise",
   "metadata": {},
   "source": [
    "#### Average word length"
   ]
  },
  {
   "cell_type": "code",
   "execution_count": 49,
   "id": "positive-massachusetts",
   "metadata": {},
   "outputs": [
    {
     "name": "stdout",
     "output_type": "stream",
     "text": [
      "avg_word_len p-value: 0.000\n",
      "T Avg. avg_word_len : 5.1\n",
      "F Avg. avg_word_len : 5.2\n"
     ]
    },
    {
     "data": {
      "text/plain": [
       "(5.1, 5.2)"
      ]
     },
     "execution_count": 49,
     "metadata": {},
     "output_type": "execute_result"
    }
   ],
   "source": [
    "true_false_comparison(df, \"avg_word_len\")"
   ]
  },
  {
   "cell_type": "markdown",
   "id": "comic-aspect",
   "metadata": {},
   "source": [
    "#### Average readability score"
   ]
  },
  {
   "cell_type": "code",
   "execution_count": 50,
   "id": "fresh-limitation",
   "metadata": {},
   "outputs": [
    {
     "name": "stdout",
     "output_type": "stream",
     "text": [
      "read_score_gun p-value: 0.049\n",
      "T Avg. read_score_gun : 9.8\n",
      "F Avg. read_score_gun : 9.6\n"
     ]
    },
    {
     "data": {
      "text/plain": [
       "(9.8, 9.6)"
      ]
     },
     "execution_count": 50,
     "metadata": {},
     "output_type": "execute_result"
    }
   ],
   "source": [
    "true_false_comparison(df, \"read_score_gun\")"
   ]
  },
  {
   "cell_type": "code",
   "execution_count": null,
   "id": "unknown-delicious",
   "metadata": {},
   "outputs": [],
   "source": []
  },
  {
   "cell_type": "code",
   "execution_count": null,
   "id": "breeding-space",
   "metadata": {},
   "outputs": [],
   "source": [
    "## End of Notebook"
   ]
  }
 ],
 "metadata": {
  "kernelspec": {
   "display_name": "Python 3",
   "language": "python",
   "name": "python3"
  },
  "language_info": {
   "codemirror_mode": {
    "name": "ipython",
    "version": 3
   },
   "file_extension": ".py",
   "mimetype": "text/x-python",
   "name": "python",
   "nbconvert_exporter": "python",
   "pygments_lexer": "ipython3",
   "version": "3.8.8"
  }
 },
 "nbformat": 4,
 "nbformat_minor": 5
}
