{
 "cells": [
  {
   "cell_type": "markdown",
   "metadata": {
    "id": "OFOTiqrtNvyy"
   },
   "source": [
    "# Install Transformers Library"
   ]
  },
  {
   "cell_type": "code",
   "execution_count": 1,
   "metadata": {
    "colab": {
     "base_uri": "https://localhost:8080/"
    },
    "executionInfo": {
     "elapsed": 3023,
     "status": "ok",
     "timestamp": 1617550866225,
     "user": {
      "displayName": "Sergiu C",
      "photoUrl": "https://lh3.googleusercontent.com/a-/AOh14GhfqiW02ba2m04oUe7wNwz56AyLNmv59N1G4krbHIc=s64",
      "userId": "11087898073562528768"
     },
     "user_tz": -180
    },
    "id": "1hkhc10wNrGt",
    "outputId": "9391eb32-6eab-42a9-8d4c-b2d579e4260d"
   },
   "outputs": [
    {
     "name": "stdout",
     "output_type": "stream",
     "text": [
      "Requirement already satisfied: transformers==3.0.2 in /usr/local/lib/python3.7/dist-packages (3.0.2)\n",
      "Requirement already satisfied: requests in /usr/local/lib/python3.7/dist-packages (from transformers==3.0.2) (2.23.0)\n",
      "Requirement already satisfied: sacremoses in /usr/local/lib/python3.7/dist-packages (from transformers==3.0.2) (0.0.44)\n",
      "Requirement already satisfied: sentencepiece!=0.1.92 in /usr/local/lib/python3.7/dist-packages (from transformers==3.0.2) (0.1.95)\n",
      "Requirement already satisfied: packaging in /usr/local/lib/python3.7/dist-packages (from transformers==3.0.2) (20.9)\n",
      "Requirement already satisfied: tqdm>=4.27 in /usr/local/lib/python3.7/dist-packages (from transformers==3.0.2) (4.41.1)\n",
      "Requirement already satisfied: regex!=2019.12.17 in /usr/local/lib/python3.7/dist-packages (from transformers==3.0.2) (2019.12.20)\n",
      "Requirement already satisfied: tokenizers==0.8.1.rc1 in /usr/local/lib/python3.7/dist-packages (from transformers==3.0.2) (0.8.1rc1)\n",
      "Requirement already satisfied: numpy in /usr/local/lib/python3.7/dist-packages (from transformers==3.0.2) (1.19.5)\n",
      "Requirement already satisfied: filelock in /usr/local/lib/python3.7/dist-packages (from transformers==3.0.2) (3.0.12)\n",
      "Requirement already satisfied: certifi>=2017.4.17 in /usr/local/lib/python3.7/dist-packages (from requests->transformers==3.0.2) (2020.12.5)\n",
      "Requirement already satisfied: idna<3,>=2.5 in /usr/local/lib/python3.7/dist-packages (from requests->transformers==3.0.2) (2.10)\n",
      "Requirement already satisfied: urllib3!=1.25.0,!=1.25.1,<1.26,>=1.21.1 in /usr/local/lib/python3.7/dist-packages (from requests->transformers==3.0.2) (1.24.3)\n",
      "Requirement already satisfied: chardet<4,>=3.0.2 in /usr/local/lib/python3.7/dist-packages (from requests->transformers==3.0.2) (3.0.4)\n",
      "Requirement already satisfied: six in /usr/local/lib/python3.7/dist-packages (from sacremoses->transformers==3.0.2) (1.15.0)\n",
      "Requirement already satisfied: click in /usr/local/lib/python3.7/dist-packages (from sacremoses->transformers==3.0.2) (7.1.2)\n",
      "Requirement already satisfied: joblib in /usr/local/lib/python3.7/dist-packages (from sacremoses->transformers==3.0.2) (1.0.1)\n",
      "Requirement already satisfied: pyparsing>=2.0.2 in /usr/local/lib/python3.7/dist-packages (from packaging->transformers==3.0.2) (2.4.7)\n"
     ]
    }
   ],
   "source": [
    "!pip install transformers==3.0.2"
   ]
  },
  {
   "cell_type": "code",
   "execution_count": 2,
   "metadata": {
    "executionInfo": {
     "elapsed": 5107,
     "status": "ok",
     "timestamp": 1617550868326,
     "user": {
      "displayName": "Sergiu C",
      "photoUrl": "https://lh3.googleusercontent.com/a-/AOh14GhfqiW02ba2m04oUe7wNwz56AyLNmv59N1G4krbHIc=s64",
      "userId": "11087898073562528768"
     },
     "user_tz": -180
    },
    "id": "x4giRzM7NtHJ"
   },
   "outputs": [],
   "source": [
    "import numpy as np\n",
    "import pandas as pd\n",
    "import torch\n",
    "import torch.nn as nn\n",
    "from sklearn.model_selection import train_test_split\n",
    "from sklearn.metrics import classification_report\n",
    "import transformers\n",
    "from transformers import AutoModel, BertTokenizerFast, AlbertTokenizer\n",
    "\n",
    "# specify GPU\n",
    "device = torch.device(\"cuda\")"
   ]
  },
  {
   "cell_type": "markdown",
   "metadata": {
    "id": "kKd-Tj3hOMsZ"
   },
   "source": [
    "# Load Dataset"
   ]
  },
  {
   "cell_type": "code",
   "execution_count": 3,
   "metadata": {
    "colab": {
     "base_uri": "https://localhost:8080/"
    },
    "executionInfo": {
     "elapsed": 5096,
     "status": "ok",
     "timestamp": 1617550868328,
     "user": {
      "displayName": "Sergiu C",
      "photoUrl": "https://lh3.googleusercontent.com/a-/AOh14GhfqiW02ba2m04oUe7wNwz56AyLNmv59N1G4krbHIc=s64",
      "userId": "11087898073562528768"
     },
     "user_tz": -180
    },
    "id": "YyOhkwUbPeyN",
    "outputId": "e3506612-bec6-4b4e-be56-e564fa812097"
   },
   "outputs": [
    {
     "name": "stdout",
     "output_type": "stream",
     "text": [
      "Drive already mounted at /content/gdrive; to attempt to forcibly remount, call drive.mount(\"/content/gdrive\", force_remount=True).\n"
     ]
    }
   ],
   "source": [
    "from google.colab import drive \n",
    "drive.mount('/content/gdrive')"
   ]
  },
  {
   "cell_type": "code",
   "execution_count": 3,
   "metadata": {
    "executionInfo": {
     "elapsed": 5084,
     "status": "ok",
     "timestamp": 1617550868329,
     "user": {
      "displayName": "Sergiu C",
      "photoUrl": "https://lh3.googleusercontent.com/a-/AOh14GhfqiW02ba2m04oUe7wNwz56AyLNmv59N1G4krbHIc=s64",
      "userId": "11087898073562528768"
     },
     "user_tz": -180
    },
    "id": "txbiKJKkWavQ"
   },
   "outputs": [],
   "source": []
  },
  {
   "cell_type": "code",
   "execution_count": 4,
   "metadata": {
    "colab": {
     "base_uri": "https://localhost:8080/",
     "height": 204
    },
    "executionInfo": {
     "elapsed": 5079,
     "status": "ok",
     "timestamp": 1617550868336,
     "user": {
      "displayName": "Sergiu C",
      "photoUrl": "https://lh3.googleusercontent.com/a-/AOh14GhfqiW02ba2m04oUe7wNwz56AyLNmv59N1G4krbHIc=s64",
      "userId": "11087898073562528768"
     },
     "user_tz": -180
    },
    "id": "BVxic54_PfFw",
    "outputId": "3e159c6d-71f0-480f-ba14-430127f873fa"
   },
   "outputs": [
    {
     "data": {
      "text/html": [
       "<div>\n",
       "<style scoped>\n",
       "    .dataframe tbody tr th:only-of-type {\n",
       "        vertical-align: middle;\n",
       "    }\n",
       "\n",
       "    .dataframe tbody tr th {\n",
       "        vertical-align: top;\n",
       "    }\n",
       "\n",
       "    .dataframe thead th {\n",
       "        text-align: right;\n",
       "    }\n",
       "</style>\n",
       "<table border=\"1\" class=\"dataframe\">\n",
       "  <thead>\n",
       "    <tr style=\"text-align: right;\">\n",
       "      <th></th>\n",
       "      <th>statement</th>\n",
       "      <th>source</th>\n",
       "      <th>link</th>\n",
       "      <th>veracity</th>\n",
       "    </tr>\n",
       "  </thead>\n",
       "  <tbody>\n",
       "    <tr>\n",
       "      <th>0</th>\n",
       "      <td>Sen. Kamala Harris is \"supporting the animals ...</td>\n",
       "      <td>Donald Trump</td>\n",
       "      <td>/web/20180705082623/https://www.politifact.com...</td>\n",
       "      <td>0</td>\n",
       "    </tr>\n",
       "    <tr>\n",
       "      <th>1</th>\n",
       "      <td>Says Ronald Reagan said immigrants \"brought wi...</td>\n",
       "      <td>Becoming American Initiative</td>\n",
       "      <td>/web/20180705082623/https://www.politifact.com...</td>\n",
       "      <td>1</td>\n",
       "    </tr>\n",
       "    <tr>\n",
       "      <th>2</th>\n",
       "      <td>Says Democratic Senators \"demand Supreme Court...</td>\n",
       "      <td>Viral image</td>\n",
       "      <td>/web/20180705082623/https://www.politifact.com...</td>\n",
       "      <td>0</td>\n",
       "    </tr>\n",
       "    <tr>\n",
       "      <th>3</th>\n",
       "      <td>\"Tim Kaine doesn’t want a border at all. He wa...</td>\n",
       "      <td>Corey  Stewart</td>\n",
       "      <td>/web/20180705082623/https://www.politifact.com...</td>\n",
       "      <td>0</td>\n",
       "    </tr>\n",
       "    <tr>\n",
       "      <th>4</th>\n",
       "      <td>\"George H.W. Bush has died at 94.\"</td>\n",
       "      <td>Bloggers</td>\n",
       "      <td>/web/20180705082623/https://www.politifact.com...</td>\n",
       "      <td>0</td>\n",
       "    </tr>\n",
       "  </tbody>\n",
       "</table>\n",
       "</div>"
      ],
      "text/plain": [
       "                                           statement  ... veracity\n",
       "0  Sen. Kamala Harris is \"supporting the animals ...  ...        0\n",
       "1  Says Ronald Reagan said immigrants \"brought wi...  ...        1\n",
       "2  Says Democratic Senators \"demand Supreme Court...  ...        0\n",
       "3  \"Tim Kaine doesn’t want a border at all. He wa...  ...        0\n",
       "4                 \"George H.W. Bush has died at 94.\"  ...        0\n",
       "\n",
       "[5 rows x 4 columns]"
      ]
     },
     "execution_count": 4,
     "metadata": {
      "tags": []
     },
     "output_type": "execute_result"
    }
   ],
   "source": [
    "df=pd.read_csv('gdrive/My Drive/Licenta/Data/politifact_clean_binarized.csv')\n",
    "# df=pd.read_csv('gdrive/My Drive/Licenta/Data/mafiascum_label_text.csv')\n",
    "# df=pd.read_csv('gdrive/My Drive/Licenta/Data/mafiascum_label_words.csv')\n",
    "df.head()"
   ]
  },
  {
   "cell_type": "code",
   "execution_count": 5,
   "metadata": {
    "colab": {
     "base_uri": "https://localhost:8080/"
    },
    "executionInfo": {
     "elapsed": 5066,
     "status": "ok",
     "timestamp": 1617550868337,
     "user": {
      "displayName": "Sergiu C",
      "photoUrl": "https://lh3.googleusercontent.com/a-/AOh14GhfqiW02ba2m04oUe7wNwz56AyLNmv59N1G4krbHIc=s64",
      "userId": "11087898073562528768"
     },
     "user_tz": -180
    },
    "id": "WAcp4f4PPDtW",
    "outputId": "9eb33491-ef8a-421f-c005-bb16b2f27473"
   },
   "outputs": [
    {
     "name": "stdout",
     "output_type": "stream",
     "text": [
      "                                            statement  ... veracity\n",
      "0   Sen. Kamala Harris is \"supporting the animals ...  ...        0\n",
      "1   Says Ronald Reagan said immigrants \"brought wi...  ...        1\n",
      "2   Says Democratic Senators \"demand Supreme Court...  ...        0\n",
      "3   \"Tim Kaine doesn’t want a border at all. He wa...  ...        0\n",
      "4                  \"George H.W. Bush has died at 94.\"  ...        0\n",
      "5   \"The deficit ... is coming down, and it’s comi...  ...        0\n",
      "6   \"Watch those GDP numbers. We started off at a ...  ...        0\n",
      "7   \"The European Union … they send us Mercedes, t...  ...        0\n",
      "8   \"Clinton campaign official arrested by FBI on ...  ...        0\n",
      "9   \"Our courts find that 80 percent of those who ...  ...        0\n",
      "10  Says a progressive income tax proposal from De...  ...        0\n",
      "11  Says Wisconsin \"hadn’t been won by a Republica...  ...        0\n",
      "12     \"Maxine Waters Is Getting Criminally Charged!\"  ...        0\n",
      "13  Says Ron DeSantis \"voted in an agricultural bi...  ...        0\n",
      "14  Says Adam Putnam \"endorsed the Schumer-Obama G...  ...        1\n",
      "15  \"There isn't a system\" for reuniting families ...  ...        1\n",
      "16  Say \"Dunkin' Donuts is providing a free Ḍozen ...  ...        0\n",
      "17  \"Burka clad woman runs over baby, gets away wi...  ...        0\n",
      "18  \"NASA announced that it communicated with four...  ...        0\n",
      "19  \"Mexico’s Next President Calls for An Invasion...  ...        0\n",
      "20  \"Migrant mother and ‘crying girl’ on Time cove...  ...        1\n",
      "21  Says Republican gubernatorial candidate Adam L...  ...        0\n",
      "22  \"Obama administration kept illegal Mexican kid...  ...        0\n",
      "23  \"Fact: Over 90,000 kids were detained under Ob...  ...        0\n",
      "24  \"$1 billion—that’s how much Bruce Rauner has w...  ...        0\n",
      "25  Says Donald Trump's executive order \"doesn't a...  ...        1\n",
      "26  A Chinese proverb says, \"Those who say it can ...  ...        0\n",
      "27  \"Since taking office, we have enacted more tha...  ...        1\n",
      "28  \"Bill Clinton passed a law in 1996 that separa...  ...        0\n",
      "29  \"Busted: Obama is holding secret meetings to o...  ...        0\n",
      "30  \"There's been a 1,700 percent increase in asyl...  ...        1\n",
      "31  \"Under Emanuel, CPS has become the most unders...  ...        1\n",
      "32  Says May 2018 marked the 401st straight month ...  ...        1\n",
      "33  States with voter ID laws have seen \"zero decr...  ...        0\n",
      "34  Says Sen. Tim Kaine \"approves of and even appl...  ...        0\n",
      "35     \"39% of All California Students are illegals.\"  ...        0\n",
      "36  \"More than 66% of ALL births in California are...  ...        0\n",
      "37  \"By law, Democrats gave the superintendent of ...  ...        0\n",
      "38  Says Sen. Bill Nelson \"voted for higher taxes\"...  ...        0\n",
      "39  Sen. Kamala Harris is \"supporting the animals ...  ...        0\n",
      "40  Says Ronald Reagan said immigrants \"brought wi...  ...        1\n",
      "41  Says Democratic Senators \"demand Supreme Court...  ...        0\n",
      "42  \"Tim Kaine doesn’t want a border at all. He wa...  ...        0\n",
      "43                 \"George H.W. Bush has died at 94.\"  ...        0\n",
      "44  \"The deficit ... is coming down, and it’s comi...  ...        0\n",
      "45  \"Watch those GDP numbers. We started off at a ...  ...        0\n",
      "46  \"The European Union … they send us Mercedes, t...  ...        0\n",
      "47  \"Clinton campaign official arrested by FBI on ...  ...        0\n",
      "48  \"Our courts find that 80 percent of those who ...  ...        0\n",
      "49  Says a progressive income tax proposal from De...  ...        0\n",
      "\n",
      "[50 rows x 4 columns]\n"
     ]
    }
   ],
   "source": [
    "print(df[:50])"
   ]
  },
  {
   "cell_type": "code",
   "execution_count": 6,
   "metadata": {
    "colab": {
     "base_uri": "https://localhost:8080/"
    },
    "executionInfo": {
     "elapsed": 5053,
     "status": "ok",
     "timestamp": 1617550868338,
     "user": {
      "displayName": "Sergiu C",
      "photoUrl": "https://lh3.googleusercontent.com/a-/AOh14GhfqiW02ba2m04oUe7wNwz56AyLNmv59N1G4krbHIc=s64",
      "userId": "11087898073562528768"
     },
     "user_tz": -180
    },
    "id": "fzPPOrVQWiW5",
    "outputId": "3429a633-6af2-40c6-f9e3-f67cbfec005d"
   },
   "outputs": [
    {
     "data": {
      "text/plain": [
       "(11188, 4)"
      ]
     },
     "execution_count": 6,
     "metadata": {
      "tags": []
     },
     "output_type": "execute_result"
    }
   ],
   "source": [
    "df.shape"
   ]
  },
  {
   "cell_type": "code",
   "execution_count": 7,
   "metadata": {
    "colab": {
     "base_uri": "https://localhost:8080/"
    },
    "executionInfo": {
     "elapsed": 5041,
     "status": "ok",
     "timestamp": 1617550868338,
     "user": {
      "displayName": "Sergiu C",
      "photoUrl": "https://lh3.googleusercontent.com/a-/AOh14GhfqiW02ba2m04oUe7wNwz56AyLNmv59N1G4krbHIc=s64",
      "userId": "11087898073562528768"
     },
     "user_tz": -180
    },
    "id": "676DPU1BOPdp",
    "outputId": "5da60faf-b7f6-44c3-acee-a364652f32ef"
   },
   "outputs": [
    {
     "data": {
      "text/plain": [
       "0    0.566232\n",
       "1    0.433768\n",
       "Name: veracity, dtype: float64"
      ]
     },
     "execution_count": 7,
     "metadata": {
      "tags": []
     },
     "output_type": "execute_result"
    }
   ],
   "source": [
    "# check class distribution\n",
    "df['veracity'].value_counts(normalize = True)"
   ]
  },
  {
   "cell_type": "markdown",
   "metadata": {
    "id": "MKfWnApvOoE7"
   },
   "source": [
    "# Split train dataset into train, validation and test sets"
   ]
  },
  {
   "cell_type": "code",
   "execution_count": 8,
   "metadata": {
    "executionInfo": {
     "elapsed": 5029,
     "status": "ok",
     "timestamp": 1617550868339,
     "user": {
      "displayName": "Sergiu C",
      "photoUrl": "https://lh3.googleusercontent.com/a-/AOh14GhfqiW02ba2m04oUe7wNwz56AyLNmv59N1G4krbHIc=s64",
      "userId": "11087898073562528768"
     },
     "user_tz": -180
    },
    "id": "mfhSPF5jOWb7"
   },
   "outputs": [],
   "source": [
    "train_text, temp_text, train_labels, temp_labels = train_test_split(df['statement'], df['veracity'], \n",
    "                                                                    random_state=2018, \n",
    "                                                                    test_size=0.3, \n",
    "                                                                    stratify=df['veracity'])\n",
    "\n",
    "# we will use temp_text and temp_labels to create validation and test set\n",
    "val_text, test_text, val_labels, test_labels = train_test_split(temp_text, temp_labels, \n",
    "                                                                random_state=2018, \n",
    "                                                                test_size=0.5, \n",
    "                                                                stratify=temp_labels)"
   ]
  },
  {
   "cell_type": "markdown",
   "metadata": {
    "id": "n7hsdLoCO7uB"
   },
   "source": [
    "# Import BERT Model and BERT Tokenizer"
   ]
  },
  {
   "cell_type": "code",
   "execution_count": 9,
   "metadata": {
    "colab": {
     "base_uri": "https://localhost:8080/",
     "height": 164,
     "referenced_widgets": [
      "a453957f68284dffbd8672f841e7d0fd",
      "3f13b45c4699411aa54e44626f272da2",
      "a03ffcbf5aeb4be195161de2c93d33e4",
      "1099d5c1b8524a9995618974d9446ecd",
      "b0b647e974024f438f6313331cffdfd2",
      "a4a7ce7e539443e89348a17500610ca9",
      "b11f32979e4448e1a876c2f58590582d",
      "d3b9da1942bf4ae192204994ca309b87",
      "73b60f146c914e20901535f2f30d68b2",
      "c3af26c423eb44e78fb860aa6ae99501",
      "8e28536c0017486a8d358ccaacca7f11",
      "a917a19ccb104f4bb98da451420c26f4",
      "8c4cd489a5c347e2937abbd2a6faa599",
      "2c2a0754a57248c0a871d9e4165a4b5c",
      "b0ab24d926714a67bf02951c138ac1ee",
      "27963c06e1b543e5aa50a5a09121f72a",
      "7d8c9ae43998454391822d7e4b6a9899",
      "ef445a8afbd6462d99c39a900d126ab8",
      "797079f24bd0413689afc13d1af1bdd5",
      "a1a53574fe23424c93bf613ae55d80a5",
      "f3f89369697c4e7cae043eec2ecb3323",
      "2cc53acc3f6c43948e91b58f940ca25d",
      "61587a4112d74f4f8a977e8227d583f3",
      "42a471233c53473192b921ba8c805767"
     ]
    },
    "executionInfo": {
     "elapsed": 8857,
     "status": "ok",
     "timestamp": 1617550872178,
     "user": {
      "displayName": "Sergiu C",
      "photoUrl": "https://lh3.googleusercontent.com/a-/AOh14GhfqiW02ba2m04oUe7wNwz56AyLNmv59N1G4krbHIc=s64",
      "userId": "11087898073562528768"
     },
     "user_tz": -180
    },
    "id": "S1kY3gZjO2RE",
    "outputId": "eaca5786-8cbc-4ceb-f498-0ec39d435243"
   },
   "outputs": [
    {
     "data": {
      "application/vnd.jupyter.widget-view+json": {
       "model_id": "a453957f68284dffbd8672f841e7d0fd",
       "version_major": 2,
       "version_minor": 0
      },
      "text/plain": [
       "HBox(children=(FloatProgress(value=0.0, description='Downloading', max=684.0, style=ProgressStyle(description_…"
      ]
     },
     "metadata": {
      "tags": []
     },
     "output_type": "display_data"
    },
    {
     "name": "stdout",
     "output_type": "stream",
     "text": [
      "\n"
     ]
    },
    {
     "data": {
      "application/vnd.jupyter.widget-view+json": {
       "model_id": "73b60f146c914e20901535f2f30d68b2",
       "version_major": 2,
       "version_minor": 0
      },
      "text/plain": [
       "HBox(children=(FloatProgress(value=0.0, description='Downloading', max=47376696.0, style=ProgressStyle(descrip…"
      ]
     },
     "metadata": {
      "tags": []
     },
     "output_type": "display_data"
    },
    {
     "name": "stdout",
     "output_type": "stream",
     "text": [
      "\n"
     ]
    },
    {
     "data": {
      "application/vnd.jupyter.widget-view+json": {
       "model_id": "7d8c9ae43998454391822d7e4b6a9899",
       "version_major": 2,
       "version_minor": 0
      },
      "text/plain": [
       "HBox(children=(FloatProgress(value=0.0, description='Downloading', max=760289.0, style=ProgressStyle(descripti…"
      ]
     },
     "metadata": {
      "tags": []
     },
     "output_type": "display_data"
    },
    {
     "name": "stdout",
     "output_type": "stream",
     "text": [
      "\n"
     ]
    }
   ],
   "source": [
    "# import BERT-base pretrained model\n",
    "bert = AutoModel.from_pretrained('albert-base-v2')\n",
    "\n",
    "# Load the BERT tokenizer\n",
    "tokenizer = AlbertTokenizer.from_pretrained('albert-base-v2')"
   ]
  },
  {
   "cell_type": "code",
   "execution_count": 10,
   "metadata": {
    "executionInfo": {
     "elapsed": 8842,
     "status": "ok",
     "timestamp": 1617550872179,
     "user": {
      "displayName": "Sergiu C",
      "photoUrl": "https://lh3.googleusercontent.com/a-/AOh14GhfqiW02ba2m04oUe7wNwz56AyLNmv59N1G4krbHIc=s64",
      "userId": "11087898073562528768"
     },
     "user_tz": -180
    },
    "id": "_zOKeOMeO-DT"
   },
   "outputs": [],
   "source": [
    "# sample data\n",
    "text = [\"this is a bert model tutorial\", \"we will fine-tune a bert model\"]\n",
    "\n",
    "# encode text\n",
    "sent_id = tokenizer.batch_encode_plus(text, padding=True, return_token_type_ids=False)"
   ]
  },
  {
   "cell_type": "code",
   "execution_count": 11,
   "metadata": {
    "colab": {
     "base_uri": "https://localhost:8080/"
    },
    "executionInfo": {
     "elapsed": 8833,
     "status": "ok",
     "timestamp": 1617550872180,
     "user": {
      "displayName": "Sergiu C",
      "photoUrl": "https://lh3.googleusercontent.com/a-/AOh14GhfqiW02ba2m04oUe7wNwz56AyLNmv59N1G4krbHIc=s64",
      "userId": "11087898073562528768"
     },
     "user_tz": -180
    },
    "id": "oAH73n39PHLw",
    "outputId": "146f8a8e-a583-4881-a52c-fa3b7d5eec7e"
   },
   "outputs": [
    {
     "name": "stdout",
     "output_type": "stream",
     "text": [
      "{'input_ids': [[2, 48, 25, 21, 11502, 1061, 29724, 3, 0, 0, 0], [2, 95, 129, 1123, 8, 38, 6763, 21, 11502, 1061, 3]], 'attention_mask': [[1, 1, 1, 1, 1, 1, 1, 1, 0, 0, 0], [1, 1, 1, 1, 1, 1, 1, 1, 1, 1, 1]]}\n"
     ]
    }
   ],
   "source": [
    "# output\n",
    "print(sent_id)"
   ]
  },
  {
   "cell_type": "markdown",
   "metadata": {
    "id": "8wIYaWI_Prg8"
   },
   "source": [
    "# Tokenization"
   ]
  },
  {
   "cell_type": "code",
   "execution_count": 12,
   "metadata": {
    "colab": {
     "base_uri": "https://localhost:8080/",
     "height": 282
    },
    "executionInfo": {
     "elapsed": 9299,
     "status": "ok",
     "timestamp": 1617550872660,
     "user": {
      "displayName": "Sergiu C",
      "photoUrl": "https://lh3.googleusercontent.com/a-/AOh14GhfqiW02ba2m04oUe7wNwz56AyLNmv59N1G4krbHIc=s64",
      "userId": "11087898073562528768"
     },
     "user_tz": -180
    },
    "id": "yKwbpeN_PMiu",
    "outputId": "92d083f6-775f-4398-9b8f-d3dddb304189"
   },
   "outputs": [
    {
     "data": {
      "text/plain": [
       "<matplotlib.axes._subplots.AxesSubplot at 0x7f538a9f6e90>"
      ]
     },
     "execution_count": 12,
     "metadata": {
      "tags": []
     },
     "output_type": "execute_result"
    },
    {
     "data": {
      "image/png": "[encoded data removed]",
      "text/plain": [
       "<Figure size 432x288 with 1 Axes>"
      ]
     },
     "metadata": {
      "needs_background": "light",
      "tags": []
     },
     "output_type": "display_data"
    }
   ],
   "source": [
    "# get length of all the messages in the train set\n",
    "seq_len = [len(i.split()) for i in train_text]\n",
    "\n",
    "pd.Series(seq_len).hist(bins = 30)"
   ]
  },
  {
   "cell_type": "code",
   "execution_count": 13,
   "metadata": {
    "executionInfo": {
     "elapsed": 9287,
     "status": "ok",
     "timestamp": 1617550872661,
     "user": {
      "displayName": "Sergiu C",
      "photoUrl": "https://lh3.googleusercontent.com/a-/AOh14GhfqiW02ba2m04oUe7wNwz56AyLNmv59N1G4krbHIc=s64",
      "userId": "11087898073562528768"
     },
     "user_tz": -180
    },
    "id": "OXcswEIRPvGe"
   },
   "outputs": [],
   "source": [
    "max_seq_len = 50"
   ]
  },
  {
   "cell_type": "code",
   "execution_count": 14,
   "metadata": {
    "executionInfo": {
     "elapsed": 10699,
     "status": "ok",
     "timestamp": 1617550874083,
     "user": {
      "displayName": "Sergiu C",
      "photoUrl": "https://lh3.googleusercontent.com/a-/AOh14GhfqiW02ba2m04oUe7wNwz56AyLNmv59N1G4krbHIc=s64",
      "userId": "11087898073562528768"
     },
     "user_tz": -180
    },
    "id": "tk5S7DWaP2t6"
   },
   "outputs": [],
   "source": [
    "# tokenize and encode sequences in the training set\n",
    "tokens_train = tokenizer.batch_encode_plus(\n",
    "    train_text.tolist(),\n",
    "    max_length = max_seq_len,\n",
    "    pad_to_max_length=True,\n",
    "    truncation=True,\n",
    "    return_token_type_ids=False\n",
    ")\n",
    "\n",
    "# tokenize and encode sequences in the validation set\n",
    "tokens_val = tokenizer.batch_encode_plus(\n",
    "    val_text.tolist(),\n",
    "    max_length = max_seq_len,\n",
    "    pad_to_max_length=True,\n",
    "    truncation=True,\n",
    "    return_token_type_ids=False\n",
    ")\n",
    "\n",
    "# tokenize and encode sequences in the test set\n",
    "tokens_test = tokenizer.batch_encode_plus(\n",
    "    test_text.tolist(),\n",
    "    max_length = max_seq_len,\n",
    "    pad_to_max_length=True,\n",
    "    truncation=True,\n",
    "    return_token_type_ids=False\n",
    ")"
   ]
  },
  {
   "cell_type": "markdown",
   "metadata": {
    "id": "Wsm8bkRZQTw9"
   },
   "source": [
    "# Convert Integer Sequences to Tensors"
   ]
  },
  {
   "cell_type": "code",
   "execution_count": 15,
   "metadata": {
    "executionInfo": {
     "elapsed": 10688,
     "status": "ok",
     "timestamp": 1617550874084,
     "user": {
      "displayName": "Sergiu C",
      "photoUrl": "https://lh3.googleusercontent.com/a-/AOh14GhfqiW02ba2m04oUe7wNwz56AyLNmv59N1G4krbHIc=s64",
      "userId": "11087898073562528768"
     },
     "user_tz": -180
    },
    "id": "QR-lXwmzQPd6"
   },
   "outputs": [],
   "source": [
    "# for train set\n",
    "train_seq = torch.tensor(tokens_train['input_ids'])\n",
    "train_mask = torch.tensor(tokens_train['attention_mask'])\n",
    "train_y = torch.tensor(train_labels.tolist())\n",
    "\n",
    "# for validation set\n",
    "val_seq = torch.tensor(tokens_val['input_ids'])\n",
    "val_mask = torch.tensor(tokens_val['attention_mask'])\n",
    "val_y = torch.tensor(val_labels.tolist())\n",
    "\n",
    "# for test set\n",
    "test_seq = torch.tensor(tokens_test['input_ids'])\n",
    "test_mask = torch.tensor(tokens_test['attention_mask'])\n",
    "test_y = torch.tensor(test_labels.tolist())"
   ]
  },
  {
   "cell_type": "markdown",
   "metadata": {
    "id": "Ov1cOBlcRLuk"
   },
   "source": [
    "# Create DataLoaders"
   ]
  },
  {
   "cell_type": "code",
   "execution_count": 16,
   "metadata": {
    "executionInfo": {
     "elapsed": 10680,
     "status": "ok",
     "timestamp": 1617550874085,
     "user": {
      "displayName": "Sergiu C",
      "photoUrl": "https://lh3.googleusercontent.com/a-/AOh14GhfqiW02ba2m04oUe7wNwz56AyLNmv59N1G4krbHIc=s64",
      "userId": "11087898073562528768"
     },
     "user_tz": -180
    },
    "id": "qUy9JKFYQYLp"
   },
   "outputs": [],
   "source": [
    "from torch.utils.data import TensorDataset, DataLoader, RandomSampler, SequentialSampler\n",
    "\n",
    "#define a batch size\n",
    "batch_size = 48\n",
    "\n",
    "# wrap tensors\n",
    "train_data = TensorDataset(train_seq, train_mask, train_y)\n",
    "\n",
    "# sampler for sampling the data during training\n",
    "train_sampler = RandomSampler(train_data)\n",
    "\n",
    "# dataLoader for train set\n",
    "train_dataloader = DataLoader(train_data, sampler=train_sampler, batch_size=batch_size)\n",
    "\n",
    "# wrap tensors\n",
    "val_data = TensorDataset(val_seq, val_mask, val_y)\n",
    "\n",
    "# sampler for sampling the data during training\n",
    "val_sampler = SequentialSampler(val_data)\n",
    "\n",
    "# dataLoader for validation set\n",
    "val_dataloader = DataLoader(val_data, sampler = val_sampler, batch_size=batch_size)"
   ]
  },
  {
   "cell_type": "markdown",
   "metadata": {
    "id": "K2HZc5ZYRV28"
   },
   "source": [
    "# Freeze BERT Parameters"
   ]
  },
  {
   "cell_type": "code",
   "execution_count": 17,
   "metadata": {
    "executionInfo": {
     "elapsed": 10669,
     "status": "ok",
     "timestamp": 1617550874085,
     "user": {
      "displayName": "Sergiu C",
      "photoUrl": "https://lh3.googleusercontent.com/a-/AOh14GhfqiW02ba2m04oUe7wNwz56AyLNmv59N1G4krbHIc=s64",
      "userId": "11087898073562528768"
     },
     "user_tz": -180
    },
    "id": "wHZ0MC00RQA_"
   },
   "outputs": [],
   "source": [
    "# freeze all the parameters\n",
    "for param in bert.parameters():\n",
    "    param.requires_grad = False"
   ]
  },
  {
   "cell_type": "markdown",
   "metadata": {
    "id": "s7ahGBUWRi3X"
   },
   "source": [
    "# Define Model Architecture"
   ]
  },
  {
   "cell_type": "code",
   "execution_count": 18,
   "metadata": {
    "executionInfo": {
     "elapsed": 10660,
     "status": "ok",
     "timestamp": 1617550874086,
     "user": {
      "displayName": "Sergiu C",
      "photoUrl": "https://lh3.googleusercontent.com/a-/AOh14GhfqiW02ba2m04oUe7wNwz56AyLNmv59N1G4krbHIc=s64",
      "userId": "11087898073562528768"
     },
     "user_tz": -180
    },
    "id": "b3iEtGyYRd0A"
   },
   "outputs": [],
   "source": [
    "class BERT_Arch(nn.Module):\n",
    "\n",
    "    def __init__(self, bert):\n",
    "      \n",
    "      super(BERT_Arch, self).__init__()\n",
    "\n",
    "      self.bert = bert \n",
    "      \n",
    "      # dropout layer\n",
    "      self.dropout = nn.Dropout(0.1)\n",
    "      \n",
    "      # relu activation function\n",
    "      self.relu =  nn.ReLU()\n",
    "\n",
    "      # dense layer 1\n",
    "      self.fc1 = nn.Linear(768,512)\n",
    "      \n",
    "      # dense layer 2 (Output layer)\n",
    "      self.fc2 = nn.Linear(512,2)\n",
    "\n",
    "      #softmax activation function\n",
    "      self.softmax = nn.LogSoftmax(dim=1)\n",
    "\n",
    "    #define the forward pass\n",
    "    def forward(self, sent_id, mask):\n",
    "\n",
    "      #pass the inputs to the model  \n",
    "      _, cls_hs = self.bert(sent_id, attention_mask=mask)\n",
    "      \n",
    "      x = self.fc1(cls_hs)\n",
    "\n",
    "      x = self.relu(x)\n",
    "\n",
    "      x = self.dropout(x)\n",
    "\n",
    "      # output layer\n",
    "      x = self.fc2(x)\n",
    "      \n",
    "      # apply softmax activation\n",
    "      x = self.softmax(x)\n",
    "\n",
    "      return x"
   ]
  },
  {
   "cell_type": "code",
   "execution_count": 19,
   "metadata": {
    "executionInfo": {
     "elapsed": 14097,
     "status": "ok",
     "timestamp": 1617550877533,
     "user": {
      "displayName": "Sergiu C",
      "photoUrl": "https://lh3.googleusercontent.com/a-/AOh14GhfqiW02ba2m04oUe7wNwz56AyLNmv59N1G4krbHIc=s64",
      "userId": "11087898073562528768"
     },
     "user_tz": -180
    },
    "id": "cBAJJVuJRliv"
   },
   "outputs": [],
   "source": [
    "# pass the pre-trained BERT to our define architecture\n",
    "model = BERT_Arch(bert)\n",
    "\n",
    "# push the model to GPU\n",
    "model = model.to(device)"
   ]
  },
  {
   "cell_type": "code",
   "execution_count": 20,
   "metadata": {
    "executionInfo": {
     "elapsed": 14091,
     "status": "ok",
     "timestamp": 1617550877537,
     "user": {
      "displayName": "Sergiu C",
      "photoUrl": "https://lh3.googleusercontent.com/a-/AOh14GhfqiW02ba2m04oUe7wNwz56AyLNmv59N1G4krbHIc=s64",
      "userId": "11087898073562528768"
     },
     "user_tz": -180
    },
    "id": "taXS0IilRn9J"
   },
   "outputs": [],
   "source": [
    "# optimizer from hugging face transformers\n",
    "from transformers import AdamW\n",
    "\n",
    "# define the optimizer\n",
    "optimizer = AdamW(model.parameters(), lr = 4e-5)"
   ]
  },
  {
   "cell_type": "markdown",
   "metadata": {
    "id": "j9CDpoMQR_rK"
   },
   "source": [
    "# Find Class Weights"
   ]
  },
  {
   "cell_type": "code",
   "execution_count": 21,
   "metadata": {
    "colab": {
     "base_uri": "https://localhost:8080/"
    },
    "executionInfo": {
     "elapsed": 14081,
     "status": "ok",
     "timestamp": 1617550877537,
     "user": {
      "displayName": "Sergiu C",
      "photoUrl": "https://lh3.googleusercontent.com/a-/AOh14GhfqiW02ba2m04oUe7wNwz56AyLNmv59N1G4krbHIc=s64",
      "userId": "11087898073562528768"
     },
     "user_tz": -180
    },
    "id": "izY5xH5eR7Ur",
    "outputId": "75bd4c6d-bb59-42e4-b05e-d4a50b9a01e4"
   },
   "outputs": [
    {
     "name": "stdout",
     "output_type": "stream",
     "text": [
      "[0.8830627  1.15263468]\n"
     ]
    }
   ],
   "source": [
    "from sklearn.utils.class_weight import compute_class_weight\n",
    "\n",
    "#compute the class weights\n",
    "class_wts = compute_class_weight('balanced', np.unique(train_labels), train_labels)\n",
    "\n",
    "print(class_wts)"
   ]
  },
  {
   "cell_type": "code",
   "execution_count": 22,
   "metadata": {
    "executionInfo": {
     "elapsed": 14070,
     "status": "ok",
     "timestamp": 1617550877538,
     "user": {
      "displayName": "Sergiu C",
      "photoUrl": "https://lh3.googleusercontent.com/a-/AOh14GhfqiW02ba2m04oUe7wNwz56AyLNmv59N1G4krbHIc=s64",
      "userId": "11087898073562528768"
     },
     "user_tz": -180
    },
    "id": "r1WvfY2vSGKi"
   },
   "outputs": [],
   "source": [
    "# convert class weights to tensor\n",
    "weights= torch.tensor(class_wts,dtype=torch.float)\n",
    "weights = weights.to(device)\n",
    "\n",
    "# loss function\n",
    "cross_entropy  = nn.NLLLoss(weight=weights) \n",
    "\n",
    "# number of training epochs\n",
    "epochs = 30"
   ]
  },
  {
   "cell_type": "markdown",
   "metadata": {
    "id": "My4CA0qaShLq"
   },
   "source": [
    "# Fine-Tune BERT"
   ]
  },
  {
   "cell_type": "code",
   "execution_count": 23,
   "metadata": {
    "executionInfo": {
     "elapsed": 14060,
     "status": "ok",
     "timestamp": 1617550877538,
     "user": {
      "displayName": "Sergiu C",
      "photoUrl": "https://lh3.googleusercontent.com/a-/AOh14GhfqiW02ba2m04oUe7wNwz56AyLNmv59N1G4krbHIc=s64",
      "userId": "11087898073562528768"
     },
     "user_tz": -180
    },
    "id": "rskLk8R_SahS"
   },
   "outputs": [],
   "source": [
    "# function to train the model\n",
    "def train():\n",
    "  \n",
    "  model.train()\n",
    "\n",
    "  total_loss, total_accuracy = 0, 0\n",
    "  \n",
    "  # empty list to save model predictions\n",
    "  total_preds=[]\n",
    "  \n",
    "  # iterate over batches\n",
    "  for step,batch in enumerate(train_dataloader):\n",
    "    \n",
    "    # progress update after every 50 batches.\n",
    "    if step % 50 == 0 and not step == 0:\n",
    "      print('  Batch {:>5,}  of  {:>5,}.'.format(step, len(train_dataloader)))\n",
    "\n",
    "    # push the batch to gpu\n",
    "    batch = [r.to(device) for r in batch]\n",
    " \n",
    "    sent_id, mask, labels = batch\n",
    "\n",
    "    # clear previously calculated gradients \n",
    "    model.zero_grad()        \n",
    "\n",
    "    # get model predictions for the current batch\n",
    "    preds = model(sent_id, mask)\n",
    "\n",
    "    # compute the loss between actual and predicted values\n",
    "    loss = cross_entropy(preds, labels)\n",
    "\n",
    "    # add on to the total loss\n",
    "    total_loss = total_loss + loss.item()\n",
    "\n",
    "    # backward pass to calculate the gradients\n",
    "    loss.backward()\n",
    "\n",
    "    # clip the the gradients to 1.0. It helps in preventing the exploding gradient problem\n",
    "    torch.nn.utils.clip_grad_norm_(model.parameters(), 1.0)\n",
    "\n",
    "    # update parameters\n",
    "    optimizer.step()\n",
    "\n",
    "    # model predictions are stored on GPU. So, push it to CPU\n",
    "    preds=preds.detach().cpu().numpy()\n",
    "\n",
    "    # append the model predictions\n",
    "    total_preds.append(preds)\n",
    "\n",
    "  # compute the training loss of the epoch\n",
    "  avg_loss = total_loss / len(train_dataloader)\n",
    "  \n",
    "  # predictions are in the form of (no. of batches, size of batch, no. of classes).\n",
    "  # reshape the predictions in form of (number of samples, no. of classes)\n",
    "  total_preds  = np.concatenate(total_preds, axis=0)\n",
    "\n",
    "  #returns the loss and predictions\n",
    "  return avg_loss, total_preds"
   ]
  },
  {
   "cell_type": "code",
   "execution_count": 24,
   "metadata": {
    "executionInfo": {
     "elapsed": 14049,
     "status": "ok",
     "timestamp": 1617550877539,
     "user": {
      "displayName": "Sergiu C",
      "photoUrl": "https://lh3.googleusercontent.com/a-/AOh14GhfqiW02ba2m04oUe7wNwz56AyLNmv59N1G4krbHIc=s64",
      "userId": "11087898073562528768"
     },
     "user_tz": -180
    },
    "id": "yGXovFDlSxB5"
   },
   "outputs": [],
   "source": [
    "# function for evaluating the model\n",
    "def evaluate():\n",
    "  \n",
    "  print(\"\\nEvaluating...\")\n",
    "  \n",
    "  # deactivate dropout layers\n",
    "  model.eval()\n",
    "\n",
    "  total_loss, total_accuracy = 0, 0\n",
    "  \n",
    "  # empty list to save the model predictions\n",
    "  total_preds = []\n",
    "\n",
    "  # iterate over batches\n",
    "  for step,batch in enumerate(val_dataloader):\n",
    "    \n",
    "    # Progress update every 50 batches.\n",
    "    if step % 50 == 0 and not step == 0:\n",
    "      \n",
    "      # Calculate elapsed time in minutes.\n",
    "      # elapsed = format_time(time.time() - t0)\n",
    "            \n",
    "      # Report progress.\n",
    "      print('  Batch {:>5,}  of  {:>5,}.'.format(step, len(val_dataloader)))\n",
    "\n",
    "    # push the batch to gpu\n",
    "    batch = [t.to(device) for t in batch]\n",
    "\n",
    "    sent_id, mask, labels = batch\n",
    "\n",
    "    # deactivate autograd\n",
    "    with torch.no_grad():\n",
    "      \n",
    "      # model predictions\n",
    "      preds = model(sent_id, mask)\n",
    "\n",
    "      # compute the validation loss between actual and predicted values\n",
    "      loss = cross_entropy(preds,labels)\n",
    "\n",
    "      total_loss = total_loss + loss.item()\n",
    "\n",
    "      preds = preds.detach().cpu().numpy()\n",
    "\n",
    "      total_preds.append(preds)\n",
    "\n",
    "  # compute the validation loss of the epoch\n",
    "  avg_loss = total_loss / len(val_dataloader) \n",
    "\n",
    "  # reshape the predictions in form of (number of samples, no. of classes)\n",
    "  total_preds  = np.concatenate(total_preds, axis=0)\n",
    "\n",
    "  return avg_loss, total_preds"
   ]
  },
  {
   "cell_type": "markdown",
   "metadata": {
    "id": "9KZEgxRRTLXG"
   },
   "source": [
    "# Start Model Training"
   ]
  },
  {
   "cell_type": "code",
   "execution_count": 25,
   "metadata": {
    "colab": {
     "base_uri": "https://localhost:8080/"
    },
    "executionInfo": {
     "elapsed": 996108,
     "status": "ok",
     "timestamp": 1617551859609,
     "user": {
      "displayName": "Sergiu C",
      "photoUrl": "https://lh3.googleusercontent.com/a-/AOh14GhfqiW02ba2m04oUe7wNwz56AyLNmv59N1G4krbHIc=s64",
      "userId": "11087898073562528768"
     },
     "user_tz": -180
    },
    "id": "k1USGTntS3TS",
    "outputId": "a3356443-735b-4894-de17-d571025e4775"
   },
   "outputs": [
    {
     "name": "stdout",
     "output_type": "stream",
     "text": [
      "\n",
      " Epoch 1 / 30\n",
      "  Batch    50  of    164.\n",
      "  Batch   100  of    164.\n",
      "  Batch   150  of    164.\n",
      "\n",
      "Evaluating...\n",
      "\n",
      "Training Loss: 0.686\n",
      "Validation Loss: 0.677\n",
      "\n",
      " Epoch 2 / 30\n",
      "  Batch    50  of    164.\n",
      "  Batch   100  of    164.\n",
      "  Batch   150  of    164.\n",
      "\n",
      "Evaluating...\n",
      "\n",
      "Training Loss: 0.680\n",
      "Validation Loss: 0.673\n",
      "\n",
      " Epoch 3 / 30\n",
      "  Batch    50  of    164.\n",
      "  Batch   100  of    164.\n",
      "  Batch   150  of    164.\n",
      "\n",
      "Evaluating...\n",
      "\n",
      "Training Loss: 0.678\n",
      "Validation Loss: 0.676\n",
      "\n",
      " Epoch 4 / 30\n",
      "  Batch    50  of    164.\n",
      "  Batch   100  of    164.\n",
      "  Batch   150  of    164.\n",
      "\n",
      "Evaluating...\n",
      "\n",
      "Training Loss: 0.676\n",
      "Validation Loss: 0.670\n",
      "\n",
      " Epoch 5 / 30\n",
      "  Batch    50  of    164.\n",
      "  Batch   100  of    164.\n",
      "  Batch   150  of    164.\n",
      "\n",
      "Evaluating...\n",
      "\n",
      "Training Loss: 0.674\n",
      "Validation Loss: 0.668\n",
      "\n",
      " Epoch 6 / 30\n",
      "  Batch    50  of    164.\n",
      "  Batch   100  of    164.\n",
      "  Batch   150  of    164.\n",
      "\n",
      "Evaluating...\n",
      "\n",
      "Training Loss: 0.673\n",
      "Validation Loss: 0.674\n",
      "\n",
      " Epoch 7 / 30\n",
      "  Batch    50  of    164.\n",
      "  Batch   100  of    164.\n",
      "  Batch   150  of    164.\n",
      "\n",
      "Evaluating...\n",
      "\n",
      "Training Loss: 0.672\n",
      "Validation Loss: 0.668\n",
      "\n",
      " Epoch 8 / 30\n",
      "  Batch    50  of    164.\n",
      "  Batch   100  of    164.\n",
      "  Batch   150  of    164.\n",
      "\n",
      "Evaluating...\n",
      "\n",
      "Training Loss: 0.669\n",
      "Validation Loss: 0.666\n",
      "\n",
      " Epoch 9 / 30\n",
      "  Batch    50  of    164.\n",
      "  Batch   100  of    164.\n",
      "  Batch   150  of    164.\n",
      "\n",
      "Evaluating...\n",
      "\n",
      "Training Loss: 0.667\n",
      "Validation Loss: 0.665\n",
      "\n",
      " Epoch 10 / 30\n",
      "  Batch    50  of    164.\n",
      "  Batch   100  of    164.\n",
      "  Batch   150  of    164.\n",
      "\n",
      "Evaluating...\n",
      "\n",
      "Training Loss: 0.667\n",
      "Validation Loss: 0.663\n",
      "\n",
      " Epoch 11 / 30\n",
      "  Batch    50  of    164.\n",
      "  Batch   100  of    164.\n",
      "  Batch   150  of    164.\n",
      "\n",
      "Evaluating...\n",
      "\n",
      "Training Loss: 0.666\n",
      "Validation Loss: 0.665\n",
      "\n",
      " Epoch 12 / 30\n",
      "  Batch    50  of    164.\n",
      "  Batch   100  of    164.\n",
      "  Batch   150  of    164.\n",
      "\n",
      "Evaluating...\n",
      "\n",
      "Training Loss: 0.665\n",
      "Validation Loss: 0.666\n",
      "\n",
      " Epoch 13 / 30\n",
      "  Batch    50  of    164.\n",
      "  Batch   100  of    164.\n",
      "  Batch   150  of    164.\n",
      "\n",
      "Evaluating...\n",
      "\n",
      "Training Loss: 0.664\n",
      "Validation Loss: 0.659\n",
      "\n",
      " Epoch 14 / 30\n",
      "  Batch    50  of    164.\n",
      "  Batch   100  of    164.\n",
      "  Batch   150  of    164.\n",
      "\n",
      "Evaluating...\n",
      "\n",
      "Training Loss: 0.663\n",
      "Validation Loss: 0.657\n",
      "\n",
      " Epoch 15 / 30\n",
      "  Batch    50  of    164.\n",
      "  Batch   100  of    164.\n",
      "  Batch   150  of    164.\n",
      "\n",
      "Evaluating...\n",
      "\n",
      "Training Loss: 0.662\n",
      "Validation Loss: 0.657\n",
      "\n",
      " Epoch 16 / 30\n",
      "  Batch    50  of    164.\n",
      "  Batch   100  of    164.\n",
      "  Batch   150  of    164.\n",
      "\n",
      "Evaluating...\n",
      "\n",
      "Training Loss: 0.661\n",
      "Validation Loss: 0.657\n",
      "\n",
      " Epoch 17 / 30\n",
      "  Batch    50  of    164.\n",
      "  Batch   100  of    164.\n",
      "  Batch   150  of    164.\n",
      "\n",
      "Evaluating...\n",
      "\n",
      "Training Loss: 0.658\n",
      "Validation Loss: 0.666\n",
      "\n",
      " Epoch 18 / 30\n",
      "  Batch    50  of    164.\n",
      "  Batch   100  of    164.\n",
      "  Batch   150  of    164.\n",
      "\n",
      "Evaluating...\n",
      "\n",
      "Training Loss: 0.659\n",
      "Validation Loss: 0.661\n",
      "\n",
      " Epoch 19 / 30\n",
      "  Batch    50  of    164.\n",
      "  Batch   100  of    164.\n",
      "  Batch   150  of    164.\n",
      "\n",
      "Evaluating...\n",
      "\n",
      "Training Loss: 0.656\n",
      "Validation Loss: 0.665\n",
      "\n",
      " Epoch 20 / 30\n",
      "  Batch    50  of    164.\n",
      "  Batch   100  of    164.\n",
      "  Batch   150  of    164.\n",
      "\n",
      "Evaluating...\n",
      "\n",
      "Training Loss: 0.654\n",
      "Validation Loss: 0.659\n",
      "\n",
      " Epoch 21 / 30\n",
      "  Batch    50  of    164.\n",
      "  Batch   100  of    164.\n",
      "  Batch   150  of    164.\n",
      "\n",
      "Evaluating...\n",
      "\n",
      "Training Loss: 0.656\n",
      "Validation Loss: 0.655\n",
      "\n",
      " Epoch 22 / 30\n",
      "  Batch    50  of    164.\n",
      "  Batch   100  of    164.\n",
      "  Batch   150  of    164.\n",
      "\n",
      "Evaluating...\n",
      "\n",
      "Training Loss: 0.654\n",
      "Validation Loss: 0.654\n",
      "\n",
      " Epoch 23 / 30\n",
      "  Batch    50  of    164.\n",
      "  Batch   100  of    164.\n",
      "  Batch   150  of    164.\n",
      "\n",
      "Evaluating...\n",
      "\n",
      "Training Loss: 0.653\n",
      "Validation Loss: 0.657\n",
      "\n",
      " Epoch 24 / 30\n",
      "  Batch    50  of    164.\n",
      "  Batch   100  of    164.\n",
      "  Batch   150  of    164.\n",
      "\n",
      "Evaluating...\n",
      "\n",
      "Training Loss: 0.653\n",
      "Validation Loss: 0.652\n",
      "\n",
      " Epoch 25 / 30\n",
      "  Batch    50  of    164.\n",
      "  Batch   100  of    164.\n",
      "  Batch   150  of    164.\n",
      "\n",
      "Evaluating...\n",
      "\n",
      "Training Loss: 0.654\n",
      "Validation Loss: 0.652\n",
      "\n",
      " Epoch 26 / 30\n",
      "  Batch    50  of    164.\n",
      "  Batch   100  of    164.\n",
      "  Batch   150  of    164.\n",
      "\n",
      "Evaluating...\n",
      "\n",
      "Training Loss: 0.653\n",
      "Validation Loss: 0.686\n",
      "\n",
      " Epoch 27 / 30\n",
      "  Batch    50  of    164.\n",
      "  Batch   100  of    164.\n",
      "  Batch   150  of    164.\n",
      "\n",
      "Evaluating...\n",
      "\n",
      "Training Loss: 0.651\n",
      "Validation Loss: 0.651\n",
      "\n",
      " Epoch 28 / 30\n",
      "  Batch    50  of    164.\n",
      "  Batch   100  of    164.\n",
      "  Batch   150  of    164.\n",
      "\n",
      "Evaluating...\n",
      "\n",
      "Training Loss: 0.653\n",
      "Validation Loss: 0.653\n",
      "\n",
      " Epoch 29 / 30\n",
      "  Batch    50  of    164.\n",
      "  Batch   100  of    164.\n",
      "  Batch   150  of    164.\n",
      "\n",
      "Evaluating...\n",
      "\n",
      "Training Loss: 0.650\n",
      "Validation Loss: 0.650\n",
      "\n",
      " Epoch 30 / 30\n",
      "  Batch    50  of    164.\n",
      "  Batch   100  of    164.\n",
      "  Batch   150  of    164.\n",
      "\n",
      "Evaluating...\n",
      "\n",
      "Training Loss: 0.649\n",
      "Validation Loss: 0.651\n"
     ]
    }
   ],
   "source": [
    "# set initial loss to infinite\n",
    "best_valid_loss = float('inf')\n",
    "\n",
    "# empty lists to store training and validation loss of each epoch\n",
    "train_losses=[]\n",
    "valid_losses=[]\n",
    "\n",
    "#for each epoch\n",
    "for epoch in range(epochs):\n",
    "     \n",
    "    print('\\n Epoch {:} / {:}'.format(epoch + 1, epochs))\n",
    "    \n",
    "    #train model\n",
    "    train_loss, _ = train()\n",
    "    \n",
    "    #evaluate model\n",
    "    valid_loss, _ = evaluate()\n",
    "    \n",
    "    #save the best model\n",
    "    if valid_loss < best_valid_loss:\n",
    "        best_valid_loss = valid_loss\n",
    "        torch.save(model.state_dict(), 'saved_weights.pt')\n",
    "    \n",
    "    # append training and validation loss\n",
    "    train_losses.append(train_loss)\n",
    "    valid_losses.append(valid_loss)\n",
    "    \n",
    "    print(f'\\nTraining Loss: {train_loss:.3f}')\n",
    "    print(f'Validation Loss: {valid_loss:.3f}')"
   ]
  },
  {
   "cell_type": "markdown",
   "metadata": {
    "id": "_yrhUc9kTI5a"
   },
   "source": [
    "# Load Saved Model"
   ]
  },
  {
   "cell_type": "code",
   "execution_count": 26,
   "metadata": {
    "colab": {
     "base_uri": "https://localhost:8080/"
    },
    "executionInfo": {
     "elapsed": 996097,
     "status": "ok",
     "timestamp": 1617551859611,
     "user": {
      "displayName": "Sergiu C",
      "photoUrl": "https://lh3.googleusercontent.com/a-/AOh14GhfqiW02ba2m04oUe7wNwz56AyLNmv59N1G4krbHIc=s64",
      "userId": "11087898073562528768"
     },
     "user_tz": -180
    },
    "id": "OacxUyizS8d1",
    "outputId": "a23cd941-868e-441d-93bd-1af22f1cc95b"
   },
   "outputs": [
    {
     "data": {
      "text/plain": [
       "<All keys matched successfully>"
      ]
     },
     "execution_count": 26,
     "metadata": {
      "tags": []
     },
     "output_type": "execute_result"
    }
   ],
   "source": [
    "#load weights of best model\n",
    "path = 'saved_weights.pt'\n",
    "model.load_state_dict(torch.load(path))"
   ]
  },
  {
   "cell_type": "markdown",
   "metadata": {
    "id": "x4SVftkkTZXA"
   },
   "source": [
    "# Get Predictions for Test Data"
   ]
  },
  {
   "cell_type": "code",
   "execution_count": 27,
   "metadata": {
    "executionInfo": {
     "elapsed": 1002759,
     "status": "ok",
     "timestamp": 1617551866282,
     "user": {
      "displayName": "Sergiu C",
      "photoUrl": "https://lh3.googleusercontent.com/a-/AOh14GhfqiW02ba2m04oUe7wNwz56AyLNmv59N1G4krbHIc=s64",
      "userId": "11087898073562528768"
     },
     "user_tz": -180
    },
    "id": "NZl0SZmFTRQA"
   },
   "outputs": [],
   "source": [
    "# get predictions for test data\n",
    "with torch.no_grad():\n",
    "  preds = model(test_seq.to(device), test_mask.to(device))\n",
    "  preds = preds.detach().cpu().numpy()"
   ]
  },
  {
   "cell_type": "code",
   "execution_count": 28,
   "metadata": {
    "colab": {
     "base_uri": "https://localhost:8080/"
    },
    "executionInfo": {
     "elapsed": 1002753,
     "status": "ok",
     "timestamp": 1617551866286,
     "user": {
      "displayName": "Sergiu C",
      "photoUrl": "https://lh3.googleusercontent.com/a-/AOh14GhfqiW02ba2m04oUe7wNwz56AyLNmv59N1G4krbHIc=s64",
      "userId": "11087898073562528768"
     },
     "user_tz": -180
    },
    "id": "Ms1ObHZxTYSI",
    "outputId": "2cf577fa-4e8b-47f6-ef65-fef92a863e80"
   },
   "outputs": [
    {
     "name": "stdout",
     "output_type": "stream",
     "text": [
      "              precision    recall  f1-score   support\n",
      "\n",
      "           0       0.68      0.60      0.64       951\n",
      "           1       0.55      0.62      0.58       728\n",
      "\n",
      "    accuracy                           0.61      1679\n",
      "   macro avg       0.61      0.61      0.61      1679\n",
      "weighted avg       0.62      0.61      0.61      1679\n",
      "\n"
     ]
    }
   ],
   "source": [
    "# model's performance\n",
    "preds = np.argmax(preds, axis = 1)\n",
    "print(classification_report(test_y, preds))"
   ]
  },
  {
   "cell_type": "code",
   "execution_count": 29,
   "metadata": {
    "colab": {
     "base_uri": "https://localhost:8080/",
     "height": 142
    },
    "executionInfo": {
     "elapsed": 1002746,
     "status": "ok",
     "timestamp": 1617551866290,
     "user": {
      "displayName": "Sergiu C",
      "photoUrl": "https://lh3.googleusercontent.com/a-/AOh14GhfqiW02ba2m04oUe7wNwz56AyLNmv59N1G4krbHIc=s64",
      "userId": "11087898073562528768"
     },
     "user_tz": -180
    },
    "id": "YqzLS7rHTp4T",
    "outputId": "34dcb66d-fcde-4e26-fc07-03c58c7a58ee"
   },
   "outputs": [
    {
     "data": {
      "text/html": [
       "<div>\n",
       "<style scoped>\n",
       "    .dataframe tbody tr th:only-of-type {\n",
       "        vertical-align: middle;\n",
       "    }\n",
       "\n",
       "    .dataframe tbody tr th {\n",
       "        vertical-align: top;\n",
       "    }\n",
       "\n",
       "    .dataframe thead th {\n",
       "        text-align: right;\n",
       "    }\n",
       "</style>\n",
       "<table border=\"1\" class=\"dataframe\">\n",
       "  <thead>\n",
       "    <tr style=\"text-align: right;\">\n",
       "      <th>col_0</th>\n",
       "      <th>0</th>\n",
       "      <th>1</th>\n",
       "    </tr>\n",
       "    <tr>\n",
       "      <th>row_0</th>\n",
       "      <th></th>\n",
       "      <th></th>\n",
       "    </tr>\n",
       "  </thead>\n",
       "  <tbody>\n",
       "    <tr>\n",
       "      <th>0</th>\n",
       "      <td>575</td>\n",
       "      <td>376</td>\n",
       "    </tr>\n",
       "    <tr>\n",
       "      <th>1</th>\n",
       "      <td>274</td>\n",
       "      <td>454</td>\n",
       "    </tr>\n",
       "  </tbody>\n",
       "</table>\n",
       "</div>"
      ],
      "text/plain": [
       "col_0    0    1\n",
       "row_0          \n",
       "0      575  376\n",
       "1      274  454"
      ]
     },
     "execution_count": 29,
     "metadata": {
      "tags": []
     },
     "output_type": "execute_result"
    }
   ],
   "source": [
    "# confusion matrix\n",
    "pd.crosstab(test_y, preds)"
   ]
  },
  {
   "cell_type": "code",
   "execution_count": 29,
   "metadata": {
    "executionInfo": {
     "elapsed": 1002734,
     "status": "ok",
     "timestamp": 1617551866291,
     "user": {
      "displayName": "Sergiu C",
      "photoUrl": "https://lh3.googleusercontent.com/a-/AOh14GhfqiW02ba2m04oUe7wNwz56AyLNmv59N1G4krbHIc=s64",
      "userId": "11087898073562528768"
     },
     "user_tz": -180
    },
    "id": "fhrAbAXWd0_s"
   },
   "outputs": [],
   "source": []
  }
 ],
 "metadata": {
  "accelerator": "GPU",
  "colab": {
   "name": "Fine_Tuning_Albert_base_v2_for_Truth_Classification.ipynb",
   "provenance": []
  },
  "kernelspec": {
   "display_name": "Python 3",
   "language": "python",
   "name": "python3"
  },
  "language_info": {
   "codemirror_mode": {
    "name": "ipython",
    "version": 3
   },
   "file_extension": ".py",
   "mimetype": "text/x-python",
   "name": "python",
   "nbconvert_exporter": "python",
   "pygments_lexer": "ipython3",
   "version": "3.8.8"
  },
  "widgets": {
   "application/vnd.jupyter.widget-state+json": {
    "1099d5c1b8524a9995618974d9446ecd": {
     "model_module": "@jupyter-widgets/controls",
     "model_name": "HTMLModel",
     "state": {
      "_dom_classes": [],
      "_model_module": "@jupyter-widgets/controls",
      "_model_module_version": "1.5.0",
      "_model_name": "HTMLModel",
      "_view_count": null,
      "_view_module": "@jupyter-widgets/controls",
      "_view_module_version": "1.5.0",
      "_view_name": "HTMLView",
      "description": "",
      "description_tooltip": null,
      "layout": "IPY_MODEL_d3b9da1942bf4ae192204994ca309b87",
      "placeholder": "​",
      "style": "IPY_MODEL_b11f32979e4448e1a876c2f58590582d",
      "value": " 684/684 [00:01&lt;00:00, 361B/s]"
     }
    },
    "27963c06e1b543e5aa50a5a09121f72a": {
     "model_module": "@jupyter-widgets/base",
     "model_name": "LayoutModel",
     "state": {
      "_model_module": "@jupyter-widgets/base",
      "_model_module_version": "1.2.0",
      "_model_name": "LayoutModel",
      "_view_count": null,
      "_view_module": "@jupyter-widgets/base",
      "_view_module_version": "1.2.0",
      "_view_name": "LayoutView",
      "align_content": null,
      "align_items": null,
      "align_self": null,
      "border": null,
      "bottom": null,
      "display": null,
      "flex": null,
      "flex_flow": null,
      "grid_area": null,
      "grid_auto_columns": null,
      "grid_auto_flow": null,
      "grid_auto_rows": null,
      "grid_column": null,
      "grid_gap": null,
      "grid_row": null,
      "grid_template_areas": null,
      "grid_template_columns": null,
      "grid_template_rows": null,
      "height": null,
      "justify_content": null,
      "justify_items": null,
      "left": null,
      "margin": null,
      "max_height": null,
      "max_width": null,
      "min_height": null,
      "min_width": null,
      "object_fit": null,
      "object_position": null,
      "order": null,
      "overflow": null,
      "overflow_x": null,
      "overflow_y": null,
      "padding": null,
      "right": null,
      "top": null,
      "visibility": null,
      "width": null
     }
    },
    "2c2a0754a57248c0a871d9e4165a4b5c": {
     "model_module": "@jupyter-widgets/base",
     "model_name": "LayoutModel",
     "state": {
      "_model_module": "@jupyter-widgets/base",
      "_model_module_version": "1.2.0",
      "_model_name": "LayoutModel",
      "_view_count": null,
      "_view_module": "@jupyter-widgets/base",
      "_view_module_version": "1.2.0",
      "_view_name": "LayoutView",
      "align_content": null,
      "align_items": null,
      "align_self": null,
      "border": null,
      "bottom": null,
      "display": null,
      "flex": null,
      "flex_flow": null,
      "grid_area": null,
      "grid_auto_columns": null,
      "grid_auto_flow": null,
      "grid_auto_rows": null,
      "grid_column": null,
      "grid_gap": null,
      "grid_row": null,
      "grid_template_areas": null,
      "grid_template_columns": null,
      "grid_template_rows": null,
      "height": null,
      "justify_content": null,
      "justify_items": null,
      "left": null,
      "margin": null,
      "max_height": null,
      "max_width": null,
      "min_height": null,
      "min_width": null,
      "object_fit": null,
      "object_position": null,
      "order": null,
      "overflow": null,
      "overflow_x": null,
      "overflow_y": null,
      "padding": null,
      "right": null,
      "top": null,
      "visibility": null,
      "width": null
     }
    },
    "2cc53acc3f6c43948e91b58f940ca25d": {
     "model_module": "@jupyter-widgets/base",
     "model_name": "LayoutModel",
     "state": {
      "_model_module": "@jupyter-widgets/base",
      "_model_module_version": "1.2.0",
      "_model_name": "LayoutModel",
      "_view_count": null,
      "_view_module": "@jupyter-widgets/base",
      "_view_module_version": "1.2.0",
      "_view_name": "LayoutView",
      "align_content": null,
      "align_items": null,
      "align_self": null,
      "border": null,
      "bottom": null,
      "display": null,
      "flex": null,
      "flex_flow": null,
      "grid_area": null,
      "grid_auto_columns": null,
      "grid_auto_flow": null,
      "grid_auto_rows": null,
      "grid_column": null,
      "grid_gap": null,
      "grid_row": null,
      "grid_template_areas": null,
      "grid_template_columns": null,
      "grid_template_rows": null,
      "height": null,
      "justify_content": null,
      "justify_items": null,
      "left": null,
      "margin": null,
      "max_height": null,
      "max_width": null,
      "min_height": null,
      "min_width": null,
      "object_fit": null,
      "object_position": null,
      "order": null,
      "overflow": null,
      "overflow_x": null,
      "overflow_y": null,
      "padding": null,
      "right": null,
      "top": null,
      "visibility": null,
      "width": null
     }
    },
    "3f13b45c4699411aa54e44626f272da2": {
     "model_module": "@jupyter-widgets/base",
     "model_name": "LayoutModel",
     "state": {
      "_model_module": "@jupyter-widgets/base",
      "_model_module_version": "1.2.0",
      "_model_name": "LayoutModel",
      "_view_count": null,
      "_view_module": "@jupyter-widgets/base",
      "_view_module_version": "1.2.0",
      "_view_name": "LayoutView",
      "align_content": null,
      "align_items": null,
      "align_self": null,
      "border": null,
      "bottom": null,
      "display": null,
      "flex": null,
      "flex_flow": null,
      "grid_area": null,
      "grid_auto_columns": null,
      "grid_auto_flow": null,
      "grid_auto_rows": null,
      "grid_column": null,
      "grid_gap": null,
      "grid_row": null,
      "grid_template_areas": null,
      "grid_template_columns": null,
      "grid_template_rows": null,
      "height": null,
      "justify_content": null,
      "justify_items": null,
      "left": null,
      "margin": null,
      "max_height": null,
      "max_width": null,
      "min_height": null,
      "min_width": null,
      "object_fit": null,
      "object_position": null,
      "order": null,
      "overflow": null,
      "overflow_x": null,
      "overflow_y": null,
      "padding": null,
      "right": null,
      "top": null,
      "visibility": null,
      "width": null
     }
    },
    "42a471233c53473192b921ba8c805767": {
     "model_module": "@jupyter-widgets/base",
     "model_name": "LayoutModel",
     "state": {
      "_model_module": "@jupyter-widgets/base",
      "_model_module_version": "1.2.0",
      "_model_name": "LayoutModel",
      "_view_count": null,
      "_view_module": "@jupyter-widgets/base",
      "_view_module_version": "1.2.0",
      "_view_name": "LayoutView",
      "align_content": null,
      "align_items": null,
      "align_self": null,
      "border": null,
      "bottom": null,
      "display": null,
      "flex": null,
      "flex_flow": null,
      "grid_area": null,
      "grid_auto_columns": null,
      "grid_auto_flow": null,
      "grid_auto_rows": null,
      "grid_column": null,
      "grid_gap": null,
      "grid_row": null,
      "grid_template_areas": null,
      "grid_template_columns": null,
      "grid_template_rows": null,
      "height": null,
      "justify_content": null,
      "justify_items": null,
      "left": null,
      "margin": null,
      "max_height": null,
      "max_width": null,
      "min_height": null,
      "min_width": null,
      "object_fit": null,
      "object_position": null,
      "order": null,
      "overflow": null,
      "overflow_x": null,
      "overflow_y": null,
      "padding": null,
      "right": null,
      "top": null,
      "visibility": null,
      "width": null
     }
    },
    "61587a4112d74f4f8a977e8227d583f3": {
     "model_module": "@jupyter-widgets/controls",
     "model_name": "DescriptionStyleModel",
     "state": {
      "_model_module": "@jupyter-widgets/controls",
      "_model_module_version": "1.5.0",
      "_model_name": "DescriptionStyleModel",
      "_view_count": null,
      "_view_module": "@jupyter-widgets/base",
      "_view_module_version": "1.2.0",
      "_view_name": "StyleView",
      "description_width": ""
     }
    },
    "73b60f146c914e20901535f2f30d68b2": {
     "model_module": "@jupyter-widgets/controls",
     "model_name": "HBoxModel",
     "state": {
      "_dom_classes": [],
      "_model_module": "@jupyter-widgets/controls",
      "_model_module_version": "1.5.0",
      "_model_name": "HBoxModel",
      "_view_count": null,
      "_view_module": "@jupyter-widgets/controls",
      "_view_module_version": "1.5.0",
      "_view_name": "HBoxView",
      "box_style": "",
      "children": [
       "IPY_MODEL_8e28536c0017486a8d358ccaacca7f11",
       "IPY_MODEL_a917a19ccb104f4bb98da451420c26f4"
      ],
      "layout": "IPY_MODEL_c3af26c423eb44e78fb860aa6ae99501"
     }
    },
    "797079f24bd0413689afc13d1af1bdd5": {
     "model_module": "@jupyter-widgets/controls",
     "model_name": "FloatProgressModel",
     "state": {
      "_dom_classes": [],
      "_model_module": "@jupyter-widgets/controls",
      "_model_module_version": "1.5.0",
      "_model_name": "FloatProgressModel",
      "_view_count": null,
      "_view_module": "@jupyter-widgets/controls",
      "_view_module_version": "1.5.0",
      "_view_name": "ProgressView",
      "bar_style": "success",
      "description": "Downloading: 100%",
      "description_tooltip": null,
      "layout": "IPY_MODEL_2cc53acc3f6c43948e91b58f940ca25d",
      "max": 760289,
      "min": 0,
      "orientation": "horizontal",
      "style": "IPY_MODEL_f3f89369697c4e7cae043eec2ecb3323",
      "value": 760289
     }
    },
    "7d8c9ae43998454391822d7e4b6a9899": {
     "model_module": "@jupyter-widgets/controls",
     "model_name": "HBoxModel",
     "state": {
      "_dom_classes": [],
      "_model_module": "@jupyter-widgets/controls",
      "_model_module_version": "1.5.0",
      "_model_name": "HBoxModel",
      "_view_count": null,
      "_view_module": "@jupyter-widgets/controls",
      "_view_module_version": "1.5.0",
      "_view_name": "HBoxView",
      "box_style": "",
      "children": [
       "IPY_MODEL_797079f24bd0413689afc13d1af1bdd5",
       "IPY_MODEL_a1a53574fe23424c93bf613ae55d80a5"
      ],
      "layout": "IPY_MODEL_ef445a8afbd6462d99c39a900d126ab8"
     }
    },
    "8c4cd489a5c347e2937abbd2a6faa599": {
     "model_module": "@jupyter-widgets/controls",
     "model_name": "ProgressStyleModel",
     "state": {
      "_model_module": "@jupyter-widgets/controls",
      "_model_module_version": "1.5.0",
      "_model_name": "ProgressStyleModel",
      "_view_count": null,
      "_view_module": "@jupyter-widgets/base",
      "_view_module_version": "1.2.0",
      "_view_name": "StyleView",
      "bar_color": null,
      "description_width": "initial"
     }
    },
    "8e28536c0017486a8d358ccaacca7f11": {
     "model_module": "@jupyter-widgets/controls",
     "model_name": "FloatProgressModel",
     "state": {
      "_dom_classes": [],
      "_model_module": "@jupyter-widgets/controls",
      "_model_module_version": "1.5.0",
      "_model_name": "FloatProgressModel",
      "_view_count": null,
      "_view_module": "@jupyter-widgets/controls",
      "_view_module_version": "1.5.0",
      "_view_name": "ProgressView",
      "bar_style": "success",
      "description": "Downloading: 100%",
      "description_tooltip": null,
      "layout": "IPY_MODEL_2c2a0754a57248c0a871d9e4165a4b5c",
      "max": 47376696,
      "min": 0,
      "orientation": "horizontal",
      "style": "IPY_MODEL_8c4cd489a5c347e2937abbd2a6faa599",
      "value": 47376696
     }
    },
    "a03ffcbf5aeb4be195161de2c93d33e4": {
     "model_module": "@jupyter-widgets/controls",
     "model_name": "FloatProgressModel",
     "state": {
      "_dom_classes": [],
      "_model_module": "@jupyter-widgets/controls",
      "_model_module_version": "1.5.0",
      "_model_name": "FloatProgressModel",
      "_view_count": null,
      "_view_module": "@jupyter-widgets/controls",
      "_view_module_version": "1.5.0",
      "_view_name": "ProgressView",
      "bar_style": "success",
      "description": "Downloading: 100%",
      "description_tooltip": null,
      "layout": "IPY_MODEL_a4a7ce7e539443e89348a17500610ca9",
      "max": 684,
      "min": 0,
      "orientation": "horizontal",
      "style": "IPY_MODEL_b0b647e974024f438f6313331cffdfd2",
      "value": 684
     }
    },
    "a1a53574fe23424c93bf613ae55d80a5": {
     "model_module": "@jupyter-widgets/controls",
     "model_name": "HTMLModel",
     "state": {
      "_dom_classes": [],
      "_model_module": "@jupyter-widgets/controls",
      "_model_module_version": "1.5.0",
      "_model_name": "HTMLModel",
      "_view_count": null,
      "_view_module": "@jupyter-widgets/controls",
      "_view_module_version": "1.5.0",
      "_view_name": "HTMLView",
      "description": "",
      "description_tooltip": null,
      "layout": "IPY_MODEL_42a471233c53473192b921ba8c805767",
      "placeholder": "​",
      "style": "IPY_MODEL_61587a4112d74f4f8a977e8227d583f3",
      "value": " 760k/760k [00:00&lt;00:00, 1.42MB/s]"
     }
    },
    "a453957f68284dffbd8672f841e7d0fd": {
     "model_module": "@jupyter-widgets/controls",
     "model_name": "HBoxModel",
     "state": {
      "_dom_classes": [],
      "_model_module": "@jupyter-widgets/controls",
      "_model_module_version": "1.5.0",
      "_model_name": "HBoxModel",
      "_view_count": null,
      "_view_module": "@jupyter-widgets/controls",
      "_view_module_version": "1.5.0",
      "_view_name": "HBoxView",
      "box_style": "",
      "children": [
       "IPY_MODEL_a03ffcbf5aeb4be195161de2c93d33e4",
       "IPY_MODEL_1099d5c1b8524a9995618974d9446ecd"
      ],
      "layout": "IPY_MODEL_3f13b45c4699411aa54e44626f272da2"
     }
    },
    "a4a7ce7e539443e89348a17500610ca9": {
     "model_module": "@jupyter-widgets/base",
     "model_name": "LayoutModel",
     "state": {
      "_model_module": "@jupyter-widgets/base",
      "_model_module_version": "1.2.0",
      "_model_name": "LayoutModel",
      "_view_count": null,
      "_view_module": "@jupyter-widgets/base",
      "_view_module_version": "1.2.0",
      "_view_name": "LayoutView",
      "align_content": null,
      "align_items": null,
      "align_self": null,
      "border": null,
      "bottom": null,
      "display": null,
      "flex": null,
      "flex_flow": null,
      "grid_area": null,
      "grid_auto_columns": null,
      "grid_auto_flow": null,
      "grid_auto_rows": null,
      "grid_column": null,
      "grid_gap": null,
      "grid_row": null,
      "grid_template_areas": null,
      "grid_template_columns": null,
      "grid_template_rows": null,
      "height": null,
      "justify_content": null,
      "justify_items": null,
      "left": null,
      "margin": null,
      "max_height": null,
      "max_width": null,
      "min_height": null,
      "min_width": null,
      "object_fit": null,
      "object_position": null,
      "order": null,
      "overflow": null,
      "overflow_x": null,
      "overflow_y": null,
      "padding": null,
      "right": null,
      "top": null,
      "visibility": null,
      "width": null
     }
    },
    "a917a19ccb104f4bb98da451420c26f4": {
     "model_module": "@jupyter-widgets/controls",
     "model_name": "HTMLModel",
     "state": {
      "_dom_classes": [],
      "_model_module": "@jupyter-widgets/controls",
      "_model_module_version": "1.5.0",
      "_model_name": "HTMLModel",
      "_view_count": null,
      "_view_module": "@jupyter-widgets/controls",
      "_view_module_version": "1.5.0",
      "_view_name": "HTMLView",
      "description": "",
      "description_tooltip": null,
      "layout": "IPY_MODEL_27963c06e1b543e5aa50a5a09121f72a",
      "placeholder": "​",
      "style": "IPY_MODEL_b0ab24d926714a67bf02951c138ac1ee",
      "value": " 47.4M/47.4M [00:01&lt;00:00, 30.9MB/s]"
     }
    },
    "b0ab24d926714a67bf02951c138ac1ee": {
     "model_module": "@jupyter-widgets/controls",
     "model_name": "DescriptionStyleModel",
     "state": {
      "_model_module": "@jupyter-widgets/controls",
      "_model_module_version": "1.5.0",
      "_model_name": "DescriptionStyleModel",
      "_view_count": null,
      "_view_module": "@jupyter-widgets/base",
      "_view_module_version": "1.2.0",
      "_view_name": "StyleView",
      "description_width": ""
     }
    },
    "b0b647e974024f438f6313331cffdfd2": {
     "model_module": "@jupyter-widgets/controls",
     "model_name": "ProgressStyleModel",
     "state": {
      "_model_module": "@jupyter-widgets/controls",
      "_model_module_version": "1.5.0",
      "_model_name": "ProgressStyleModel",
      "_view_count": null,
      "_view_module": "@jupyter-widgets/base",
      "_view_module_version": "1.2.0",
      "_view_name": "StyleView",
      "bar_color": null,
      "description_width": "initial"
     }
    },
    "b11f32979e4448e1a876c2f58590582d": {
     "model_module": "@jupyter-widgets/controls",
     "model_name": "DescriptionStyleModel",
     "state": {
      "_model_module": "@jupyter-widgets/controls",
      "_model_module_version": "1.5.0",
      "_model_name": "DescriptionStyleModel",
      "_view_count": null,
      "_view_module": "@jupyter-widgets/base",
      "_view_module_version": "1.2.0",
      "_view_name": "StyleView",
      "description_width": ""
     }
    },
    "c3af26c423eb44e78fb860aa6ae99501": {
     "model_module": "@jupyter-widgets/base",
     "model_name": "LayoutModel",
     "state": {
      "_model_module": "@jupyter-widgets/base",
      "_model_module_version": "1.2.0",
      "_model_name": "LayoutModel",
      "_view_count": null,
      "_view_module": "@jupyter-widgets/base",
      "_view_module_version": "1.2.0",
      "_view_name": "LayoutView",
      "align_content": null,
      "align_items": null,
      "align_self": null,
      "border": null,
      "bottom": null,
      "display": null,
      "flex": null,
      "flex_flow": null,
      "grid_area": null,
      "grid_auto_columns": null,
      "grid_auto_flow": null,
      "grid_auto_rows": null,
      "grid_column": null,
      "grid_gap": null,
      "grid_row": null,
      "grid_template_areas": null,
      "grid_template_columns": null,
      "grid_template_rows": null,
      "height": null,
      "justify_content": null,
      "justify_items": null,
      "left": null,
      "margin": null,
      "max_height": null,
      "max_width": null,
      "min_height": null,
      "min_width": null,
      "object_fit": null,
      "object_position": null,
      "order": null,
      "overflow": null,
      "overflow_x": null,
      "overflow_y": null,
      "padding": null,
      "right": null,
      "top": null,
      "visibility": null,
      "width": null
     }
    },
    "d3b9da1942bf4ae192204994ca309b87": {
     "model_module": "@jupyter-widgets/base",
     "model_name": "LayoutModel",
     "state": {
      "_model_module": "@jupyter-widgets/base",
      "_model_module_version": "1.2.0",
      "_model_name": "LayoutModel",
      "_view_count": null,
      "_view_module": "@jupyter-widgets/base",
      "_view_module_version": "1.2.0",
      "_view_name": "LayoutView",
      "align_content": null,
      "align_items": null,
      "align_self": null,
      "border": null,
      "bottom": null,
      "display": null,
      "flex": null,
      "flex_flow": null,
      "grid_area": null,
      "grid_auto_columns": null,
      "grid_auto_flow": null,
      "grid_auto_rows": null,
      "grid_column": null,
      "grid_gap": null,
      "grid_row": null,
      "grid_template_areas": null,
      "grid_template_columns": null,
      "grid_template_rows": null,
      "height": null,
      "justify_content": null,
      "justify_items": null,
      "left": null,
      "margin": null,
      "max_height": null,
      "max_width": null,
      "min_height": null,
      "min_width": null,
      "object_fit": null,
      "object_position": null,
      "order": null,
      "overflow": null,
      "overflow_x": null,
      "overflow_y": null,
      "padding": null,
      "right": null,
      "top": null,
      "visibility": null,
      "width": null
     }
    },
    "ef445a8afbd6462d99c39a900d126ab8": {
     "model_module": "@jupyter-widgets/base",
     "model_name": "LayoutModel",
     "state": {
      "_model_module": "@jupyter-widgets/base",
      "_model_module_version": "1.2.0",
      "_model_name": "LayoutModel",
      "_view_count": null,
      "_view_module": "@jupyter-widgets/base",
      "_view_module_version": "1.2.0",
      "_view_name": "LayoutView",
      "align_content": null,
      "align_items": null,
      "align_self": null,
      "border": null,
      "bottom": null,
      "display": null,
      "flex": null,
      "flex_flow": null,
      "grid_area": null,
      "grid_auto_columns": null,
      "grid_auto_flow": null,
      "grid_auto_rows": null,
      "grid_column": null,
      "grid_gap": null,
      "grid_row": null,
      "grid_template_areas": null,
      "grid_template_columns": null,
      "grid_template_rows": null,
      "height": null,
      "justify_content": null,
      "justify_items": null,
      "left": null,
      "margin": null,
      "max_height": null,
      "max_width": null,
      "min_height": null,
      "min_width": null,
      "object_fit": null,
      "object_position": null,
      "order": null,
      "overflow": null,
      "overflow_x": null,
      "overflow_y": null,
      "padding": null,
      "right": null,
      "top": null,
      "visibility": null,
      "width": null
     }
    },
    "f3f89369697c4e7cae043eec2ecb3323": {
     "model_module": "@jupyter-widgets/controls",
     "model_name": "ProgressStyleModel",
     "state": {
      "_model_module": "@jupyter-widgets/controls",
      "_model_module_version": "1.5.0",
      "_model_name": "ProgressStyleModel",
      "_view_count": null,
      "_view_module": "@jupyter-widgets/base",
      "_view_module_version": "1.2.0",
      "_view_name": "StyleView",
      "bar_color": null,
      "description_width": "initial"
     }
    }
   }
  }
 },
 "nbformat": 4,
 "nbformat_minor": 1
}
