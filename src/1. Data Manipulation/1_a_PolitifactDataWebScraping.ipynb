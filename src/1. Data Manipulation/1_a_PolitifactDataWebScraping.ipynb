{
 "cells": [
  {
   "cell_type": "code",
   "execution_count": 1,
   "metadata": {},
   "outputs": [],
   "source": [
    "# Packages for Web-Scraping\n",
    "from requests import get\n",
    "from bs4 import BeautifulSoup\n",
    "from time import time\n",
    "from time import sleep\n",
    "from random import randint\n",
    "from IPython.core.display import clear_output\n",
    "from warnings import warn\n",
    "\n",
    "# Packages for Saving File after Scraping\n",
    "import numpy as np\n",
    "import pandas as pd"
   ]
  },
  {
   "cell_type": "code",
   "execution_count": 2,
   "metadata": {},
   "outputs": [
    {
     "name": "stdout",
     "output_type": "stream",
     "text": [
      "<!DOCTYPE html>\n",
      "<html xmlns=\"http://www.w3.org/1999/xhtml\" xml:lang=\"en\" lang=\"en\" xmlns:og=\"http://ogp.me/ns#\" xmlns:fb=\"http://www.facebook.com/2008/fbml\">\n",
      "    <head><script src=\"//archive.org/includes/analytics.js?v=cf34f82\" type=\"text/javascript\"></script>\n",
      "<script type=\"text/javascript\">window.addEventListener('DOMContentLoaded',function(){var v=archive_analytics.values;v.service='wb';v.server_name='wwwb-app101.us.archive.org';v.server_ms=325;archive_analytics.send_pageview({});});</script><\n"
     ]
    }
   ],
   "source": [
    "# url 1st page info, response object, and sample\n",
    "# url = 'https://www.politifact.com/truth-o-meter/statements/?page=1'\n",
    "url = 'https://web.archive.org/web/20180705082623/https://www.politifact.com/truth-o-meter/statements/?page=1'\n",
    "response = get(url)\n",
    "print(response.text[:500])"
   ]
  },
  {
   "cell_type": "code",
   "execution_count": 3,
   "metadata": {},
   "outputs": [
    {
     "data": {
      "text/plain": [
       "bs4.BeautifulSoup"
      ]
     },
     "execution_count": 3,
     "metadata": {},
     "output_type": "execute_result"
    }
   ],
   "source": [
    "# 1st page BeautifulSoup object, confirm type\n",
    "html_soup = BeautifulSoup(response.text, 'html.parser')\n",
    "type(html_soup)"
   ]
  },
  {
   "cell_type": "code",
   "execution_count": 4,
   "metadata": {},
   "outputs": [
    {
     "name": "stdout",
     "output_type": "stream",
     "text": [
      "<class 'bs4.element.ResultSet'>\n",
      "20\n"
     ]
    }
   ],
   "source": [
    "# finding each row of data we want to scrape, confirm type, check length\n",
    "statement_containers = html_soup.find_all('div', class_ = 'scoretable__item')\n",
    "print(type(statement_containers))\n",
    "print(len(statement_containers))"
   ]
  },
  {
   "cell_type": "code",
   "execution_count": 5,
   "metadata": {},
   "outputs": [
    {
     "data": {
      "text/plain": [
       "<div class=\"scoretable__item\">\n",
       "<div class=\"statement\">\n",
       "<div class=\"meter\">\n",
       "<a href=\"/web/20180705082623/https://www.politifact.com/personalities/becoming-american-initiative/statements/byruling/mostly-true/\"><img alt=\"Mostly True\" src=\"https://web.archive.org/web/20180705082623im_/http://static.politifact.com.s3.amazonaws.com/rulings/tom-mostlytrue.png\"/></a>\n",
       "<p class=\"quote\">Roll the tape</p>\n",
       "</div>\n",
       "<div class=\"statement__body\">\n",
       "<div class=\"mugshot\">\n",
       "<a href=\"/web/20180705082623/https://www.politifact.com/personalities/becoming-american-initiative/\"><img alt=\" Becoming American Initiative\" src=\"https://web.archive.org/web/20180705082623im_/http://static.politifact.com.s3.amazonaws.com/politifact/mugs/becomingamericaninitiative.png\"/></a>\n",
       "</div>\n",
       "<div class=\"statement__source\"><a href=\"/web/20180705082623/https://www.politifact.com/personalities/becoming-american-initiative/\"> Becoming American Initiative</a></div>\n",
       "<p class=\"statement__text\">\n",
       "<a class=\"link\" href=\"/web/20180705082623/https://www.politifact.com/truth-o-meter/statements/2018/jul/03/becoming-american-initiative/did-ronald-reagan-say-immigrants-made-america-grea/\">Says Ronald Reagan said immigrants \"brought with them courage and the values of family, work, and freedom. Let us pledge to each other that we can make America great again.\"\n",
       "</a>\n",
       "</p>\n",
       "<p class=\"statement__edition\">\n",
       "<a href=\"/web/20180705082623/https://www.politifact.com/truth-o-meter\">— PolitiFact National </a>\n",
       "<span class=\"article__meta\">on Tuesday, July 3rd, 2018</span>\n",
       "</p>\n",
       "</div>\n",
       "</div>\n",
       "</div>"
      ]
     },
     "execution_count": 5,
     "metadata": {},
     "output_type": "execute_result"
    }
   ],
   "source": [
    "# checking data\n",
    "s = statement_containers[1]\n",
    "s"
   ]
  },
  {
   "cell_type": "code",
   "execution_count": 6,
   "metadata": {},
   "outputs": [
    {
     "data": {
      "text/plain": [
       "'Says Ronald Reagan said immigrants\\xa0\"brought with them courage and the values of family, work, and freedom. Let us pledge to each other that we can make America great again.\"'"
      ]
     },
     "execution_count": 6,
     "metadata": {},
     "output_type": "execute_result"
    }
   ],
   "source": [
    "# statement\n",
    "s.find('p', class_ = 'statement__text').get_text(strip=True)"
   ]
  },
  {
   "cell_type": "code",
   "execution_count": 7,
   "metadata": {},
   "outputs": [
    {
     "data": {
      "text/plain": [
       "'Becoming American Initiative'"
      ]
     },
     "execution_count": 7,
     "metadata": {},
     "output_type": "execute_result"
    }
   ],
   "source": [
    "# statement source\n",
    "s.find('div', class_ = 'statement__source').get_text(strip=True)"
   ]
  },
  {
   "cell_type": "code",
   "execution_count": 8,
   "metadata": {},
   "outputs": [
    {
     "data": {
      "text/plain": [
       "'/web/20180705082623/https://www.politifact.com/truth-o-meter/statements/2018/jul/03/becoming-american-initiative/did-ronald-reagan-say-immigrants-made-america-grea/'"
      ]
     },
     "execution_count": 8,
     "metadata": {},
     "output_type": "execute_result"
    }
   ],
   "source": [
    "# statement link\n",
    "s.find('p', class_ = 'statement__text').a[\"href\"]"
   ]
  },
  {
   "cell_type": "code",
   "execution_count": 9,
   "metadata": {},
   "outputs": [
    {
     "data": {
      "text/plain": [
       "'Mostly True'"
      ]
     },
     "execution_count": 9,
     "metadata": {},
     "output_type": "execute_result"
    }
   ],
   "source": [
    "# statement veracity\n",
    "s.img[\"alt\"]"
   ]
  },
  {
   "cell_type": "code",
   "execution_count": 10,
   "metadata": {},
   "outputs": [],
   "source": [
    "# Lists to store the scraped data in\n",
    "statement = []\n",
    "source = []\n",
    "link = []\n",
    "veracity = []\n",
    "\n",
    "# Extract data from individual container\n",
    "for container in statement_containers:\n",
    "# statement\n",
    "    sta = container.find('p', class_ = 'statement__text').get_text(strip=True)\n",
    "    statement.append(sta)\n",
    "# source\n",
    "    sou = container.find('div', class_ = 'statement__source').get_text(strip=True)\n",
    "    source.append(sou)\n",
    "# link\n",
    "    lin = container.find('p', class_ = 'statement__text').a[\"href\"]\n",
    "    link.append(lin)\n",
    "# veracity\n",
    "    ver = container.img[\"alt\"]\n",
    "    veracity.append(ver)"
   ]
  },
  {
   "cell_type": "code",
   "execution_count": 11,
   "metadata": {},
   "outputs": [
    {
     "name": "stdout",
     "output_type": "stream",
     "text": [
      "<class 'pandas.core.frame.DataFrame'>\n",
      "RangeIndex: 20 entries, 0 to 19\n",
      "Data columns (total 4 columns):\n",
      " #   Column     Non-Null Count  Dtype \n",
      "---  ------     --------------  ----- \n",
      " 0   statement  20 non-null     object\n",
      " 1   source     20 non-null     object\n",
      " 2   link       20 non-null     object\n",
      " 3   veracity   20 non-null     object\n",
      "dtypes: object(4)\n",
      "memory usage: 768.0+ bytes\n",
      "None\n"
     ]
    },
    {
     "data": {
      "text/html": [
       "<div>\n",
       "<style scoped>\n",
       "    .dataframe tbody tr th:only-of-type {\n",
       "        vertical-align: middle;\n",
       "    }\n",
       "\n",
       "    .dataframe tbody tr th {\n",
       "        vertical-align: top;\n",
       "    }\n",
       "\n",
       "    .dataframe thead th {\n",
       "        text-align: right;\n",
       "    }\n",
       "</style>\n",
       "<table border=\"1\" class=\"dataframe\">\n",
       "  <thead>\n",
       "    <tr style=\"text-align: right;\">\n",
       "      <th></th>\n",
       "      <th>statement</th>\n",
       "      <th>source</th>\n",
       "      <th>link</th>\n",
       "      <th>veracity</th>\n",
       "    </tr>\n",
       "  </thead>\n",
       "  <tbody>\n",
       "    <tr>\n",
       "      <th>0</th>\n",
       "      <td>Sen. Kamala Harris is \"supporting the animals ...</td>\n",
       "      <td>Donald Trump</td>\n",
       "      <td>/web/20180705082623/https://www.politifact.com...</td>\n",
       "      <td>Pants on Fire!</td>\n",
       "    </tr>\n",
       "    <tr>\n",
       "      <th>1</th>\n",
       "      <td>Says Ronald Reagan said immigrants \"brought wi...</td>\n",
       "      <td>Becoming American Initiative</td>\n",
       "      <td>/web/20180705082623/https://www.politifact.com...</td>\n",
       "      <td>Mostly True</td>\n",
       "    </tr>\n",
       "    <tr>\n",
       "      <th>2</th>\n",
       "      <td>Says Democratic Senators \"demand Supreme Court...</td>\n",
       "      <td>Viral image</td>\n",
       "      <td>/web/20180705082623/https://www.politifact.com...</td>\n",
       "      <td>Pants on Fire!</td>\n",
       "    </tr>\n",
       "    <tr>\n",
       "      <th>3</th>\n",
       "      <td>\"Tim Kaine doesn’t want a border at all. He wa...</td>\n",
       "      <td>Corey  Stewart</td>\n",
       "      <td>/web/20180705082623/https://www.politifact.com...</td>\n",
       "      <td>Pants on Fire!</td>\n",
       "    </tr>\n",
       "    <tr>\n",
       "      <th>4</th>\n",
       "      <td>\"There are a lot of private charters. And in f...</td>\n",
       "      <td>Kelda Helen Roys</td>\n",
       "      <td>/web/20180705082623/https://www.politifact.com...</td>\n",
       "      <td>Half-True</td>\n",
       "    </tr>\n",
       "    <tr>\n",
       "      <th>5</th>\n",
       "      <td>\"George H.W. Bush has died at 94.\"</td>\n",
       "      <td>Bloggers</td>\n",
       "      <td>/web/20180705082623/https://www.politifact.com...</td>\n",
       "      <td>Pants on Fire!</td>\n",
       "    </tr>\n",
       "    <tr>\n",
       "      <th>6</th>\n",
       "      <td>\"The deficit ... is coming down, and it’s comi...</td>\n",
       "      <td>Larry Kudlow</td>\n",
       "      <td>/web/20180705082623/https://www.politifact.com...</td>\n",
       "      <td>Pants on Fire!</td>\n",
       "    </tr>\n",
       "    <tr>\n",
       "      <th>7</th>\n",
       "      <td>\"Watch those GDP numbers. We started off at a ...</td>\n",
       "      <td>Donald Trump</td>\n",
       "      <td>/web/20180705082623/https://www.politifact.com...</td>\n",
       "      <td>False</td>\n",
       "    </tr>\n",
       "    <tr>\n",
       "      <th>8</th>\n",
       "      <td>\"The European Union … they send us Mercedes, t...</td>\n",
       "      <td>Donald Trump</td>\n",
       "      <td>/web/20180705082623/https://www.politifact.com...</td>\n",
       "      <td>False</td>\n",
       "    </tr>\n",
       "    <tr>\n",
       "      <th>9</th>\n",
       "      <td>\"Clinton campaign official arrested by FBI on ...</td>\n",
       "      <td>Bloggers</td>\n",
       "      <td>/web/20180705082623/https://www.politifact.com...</td>\n",
       "      <td>False</td>\n",
       "    </tr>\n",
       "    <tr>\n",
       "      <th>10</th>\n",
       "      <td>\"Our courts find that 80 percent of those who ...</td>\n",
       "      <td>Jeff Sessions</td>\n",
       "      <td>/web/20180705082623/https://www.politifact.com...</td>\n",
       "      <td>False</td>\n",
       "    </tr>\n",
       "    <tr>\n",
       "      <th>11</th>\n",
       "      <td>Says a progressive income tax proposal from De...</td>\n",
       "      <td>Evelyn Sanguinetti</td>\n",
       "      <td>/web/20180705082623/https://www.politifact.com...</td>\n",
       "      <td>False</td>\n",
       "    </tr>\n",
       "    <tr>\n",
       "      <th>12</th>\n",
       "      <td>Says Wisconsin \"hadn’t been won by a Republica...</td>\n",
       "      <td>Donald Trump</td>\n",
       "      <td>/web/20180705082623/https://www.politifact.com...</td>\n",
       "      <td>Pants on Fire!</td>\n",
       "    </tr>\n",
       "    <tr>\n",
       "      <th>13</th>\n",
       "      <td>\"Maxine Waters Is Getting Criminally Charged!\"</td>\n",
       "      <td>Bloggers</td>\n",
       "      <td>/web/20180705082623/https://www.politifact.com...</td>\n",
       "      <td>False</td>\n",
       "    </tr>\n",
       "    <tr>\n",
       "      <th>14</th>\n",
       "      <td>Says Ron DeSantis \"voted in an agricultural bi...</td>\n",
       "      <td>Adam Putnam</td>\n",
       "      <td>/web/20180705082623/https://www.politifact.com...</td>\n",
       "      <td>Pants on Fire!</td>\n",
       "    </tr>\n",
       "    <tr>\n",
       "      <th>15</th>\n",
       "      <td>Says Adam Putnam \"endorsed the Schumer-Obama G...</td>\n",
       "      <td>Ron DeSantis</td>\n",
       "      <td>/web/20180705082623/https://www.politifact.com...</td>\n",
       "      <td>Mostly True</td>\n",
       "    </tr>\n",
       "    <tr>\n",
       "      <th>16</th>\n",
       "      <td>\"Every day over 450,000 Americans sit in jail ...</td>\n",
       "      <td>Ted Lieu</td>\n",
       "      <td>/web/20180705082623/https://www.politifact.com...</td>\n",
       "      <td>Half-True</td>\n",
       "    </tr>\n",
       "    <tr>\n",
       "      <th>17</th>\n",
       "      <td>\"There isn't a system\" for reuniting families ...</td>\n",
       "      <td>Rachel Maddow</td>\n",
       "      <td>/web/20180705082623/https://www.politifact.com...</td>\n",
       "      <td>True</td>\n",
       "    </tr>\n",
       "    <tr>\n",
       "      <th>18</th>\n",
       "      <td>Says Sherrod Brown in 1978 \"voted for stricter...</td>\n",
       "      <td>Ohio Republican Party</td>\n",
       "      <td>/web/20180705082623/https://www.politifact.com...</td>\n",
       "      <td>Half-True</td>\n",
       "    </tr>\n",
       "    <tr>\n",
       "      <th>19</th>\n",
       "      <td>Say \"Dunkin' Donuts is providing a free Ḍozen ...</td>\n",
       "      <td>Bloggers</td>\n",
       "      <td>/web/20180705082623/https://www.politifact.com...</td>\n",
       "      <td>Pants on Fire!</td>\n",
       "    </tr>\n",
       "  </tbody>\n",
       "</table>\n",
       "</div>"
      ],
      "text/plain": [
       "                                            statement  \\\n",
       "0   Sen. Kamala Harris is \"supporting the animals ...   \n",
       "1   Says Ronald Reagan said immigrants \"brought wi...   \n",
       "2   Says Democratic Senators \"demand Supreme Court...   \n",
       "3   \"Tim Kaine doesn’t want a border at all. He wa...   \n",
       "4   \"There are a lot of private charters. And in f...   \n",
       "5                  \"George H.W. Bush has died at 94.\"   \n",
       "6   \"The deficit ... is coming down, and it’s comi...   \n",
       "7   \"Watch those GDP numbers. We started off at a ...   \n",
       "8   \"The European Union … they send us Mercedes, t...   \n",
       "9   \"Clinton campaign official arrested by FBI on ...   \n",
       "10  \"Our courts find that 80 percent of those who ...   \n",
       "11  Says a progressive income tax proposal from De...   \n",
       "12  Says Wisconsin \"hadn’t been won by a Republica...   \n",
       "13     \"Maxine Waters Is Getting Criminally Charged!\"   \n",
       "14  Says Ron DeSantis \"voted in an agricultural bi...   \n",
       "15  Says Adam Putnam \"endorsed the Schumer-Obama G...   \n",
       "16  \"Every day over 450,000 Americans sit in jail ...   \n",
       "17  \"There isn't a system\" for reuniting families ...   \n",
       "18  Says Sherrod Brown in 1978 \"voted for stricter...   \n",
       "19  Say \"Dunkin' Donuts is providing a free Ḍozen ...   \n",
       "\n",
       "                          source  \\\n",
       "0                   Donald Trump   \n",
       "1   Becoming American Initiative   \n",
       "2                    Viral image   \n",
       "3                 Corey  Stewart   \n",
       "4               Kelda Helen Roys   \n",
       "5                       Bloggers   \n",
       "6                   Larry Kudlow   \n",
       "7                   Donald Trump   \n",
       "8                   Donald Trump   \n",
       "9                       Bloggers   \n",
       "10                 Jeff Sessions   \n",
       "11            Evelyn Sanguinetti   \n",
       "12                  Donald Trump   \n",
       "13                      Bloggers   \n",
       "14                   Adam Putnam   \n",
       "15                  Ron DeSantis   \n",
       "16                      Ted Lieu   \n",
       "17                 Rachel Maddow   \n",
       "18         Ohio Republican Party   \n",
       "19                      Bloggers   \n",
       "\n",
       "                                                 link        veracity  \n",
       "0   /web/20180705082623/https://www.politifact.com...  Pants on Fire!  \n",
       "1   /web/20180705082623/https://www.politifact.com...     Mostly True  \n",
       "2   /web/20180705082623/https://www.politifact.com...  Pants on Fire!  \n",
       "3   /web/20180705082623/https://www.politifact.com...  Pants on Fire!  \n",
       "4   /web/20180705082623/https://www.politifact.com...       Half-True  \n",
       "5   /web/20180705082623/https://www.politifact.com...  Pants on Fire!  \n",
       "6   /web/20180705082623/https://www.politifact.com...  Pants on Fire!  \n",
       "7   /web/20180705082623/https://www.politifact.com...           False  \n",
       "8   /web/20180705082623/https://www.politifact.com...           False  \n",
       "9   /web/20180705082623/https://www.politifact.com...           False  \n",
       "10  /web/20180705082623/https://www.politifact.com...           False  \n",
       "11  /web/20180705082623/https://www.politifact.com...           False  \n",
       "12  /web/20180705082623/https://www.politifact.com...  Pants on Fire!  \n",
       "13  /web/20180705082623/https://www.politifact.com...           False  \n",
       "14  /web/20180705082623/https://www.politifact.com...  Pants on Fire!  \n",
       "15  /web/20180705082623/https://www.politifact.com...     Mostly True  \n",
       "16  /web/20180705082623/https://www.politifact.com...       Half-True  \n",
       "17  /web/20180705082623/https://www.politifact.com...            True  \n",
       "18  /web/20180705082623/https://www.politifact.com...       Half-True  \n",
       "19  /web/20180705082623/https://www.politifact.com...  Pants on Fire!  "
      ]
     },
     "execution_count": 11,
     "metadata": {},
     "output_type": "execute_result"
    }
   ],
   "source": [
    "# 1st page df\n",
    "test_df = pd.DataFrame(\n",
    "    {'statement': statement,\n",
    "     'source': source,\n",
    "     'link': link,\n",
    "     'veracity': veracity\n",
    "})\n",
    "print(test_df.info())\n",
    "test_df"
   ]
  },
  {
   "cell_type": "code",
   "execution_count": 12,
   "metadata": {},
   "outputs": [
    {
     "name": "stdout",
     "output_type": "stream",
     "text": [
      "Request: 5; Frequency: 0.38440986199934657 requests/s\n"
     ]
    }
   ],
   "source": [
    "# Testing 5 pages\n",
    "pages = [str(i) for i in range(1,5)]\n",
    "start_time = time()\n",
    "requests = 0\n",
    "for _ in range(5):\n",
    "# request goes here\n",
    "    requests += 1\n",
    "    sleep(randint(1,3))\n",
    "    current_time = time()\n",
    "    elapsed_time = current_time - start_time\n",
    "    print('Request: {}; Frequency: {} requests/s'.format(requests, requests/elapsed_time))\n",
    "    clear_output(wait = True)"
   ]
  },
  {
   "cell_type": "code",
   "execution_count": 13,
   "metadata": {},
   "outputs": [
    {
     "name": "stderr",
     "output_type": "stream",
     "text": [
      "C:\\Users\\sergi\\Anaconda3\\lib\\site-packages\\ipykernel_launcher.py:32: UserWarning: Request: 740; Status code: 404\n"
     ]
    }
   ],
   "source": [
    "# If above is problem-free, proceed to scrape all pages\n",
    "# Scraping 740 pages takes about 4-5 hours\n",
    "\n",
    "# Lists to store all the scraped data in\n",
    "statement = []\n",
    "source = []\n",
    "link = []\n",
    "veracity = []\n",
    "\n",
    "# Preparing the monitoring of the loop\n",
    "start_time = time()\n",
    "requests = 0\n",
    "\n",
    "# For every page in the interval\n",
    "pages = [str(i) for i in range(740)]\n",
    "for page in pages:\n",
    "\n",
    "    # Make a get request\n",
    "    response = get('https://web.archive.org/web/20180705082623/https://www.politifact.com/truth-o-meter/statements/?page=' + page)\n",
    "\n",
    "    # Pause the loop in random intervals so your IP address doesn't get banned\n",
    "    sleep(randint(8,15))\n",
    "\n",
    "    # Monitor the requests\n",
    "    requests += 1\n",
    "    elapsed_time = time() - start_time\n",
    "    print('Request:{}; Frequency: {} requests/s'.format(requests, requests/elapsed_time))\n",
    "    clear_output(wait = True)\n",
    "\n",
    "    # Throw a warning for non-200 status codes\n",
    "    if response.status_code != 200:\n",
    "        warn('Request: {}; Status code: {}'.format(requests, response.status_code))\n",
    "\n",
    "    # Parse the content of the request with BeautifulSoup\n",
    "    page_html = BeautifulSoup(response.text, 'html.parser')\n",
    "\n",
    "    # Select all the containers from a single page\n",
    "    statement_containers = page_html.find_all('div', class_ = 'scoretable__item')\n",
    "\n",
    "    for container in statement_containers:\n",
    "    # statement\n",
    "        sta = container.find('p', class_ = 'statement__text').get_text(strip=True)\n",
    "        statement.append(sta)\n",
    "    # source\n",
    "        sou = container.find('div', class_ = 'statement__source').get_text(strip=True)\n",
    "        source.append(sou)\n",
    "    # link\n",
    "        lin = container.find('p', class_ = 'statement__text').a[\"href\"]\n",
    "        link.append(lin)\n",
    "    # veracity\n",
    "        ver = container.img[\"alt\"]\n",
    "        veracity.append(ver)"
   ]
  },
  {
   "cell_type": "code",
   "execution_count": 14,
   "metadata": {},
   "outputs": [
    {
     "name": "stdout",
     "output_type": "stream",
     "text": [
      "<class 'pandas.core.frame.DataFrame'>\n",
      "RangeIndex: 14209 entries, 0 to 14208\n",
      "Data columns (total 4 columns):\n",
      " #   Column     Non-Null Count  Dtype \n",
      "---  ------     --------------  ----- \n",
      " 0   statement  14209 non-null  object\n",
      " 1   source     14209 non-null  object\n",
      " 2   link       14209 non-null  object\n",
      " 3   veracity   14209 non-null  object\n",
      "dtypes: object(4)\n",
      "memory usage: 444.2+ KB\n",
      "None\n"
     ]
    },
    {
     "data": {
      "text/html": [
       "<div>\n",
       "<style scoped>\n",
       "    .dataframe tbody tr th:only-of-type {\n",
       "        vertical-align: middle;\n",
       "    }\n",
       "\n",
       "    .dataframe tbody tr th {\n",
       "        vertical-align: top;\n",
       "    }\n",
       "\n",
       "    .dataframe thead th {\n",
       "        text-align: right;\n",
       "    }\n",
       "</style>\n",
       "<table border=\"1\" class=\"dataframe\">\n",
       "  <thead>\n",
       "    <tr style=\"text-align: right;\">\n",
       "      <th></th>\n",
       "      <th>statement</th>\n",
       "      <th>source</th>\n",
       "      <th>link</th>\n",
       "      <th>veracity</th>\n",
       "    </tr>\n",
       "  </thead>\n",
       "  <tbody>\n",
       "    <tr>\n",
       "      <th>14207</th>\n",
       "      <td>\"Tommy Thompson is the father of welfare refor...</td>\n",
       "      <td>Tommy Thompson</td>\n",
       "      <td>/web/20180119180622/http://www.politifact.com/...</td>\n",
       "      <td>True</td>\n",
       "    </tr>\n",
       "    <tr>\n",
       "      <th>14208</th>\n",
       "      <td>\"Tommy Thompson created the first school choic...</td>\n",
       "      <td>Tommy Thompson</td>\n",
       "      <td>/web/20180119180622/http://www.politifact.com/...</td>\n",
       "      <td>True</td>\n",
       "    </tr>\n",
       "  </tbody>\n",
       "</table>\n",
       "</div>"
      ],
      "text/plain": [
       "                                               statement          source  \\\n",
       "14207  \"Tommy Thompson is the father of welfare refor...  Tommy Thompson   \n",
       "14208  \"Tommy Thompson created the first school choic...  Tommy Thompson   \n",
       "\n",
       "                                                    link veracity  \n",
       "14207  /web/20180119180622/http://www.politifact.com/...     True  \n",
       "14208  /web/20180119180622/http://www.politifact.com/...     True  "
      ]
     },
     "execution_count": 14,
     "metadata": {},
     "output_type": "execute_result"
    }
   ],
   "source": [
    "# make a dataframe\n",
    "politifact_df = pd.DataFrame(\n",
    "    {'statement': statement,\n",
    "     'source': source,\n",
    "     'link': link,\n",
    "     'veracity': veracity\n",
    "})\n",
    "print(politifact_df.info())\n",
    "politifact_df.tail(2)"
   ]
  },
  {
   "cell_type": "code",
   "execution_count": 15,
   "metadata": {},
   "outputs": [],
   "source": [
    "# save dataframe to csv\n",
    "politifact_df.to_csv('politifact.csv')"
   ]
  },
  {
   "cell_type": "code",
   "execution_count": 16,
   "metadata": {},
   "outputs": [],
   "source": [
    "# Tutorial followed to create this scraper: \n",
    "# https://www.dataquest.io/blog/web-scraping-beautifulsoup/"
   ]
  },
  {
   "cell_type": "code",
   "execution_count": 17,
   "metadata": {},
   "outputs": [
    {
     "data": {
      "text/plain": [
       "(14209, 4)"
      ]
     },
     "execution_count": 17,
     "metadata": {},
     "output_type": "execute_result"
    }
   ],
   "source": [
    "politifact_df.shape"
   ]
  },
  {
   "cell_type": "code",
   "execution_count": 18,
   "metadata": {},
   "outputs": [
    {
     "data": {
      "text/html": [
       "<div>\n",
       "<style scoped>\n",
       "    .dataframe tbody tr th:only-of-type {\n",
       "        vertical-align: middle;\n",
       "    }\n",
       "\n",
       "    .dataframe tbody tr th {\n",
       "        vertical-align: top;\n",
       "    }\n",
       "\n",
       "    .dataframe thead th {\n",
       "        text-align: right;\n",
       "    }\n",
       "</style>\n",
       "<table border=\"1\" class=\"dataframe\">\n",
       "  <thead>\n",
       "    <tr style=\"text-align: right;\">\n",
       "      <th></th>\n",
       "      <th>statement</th>\n",
       "      <th>source</th>\n",
       "      <th>link</th>\n",
       "      <th>veracity</th>\n",
       "    </tr>\n",
       "  </thead>\n",
       "  <tbody>\n",
       "    <tr>\n",
       "      <th>0</th>\n",
       "      <td>Sen. Kamala Harris is \"supporting the animals ...</td>\n",
       "      <td>Donald Trump</td>\n",
       "      <td>/web/20180705082623/https://www.politifact.com...</td>\n",
       "      <td>Pants on Fire!</td>\n",
       "    </tr>\n",
       "    <tr>\n",
       "      <th>1</th>\n",
       "      <td>Says Ronald Reagan said immigrants \"brought wi...</td>\n",
       "      <td>Becoming American Initiative</td>\n",
       "      <td>/web/20180705082623/https://www.politifact.com...</td>\n",
       "      <td>Mostly True</td>\n",
       "    </tr>\n",
       "    <tr>\n",
       "      <th>2</th>\n",
       "      <td>Says Democratic Senators \"demand Supreme Court...</td>\n",
       "      <td>Viral image</td>\n",
       "      <td>/web/20180705082623/https://www.politifact.com...</td>\n",
       "      <td>Pants on Fire!</td>\n",
       "    </tr>\n",
       "    <tr>\n",
       "      <th>3</th>\n",
       "      <td>\"Tim Kaine doesn’t want a border at all. He wa...</td>\n",
       "      <td>Corey  Stewart</td>\n",
       "      <td>/web/20180705082623/https://www.politifact.com...</td>\n",
       "      <td>Pants on Fire!</td>\n",
       "    </tr>\n",
       "    <tr>\n",
       "      <th>4</th>\n",
       "      <td>\"There are a lot of private charters. And in f...</td>\n",
       "      <td>Kelda Helen Roys</td>\n",
       "      <td>/web/20180705082623/https://www.politifact.com...</td>\n",
       "      <td>Half-True</td>\n",
       "    </tr>\n",
       "  </tbody>\n",
       "</table>\n",
       "</div>"
      ],
      "text/plain": [
       "                                           statement  \\\n",
       "0  Sen. Kamala Harris is \"supporting the animals ...   \n",
       "1  Says Ronald Reagan said immigrants \"brought wi...   \n",
       "2  Says Democratic Senators \"demand Supreme Court...   \n",
       "3  \"Tim Kaine doesn’t want a border at all. He wa...   \n",
       "4  \"There are a lot of private charters. And in f...   \n",
       "\n",
       "                         source  \\\n",
       "0                  Donald Trump   \n",
       "1  Becoming American Initiative   \n",
       "2                   Viral image   \n",
       "3                Corey  Stewart   \n",
       "4              Kelda Helen Roys   \n",
       "\n",
       "                                                link        veracity  \n",
       "0  /web/20180705082623/https://www.politifact.com...  Pants on Fire!  \n",
       "1  /web/20180705082623/https://www.politifact.com...     Mostly True  \n",
       "2  /web/20180705082623/https://www.politifact.com...  Pants on Fire!  \n",
       "3  /web/20180705082623/https://www.politifact.com...  Pants on Fire!  \n",
       "4  /web/20180705082623/https://www.politifact.com...       Half-True  "
      ]
     },
     "execution_count": 18,
     "metadata": {},
     "output_type": "execute_result"
    }
   ],
   "source": [
    "politifact_df.head()"
   ]
  },
  {
   "cell_type": "code",
   "execution_count": null,
   "metadata": {},
   "outputs": [],
   "source": []
  }
 ],
 "metadata": {
  "kernelspec": {
   "display_name": "Python 3",
   "language": "python",
   "name": "python3"
  },
  "language_info": {
   "codemirror_mode": {
    "name": "ipython",
    "version": 3
   },
   "file_extension": ".py",
   "mimetype": "text/x-python",
   "name": "python",
   "nbconvert_exporter": "python",
   "pygments_lexer": "ipython3",
   "version": "3.7.9"
  }
 },
 "nbformat": 4,
 "nbformat_minor": 2
}
