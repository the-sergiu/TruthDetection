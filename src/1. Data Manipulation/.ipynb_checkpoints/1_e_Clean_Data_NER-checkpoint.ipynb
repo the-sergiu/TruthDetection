{
 "cells": [
  {
   "cell_type": "code",
   "execution_count": 5,
   "metadata": {},
   "outputs": [],
   "source": [
    "# Packages for Data Wrangling\n",
    "import numpy as np\n",
    "import pandas as pd\n",
    "import os\n",
    "import re\n",
    "from collections import Counter\n",
    "\n",
    "# For graphs\n",
    "import matplotlib as mpl\n",
    "import matplotlib.pyplot as plt\n",
    "import seaborn as sns"
   ]
  },
  {
   "cell_type": "code",
   "execution_count": 2,
   "metadata": {},
   "outputs": [],
   "source": [
    "# Use cleaner absolute path to find file\n",
    "path = os.path.abspath('politifact.csv')\n",
    "df = pd.read_csv(path, index_col=0)"
   ]
  },
  {
   "cell_type": "code",
   "execution_count": 3,
   "metadata": {},
   "outputs": [
    {
     "name": "stdout",
     "output_type": "stream",
     "text": [
      "<class 'pandas.core.frame.DataFrame'>\n",
      "Index: 14209 entries, Sen. Kamala Harris is \"supporting the animals of MS-13.\" to \"Tommy Thompson created the first school choice program in the nation, giving thousands of Milwaukee students the choice of where they go to school – no matter where they live or how much money their parents make.\"\n",
      "Data columns (total 3 columns):\n",
      " #   Column    Non-Null Count  Dtype \n",
      "---  ------    --------------  ----- \n",
      " 0   source    14209 non-null  object\n",
      " 1   link      14209 non-null  object\n",
      " 2   veracity  14209 non-null  object\n",
      "dtypes: object(3)\n",
      "memory usage: 444.0+ KB\n"
     ]
    },
    {
     "data": {
      "text/plain": [
       "(14209, 3)"
      ]
     },
     "execution_count": 3,
     "metadata": {},
     "output_type": "execute_result"
    }
   ],
   "source": [
    "# Check for null values and total number of rows\n",
    "df.info()\n",
    "df.shape"
   ]
  },
  {
   "cell_type": "markdown",
   "metadata": {},
   "source": [
    "# Initially 14209 rows of non-null data"
   ]
  },
  {
   "cell_type": "code",
   "execution_count": 4,
   "metadata": {},
   "outputs": [
    {
     "data": {
      "text/html": [
       "<div>\n",
       "<style scoped>\n",
       "    .dataframe tbody tr th:only-of-type {\n",
       "        vertical-align: middle;\n",
       "    }\n",
       "\n",
       "    .dataframe tbody tr th {\n",
       "        vertical-align: top;\n",
       "    }\n",
       "\n",
       "    .dataframe thead th {\n",
       "        text-align: right;\n",
       "    }\n",
       "</style>\n",
       "<table border=\"1\" class=\"dataframe\">\n",
       "  <thead>\n",
       "    <tr style=\"text-align: right;\">\n",
       "      <th></th>\n",
       "      <th>source</th>\n",
       "      <th>link</th>\n",
       "      <th>veracity</th>\n",
       "    </tr>\n",
       "    <tr>\n",
       "      <th>statement</th>\n",
       "      <th></th>\n",
       "      <th></th>\n",
       "      <th></th>\n",
       "    </tr>\n",
       "  </thead>\n",
       "  <tbody>\n",
       "    <tr>\n",
       "      <th>Sen. Kamala Harris is \"supporting the animals of MS-13.\"</th>\n",
       "      <td>Donald Trump</td>\n",
       "      <td>/web/20180705082623/https://www.politifact.com/california/statements/2018/jul/03/donald-trump/pants-fire-white-house-claim-sen-harris-supporting/</td>\n",
       "      <td>Pants on Fire!</td>\n",
       "    </tr>\n",
       "    <tr>\n",
       "      <th>Says Ronald Reagan said immigrants \"brought with them courage and the values of family, work, and freedom. Let us pledge to each other that we can make America great again.\"</th>\n",
       "      <td>Becoming American Initiative</td>\n",
       "      <td>/web/20180705082623/https://www.politifact.com/truth-o-meter/statements/2018/jul/03/becoming-american-initiative/did-ronald-reagan-say-immigrants-made-america-grea/</td>\n",
       "      <td>Mostly True</td>\n",
       "    </tr>\n",
       "    <tr>\n",
       "      <th>Says Democratic Senators \"demand Supreme Court nominee not be unduly influenced by U.S. Constitution.\"</th>\n",
       "      <td>Viral image</td>\n",
       "      <td>/web/20180705082623/https://www.politifact.com/punditfact/statements/2018/jul/03/viral-image/viral-image-criticizing-democrats-featured-fabrica/</td>\n",
       "      <td>Pants on Fire!</td>\n",
       "    </tr>\n",
       "  </tbody>\n",
       "</table>\n",
       "</div>"
      ],
      "text/plain": [
       "                                                                                                                                                                                                     source  \\\n",
       "statement                                                                                                                                                                                                     \n",
       "Sen. Kamala Harris is \"supporting the animals of MS-13.\"                                                                                                                                       Donald Trump   \n",
       "Says Ronald Reagan said immigrants \"brought with them courage and the values of family, work, and freedom. Let us pledge to each other that we can make America great again.\"  Becoming American Initiative   \n",
       "Says Democratic Senators \"demand Supreme Court nominee not be unduly influenced by U.S. Constitution.\"                                                                                          Viral image   \n",
       "\n",
       "                                                                                                                                                                                                                                                                                                                                               link  \\\n",
       "statement                                                                                                                                                                                                                                                                                                                                             \n",
       "Sen. Kamala Harris is \"supporting the animals of MS-13.\"                                                                                                                                          /web/20180705082623/https://www.politifact.com/california/statements/2018/jul/03/donald-trump/pants-fire-white-house-claim-sen-harris-supporting/   \n",
       "Says Ronald Reagan said immigrants \"brought with them courage and the values of family, work, and freedom. Let us pledge to each other that we can make America great again.\"  /web/20180705082623/https://www.politifact.com/truth-o-meter/statements/2018/jul/03/becoming-american-initiative/did-ronald-reagan-say-immigrants-made-america-grea/   \n",
       "Says Democratic Senators \"demand Supreme Court nominee not be unduly influenced by U.S. Constitution.\"                                                                                             /web/20180705082623/https://www.politifact.com/punditfact/statements/2018/jul/03/viral-image/viral-image-criticizing-democrats-featured-fabrica/   \n",
       "\n",
       "                                                                                                                                                                                     veracity  \n",
       "statement                                                                                                                                                                                      \n",
       "Sen. Kamala Harris is \"supporting the animals of MS-13.\"                                                                                                                       Pants on Fire!  \n",
       "Says Ronald Reagan said immigrants \"brought with them courage and the values of family, work, and freedom. Let us pledge to each other that we can make America great again.\"     Mostly True  \n",
       "Says Democratic Senators \"demand Supreme Court nominee not be unduly influenced by U.S. Constitution.\"                                                                         Pants on Fire!  "
      ]
     },
     "execution_count": 4,
     "metadata": {},
     "output_type": "execute_result"
    }
   ],
   "source": [
    "# to see statement in full\n",
    "pd.set_option('display.max_colwidth', 200) \n",
    "\n",
    "# See sample of data\n",
    "df.head(3)"
   ]
  },
  {
   "cell_type": "code",
   "execution_count": 5,
   "metadata": {},
   "outputs": [
    {
     "data": {
      "text/plain": [
       "Half-True         2786\n",
       "Mostly True       2695\n",
       "False             2641\n",
       "Mostly False      2335\n",
       "True              2158\n",
       "Pants on Fire!    1359\n",
       "Full Flop          144\n",
       "Half Flip           67\n",
       "No Flip             24\n",
       "Name: veracity, dtype: int64"
      ]
     },
     "execution_count": 5,
     "metadata": {},
     "output_type": "execute_result"
    }
   ],
   "source": [
    "# check groups that exist in veracity column\n",
    "df.veracity.value_counts()"
   ]
  },
  {
   "cell_type": "code",
   "execution_count": 6,
   "metadata": {},
   "outputs": [
    {
     "data": {
      "text/html": [
       "<div>\n",
       "<style scoped>\n",
       "    .dataframe tbody tr th:only-of-type {\n",
       "        vertical-align: middle;\n",
       "    }\n",
       "\n",
       "    .dataframe tbody tr th {\n",
       "        vertical-align: top;\n",
       "    }\n",
       "\n",
       "    .dataframe thead th {\n",
       "        text-align: right;\n",
       "    }\n",
       "</style>\n",
       "<table border=\"1\" class=\"dataframe\">\n",
       "  <thead>\n",
       "    <tr style=\"text-align: right;\">\n",
       "      <th></th>\n",
       "      <th>source</th>\n",
       "      <th>link</th>\n",
       "      <th>veracity</th>\n",
       "    </tr>\n",
       "    <tr>\n",
       "      <th>statement</th>\n",
       "      <th></th>\n",
       "      <th></th>\n",
       "      <th></th>\n",
       "    </tr>\n",
       "  </thead>\n",
       "  <tbody>\n",
       "    <tr>\n",
       "      <th>Sen. Kamala Harris is \"supporting the animals of MS-13.\"</th>\n",
       "      <td>Donald Trump</td>\n",
       "      <td>/web/20180705082623/https://www.politifact.com/california/statements/2018/jul/03/donald-trump/pants-fire-white-house-claim-sen-harris-supporting/</td>\n",
       "      <td>Pants on Fire!</td>\n",
       "    </tr>\n",
       "    <tr>\n",
       "      <th>Says Ronald Reagan said immigrants \"brought with them courage and the values of family, work, and freedom. Let us pledge to each other that we can make America great again.\"</th>\n",
       "      <td>Becoming American Initiative</td>\n",
       "      <td>/web/20180705082623/https://www.politifact.com/truth-o-meter/statements/2018/jul/03/becoming-american-initiative/did-ronald-reagan-say-immigrants-made-america-grea/</td>\n",
       "      <td>Mostly True</td>\n",
       "    </tr>\n",
       "    <tr>\n",
       "      <th>Says Democratic Senators \"demand Supreme Court nominee not be unduly influenced by U.S. Constitution.\"</th>\n",
       "      <td>Viral image</td>\n",
       "      <td>/web/20180705082623/https://www.politifact.com/punditfact/statements/2018/jul/03/viral-image/viral-image-criticizing-democrats-featured-fabrica/</td>\n",
       "      <td>Pants on Fire!</td>\n",
       "    </tr>\n",
       "  </tbody>\n",
       "</table>\n",
       "</div>"
      ],
      "text/plain": [
       "                                                                                                                                                                                                     source  \\\n",
       "statement                                                                                                                                                                                                     \n",
       "Sen. Kamala Harris is \"supporting the animals of MS-13.\"                                                                                                                                       Donald Trump   \n",
       "Says Ronald Reagan said immigrants \"brought with them courage and the values of family, work, and freedom. Let us pledge to each other that we can make America great again.\"  Becoming American Initiative   \n",
       "Says Democratic Senators \"demand Supreme Court nominee not be unduly influenced by U.S. Constitution.\"                                                                                          Viral image   \n",
       "\n",
       "                                                                                                                                                                                                                                                                                                                                               link  \\\n",
       "statement                                                                                                                                                                                                                                                                                                                                             \n",
       "Sen. Kamala Harris is \"supporting the animals of MS-13.\"                                                                                                                                          /web/20180705082623/https://www.politifact.com/california/statements/2018/jul/03/donald-trump/pants-fire-white-house-claim-sen-harris-supporting/   \n",
       "Says Ronald Reagan said immigrants \"brought with them courage and the values of family, work, and freedom. Let us pledge to each other that we can make America great again.\"  /web/20180705082623/https://www.politifact.com/truth-o-meter/statements/2018/jul/03/becoming-american-initiative/did-ronald-reagan-say-immigrants-made-america-grea/   \n",
       "Says Democratic Senators \"demand Supreme Court nominee not be unduly influenced by U.S. Constitution.\"                                                                                             /web/20180705082623/https://www.politifact.com/punditfact/statements/2018/jul/03/viral-image/viral-image-criticizing-democrats-featured-fabrica/   \n",
       "\n",
       "                                                                                                                                                                                     veracity  \n",
       "statement                                                                                                                                                                                      \n",
       "Sen. Kamala Harris is \"supporting the animals of MS-13.\"                                                                                                                       Pants on Fire!  \n",
       "Says Ronald Reagan said immigrants \"brought with them courage and the values of family, work, and freedom. Let us pledge to each other that we can make America great again.\"     Mostly True  \n",
       "Says Democratic Senators \"demand Supreme Court nominee not be unduly influenced by U.S. Constitution.\"                                                                         Pants on Fire!  "
      ]
     },
     "execution_count": 6,
     "metadata": {},
     "output_type": "execute_result"
    }
   ],
   "source": [
    "# Full Flop, Half Flip, & No Flip have nothing to do with veracity; remove them\n",
    "# Half-True doesn't help as it contains equal parts lie and truth\n",
    "\n",
    "ver_df = df[~df.isin(['Full Flop',\n",
    "                    'Half Flip',\n",
    "                     'No Flip',\n",
    "                     'Half-True']).any(axis=1)]\n",
    "\n",
    "ver_df.head(3)"
   ]
  },
  {
   "cell_type": "code",
   "execution_count": 7,
   "metadata": {},
   "outputs": [
    {
     "data": {
      "text/plain": [
       "Mostly True       2695\n",
       "False             2641\n",
       "Mostly False      2335\n",
       "True              2158\n",
       "Pants on Fire!    1359\n",
       "Name: veracity, dtype: int64"
      ]
     },
     "execution_count": 7,
     "metadata": {},
     "output_type": "execute_result"
    }
   ],
   "source": [
    "ver_df.veracity.value_counts()"
   ]
  },
  {
   "cell_type": "code",
   "execution_count": 8,
   "metadata": {},
   "outputs": [
    {
     "data": {
      "text/html": [
       "<div>\n",
       "<style scoped>\n",
       "    .dataframe tbody tr th:only-of-type {\n",
       "        vertical-align: middle;\n",
       "    }\n",
       "\n",
       "    .dataframe tbody tr th {\n",
       "        vertical-align: top;\n",
       "    }\n",
       "\n",
       "    .dataframe thead th {\n",
       "        text-align: right;\n",
       "    }\n",
       "</style>\n",
       "<table border=\"1\" class=\"dataframe\">\n",
       "  <thead>\n",
       "    <tr style=\"text-align: right;\">\n",
       "      <th></th>\n",
       "      <th>source</th>\n",
       "      <th>link</th>\n",
       "      <th>veracity</th>\n",
       "    </tr>\n",
       "    <tr>\n",
       "      <th>statement</th>\n",
       "      <th></th>\n",
       "      <th></th>\n",
       "      <th></th>\n",
       "    </tr>\n",
       "  </thead>\n",
       "  <tbody>\n",
       "    <tr>\n",
       "      <th>Sen. Kamala Harris is \"supporting the animals of MS-13.\"</th>\n",
       "      <td>Donald Trump</td>\n",
       "      <td>/web/20180705082623/https://www.politifact.com/california/statements/2018/jul/03/donald-trump/pants-fire-white-house-claim-sen-harris-supporting/</td>\n",
       "      <td>0</td>\n",
       "    </tr>\n",
       "    <tr>\n",
       "      <th>Says Ronald Reagan said immigrants \"brought with them courage and the values of family, work, and freedom. Let us pledge to each other that we can make America great again.\"</th>\n",
       "      <td>Becoming American Initiative</td>\n",
       "      <td>/web/20180705082623/https://www.politifact.com/truth-o-meter/statements/2018/jul/03/becoming-american-initiative/did-ronald-reagan-say-immigrants-made-america-grea/</td>\n",
       "      <td>1</td>\n",
       "    </tr>\n",
       "    <tr>\n",
       "      <th>Says Democratic Senators \"demand Supreme Court nominee not be unduly influenced by U.S. Constitution.\"</th>\n",
       "      <td>Viral image</td>\n",
       "      <td>/web/20180705082623/https://www.politifact.com/punditfact/statements/2018/jul/03/viral-image/viral-image-criticizing-democrats-featured-fabrica/</td>\n",
       "      <td>0</td>\n",
       "    </tr>\n",
       "  </tbody>\n",
       "</table>\n",
       "</div>"
      ],
      "text/plain": [
       "                                                                                                                                                                                                     source  \\\n",
       "statement                                                                                                                                                                                                     \n",
       "Sen. Kamala Harris is \"supporting the animals of MS-13.\"                                                                                                                                       Donald Trump   \n",
       "Says Ronald Reagan said immigrants \"brought with them courage and the values of family, work, and freedom. Let us pledge to each other that we can make America great again.\"  Becoming American Initiative   \n",
       "Says Democratic Senators \"demand Supreme Court nominee not be unduly influenced by U.S. Constitution.\"                                                                                          Viral image   \n",
       "\n",
       "                                                                                                                                                                                                                                                                                                                                               link  \\\n",
       "statement                                                                                                                                                                                                                                                                                                                                             \n",
       "Sen. Kamala Harris is \"supporting the animals of MS-13.\"                                                                                                                                          /web/20180705082623/https://www.politifact.com/california/statements/2018/jul/03/donald-trump/pants-fire-white-house-claim-sen-harris-supporting/   \n",
       "Says Ronald Reagan said immigrants \"brought with them courage and the values of family, work, and freedom. Let us pledge to each other that we can make America great again.\"  /web/20180705082623/https://www.politifact.com/truth-o-meter/statements/2018/jul/03/becoming-american-initiative/did-ronald-reagan-say-immigrants-made-america-grea/   \n",
       "Says Democratic Senators \"demand Supreme Court nominee not be unduly influenced by U.S. Constitution.\"                                                                                             /web/20180705082623/https://www.politifact.com/punditfact/statements/2018/jul/03/viral-image/viral-image-criticizing-democrats-featured-fabrica/   \n",
       "\n",
       "                                                                                                                                                                               veracity  \n",
       "statement                                                                                                                                                                                \n",
       "Sen. Kamala Harris is \"supporting the animals of MS-13.\"                                                                                                                              0  \n",
       "Says Ronald Reagan said immigrants \"brought with them courage and the values of family, work, and freedom. Let us pledge to each other that we can make America great again.\"         1  \n",
       "Says Democratic Senators \"demand Supreme Court nominee not be unduly influenced by U.S. Constitution.\"                                                                                0  "
      ]
     },
     "execution_count": 8,
     "metadata": {},
     "output_type": "execute_result"
    }
   ],
   "source": [
    "# Transform variables into binary True/False\n",
    "ver_df = ver_df.replace({\"False\" : 0,\n",
    "                \"Mostly True\" : 1,\n",
    "                \"Mostly False\" : 0,\n",
    "                \"True\" : 1,\n",
    "                \"Pants on Fire!\" : 0\n",
    "               })\n",
    "\n",
    "ver_df.head(3)"
   ]
  },
  {
   "cell_type": "code",
   "execution_count": 9,
   "metadata": {},
   "outputs": [
    {
     "name": "stdout",
     "output_type": "stream",
     "text": [
      "<class 'pandas.core.frame.DataFrame'>\n",
      "Index: 11188 entries, Sen. Kamala Harris is \"supporting the animals of MS-13.\" to \"Tommy Thompson created the first school choice program in the nation, giving thousands of Milwaukee students the choice of where they go to school – no matter where they live or how much money their parents make.\"\n",
      "Data columns (total 3 columns):\n",
      " #   Column    Non-Null Count  Dtype \n",
      "---  ------    --------------  ----- \n",
      " 0   source    11188 non-null  object\n",
      " 1   link      11188 non-null  object\n",
      " 2   veracity  11188 non-null  int64 \n",
      "dtypes: int64(1), object(2)\n",
      "memory usage: 349.6+ KB\n"
     ]
    }
   ],
   "source": [
    "ver_df.info()"
   ]
  },
  {
   "cell_type": "markdown",
   "metadata": {},
   "source": [
    "# By removing irrelevant statements, 11118 rows survive"
   ]
  },
  {
   "cell_type": "code",
   "execution_count": 10,
   "metadata": {},
   "outputs": [
    {
     "data": {
      "text/plain": [
       "0    6335\n",
       "1    4853\n",
       "Name: veracity, dtype: int64"
      ]
     },
     "execution_count": 10,
     "metadata": {},
     "output_type": "execute_result"
    }
   ],
   "source": [
    "# check imbalance\n",
    "ver_df.veracity.value_counts()"
   ]
  },
  {
   "cell_type": "code",
   "execution_count": 11,
   "metadata": {
    "scrolled": false
   },
   "outputs": [
    {
     "data": {
      "text/html": [
       "<div>\n",
       "<style scoped>\n",
       "    .dataframe tbody tr th:only-of-type {\n",
       "        vertical-align: middle;\n",
       "    }\n",
       "\n",
       "    .dataframe tbody tr th {\n",
       "        vertical-align: top;\n",
       "    }\n",
       "\n",
       "    .dataframe thead th {\n",
       "        text-align: right;\n",
       "    }\n",
       "</style>\n",
       "<table border=\"1\" class=\"dataframe\">\n",
       "  <thead>\n",
       "    <tr style=\"text-align: right;\">\n",
       "      <th></th>\n",
       "      <th>source</th>\n",
       "      <th>link</th>\n",
       "      <th>veracity</th>\n",
       "    </tr>\n",
       "    <tr>\n",
       "      <th>statement</th>\n",
       "      <th></th>\n",
       "      <th></th>\n",
       "      <th></th>\n",
       "    </tr>\n",
       "  </thead>\n",
       "  <tbody>\n",
       "    <tr>\n",
       "      <th>Sen. Kamala Harris is \"supporting the animals of MS-13.\"</th>\n",
       "      <td>Donald Trump</td>\n",
       "      <td>/web/20180705082623/https://www.politifact.com/california/statements/2018/jul/03/donald-trump/pants-fire-white-house-claim-sen-harris-supporting/</td>\n",
       "      <td>0</td>\n",
       "    </tr>\n",
       "    <tr>\n",
       "      <th>Says a progressive income tax proposal from Democratic governor candidate J.B. Pritzker \"is wholly regressive.\"</th>\n",
       "      <td>Evelyn Sanguinetti</td>\n",
       "      <td>/web/20180705082623/https://www.politifact.com/illinois/statements/2018/jul/02/evelyn-sanguinetti/illinois-lite-guv-calls-progressive-tax-idea-regre/</td>\n",
       "      <td>0</td>\n",
       "    </tr>\n",
       "    <tr>\n",
       "      <th>\"Migrant mother and ‘crying girl’ on Time cover never separated.\"</th>\n",
       "      <td>The Gateway Pundit</td>\n",
       "      <td>/web/20180701030417/http://www.politifact.com/punditfact/statements/2018/jun/25/gateway-pundit/immigrant-girl-time-cover-wasnt-separated-mother/</td>\n",
       "      <td>1</td>\n",
       "    </tr>\n",
       "    <tr>\n",
       "      <th>\"There's been a 1,700 percent increase in asylum claims over the last 10 years.\"</th>\n",
       "      <td>Donald Trump</td>\n",
       "      <td>/web/20180701030417/http://www.politifact.com/truth-o-meter/statements/2018/jun/21/donald-trump/1700-percent-increase-asylum-claims/</td>\n",
       "      <td>1</td>\n",
       "    </tr>\n",
       "    <tr>\n",
       "      <th>Says Ronald Reagan said immigrants \"brought with them courage and the values of family, work, and freedom. Let us pledge to each other that we can make America great again.\"</th>\n",
       "      <td>Becoming American Initiative</td>\n",
       "      <td>/web/20180717183606/http://www.politifact.com/truth-o-meter/statements/2018/jul/03/becoming-american-initiative/did-ronald-reagan-say-immigrants-made-america-grea/</td>\n",
       "      <td>1</td>\n",
       "    </tr>\n",
       "    <tr>\n",
       "      <th>Says Wisconsin \"hadn’t been won by a Republican since Dwight D. Eisenhower, in 1952. And I won Wisconsin. …  Ronald Reagan, remember, Wisconsin was the state that Ronald Reagan did not win.\"</th>\n",
       "      <td>Donald Trump</td>\n",
       "      <td>/web/20180717183606/http://www.politifact.com/wisconsin/statements/2018/jun/29/donald-trump/president-trump-makes-some-interesting-claims-abou/</td>\n",
       "      <td>0</td>\n",
       "    </tr>\n",
       "    <tr>\n",
       "      <th>\"Breaking: Trump fires deputy attorney general Rod Rosenstein, raising questions over Mueller’s fate.\"</th>\n",
       "      <td>HoustonChronicle-tv.com</td>\n",
       "      <td>/web/20180106054644/http://www.politifact.com/punditfact/statements/2017/dec/12/houstonchronicle-tvcom/no-trump-hasnt-fired-justice-departments-rod-rosen/</td>\n",
       "      <td>0</td>\n",
       "    </tr>\n",
       "    <tr>\n",
       "      <th>\"Earlier this year, Hurricane Harvey left more than 12 million people in Texas and Louisiana without homes.\"</th>\n",
       "      <td>Ryan Sitton</td>\n",
       "      <td>/web/20180106054644/http://www.politifact.com/texas/statements/2017/dec/08/ryan-sitton/ryan-sitton-errantly-says-12-million-people-left-w/</td>\n",
       "      <td>0</td>\n",
       "    </tr>\n",
       "    <tr>\n",
       "      <th>Says the \"Pope calls for world wide gun confiscation except for the UN\"</th>\n",
       "      <td>Common Sense News</td>\n",
       "      <td>/web/20180715231626/http://www.politifact.com/punditfact/statements/2018/jun/20/common-sense-news/fake-news-says-pope-called-world-wide-gun-confisca/</td>\n",
       "      <td>0</td>\n",
       "    </tr>\n",
       "    <tr>\n",
       "      <th>Conservative groups have spent $5 million \"against\" Tammy Baldwin -- five times more than against all other Democratic U.S. Senate incumbents up for election in 2018 combined.</th>\n",
       "      <td>Martha Laning</td>\n",
       "      <td>/web/20180213195651/http://www.politifact.com/wisconsin/statements/2018/jan/17/martha-laning/millions-more-spent-defeat-tammy-baldwin-all-other/</td>\n",
       "      <td>1</td>\n",
       "    </tr>\n",
       "  </tbody>\n",
       "</table>\n",
       "</div>"
      ],
      "text/plain": [
       "                                                                                                                                                                                                                      source  \\\n",
       "statement                                                                                                                                                                                                                      \n",
       "Sen. Kamala Harris is \"supporting the animals of MS-13.\"                                                                                                                                                        Donald Trump   \n",
       "Says a progressive income tax proposal from Democratic governor candidate J.B. Pritzker \"is wholly regressive.\"                                                                                           Evelyn Sanguinetti   \n",
       "\"Migrant mother and ‘crying girl’ on Time cover never separated.\"                                                                                                                                         The Gateway Pundit   \n",
       "\"There's been a 1,700 percent increase in asylum claims over the last 10 years.\"                                                                                                                                Donald Trump   \n",
       "Says Ronald Reagan said immigrants \"brought with them courage and the values of family, work, and freedom. Let us pledge to each other that we can make America great again.\"                   Becoming American Initiative   \n",
       "Says Wisconsin \"hadn’t been won by a Republican since Dwight D. Eisenhower, in 1952. And I won Wisconsin. …  Ronald Reagan, remember, Wisconsin was the state that Ronald Reagan did not win.\"                  Donald Trump   \n",
       "\"Breaking: Trump fires deputy attorney general Rod Rosenstein, raising questions over Mueller’s fate.\"                                                                                               HoustonChronicle-tv.com   \n",
       "\"Earlier this year, Hurricane Harvey left more than 12 million people in Texas and Louisiana without homes.\"                                                                                                     Ryan Sitton   \n",
       "Says the \"Pope calls for world wide gun confiscation except for the UN\"                                                                                                                                    Common Sense News   \n",
       "Conservative groups have spent $5 million \"against\" Tammy Baldwin -- five times more than against all other Democratic U.S. Senate incumbents up for election in 2018 combined.                                Martha Laning   \n",
       "\n",
       "                                                                                                                                                                                                                                                                                                                                                               link  \\\n",
       "statement                                                                                                                                                                                                                                                                                                                                                             \n",
       "Sen. Kamala Harris is \"supporting the animals of MS-13.\"                                                                                                                                                          /web/20180705082623/https://www.politifact.com/california/statements/2018/jul/03/donald-trump/pants-fire-white-house-claim-sen-harris-supporting/   \n",
       "Says a progressive income tax proposal from Democratic governor candidate J.B. Pritzker \"is wholly regressive.\"                                                                                               /web/20180705082623/https://www.politifact.com/illinois/statements/2018/jul/02/evelyn-sanguinetti/illinois-lite-guv-calls-progressive-tax-idea-regre/   \n",
       "\"Migrant mother and ‘crying girl’ on Time cover never separated.\"                                                                                                                                                  /web/20180701030417/http://www.politifact.com/punditfact/statements/2018/jun/25/gateway-pundit/immigrant-girl-time-cover-wasnt-separated-mother/   \n",
       "\"There's been a 1,700 percent increase in asylum claims over the last 10 years.\"                                                                                                                                               /web/20180701030417/http://www.politifact.com/truth-o-meter/statements/2018/jun/21/donald-trump/1700-percent-increase-asylum-claims/   \n",
       "Says Ronald Reagan said immigrants \"brought with them courage and the values of family, work, and freedom. Let us pledge to each other that we can make America great again.\"                   /web/20180717183606/http://www.politifact.com/truth-o-meter/statements/2018/jul/03/becoming-american-initiative/did-ronald-reagan-say-immigrants-made-america-grea/   \n",
       "Says Wisconsin \"hadn’t been won by a Republican since Dwight D. Eisenhower, in 1952. And I won Wisconsin. …  Ronald Reagan, remember, Wisconsin was the state that Ronald Reagan did not win.\"                      /web/20180717183606/http://www.politifact.com/wisconsin/statements/2018/jun/29/donald-trump/president-trump-makes-some-interesting-claims-abou/   \n",
       "\"Breaking: Trump fires deputy attorney general Rod Rosenstein, raising questions over Mueller’s fate.\"                                                                                                   /web/20180106054644/http://www.politifact.com/punditfact/statements/2017/dec/12/houstonchronicle-tvcom/no-trump-hasnt-fired-justice-departments-rod-rosen/   \n",
       "\"Earlier this year, Hurricane Harvey left more than 12 million people in Texas and Louisiana without homes.\"                                                                                                             /web/20180106054644/http://www.politifact.com/texas/statements/2017/dec/08/ryan-sitton/ryan-sitton-errantly-says-12-million-people-left-w/   \n",
       "Says the \"Pope calls for world wide gun confiscation except for the UN\"                                                                                                                                       /web/20180715231626/http://www.politifact.com/punditfact/statements/2018/jun/20/common-sense-news/fake-news-says-pope-called-world-wide-gun-confisca/   \n",
       "Conservative groups have spent $5 million \"against\" Tammy Baldwin -- five times more than against all other Democratic U.S. Senate incumbents up for election in 2018 combined.                                    /web/20180213195651/http://www.politifact.com/wisconsin/statements/2018/jan/17/martha-laning/millions-more-spent-defeat-tammy-baldwin-all-other/   \n",
       "\n",
       "                                                                                                                                                                                                veracity  \n",
       "statement                                                                                                                                                                                                 \n",
       "Sen. Kamala Harris is \"supporting the animals of MS-13.\"                                                                                                                                               0  \n",
       "Says a progressive income tax proposal from Democratic governor candidate J.B. Pritzker \"is wholly regressive.\"                                                                                        0  \n",
       "\"Migrant mother and ‘crying girl’ on Time cover never separated.\"                                                                                                                                      1  \n",
       "\"There's been a 1,700 percent increase in asylum claims over the last 10 years.\"                                                                                                                       1  \n",
       "Says Ronald Reagan said immigrants \"brought with them courage and the values of family, work, and freedom. Let us pledge to each other that we can make America great again.\"                          1  \n",
       "Says Wisconsin \"hadn’t been won by a Republican since Dwight D. Eisenhower, in 1952. And I won Wisconsin. …  Ronald Reagan, remember, Wisconsin was the state that Ronald Reagan did not win.\"         0  \n",
       "\"Breaking: Trump fires deputy attorney general Rod Rosenstein, raising questions over Mueller’s fate.\"                                                                                                 0  \n",
       "\"Earlier this year, Hurricane Harvey left more than 12 million people in Texas and Louisiana without homes.\"                                                                                           0  \n",
       "Says the \"Pope calls for world wide gun confiscation except for the UN\"                                                                                                                                0  \n",
       "Conservative groups have spent $5 million \"against\" Tammy Baldwin -- five times more than against all other Democratic U.S. Senate incumbents up for election in 2018 combined.                        1  "
      ]
     },
     "execution_count": 11,
     "metadata": {},
     "output_type": "execute_result"
    }
   ],
   "source": [
    "# randomly sample 10 rows\n",
    "ver_df.iloc[0:100:10]"
   ]
  },
  {
   "cell_type": "code",
   "execution_count": 12,
   "metadata": {},
   "outputs": [
    {
     "data": {
      "text/html": [
       "<div>\n",
       "<style scoped>\n",
       "    .dataframe tbody tr th:only-of-type {\n",
       "        vertical-align: middle;\n",
       "    }\n",
       "\n",
       "    .dataframe tbody tr th {\n",
       "        vertical-align: top;\n",
       "    }\n",
       "\n",
       "    .dataframe thead th {\n",
       "        text-align: right;\n",
       "    }\n",
       "</style>\n",
       "<table border=\"1\" class=\"dataframe\">\n",
       "  <thead>\n",
       "    <tr style=\"text-align: right;\">\n",
       "      <th></th>\n",
       "      <th>source</th>\n",
       "      <th>link</th>\n",
       "      <th>veracity</th>\n",
       "    </tr>\n",
       "  </thead>\n",
       "  <tbody>\n",
       "    <tr>\n",
       "      <th>count</th>\n",
       "      <td>11188</td>\n",
       "      <td>11188</td>\n",
       "      <td>11188.000000</td>\n",
       "    </tr>\n",
       "    <tr>\n",
       "      <th>unique</th>\n",
       "      <td>3175</td>\n",
       "      <td>11188</td>\n",
       "      <td>NaN</td>\n",
       "    </tr>\n",
       "    <tr>\n",
       "      <th>top</th>\n",
       "      <td>Barack Obama</td>\n",
       "      <td>/web/20180119172555/http://www.politifact.com/truth-o-meter/statements/2014/apr/24/chain-email/chain-email-says-more-1000-american-soldiers-have-/</td>\n",
       "      <td>NaN</td>\n",
       "    </tr>\n",
       "    <tr>\n",
       "      <th>freq</th>\n",
       "      <td>438</td>\n",
       "      <td>1</td>\n",
       "      <td>NaN</td>\n",
       "    </tr>\n",
       "    <tr>\n",
       "      <th>mean</th>\n",
       "      <td>NaN</td>\n",
       "      <td>NaN</td>\n",
       "      <td>0.433768</td>\n",
       "    </tr>\n",
       "    <tr>\n",
       "      <th>std</th>\n",
       "      <td>NaN</td>\n",
       "      <td>NaN</td>\n",
       "      <td>0.495616</td>\n",
       "    </tr>\n",
       "    <tr>\n",
       "      <th>min</th>\n",
       "      <td>NaN</td>\n",
       "      <td>NaN</td>\n",
       "      <td>0.000000</td>\n",
       "    </tr>\n",
       "    <tr>\n",
       "      <th>25%</th>\n",
       "      <td>NaN</td>\n",
       "      <td>NaN</td>\n",
       "      <td>0.000000</td>\n",
       "    </tr>\n",
       "    <tr>\n",
       "      <th>50%</th>\n",
       "      <td>NaN</td>\n",
       "      <td>NaN</td>\n",
       "      <td>0.000000</td>\n",
       "    </tr>\n",
       "    <tr>\n",
       "      <th>75%</th>\n",
       "      <td>NaN</td>\n",
       "      <td>NaN</td>\n",
       "      <td>1.000000</td>\n",
       "    </tr>\n",
       "    <tr>\n",
       "      <th>max</th>\n",
       "      <td>NaN</td>\n",
       "      <td>NaN</td>\n",
       "      <td>1.000000</td>\n",
       "    </tr>\n",
       "  </tbody>\n",
       "</table>\n",
       "</div>"
      ],
      "text/plain": [
       "              source  \\\n",
       "count          11188   \n",
       "unique          3175   \n",
       "top     Barack Obama   \n",
       "freq             438   \n",
       "mean             NaN   \n",
       "std              NaN   \n",
       "min              NaN   \n",
       "25%              NaN   \n",
       "50%              NaN   \n",
       "75%              NaN   \n",
       "max              NaN   \n",
       "\n",
       "                                                                                                                                                      link  \\\n",
       "count                                                                                                                                                11188   \n",
       "unique                                                                                                                                               11188   \n",
       "top     /web/20180119172555/http://www.politifact.com/truth-o-meter/statements/2014/apr/24/chain-email/chain-email-says-more-1000-american-soldiers-have-/   \n",
       "freq                                                                                                                                                     1   \n",
       "mean                                                                                                                                                   NaN   \n",
       "std                                                                                                                                                    NaN   \n",
       "min                                                                                                                                                    NaN   \n",
       "25%                                                                                                                                                    NaN   \n",
       "50%                                                                                                                                                    NaN   \n",
       "75%                                                                                                                                                    NaN   \n",
       "max                                                                                                                                                    NaN   \n",
       "\n",
       "            veracity  \n",
       "count   11188.000000  \n",
       "unique           NaN  \n",
       "top              NaN  \n",
       "freq             NaN  \n",
       "mean        0.433768  \n",
       "std         0.495616  \n",
       "min         0.000000  \n",
       "25%         0.000000  \n",
       "50%         0.000000  \n",
       "75%         1.000000  \n",
       "max         1.000000  "
      ]
     },
     "execution_count": 12,
     "metadata": {},
     "output_type": "execute_result"
    }
   ],
   "source": [
    "# how many unique items per category?\n",
    "ver_df.describe(include='all')"
   ]
  },
  {
   "cell_type": "code",
   "execution_count": 13,
   "metadata": {},
   "outputs": [
    {
     "data": {
      "text/plain": [
       "Barack Obama       438\n",
       "Donald Trump       420\n",
       "Bloggers           248\n",
       "Hillary Clinton    227\n",
       "Chain email        172\n",
       "John McCain        153\n",
       "Scott Walker       150\n",
       "Mitt Romney        148\n",
       "Rick Perry         129\n",
       "Marco Rubio        121\n",
       "Name: source, dtype: int64"
      ]
     },
     "execution_count": 13,
     "metadata": {},
     "output_type": "execute_result"
    }
   ],
   "source": [
    "# top 10 sources\n",
    "ver_df.source.value_counts()[:10]"
   ]
  },
  {
   "cell_type": "markdown",
   "metadata": {},
   "source": [
    "# Take every link and remove the beginning part up until HTTP(S)"
   ]
  },
  {
   "cell_type": "code",
   "execution_count": 14,
   "metadata": {},
   "outputs": [
    {
     "data": {
      "text/plain": [
       "19"
      ]
     },
     "execution_count": 14,
     "metadata": {},
     "output_type": "execute_result"
    }
   ],
   "source": [
    "chop = \"/web/20180705082623\"\n",
    "len(chop)"
   ]
  },
  {
   "cell_type": "code",
   "execution_count": 15,
   "metadata": {},
   "outputs": [
    {
     "data": {
      "text/html": [
       "<div>\n",
       "<style scoped>\n",
       "    .dataframe tbody tr th:only-of-type {\n",
       "        vertical-align: middle;\n",
       "    }\n",
       "\n",
       "    .dataframe tbody tr th {\n",
       "        vertical-align: top;\n",
       "    }\n",
       "\n",
       "    .dataframe thead th {\n",
       "        text-align: right;\n",
       "    }\n",
       "</style>\n",
       "<table border=\"1\" class=\"dataframe\">\n",
       "  <thead>\n",
       "    <tr style=\"text-align: right;\">\n",
       "      <th></th>\n",
       "      <th>source</th>\n",
       "      <th>link</th>\n",
       "      <th>veracity</th>\n",
       "    </tr>\n",
       "    <tr>\n",
       "      <th>statement</th>\n",
       "      <th></th>\n",
       "      <th></th>\n",
       "      <th></th>\n",
       "    </tr>\n",
       "  </thead>\n",
       "  <tbody>\n",
       "    <tr>\n",
       "      <th>Sen. Kamala Harris is \"supporting the animals of MS-13.\"</th>\n",
       "      <td>Donald Trump</td>\n",
       "      <td>/web/20180705082623/https://www.politifact.com/california/statements/2018/jul/03/donald-trump/pants-fire-white-house-claim-sen-harris-supporting/</td>\n",
       "      <td>0</td>\n",
       "    </tr>\n",
       "    <tr>\n",
       "      <th>Says Ronald Reagan said immigrants \"brought with them courage and the values of family, work, and freedom. Let us pledge to each other that we can make America great again.\"</th>\n",
       "      <td>Becoming American Initiative</td>\n",
       "      <td>/web/20180705082623/https://www.politifact.com/truth-o-meter/statements/2018/jul/03/becoming-american-initiative/did-ronald-reagan-say-immigrants-made-america-grea/</td>\n",
       "      <td>1</td>\n",
       "    </tr>\n",
       "    <tr>\n",
       "      <th>Says Democratic Senators \"demand Supreme Court nominee not be unduly influenced by U.S. Constitution.\"</th>\n",
       "      <td>Viral image</td>\n",
       "      <td>/web/20180705082623/https://www.politifact.com/punditfact/statements/2018/jul/03/viral-image/viral-image-criticizing-democrats-featured-fabrica/</td>\n",
       "      <td>0</td>\n",
       "    </tr>\n",
       "    <tr>\n",
       "      <th>\"Tim Kaine doesn’t want a border at all. He wants to get rid of Immigration and Customs Enforcement and basically the border patrol as well.\"</th>\n",
       "      <td>Corey  Stewart</td>\n",
       "      <td>/web/20180705082623/https://www.politifact.com/truth-o-meter/statements/2018/jul/03/corey-stewart/corey-stewart-falsely-claims-sen-tim-kaine-wants-d/</td>\n",
       "      <td>0</td>\n",
       "    </tr>\n",
       "    <tr>\n",
       "      <th>\"George H.W. Bush has died at 94.\"</th>\n",
       "      <td>Bloggers</td>\n",
       "      <td>/web/20180705082623/https://www.politifact.com/punditfact/statements/2018/jul/02/blog-posting/hoax-website-says-george-h-w-bush-died-he-didnt/</td>\n",
       "      <td>0</td>\n",
       "    </tr>\n",
       "  </tbody>\n",
       "</table>\n",
       "</div>"
      ],
      "text/plain": [
       "                                                                                                                                                                                                     source  \\\n",
       "statement                                                                                                                                                                                                     \n",
       "Sen. Kamala Harris is \"supporting the animals of MS-13.\"                                                                                                                                       Donald Trump   \n",
       "Says Ronald Reagan said immigrants \"brought with them courage and the values of family, work, and freedom. Let us pledge to each other that we can make America great again.\"  Becoming American Initiative   \n",
       "Says Democratic Senators \"demand Supreme Court nominee not be unduly influenced by U.S. Constitution.\"                                                                                          Viral image   \n",
       "\"Tim Kaine doesn’t want a border at all. He wants to get rid of Immigration and Customs Enforcement and basically the border patrol as well.\"                                                Corey  Stewart   \n",
       "\"George H.W. Bush has died at 94.\"                                                                                                                                                                 Bloggers   \n",
       "\n",
       "                                                                                                                                                                                                                                                                                                                                               link  \\\n",
       "statement                                                                                                                                                                                                                                                                                                                                             \n",
       "Sen. Kamala Harris is \"supporting the animals of MS-13.\"                                                                                                                                          /web/20180705082623/https://www.politifact.com/california/statements/2018/jul/03/donald-trump/pants-fire-white-house-claim-sen-harris-supporting/   \n",
       "Says Ronald Reagan said immigrants \"brought with them courage and the values of family, work, and freedom. Let us pledge to each other that we can make America great again.\"  /web/20180705082623/https://www.politifact.com/truth-o-meter/statements/2018/jul/03/becoming-american-initiative/did-ronald-reagan-say-immigrants-made-america-grea/   \n",
       "Says Democratic Senators \"demand Supreme Court nominee not be unduly influenced by U.S. Constitution.\"                                                                                             /web/20180705082623/https://www.politifact.com/punditfact/statements/2018/jul/03/viral-image/viral-image-criticizing-democrats-featured-fabrica/   \n",
       "\"Tim Kaine doesn’t want a border at all. He wants to get rid of Immigration and Customs Enforcement and basically the border patrol as well.\"                                                 /web/20180705082623/https://www.politifact.com/truth-o-meter/statements/2018/jul/03/corey-stewart/corey-stewart-falsely-claims-sen-tim-kaine-wants-d/   \n",
       "\"George H.W. Bush has died at 94.\"                                                                                                                                                                   /web/20180705082623/https://www.politifact.com/punditfact/statements/2018/jul/02/blog-posting/hoax-website-says-george-h-w-bush-died-he-didnt/   \n",
       "\n",
       "                                                                                                                                                                               veracity  \n",
       "statement                                                                                                                                                                                \n",
       "Sen. Kamala Harris is \"supporting the animals of MS-13.\"                                                                                                                              0  \n",
       "Says Ronald Reagan said immigrants \"brought with them courage and the values of family, work, and freedom. Let us pledge to each other that we can make America great again.\"         1  \n",
       "Says Democratic Senators \"demand Supreme Court nominee not be unduly influenced by U.S. Constitution.\"                                                                                0  \n",
       "\"Tim Kaine doesn’t want a border at all. He wants to get rid of Immigration and Customs Enforcement and basically the border patrol as well.\"                                         0  \n",
       "\"George H.W. Bush has died at 94.\"                                                                                                                                                    0  "
      ]
     },
     "execution_count": 15,
     "metadata": {},
     "output_type": "execute_result"
    }
   ],
   "source": [
    "link_chop_df = ver_df\n",
    "link_chop_df.head()"
   ]
  },
  {
   "cell_type": "code",
   "execution_count": 16,
   "metadata": {},
   "outputs": [],
   "source": [
    "link_chop_df['link'] = link_chop_df['link'].apply(lambda x: x[len(chop):])"
   ]
  },
  {
   "cell_type": "code",
   "execution_count": 17,
   "metadata": {},
   "outputs": [
    {
     "data": {
      "text/html": [
       "<div>\n",
       "<style scoped>\n",
       "    .dataframe tbody tr th:only-of-type {\n",
       "        vertical-align: middle;\n",
       "    }\n",
       "\n",
       "    .dataframe tbody tr th {\n",
       "        vertical-align: top;\n",
       "    }\n",
       "\n",
       "    .dataframe thead th {\n",
       "        text-align: right;\n",
       "    }\n",
       "</style>\n",
       "<table border=\"1\" class=\"dataframe\">\n",
       "  <thead>\n",
       "    <tr style=\"text-align: right;\">\n",
       "      <th></th>\n",
       "      <th>source</th>\n",
       "      <th>link</th>\n",
       "      <th>veracity</th>\n",
       "    </tr>\n",
       "    <tr>\n",
       "      <th>statement</th>\n",
       "      <th></th>\n",
       "      <th></th>\n",
       "      <th></th>\n",
       "    </tr>\n",
       "  </thead>\n",
       "  <tbody>\n",
       "    <tr>\n",
       "      <th>Sen. Kamala Harris is \"supporting the animals of MS-13.\"</th>\n",
       "      <td>Donald Trump</td>\n",
       "      <td>/https://www.politifact.com/california/statements/2018/jul/03/donald-trump/pants-fire-white-house-claim-sen-harris-supporting/</td>\n",
       "      <td>0</td>\n",
       "    </tr>\n",
       "    <tr>\n",
       "      <th>Says Ronald Reagan said immigrants \"brought with them courage and the values of family, work, and freedom. Let us pledge to each other that we can make America great again.\"</th>\n",
       "      <td>Becoming American Initiative</td>\n",
       "      <td>/https://www.politifact.com/truth-o-meter/statements/2018/jul/03/becoming-american-initiative/did-ronald-reagan-say-immigrants-made-america-grea/</td>\n",
       "      <td>1</td>\n",
       "    </tr>\n",
       "    <tr>\n",
       "      <th>Says Democratic Senators \"demand Supreme Court nominee not be unduly influenced by U.S. Constitution.\"</th>\n",
       "      <td>Viral image</td>\n",
       "      <td>/https://www.politifact.com/punditfact/statements/2018/jul/03/viral-image/viral-image-criticizing-democrats-featured-fabrica/</td>\n",
       "      <td>0</td>\n",
       "    </tr>\n",
       "    <tr>\n",
       "      <th>\"Tim Kaine doesn’t want a border at all. He wants to get rid of Immigration and Customs Enforcement and basically the border patrol as well.\"</th>\n",
       "      <td>Corey  Stewart</td>\n",
       "      <td>/https://www.politifact.com/truth-o-meter/statements/2018/jul/03/corey-stewart/corey-stewart-falsely-claims-sen-tim-kaine-wants-d/</td>\n",
       "      <td>0</td>\n",
       "    </tr>\n",
       "    <tr>\n",
       "      <th>\"George H.W. Bush has died at 94.\"</th>\n",
       "      <td>Bloggers</td>\n",
       "      <td>/https://www.politifact.com/punditfact/statements/2018/jul/02/blog-posting/hoax-website-says-george-h-w-bush-died-he-didnt/</td>\n",
       "      <td>0</td>\n",
       "    </tr>\n",
       "  </tbody>\n",
       "</table>\n",
       "</div>"
      ],
      "text/plain": [
       "                                                                                                                                                                                                     source  \\\n",
       "statement                                                                                                                                                                                                     \n",
       "Sen. Kamala Harris is \"supporting the animals of MS-13.\"                                                                                                                                       Donald Trump   \n",
       "Says Ronald Reagan said immigrants \"brought with them courage and the values of family, work, and freedom. Let us pledge to each other that we can make America great again.\"  Becoming American Initiative   \n",
       "Says Democratic Senators \"demand Supreme Court nominee not be unduly influenced by U.S. Constitution.\"                                                                                          Viral image   \n",
       "\"Tim Kaine doesn’t want a border at all. He wants to get rid of Immigration and Customs Enforcement and basically the border patrol as well.\"                                                Corey  Stewart   \n",
       "\"George H.W. Bush has died at 94.\"                                                                                                                                                                 Bloggers   \n",
       "\n",
       "                                                                                                                                                                                                                                                                                                                            link  \\\n",
       "statement                                                                                                                                                                                                                                                                                                                          \n",
       "Sen. Kamala Harris is \"supporting the animals of MS-13.\"                                                                                                                                          /https://www.politifact.com/california/statements/2018/jul/03/donald-trump/pants-fire-white-house-claim-sen-harris-supporting/   \n",
       "Says Ronald Reagan said immigrants \"brought with them courage and the values of family, work, and freedom. Let us pledge to each other that we can make America great again.\"  /https://www.politifact.com/truth-o-meter/statements/2018/jul/03/becoming-american-initiative/did-ronald-reagan-say-immigrants-made-america-grea/   \n",
       "Says Democratic Senators \"demand Supreme Court nominee not be unduly influenced by U.S. Constitution.\"                                                                                             /https://www.politifact.com/punditfact/statements/2018/jul/03/viral-image/viral-image-criticizing-democrats-featured-fabrica/   \n",
       "\"Tim Kaine doesn’t want a border at all. He wants to get rid of Immigration and Customs Enforcement and basically the border patrol as well.\"                                                 /https://www.politifact.com/truth-o-meter/statements/2018/jul/03/corey-stewart/corey-stewart-falsely-claims-sen-tim-kaine-wants-d/   \n",
       "\"George H.W. Bush has died at 94.\"                                                                                                                                                                   /https://www.politifact.com/punditfact/statements/2018/jul/02/blog-posting/hoax-website-says-george-h-w-bush-died-he-didnt/   \n",
       "\n",
       "                                                                                                                                                                               veracity  \n",
       "statement                                                                                                                                                                                \n",
       "Sen. Kamala Harris is \"supporting the animals of MS-13.\"                                                                                                                              0  \n",
       "Says Ronald Reagan said immigrants \"brought with them courage and the values of family, work, and freedom. Let us pledge to each other that we can make America great again.\"         1  \n",
       "Says Democratic Senators \"demand Supreme Court nominee not be unduly influenced by U.S. Constitution.\"                                                                                0  \n",
       "\"Tim Kaine doesn’t want a border at all. He wants to get rid of Immigration and Customs Enforcement and basically the border patrol as well.\"                                         0  \n",
       "\"George H.W. Bush has died at 94.\"                                                                                                                                                    0  "
      ]
     },
     "execution_count": 17,
     "metadata": {},
     "output_type": "execute_result"
    }
   ],
   "source": [
    "link_chop_df.head()"
   ]
  },
  {
   "cell_type": "code",
   "execution_count": null,
   "metadata": {},
   "outputs": [],
   "source": []
  },
  {
   "cell_type": "code",
   "execution_count": 18,
   "metadata": {},
   "outputs": [
    {
     "data": {
      "text/html": [
       "<div>\n",
       "<style scoped>\n",
       "    .dataframe tbody tr th:only-of-type {\n",
       "        vertical-align: middle;\n",
       "    }\n",
       "\n",
       "    .dataframe tbody tr th {\n",
       "        vertical-align: top;\n",
       "    }\n",
       "\n",
       "    .dataframe thead th {\n",
       "        text-align: right;\n",
       "    }\n",
       "</style>\n",
       "<table border=\"1\" class=\"dataframe\">\n",
       "  <thead>\n",
       "    <tr style=\"text-align: right;\">\n",
       "      <th></th>\n",
       "      <th>source</th>\n",
       "      <th>link</th>\n",
       "      <th>veracity</th>\n",
       "    </tr>\n",
       "    <tr>\n",
       "      <th>statement</th>\n",
       "      <th></th>\n",
       "      <th></th>\n",
       "      <th></th>\n",
       "    </tr>\n",
       "  </thead>\n",
       "  <tbody>\n",
       "    <tr>\n",
       "      <th>Sen. Kamala Harris is \"supporting the animals of MS-13.\"</th>\n",
       "      <td>Donald Trump</td>\n",
       "      <td>/https://www.politifact.com/california/statements/2018/jul/03/donald-trump/pants-fire-white-house-claim-sen-harris-supporting/</td>\n",
       "      <td>0</td>\n",
       "    </tr>\n",
       "    <tr>\n",
       "      <th>Says Ronald Reagan said immigrants \"brought with them courage and the values of family, work, and freedom. Let us pledge to each other that we can make America great again.\"</th>\n",
       "      <td>Becoming American Initiative</td>\n",
       "      <td>/https://www.politifact.com/truth-o-meter/statements/2018/jul/03/becoming-american-initiative/did-ronald-reagan-say-immigrants-made-america-grea/</td>\n",
       "      <td>1</td>\n",
       "    </tr>\n",
       "    <tr>\n",
       "      <th>Says Democratic Senators \"demand Supreme Court nominee not be unduly influenced by U.S. Constitution.\"</th>\n",
       "      <td>Viral image</td>\n",
       "      <td>/https://www.politifact.com/punditfact/statements/2018/jul/03/viral-image/viral-image-criticizing-democrats-featured-fabrica/</td>\n",
       "      <td>0</td>\n",
       "    </tr>\n",
       "    <tr>\n",
       "      <th>\"Tim Kaine doesn’t want a border at all. He wants to get rid of Immigration and Customs Enforcement and basically the border patrol as well.\"</th>\n",
       "      <td>Corey  Stewart</td>\n",
       "      <td>/https://www.politifact.com/truth-o-meter/statements/2018/jul/03/corey-stewart/corey-stewart-falsely-claims-sen-tim-kaine-wants-d/</td>\n",
       "      <td>0</td>\n",
       "    </tr>\n",
       "    <tr>\n",
       "      <th>\"George H.W. Bush has died at 94.\"</th>\n",
       "      <td>Bloggers</td>\n",
       "      <td>/https://www.politifact.com/punditfact/statements/2018/jul/02/blog-posting/hoax-website-says-george-h-w-bush-died-he-didnt/</td>\n",
       "      <td>0</td>\n",
       "    </tr>\n",
       "  </tbody>\n",
       "</table>\n",
       "</div>"
      ],
      "text/plain": [
       "                                                                                                                                                                                                     source  \\\n",
       "statement                                                                                                                                                                                                     \n",
       "Sen. Kamala Harris is \"supporting the animals of MS-13.\"                                                                                                                                       Donald Trump   \n",
       "Says Ronald Reagan said immigrants \"brought with them courage and the values of family, work, and freedom. Let us pledge to each other that we can make America great again.\"  Becoming American Initiative   \n",
       "Says Democratic Senators \"demand Supreme Court nominee not be unduly influenced by U.S. Constitution.\"                                                                                          Viral image   \n",
       "\"Tim Kaine doesn’t want a border at all. He wants to get rid of Immigration and Customs Enforcement and basically the border patrol as well.\"                                                Corey  Stewart   \n",
       "\"George H.W. Bush has died at 94.\"                                                                                                                                                                 Bloggers   \n",
       "\n",
       "                                                                                                                                                                                                                                                                                                                            link  \\\n",
       "statement                                                                                                                                                                                                                                                                                                                          \n",
       "Sen. Kamala Harris is \"supporting the animals of MS-13.\"                                                                                                                                          /https://www.politifact.com/california/statements/2018/jul/03/donald-trump/pants-fire-white-house-claim-sen-harris-supporting/   \n",
       "Says Ronald Reagan said immigrants \"brought with them courage and the values of family, work, and freedom. Let us pledge to each other that we can make America great again.\"  /https://www.politifact.com/truth-o-meter/statements/2018/jul/03/becoming-american-initiative/did-ronald-reagan-say-immigrants-made-america-grea/   \n",
       "Says Democratic Senators \"demand Supreme Court nominee not be unduly influenced by U.S. Constitution.\"                                                                                             /https://www.politifact.com/punditfact/statements/2018/jul/03/viral-image/viral-image-criticizing-democrats-featured-fabrica/   \n",
       "\"Tim Kaine doesn’t want a border at all. He wants to get rid of Immigration and Customs Enforcement and basically the border patrol as well.\"                                                 /https://www.politifact.com/truth-o-meter/statements/2018/jul/03/corey-stewart/corey-stewart-falsely-claims-sen-tim-kaine-wants-d/   \n",
       "\"George H.W. Bush has died at 94.\"                                                                                                                                                                   /https://www.politifact.com/punditfact/statements/2018/jul/02/blog-posting/hoax-website-says-george-h-w-bush-died-he-didnt/   \n",
       "\n",
       "                                                                                                                                                                               veracity  \n",
       "statement                                                                                                                                                                                \n",
       "Sen. Kamala Harris is \"supporting the animals of MS-13.\"                                                                                                                              0  \n",
       "Says Ronald Reagan said immigrants \"brought with them courage and the values of family, work, and freedom. Let us pledge to each other that we can make America great again.\"         1  \n",
       "Says Democratic Senators \"demand Supreme Court nominee not be unduly influenced by U.S. Constitution.\"                                                                                0  \n",
       "\"Tim Kaine doesn’t want a border at all. He wants to get rid of Immigration and Customs Enforcement and basically the border patrol as well.\"                                         0  \n",
       "\"George H.W. Bush has died at 94.\"                                                                                                                                                    0  "
      ]
     },
     "execution_count": 18,
     "metadata": {},
     "output_type": "execute_result"
    }
   ],
   "source": [
    "ver_df = link_chop_df\n",
    "ver_df.head()"
   ]
  },
  {
   "cell_type": "code",
   "execution_count": null,
   "metadata": {},
   "outputs": [],
   "source": []
  },
  {
   "cell_type": "markdown",
   "metadata": {},
   "source": [
    "# Verify the dates of the data"
   ]
  },
  {
   "cell_type": "code",
   "execution_count": 19,
   "metadata": {},
   "outputs": [],
   "source": [
    "# extracting the date from the link column\n",
    "# r() = first group to extract; you can use multiple ()\n",
    "# ?P<column_name> = column name for convenience\n",
    "# \\d = digit\n",
    "# {n} = number of digits to include\n",
    "# . = wildcard\n",
    "# + = greedy search\n",
    "# ? = but not too greedy\n",
    "ver_df[\"date\"] = ver_df.link.str.extract(r'(\\d{4}/.+?\\d{2})')"
   ]
  },
  {
   "cell_type": "code",
   "execution_count": 20,
   "metadata": {},
   "outputs": [
    {
     "data": {
      "text/html": [
       "<div>\n",
       "<style scoped>\n",
       "    .dataframe tbody tr th:only-of-type {\n",
       "        vertical-align: middle;\n",
       "    }\n",
       "\n",
       "    .dataframe tbody tr th {\n",
       "        vertical-align: top;\n",
       "    }\n",
       "\n",
       "    .dataframe thead th {\n",
       "        text-align: right;\n",
       "    }\n",
       "</style>\n",
       "<table border=\"1\" class=\"dataframe\">\n",
       "  <thead>\n",
       "    <tr style=\"text-align: right;\">\n",
       "      <th></th>\n",
       "      <th>source</th>\n",
       "      <th>link</th>\n",
       "      <th>veracity</th>\n",
       "      <th>date</th>\n",
       "    </tr>\n",
       "    <tr>\n",
       "      <th>statement</th>\n",
       "      <th></th>\n",
       "      <th></th>\n",
       "      <th></th>\n",
       "      <th></th>\n",
       "    </tr>\n",
       "  </thead>\n",
       "  <tbody>\n",
       "    <tr>\n",
       "      <th>Sen. Kamala Harris is \"supporting the animals of MS-13.\"</th>\n",
       "      <td>Donald Trump</td>\n",
       "      <td>/https://www.politifact.com/california/statements/2018/jul/03/donald-trump/pants-fire-white-house-claim-sen-harris-supporting/</td>\n",
       "      <td>0</td>\n",
       "      <td>2018/jul/03</td>\n",
       "    </tr>\n",
       "    <tr>\n",
       "      <th>Says Ronald Reagan said immigrants \"brought with them courage and the values of family, work, and freedom. Let us pledge to each other that we can make America great again.\"</th>\n",
       "      <td>Becoming American Initiative</td>\n",
       "      <td>/https://www.politifact.com/truth-o-meter/statements/2018/jul/03/becoming-american-initiative/did-ronald-reagan-say-immigrants-made-america-grea/</td>\n",
       "      <td>1</td>\n",
       "      <td>2018/jul/03</td>\n",
       "    </tr>\n",
       "    <tr>\n",
       "      <th>Says Democratic Senators \"demand Supreme Court nominee not be unduly influenced by U.S. Constitution.\"</th>\n",
       "      <td>Viral image</td>\n",
       "      <td>/https://www.politifact.com/punditfact/statements/2018/jul/03/viral-image/viral-image-criticizing-democrats-featured-fabrica/</td>\n",
       "      <td>0</td>\n",
       "      <td>2018/jul/03</td>\n",
       "    </tr>\n",
       "  </tbody>\n",
       "</table>\n",
       "</div>"
      ],
      "text/plain": [
       "                                                                                                                                                                                                     source  \\\n",
       "statement                                                                                                                                                                                                     \n",
       "Sen. Kamala Harris is \"supporting the animals of MS-13.\"                                                                                                                                       Donald Trump   \n",
       "Says Ronald Reagan said immigrants \"brought with them courage and the values of family, work, and freedom. Let us pledge to each other that we can make America great again.\"  Becoming American Initiative   \n",
       "Says Democratic Senators \"demand Supreme Court nominee not be unduly influenced by U.S. Constitution.\"                                                                                          Viral image   \n",
       "\n",
       "                                                                                                                                                                                                                                                                                                                            link  \\\n",
       "statement                                                                                                                                                                                                                                                                                                                          \n",
       "Sen. Kamala Harris is \"supporting the animals of MS-13.\"                                                                                                                                          /https://www.politifact.com/california/statements/2018/jul/03/donald-trump/pants-fire-white-house-claim-sen-harris-supporting/   \n",
       "Says Ronald Reagan said immigrants \"brought with them courage and the values of family, work, and freedom. Let us pledge to each other that we can make America great again.\"  /https://www.politifact.com/truth-o-meter/statements/2018/jul/03/becoming-american-initiative/did-ronald-reagan-say-immigrants-made-america-grea/   \n",
       "Says Democratic Senators \"demand Supreme Court nominee not be unduly influenced by U.S. Constitution.\"                                                                                             /https://www.politifact.com/punditfact/statements/2018/jul/03/viral-image/viral-image-criticizing-democrats-featured-fabrica/   \n",
       "\n",
       "                                                                                                                                                                               veracity  \\\n",
       "statement                                                                                                                                                                                 \n",
       "Sen. Kamala Harris is \"supporting the animals of MS-13.\"                                                                                                                              0   \n",
       "Says Ronald Reagan said immigrants \"brought with them courage and the values of family, work, and freedom. Let us pledge to each other that we can make America great again.\"         1   \n",
       "Says Democratic Senators \"demand Supreme Court nominee not be unduly influenced by U.S. Constitution.\"                                                                                0   \n",
       "\n",
       "                                                                                                                                                                                      date  \n",
       "statement                                                                                                                                                                                   \n",
       "Sen. Kamala Harris is \"supporting the animals of MS-13.\"                                                                                                                       2018/jul/03  \n",
       "Says Ronald Reagan said immigrants \"brought with them courage and the values of family, work, and freedom. Let us pledge to each other that we can make America great again.\"  2018/jul/03  \n",
       "Says Democratic Senators \"demand Supreme Court nominee not be unduly influenced by U.S. Constitution.\"                                                                         2018/jul/03  "
      ]
     },
     "execution_count": 20,
     "metadata": {},
     "output_type": "execute_result"
    }
   ],
   "source": [
    "ver_df.head(3)"
   ]
  },
  {
   "cell_type": "code",
   "execution_count": 21,
   "metadata": {},
   "outputs": [],
   "source": [
    "# change the date column to a datetime column for convenience\n",
    "ver_df.date = pd.to_datetime(ver_df.date,infer_datetime_format=True)"
   ]
  },
  {
   "cell_type": "code",
   "execution_count": 22,
   "metadata": {},
   "outputs": [
    {
     "name": "stdout",
     "output_type": "stream",
     "text": [
      "<class 'pandas.core.frame.DataFrame'>\n",
      "Index: 11188 entries, Sen. Kamala Harris is \"supporting the animals of MS-13.\" to \"Tommy Thompson created the first school choice program in the nation, giving thousands of Milwaukee students the choice of where they go to school – no matter where they live or how much money their parents make.\"\n",
      "Data columns (total 4 columns):\n",
      " #   Column    Non-Null Count  Dtype         \n",
      "---  ------    --------------  -----         \n",
      " 0   source    11188 non-null  object        \n",
      " 1   link      11188 non-null  object        \n",
      " 2   veracity  11188 non-null  int64         \n",
      " 3   date      11188 non-null  datetime64[ns]\n",
      "dtypes: datetime64[ns](1), int64(1), object(2)\n",
      "memory usage: 437.0+ KB\n"
     ]
    }
   ],
   "source": [
    "ver_df.info()"
   ]
  },
  {
   "cell_type": "code",
   "execution_count": 23,
   "metadata": {},
   "outputs": [
    {
     "data": {
      "text/html": [
       "<div>\n",
       "<style scoped>\n",
       "    .dataframe tbody tr th:only-of-type {\n",
       "        vertical-align: middle;\n",
       "    }\n",
       "\n",
       "    .dataframe tbody tr th {\n",
       "        vertical-align: top;\n",
       "    }\n",
       "\n",
       "    .dataframe thead th {\n",
       "        text-align: right;\n",
       "    }\n",
       "</style>\n",
       "<table border=\"1\" class=\"dataframe\">\n",
       "  <thead>\n",
       "    <tr style=\"text-align: right;\">\n",
       "      <th></th>\n",
       "      <th>source</th>\n",
       "      <th>link</th>\n",
       "      <th>veracity</th>\n",
       "      <th>date</th>\n",
       "    </tr>\n",
       "    <tr>\n",
       "      <th>statement</th>\n",
       "      <th></th>\n",
       "      <th></th>\n",
       "      <th></th>\n",
       "      <th></th>\n",
       "    </tr>\n",
       "  </thead>\n",
       "  <tbody>\n",
       "    <tr>\n",
       "      <th>Sen. Kamala Harris is \"supporting the animals of MS-13.\"</th>\n",
       "      <td>Donald Trump</td>\n",
       "      <td>/https://www.politifact.com/california/statements/2018/jul/03/donald-trump/pants-fire-white-house-claim-sen-harris-supporting/</td>\n",
       "      <td>0</td>\n",
       "      <td>2018-07-03</td>\n",
       "    </tr>\n",
       "    <tr>\n",
       "      <th>\"There's been a 1,700 percent increase in asylum claims over the last 10 years.\"</th>\n",
       "      <td>Donald Trump</td>\n",
       "      <td>/http://www.politifact.com/truth-o-meter/statements/2018/jun/21/donald-trump/1700-percent-increase-asylum-claims/</td>\n",
       "      <td>1</td>\n",
       "      <td>2018-06-21</td>\n",
       "    </tr>\n",
       "    <tr>\n",
       "      <th>\"Breaking: Trump fires deputy attorney general Rod Rosenstein, raising questions over Mueller’s fate.\"</th>\n",
       "      <td>HoustonChronicle-tv.com</td>\n",
       "      <td>/http://www.politifact.com/punditfact/statements/2017/dec/12/houstonchronicle-tvcom/no-trump-hasnt-fired-justice-departments-rod-rosen/</td>\n",
       "      <td>0</td>\n",
       "      <td>2017-12-12</td>\n",
       "    </tr>\n",
       "  </tbody>\n",
       "</table>\n",
       "</div>"
      ],
      "text/plain": [
       "                                                                                                                         source  \\\n",
       "statement                                                                                                                         \n",
       "Sen. Kamala Harris is \"supporting the animals of MS-13.\"                                                           Donald Trump   \n",
       "\"There's been a 1,700 percent increase in asylum claims over the last 10 years.\"                                   Donald Trump   \n",
       "\"Breaking: Trump fires deputy attorney general Rod Rosenstein, raising questions over Mueller’s fate.\"  HoustonChronicle-tv.com   \n",
       "\n",
       "                                                                                                                                                                                                                                           link  \\\n",
       "statement                                                                                                                                                                                                                                         \n",
       "Sen. Kamala Harris is \"supporting the animals of MS-13.\"                                                         /https://www.politifact.com/california/statements/2018/jul/03/donald-trump/pants-fire-white-house-claim-sen-harris-supporting/   \n",
       "\"There's been a 1,700 percent increase in asylum claims over the last 10 years.\"                                              /http://www.politifact.com/truth-o-meter/statements/2018/jun/21/donald-trump/1700-percent-increase-asylum-claims/   \n",
       "\"Breaking: Trump fires deputy attorney general Rod Rosenstein, raising questions over Mueller’s fate.\"  /http://www.politifact.com/punditfact/statements/2017/dec/12/houstonchronicle-tvcom/no-trump-hasnt-fired-justice-departments-rod-rosen/   \n",
       "\n",
       "                                                                                                        veracity  \\\n",
       "statement                                                                                                          \n",
       "Sen. Kamala Harris is \"supporting the animals of MS-13.\"                                                       0   \n",
       "\"There's been a 1,700 percent increase in asylum claims over the last 10 years.\"                               1   \n",
       "\"Breaking: Trump fires deputy attorney general Rod Rosenstein, raising questions over Mueller’s fate.\"         0   \n",
       "\n",
       "                                                                                                             date  \n",
       "statement                                                                                                          \n",
       "Sen. Kamala Harris is \"supporting the animals of MS-13.\"                                               2018-07-03  \n",
       "\"There's been a 1,700 percent increase in asylum claims over the last 10 years.\"                       2018-06-21  \n",
       "\"Breaking: Trump fires deputy attorney general Rod Rosenstein, raising questions over Mueller’s fate.\" 2017-12-12  "
      ]
     },
     "execution_count": 23,
     "metadata": {},
     "output_type": "execute_result"
    }
   ],
   "source": [
    "ver_df[:90:30]"
   ]
  },
  {
   "cell_type": "code",
   "execution_count": 24,
   "metadata": {},
   "outputs": [
    {
     "data": {
      "image/png": "[encoded data removed]",
      "text/plain": [
       "<Figure size 432x288 with 1 Axes>"
      ]
     },
     "metadata": {
      "needs_background": "light"
     },
     "output_type": "display_data"
    }
   ],
   "source": [
    "#by year\n",
    "ax = ver_df.groupby(ver_df.date.dt.year).count().plot(kind=\"bar\")\n",
    "ax.legend_ = None\n",
    "plt.title(\"Distribution by Year\")\n",
    "plt.show()"
   ]
  },
  {
   "cell_type": "code",
   "execution_count": 25,
   "metadata": {},
   "outputs": [
    {
     "data": {
      "image/png": "[encoded data removed]",
      "text/plain": [
       "<Figure size 432x288 with 1 Axes>"
      ]
     },
     "metadata": {
      "needs_background": "light"
     },
     "output_type": "display_data"
    }
   ],
   "source": [
    "#by month\n",
    "ax = ver_df.groupby(ver_df.date.dt.month).count().plot(kind=\"bar\")\n",
    "ax.legend_ = None\n",
    "plt.title(\"Distribution by Month\")\n",
    "plt.show()"
   ]
  },
  {
   "cell_type": "code",
   "execution_count": 26,
   "metadata": {},
   "outputs": [
    {
     "data": {
      "text/html": [
       "<div>\n",
       "<style scoped>\n",
       "    .dataframe tbody tr th:only-of-type {\n",
       "        vertical-align: middle;\n",
       "    }\n",
       "\n",
       "    .dataframe tbody tr th {\n",
       "        vertical-align: top;\n",
       "    }\n",
       "\n",
       "    .dataframe thead th {\n",
       "        text-align: right;\n",
       "    }\n",
       "</style>\n",
       "<table border=\"1\" class=\"dataframe\">\n",
       "  <thead>\n",
       "    <tr style=\"text-align: right;\">\n",
       "      <th></th>\n",
       "      <th>source</th>\n",
       "      <th>veracity</th>\n",
       "      <th>date</th>\n",
       "    </tr>\n",
       "    <tr>\n",
       "      <th>statement</th>\n",
       "      <th></th>\n",
       "      <th></th>\n",
       "      <th></th>\n",
       "    </tr>\n",
       "  </thead>\n",
       "  <tbody>\n",
       "    <tr>\n",
       "      <th>Sen. Kamala Harris is \"supporting the animals of MS-13.\"</th>\n",
       "      <td>Donald Trump</td>\n",
       "      <td>0</td>\n",
       "      <td>2018-07-03</td>\n",
       "    </tr>\n",
       "    <tr>\n",
       "      <th>Says Ronald Reagan said immigrants \"brought with them courage and the values of family, work, and freedom. Let us pledge to each other that we can make America great again.\"</th>\n",
       "      <td>Becoming American Initiative</td>\n",
       "      <td>1</td>\n",
       "      <td>2018-07-03</td>\n",
       "    </tr>\n",
       "    <tr>\n",
       "      <th>Says Democratic Senators \"demand Supreme Court nominee not be unduly influenced by U.S. Constitution.\"</th>\n",
       "      <td>Viral image</td>\n",
       "      <td>0</td>\n",
       "      <td>2018-07-03</td>\n",
       "    </tr>\n",
       "    <tr>\n",
       "      <th>\"Tim Kaine doesn’t want a border at all. He wants to get rid of Immigration and Customs Enforcement and basically the border patrol as well.\"</th>\n",
       "      <td>Corey  Stewart</td>\n",
       "      <td>0</td>\n",
       "      <td>2018-07-03</td>\n",
       "    </tr>\n",
       "    <tr>\n",
       "      <th>\"George H.W. Bush has died at 94.\"</th>\n",
       "      <td>Bloggers</td>\n",
       "      <td>0</td>\n",
       "      <td>2018-07-02</td>\n",
       "    </tr>\n",
       "  </tbody>\n",
       "</table>\n",
       "</div>"
      ],
      "text/plain": [
       "                                                                                                                                                                                                     source  \\\n",
       "statement                                                                                                                                                                                                     \n",
       "Sen. Kamala Harris is \"supporting the animals of MS-13.\"                                                                                                                                       Donald Trump   \n",
       "Says Ronald Reagan said immigrants \"brought with them courage and the values of family, work, and freedom. Let us pledge to each other that we can make America great again.\"  Becoming American Initiative   \n",
       "Says Democratic Senators \"demand Supreme Court nominee not be unduly influenced by U.S. Constitution.\"                                                                                          Viral image   \n",
       "\"Tim Kaine doesn’t want a border at all. He wants to get rid of Immigration and Customs Enforcement and basically the border patrol as well.\"                                                Corey  Stewart   \n",
       "\"George H.W. Bush has died at 94.\"                                                                                                                                                                 Bloggers   \n",
       "\n",
       "                                                                                                                                                                               veracity  \\\n",
       "statement                                                                                                                                                                                 \n",
       "Sen. Kamala Harris is \"supporting the animals of MS-13.\"                                                                                                                              0   \n",
       "Says Ronald Reagan said immigrants \"brought with them courage and the values of family, work, and freedom. Let us pledge to each other that we can make America great again.\"         1   \n",
       "Says Democratic Senators \"demand Supreme Court nominee not be unduly influenced by U.S. Constitution.\"                                                                                0   \n",
       "\"Tim Kaine doesn’t want a border at all. He wants to get rid of Immigration and Customs Enforcement and basically the border patrol as well.\"                                         0   \n",
       "\"George H.W. Bush has died at 94.\"                                                                                                                                                    0   \n",
       "\n",
       "                                                                                                                                                                                    date  \n",
       "statement                                                                                                                                                                                 \n",
       "Sen. Kamala Harris is \"supporting the animals of MS-13.\"                                                                                                                      2018-07-03  \n",
       "Says Ronald Reagan said immigrants \"brought with them courage and the values of family, work, and freedom. Let us pledge to each other that we can make America great again.\" 2018-07-03  \n",
       "Says Democratic Senators \"demand Supreme Court nominee not be unduly influenced by U.S. Constitution.\"                                                                        2018-07-03  \n",
       "\"Tim Kaine doesn’t want a border at all. He wants to get rid of Immigration and Customs Enforcement and basically the border patrol as well.\"                                 2018-07-03  \n",
       "\"George H.W. Bush has died at 94.\"                                                                                                                                            2018-07-02  "
      ]
     },
     "execution_count": 26,
     "metadata": {},
     "output_type": "execute_result"
    }
   ],
   "source": [
    "ver_df = ver_df.drop(columns='link')\n",
    "cleaned_df = ver_df\n",
    "cleaned_df.head()\n",
    "# ver_df.columns"
   ]
  },
  {
   "cell_type": "markdown",
   "metadata": {},
   "source": [
    "# Reindex Dataset for ease of use"
   ]
  },
  {
   "cell_type": "code",
   "execution_count": 27,
   "metadata": {
    "scrolled": false
   },
   "outputs": [
    {
     "data": {
      "text/html": [
       "<div>\n",
       "<style scoped>\n",
       "    .dataframe tbody tr th:only-of-type {\n",
       "        vertical-align: middle;\n",
       "    }\n",
       "\n",
       "    .dataframe tbody tr th {\n",
       "        vertical-align: top;\n",
       "    }\n",
       "\n",
       "    .dataframe thead th {\n",
       "        text-align: right;\n",
       "    }\n",
       "</style>\n",
       "<table border=\"1\" class=\"dataframe\">\n",
       "  <thead>\n",
       "    <tr style=\"text-align: right;\">\n",
       "      <th></th>\n",
       "      <th>source</th>\n",
       "      <th>veracity</th>\n",
       "      <th>date</th>\n",
       "    </tr>\n",
       "    <tr>\n",
       "      <th>statement</th>\n",
       "      <th></th>\n",
       "      <th></th>\n",
       "      <th></th>\n",
       "    </tr>\n",
       "  </thead>\n",
       "  <tbody>\n",
       "    <tr>\n",
       "      <th>Sen. Kamala Harris is \"supporting the animals of MS-13.\"</th>\n",
       "      <td>Donald Trump</td>\n",
       "      <td>0</td>\n",
       "      <td>2018-07-03</td>\n",
       "    </tr>\n",
       "    <tr>\n",
       "      <th>Says a progressive income tax proposal from Democratic governor candidate J.B. Pritzker \"is wholly regressive.\"</th>\n",
       "      <td>Evelyn Sanguinetti</td>\n",
       "      <td>0</td>\n",
       "      <td>2018-07-02</td>\n",
       "    </tr>\n",
       "    <tr>\n",
       "      <th>\"Migrant mother and ‘crying girl’ on Time cover never separated.\"</th>\n",
       "      <td>The Gateway Pundit</td>\n",
       "      <td>1</td>\n",
       "      <td>2018-06-25</td>\n",
       "    </tr>\n",
       "    <tr>\n",
       "      <th>\"There's been a 1,700 percent increase in asylum claims over the last 10 years.\"</th>\n",
       "      <td>Donald Trump</td>\n",
       "      <td>1</td>\n",
       "      <td>2018-06-21</td>\n",
       "    </tr>\n",
       "    <tr>\n",
       "      <th>Says Ronald Reagan said immigrants \"brought with them courage and the values of family, work, and freedom. Let us pledge to each other that we can make America great again.\"</th>\n",
       "      <td>Becoming American Initiative</td>\n",
       "      <td>1</td>\n",
       "      <td>2018-07-03</td>\n",
       "    </tr>\n",
       "    <tr>\n",
       "      <th>Says Wisconsin \"hadn’t been won by a Republican since Dwight D. Eisenhower, in 1952. And I won Wisconsin. …  Ronald Reagan, remember, Wisconsin was the state that Ronald Reagan did not win.\"</th>\n",
       "      <td>Donald Trump</td>\n",
       "      <td>0</td>\n",
       "      <td>2018-06-29</td>\n",
       "    </tr>\n",
       "    <tr>\n",
       "      <th>\"Breaking: Trump fires deputy attorney general Rod Rosenstein, raising questions over Mueller’s fate.\"</th>\n",
       "      <td>HoustonChronicle-tv.com</td>\n",
       "      <td>0</td>\n",
       "      <td>2017-12-12</td>\n",
       "    </tr>\n",
       "    <tr>\n",
       "      <th>\"Earlier this year, Hurricane Harvey left more than 12 million people in Texas and Louisiana without homes.\"</th>\n",
       "      <td>Ryan Sitton</td>\n",
       "      <td>0</td>\n",
       "      <td>2017-12-08</td>\n",
       "    </tr>\n",
       "    <tr>\n",
       "      <th>Says the \"Pope calls for world wide gun confiscation except for the UN\"</th>\n",
       "      <td>Common Sense News</td>\n",
       "      <td>0</td>\n",
       "      <td>2018-06-20</td>\n",
       "    </tr>\n",
       "    <tr>\n",
       "      <th>Conservative groups have spent $5 million \"against\" Tammy Baldwin -- five times more than against all other Democratic U.S. Senate incumbents up for election in 2018 combined.</th>\n",
       "      <td>Martha Laning</td>\n",
       "      <td>1</td>\n",
       "      <td>2018-01-17</td>\n",
       "    </tr>\n",
       "  </tbody>\n",
       "</table>\n",
       "</div>"
      ],
      "text/plain": [
       "                                                                                                                                                                                                                      source  \\\n",
       "statement                                                                                                                                                                                                                      \n",
       "Sen. Kamala Harris is \"supporting the animals of MS-13.\"                                                                                                                                                        Donald Trump   \n",
       "Says a progressive income tax proposal from Democratic governor candidate J.B. Pritzker \"is wholly regressive.\"                                                                                           Evelyn Sanguinetti   \n",
       "\"Migrant mother and ‘crying girl’ on Time cover never separated.\"                                                                                                                                         The Gateway Pundit   \n",
       "\"There's been a 1,700 percent increase in asylum claims over the last 10 years.\"                                                                                                                                Donald Trump   \n",
       "Says Ronald Reagan said immigrants \"brought with them courage and the values of family, work, and freedom. Let us pledge to each other that we can make America great again.\"                   Becoming American Initiative   \n",
       "Says Wisconsin \"hadn’t been won by a Republican since Dwight D. Eisenhower, in 1952. And I won Wisconsin. …  Ronald Reagan, remember, Wisconsin was the state that Ronald Reagan did not win.\"                  Donald Trump   \n",
       "\"Breaking: Trump fires deputy attorney general Rod Rosenstein, raising questions over Mueller’s fate.\"                                                                                               HoustonChronicle-tv.com   \n",
       "\"Earlier this year, Hurricane Harvey left more than 12 million people in Texas and Louisiana without homes.\"                                                                                                     Ryan Sitton   \n",
       "Says the \"Pope calls for world wide gun confiscation except for the UN\"                                                                                                                                    Common Sense News   \n",
       "Conservative groups have spent $5 million \"against\" Tammy Baldwin -- five times more than against all other Democratic U.S. Senate incumbents up for election in 2018 combined.                                Martha Laning   \n",
       "\n",
       "                                                                                                                                                                                                veracity  \\\n",
       "statement                                                                                                                                                                                                  \n",
       "Sen. Kamala Harris is \"supporting the animals of MS-13.\"                                                                                                                                               0   \n",
       "Says a progressive income tax proposal from Democratic governor candidate J.B. Pritzker \"is wholly regressive.\"                                                                                        0   \n",
       "\"Migrant mother and ‘crying girl’ on Time cover never separated.\"                                                                                                                                      1   \n",
       "\"There's been a 1,700 percent increase in asylum claims over the last 10 years.\"                                                                                                                       1   \n",
       "Says Ronald Reagan said immigrants \"brought with them courage and the values of family, work, and freedom. Let us pledge to each other that we can make America great again.\"                          1   \n",
       "Says Wisconsin \"hadn’t been won by a Republican since Dwight D. Eisenhower, in 1952. And I won Wisconsin. …  Ronald Reagan, remember, Wisconsin was the state that Ronald Reagan did not win.\"         0   \n",
       "\"Breaking: Trump fires deputy attorney general Rod Rosenstein, raising questions over Mueller’s fate.\"                                                                                                 0   \n",
       "\"Earlier this year, Hurricane Harvey left more than 12 million people in Texas and Louisiana without homes.\"                                                                                           0   \n",
       "Says the \"Pope calls for world wide gun confiscation except for the UN\"                                                                                                                                0   \n",
       "Conservative groups have spent $5 million \"against\" Tammy Baldwin -- five times more than against all other Democratic U.S. Senate incumbents up for election in 2018 combined.                        1   \n",
       "\n",
       "                                                                                                                                                                                                     date  \n",
       "statement                                                                                                                                                                                                  \n",
       "Sen. Kamala Harris is \"supporting the animals of MS-13.\"                                                                                                                                       2018-07-03  \n",
       "Says a progressive income tax proposal from Democratic governor candidate J.B. Pritzker \"is wholly regressive.\"                                                                                2018-07-02  \n",
       "\"Migrant mother and ‘crying girl’ on Time cover never separated.\"                                                                                                                              2018-06-25  \n",
       "\"There's been a 1,700 percent increase in asylum claims over the last 10 years.\"                                                                                                               2018-06-21  \n",
       "Says Ronald Reagan said immigrants \"brought with them courage and the values of family, work, and freedom. Let us pledge to each other that we can make America great again.\"                  2018-07-03  \n",
       "Says Wisconsin \"hadn’t been won by a Republican since Dwight D. Eisenhower, in 1952. And I won Wisconsin. …  Ronald Reagan, remember, Wisconsin was the state that Ronald Reagan did not win.\" 2018-06-29  \n",
       "\"Breaking: Trump fires deputy attorney general Rod Rosenstein, raising questions over Mueller’s fate.\"                                                                                         2017-12-12  \n",
       "\"Earlier this year, Hurricane Harvey left more than 12 million people in Texas and Louisiana without homes.\"                                                                                   2017-12-08  \n",
       "Says the \"Pope calls for world wide gun confiscation except for the UN\"                                                                                                                        2018-06-20  \n",
       "Conservative groups have spent $5 million \"against\" Tammy Baldwin -- five times more than against all other Democratic U.S. Senate incumbents up for election in 2018 combined.                2018-01-17  "
      ]
     },
     "execution_count": 27,
     "metadata": {},
     "output_type": "execute_result"
    }
   ],
   "source": [
    "cleaned_df[:100:10]"
   ]
  },
  {
   "cell_type": "code",
   "execution_count": 28,
   "metadata": {},
   "outputs": [],
   "source": [
    "cleaned_df.to_csv('politifact_ner_cleaned_data.csv', index=True)"
   ]
  },
  {
   "cell_type": "markdown",
   "metadata": {},
   "source": [
    "# Vizualize POS and NER"
   ]
  },
  {
   "cell_type": "code",
   "execution_count": 6,
   "metadata": {},
   "outputs": [
    {
     "data": {
      "text/html": [
       "<div>\n",
       "<style scoped>\n",
       "    .dataframe tbody tr th:only-of-type {\n",
       "        vertical-align: middle;\n",
       "    }\n",
       "\n",
       "    .dataframe tbody tr th {\n",
       "        vertical-align: top;\n",
       "    }\n",
       "\n",
       "    .dataframe thead th {\n",
       "        text-align: right;\n",
       "    }\n",
       "</style>\n",
       "<table border=\"1\" class=\"dataframe\">\n",
       "  <thead>\n",
       "    <tr style=\"text-align: right;\">\n",
       "      <th></th>\n",
       "      <th>statement</th>\n",
       "      <th>source</th>\n",
       "      <th>veracity</th>\n",
       "      <th>date</th>\n",
       "    </tr>\n",
       "  </thead>\n",
       "  <tbody>\n",
       "    <tr>\n",
       "      <th>0</th>\n",
       "      <td>Sen. Kamala Harris is \"supporting the animals ...</td>\n",
       "      <td>Donald Trump</td>\n",
       "      <td>0</td>\n",
       "      <td>2018-07-03</td>\n",
       "    </tr>\n",
       "    <tr>\n",
       "      <th>1</th>\n",
       "      <td>Says Ronald Reagan said immigrants \"brought wi...</td>\n",
       "      <td>Becoming American Initiative</td>\n",
       "      <td>1</td>\n",
       "      <td>2018-07-03</td>\n",
       "    </tr>\n",
       "    <tr>\n",
       "      <th>2</th>\n",
       "      <td>Says Democratic Senators \"demand Supreme Court...</td>\n",
       "      <td>Viral image</td>\n",
       "      <td>0</td>\n",
       "      <td>2018-07-03</td>\n",
       "    </tr>\n",
       "    <tr>\n",
       "      <th>3</th>\n",
       "      <td>\"Tim Kaine doesn’t want a border at all. He wa...</td>\n",
       "      <td>Corey  Stewart</td>\n",
       "      <td>0</td>\n",
       "      <td>2018-07-03</td>\n",
       "    </tr>\n",
       "    <tr>\n",
       "      <th>4</th>\n",
       "      <td>\"George H.W. Bush has died at 94.\"</td>\n",
       "      <td>Bloggers</td>\n",
       "      <td>0</td>\n",
       "      <td>2018-07-02</td>\n",
       "    </tr>\n",
       "  </tbody>\n",
       "</table>\n",
       "</div>"
      ],
      "text/plain": [
       "                                           statement  \\\n",
       "0  Sen. Kamala Harris is \"supporting the animals ...   \n",
       "1  Says Ronald Reagan said immigrants \"brought wi...   \n",
       "2  Says Democratic Senators \"demand Supreme Court...   \n",
       "3  \"Tim Kaine doesn’t want a border at all. He wa...   \n",
       "4                 \"George H.W. Bush has died at 94.\"   \n",
       "\n",
       "                         source  veracity        date  \n",
       "0                  Donald Trump         0  2018-07-03  \n",
       "1  Becoming American Initiative         1  2018-07-03  \n",
       "2                   Viral image         0  2018-07-03  \n",
       "3                Corey  Stewart         0  2018-07-03  \n",
       "4                      Bloggers         0  2018-07-02  "
      ]
     },
     "execution_count": 6,
     "metadata": {},
     "output_type": "execute_result"
    }
   ],
   "source": [
    "df = pd.read_csv('politifact_ner_cleaned_data.csv')\n",
    "df.head()"
   ]
  },
  {
   "cell_type": "markdown",
   "metadata": {},
   "source": [
    "## Vizualize NER POS SD"
   ]
  },
  {
   "cell_type": "code",
   "execution_count": 7,
   "metadata": {},
   "outputs": [],
   "source": [
    "import spacy\n",
    "from spacy import displacy\n",
    "import pandas as pd"
   ]
  },
  {
   "cell_type": "code",
   "execution_count": 8,
   "metadata": {},
   "outputs": [],
   "source": [
    "df = pd.read_csv('politifact_ner_cleaned_data.csv')"
   ]
  },
  {
   "cell_type": "code",
   "execution_count": 9,
   "metadata": {},
   "outputs": [],
   "source": [
    "nlp = spacy.load('en_core_web_lg')"
   ]
  },
  {
   "cell_type": "markdown",
   "metadata": {},
   "source": [
    "## Dependency Parse & POS Tags"
   ]
  },
  {
   "cell_type": "code",
   "execution_count": 10,
   "metadata": {},
   "outputs": [
    {
     "name": "stdout",
     "output_type": "stream",
     "text": [
      "[('Sen.', 'PROPN'), ('Kamala', 'PROPN'), ('Harris', 'PROPN'), ('is', 'AUX'), ('\"', 'PUNCT'), ('supporting', 'VERB'), ('the', 'DET'), ('animals', 'NOUN'), ('of', 'ADP'), ('MS-13', 'PROPN'), ('.', 'PUNCT'), ('\"', 'PUNCT')]\n"
     ]
    }
   ],
   "source": [
    "# First sample\n",
    "nobj = nlp(df.statement[0])\n",
    "pos = [(token.text, token.pos_) for token in nobj]\n",
    "print(pos)"
   ]
  },
  {
   "cell_type": "code",
   "execution_count": 11,
   "metadata": {},
   "outputs": [
    {
     "data": {
      "text/html": [
       "<span class=\"tex2jax_ignore\"><svg xmlns=\"http://www.w3.org/2000/svg\" xmlns:xlink=\"http://www.w3.org/1999/xlink\" xml:lang=\"en\" id=\"a61fc4f103444ed4ac1403565a4e7e7c-0\" class=\"displacy\" width=\"950\" height=\"238.0\" direction=\"ltr\" style=\"max-width: none; height: 238.0px; color: #000000; background: #FFFFF; font-family: Helvetica; direction: ltr\">\n",
       "<text class=\"displacy-token\" fill=\"currentColor\" text-anchor=\"middle\" y=\"148.0\">\n",
       "    <tspan class=\"displacy-word\" fill=\"currentColor\" x=\"50\">Sen.</tspan>\n",
       "    <tspan class=\"displacy-tag\" dy=\"2em\" fill=\"currentColor\" x=\"50\">PROPN</tspan>\n",
       "</text>\n",
       "\n",
       "<text class=\"displacy-token\" fill=\"currentColor\" text-anchor=\"middle\" y=\"148.0\">\n",
       "    <tspan class=\"displacy-word\" fill=\"currentColor\" x=\"150\">Kamala</tspan>\n",
       "    <tspan class=\"displacy-tag\" dy=\"2em\" fill=\"currentColor\" x=\"150\">PROPN</tspan>\n",
       "</text>\n",
       "\n",
       "<text class=\"displacy-token\" fill=\"currentColor\" text-anchor=\"middle\" y=\"148.0\">\n",
       "    <tspan class=\"displacy-word\" fill=\"currentColor\" x=\"250\">Harris</tspan>\n",
       "    <tspan class=\"displacy-tag\" dy=\"2em\" fill=\"currentColor\" x=\"250\">PROPN</tspan>\n",
       "</text>\n",
       "\n",
       "<text class=\"displacy-token\" fill=\"currentColor\" text-anchor=\"middle\" y=\"148.0\">\n",
       "    <tspan class=\"displacy-word\" fill=\"currentColor\" x=\"350\">is &quot;</tspan>\n",
       "    <tspan class=\"displacy-tag\" dy=\"2em\" fill=\"currentColor\" x=\"350\">AUX</tspan>\n",
       "</text>\n",
       "\n",
       "<text class=\"displacy-token\" fill=\"currentColor\" text-anchor=\"middle\" y=\"148.0\">\n",
       "    <tspan class=\"displacy-word\" fill=\"currentColor\" x=\"450\">supporting</tspan>\n",
       "    <tspan class=\"displacy-tag\" dy=\"2em\" fill=\"currentColor\" x=\"450\">VERB</tspan>\n",
       "</text>\n",
       "\n",
       "<text class=\"displacy-token\" fill=\"currentColor\" text-anchor=\"middle\" y=\"148.0\">\n",
       "    <tspan class=\"displacy-word\" fill=\"currentColor\" x=\"550\">the</tspan>\n",
       "    <tspan class=\"displacy-tag\" dy=\"2em\" fill=\"currentColor\" x=\"550\">DET</tspan>\n",
       "</text>\n",
       "\n",
       "<text class=\"displacy-token\" fill=\"currentColor\" text-anchor=\"middle\" y=\"148.0\">\n",
       "    <tspan class=\"displacy-word\" fill=\"currentColor\" x=\"650\">animals</tspan>\n",
       "    <tspan class=\"displacy-tag\" dy=\"2em\" fill=\"currentColor\" x=\"650\">NOUN</tspan>\n",
       "</text>\n",
       "\n",
       "<text class=\"displacy-token\" fill=\"currentColor\" text-anchor=\"middle\" y=\"148.0\">\n",
       "    <tspan class=\"displacy-word\" fill=\"currentColor\" x=\"750\">of</tspan>\n",
       "    <tspan class=\"displacy-tag\" dy=\"2em\" fill=\"currentColor\" x=\"750\">ADP</tspan>\n",
       "</text>\n",
       "\n",
       "<text class=\"displacy-token\" fill=\"currentColor\" text-anchor=\"middle\" y=\"148.0\">\n",
       "    <tspan class=\"displacy-word\" fill=\"currentColor\" x=\"850\">MS-13.&quot;</tspan>\n",
       "    <tspan class=\"displacy-tag\" dy=\"2em\" fill=\"currentColor\" x=\"850\">PROPN</tspan>\n",
       "</text>\n",
       "\n",
       "<g class=\"displacy-arrow\">\n",
       "    <path class=\"displacy-arc\" id=\"arrow-a61fc4f103444ed4ac1403565a4e7e7c-0-0\" stroke-width=\"3px\" d=\"M70,103.0 C70,3.0 250.0,3.0 250.0,103.0\" fill=\"none\" stroke=\"currentColor\"/>\n",
       "    <text dy=\"1.25em\" style=\"font-size: 0.8em; letter-spacing: 1px\">\n",
       "        <textPath xlink:href=\"#arrow-a61fc4f103444ed4ac1403565a4e7e7c-0-0\" class=\"displacy-label\" startOffset=\"50%\" side=\"left\" fill=\"currentColor\" text-anchor=\"middle\">compound</textPath>\n",
       "    </text>\n",
       "    <path class=\"displacy-arrowhead\" d=\"M70,105.0 L64,95.0 76,95.0\" fill=\"currentColor\"/>\n",
       "</g>\n",
       "\n",
       "<g class=\"displacy-arrow\">\n",
       "    <path class=\"displacy-arc\" id=\"arrow-a61fc4f103444ed4ac1403565a4e7e7c-0-1\" stroke-width=\"3px\" d=\"M170,103.0 C170,53.0 245.0,53.0 245.0,103.0\" fill=\"none\" stroke=\"currentColor\"/>\n",
       "    <text dy=\"1.25em\" style=\"font-size: 0.8em; letter-spacing: 1px\">\n",
       "        <textPath xlink:href=\"#arrow-a61fc4f103444ed4ac1403565a4e7e7c-0-1\" class=\"displacy-label\" startOffset=\"50%\" side=\"left\" fill=\"currentColor\" text-anchor=\"middle\">compound</textPath>\n",
       "    </text>\n",
       "    <path class=\"displacy-arrowhead\" d=\"M170,105.0 L164,95.0 176,95.0\" fill=\"currentColor\"/>\n",
       "</g>\n",
       "\n",
       "<g class=\"displacy-arrow\">\n",
       "    <path class=\"displacy-arc\" id=\"arrow-a61fc4f103444ed4ac1403565a4e7e7c-0-2\" stroke-width=\"3px\" d=\"M270,103.0 C270,3.0 450.0,3.0 450.0,103.0\" fill=\"none\" stroke=\"currentColor\"/>\n",
       "    <text dy=\"1.25em\" style=\"font-size: 0.8em; letter-spacing: 1px\">\n",
       "        <textPath xlink:href=\"#arrow-a61fc4f103444ed4ac1403565a4e7e7c-0-2\" class=\"displacy-label\" startOffset=\"50%\" side=\"left\" fill=\"currentColor\" text-anchor=\"middle\">nsubj</textPath>\n",
       "    </text>\n",
       "    <path class=\"displacy-arrowhead\" d=\"M270,105.0 L264,95.0 276,95.0\" fill=\"currentColor\"/>\n",
       "</g>\n",
       "\n",
       "<g class=\"displacy-arrow\">\n",
       "    <path class=\"displacy-arc\" id=\"arrow-a61fc4f103444ed4ac1403565a4e7e7c-0-3\" stroke-width=\"3px\" d=\"M370,103.0 C370,53.0 445.0,53.0 445.0,103.0\" fill=\"none\" stroke=\"currentColor\"/>\n",
       "    <text dy=\"1.25em\" style=\"font-size: 0.8em; letter-spacing: 1px\">\n",
       "        <textPath xlink:href=\"#arrow-a61fc4f103444ed4ac1403565a4e7e7c-0-3\" class=\"displacy-label\" startOffset=\"50%\" side=\"left\" fill=\"currentColor\" text-anchor=\"middle\">aux</textPath>\n",
       "    </text>\n",
       "    <path class=\"displacy-arrowhead\" d=\"M370,105.0 L364,95.0 376,95.0\" fill=\"currentColor\"/>\n",
       "</g>\n",
       "\n",
       "<g class=\"displacy-arrow\">\n",
       "    <path class=\"displacy-arc\" id=\"arrow-a61fc4f103444ed4ac1403565a4e7e7c-0-4\" stroke-width=\"3px\" d=\"M570,103.0 C570,53.0 645.0,53.0 645.0,103.0\" fill=\"none\" stroke=\"currentColor\"/>\n",
       "    <text dy=\"1.25em\" style=\"font-size: 0.8em; letter-spacing: 1px\">\n",
       "        <textPath xlink:href=\"#arrow-a61fc4f103444ed4ac1403565a4e7e7c-0-4\" class=\"displacy-label\" startOffset=\"50%\" side=\"left\" fill=\"currentColor\" text-anchor=\"middle\">det</textPath>\n",
       "    </text>\n",
       "    <path class=\"displacy-arrowhead\" d=\"M570,105.0 L564,95.0 576,95.0\" fill=\"currentColor\"/>\n",
       "</g>\n",
       "\n",
       "<g class=\"displacy-arrow\">\n",
       "    <path class=\"displacy-arc\" id=\"arrow-a61fc4f103444ed4ac1403565a4e7e7c-0-5\" stroke-width=\"3px\" d=\"M470,103.0 C470,3.0 650.0,3.0 650.0,103.0\" fill=\"none\" stroke=\"currentColor\"/>\n",
       "    <text dy=\"1.25em\" style=\"font-size: 0.8em; letter-spacing: 1px\">\n",
       "        <textPath xlink:href=\"#arrow-a61fc4f103444ed4ac1403565a4e7e7c-0-5\" class=\"displacy-label\" startOffset=\"50%\" side=\"left\" fill=\"currentColor\" text-anchor=\"middle\">dobj</textPath>\n",
       "    </text>\n",
       "    <path class=\"displacy-arrowhead\" d=\"M650.0,105.0 L656.0,95.0 644.0,95.0\" fill=\"currentColor\"/>\n",
       "</g>\n",
       "\n",
       "<g class=\"displacy-arrow\">\n",
       "    <path class=\"displacy-arc\" id=\"arrow-a61fc4f103444ed4ac1403565a4e7e7c-0-6\" stroke-width=\"3px\" d=\"M670,103.0 C670,53.0 745.0,53.0 745.0,103.0\" fill=\"none\" stroke=\"currentColor\"/>\n",
       "    <text dy=\"1.25em\" style=\"font-size: 0.8em; letter-spacing: 1px\">\n",
       "        <textPath xlink:href=\"#arrow-a61fc4f103444ed4ac1403565a4e7e7c-0-6\" class=\"displacy-label\" startOffset=\"50%\" side=\"left\" fill=\"currentColor\" text-anchor=\"middle\">prep</textPath>\n",
       "    </text>\n",
       "    <path class=\"displacy-arrowhead\" d=\"M745.0,105.0 L751.0,95.0 739.0,95.0\" fill=\"currentColor\"/>\n",
       "</g>\n",
       "\n",
       "<g class=\"displacy-arrow\">\n",
       "    <path class=\"displacy-arc\" id=\"arrow-a61fc4f103444ed4ac1403565a4e7e7c-0-7\" stroke-width=\"3px\" d=\"M770,103.0 C770,53.0 845.0,53.0 845.0,103.0\" fill=\"none\" stroke=\"currentColor\"/>\n",
       "    <text dy=\"1.25em\" style=\"font-size: 0.8em; letter-spacing: 1px\">\n",
       "        <textPath xlink:href=\"#arrow-a61fc4f103444ed4ac1403565a4e7e7c-0-7\" class=\"displacy-label\" startOffset=\"50%\" side=\"left\" fill=\"currentColor\" text-anchor=\"middle\">pobj</textPath>\n",
       "    </text>\n",
       "    <path class=\"displacy-arrowhead\" d=\"M845.0,105.0 L851.0,95.0 839.0,95.0\" fill=\"currentColor\"/>\n",
       "</g>\n",
       "</svg></span>"
      ],
      "text/plain": [
       "<IPython.core.display.HTML object>"
      ]
     },
     "metadata": {},
     "output_type": "display_data"
    }
   ],
   "source": [
    "# Intuitive vizualization of how the POS tagger works\n",
    "displacy.render(nobj, \n",
    "                options = {\n",
    "                          \"distance\" : 100,\n",
    "                          \"arrow_stroke\" : 3, # thickness of arrow line\n",
    "                          \"arrow_width\" : 8, # thickness of arrow head\n",
    "                          \"font\" : \"Helvetica\", # font\n",
    "                          \"bg\" : \"#FFFFF\" # background color\n",
    "                         })"
   ]
  },
  {
   "cell_type": "markdown",
   "metadata": {},
   "source": [
    "## Named Entity Recognition Tags"
   ]
  },
  {
   "cell_type": "code",
   "execution_count": 12,
   "metadata": {},
   "outputs": [
    {
     "name": "stdout",
     "output_type": "stream",
     "text": [
      "[('Says', 'VERB'), ('Wisconsin', 'PROPN'), ('\"', 'PUNCT'), ('had', 'AUX'), ('n’t', 'PART'), ('been', 'AUX'), ('won', 'VERB'), ('by', 'ADP'), ('a', 'DET'), ('Republican', 'PROPN'), ('since', 'SCONJ'), ('Dwight', 'PROPN'), ('D.', 'PROPN'), ('Eisenhower', 'PROPN'), (',', 'PUNCT'), ('in', 'ADP'), ('1952', 'NUM'), ('.', 'PUNCT'), ('And', 'CCONJ'), ('I', 'PRON'), ('won', 'VERB'), ('Wisconsin', 'PROPN'), ('.', 'PUNCT'), ('…', 'PUNCT'), ('\\xa0', 'SPACE'), ('Ronald', 'PROPN'), ('Reagan', 'PROPN'), (',', 'PUNCT'), ('remember', 'VERB'), (',', 'PUNCT'), ('Wisconsin', 'PROPN'), ('was', 'AUX'), ('the', 'DET'), ('state', 'NOUN'), ('that', 'DET'), ('Ronald', 'PROPN'), ('Reagan', 'PROPN'), ('did', 'AUX'), ('not', 'PART'), ('win', 'VERB'), ('.', 'PUNCT'), ('\"', 'PUNCT')]\n"
     ]
    }
   ],
   "source": [
    "# First sample\n",
    "nobj = nlp(df.statement[50])\n",
    "pos = [(token.text, token.pos_) for token in nobj]\n",
    "print(pos)"
   ]
  },
  {
   "cell_type": "code",
   "execution_count": 13,
   "metadata": {},
   "outputs": [
    {
     "data": {
      "text/html": [
       "<span class=\"tex2jax_ignore\"><div class=\"entities\" style=\"line-height: 2.5; direction: ltr\">Says \n",
       "<mark class=\"entity\" style=\"background: #feca74; padding: 0.45em 0.6em; margin: 0 0.25em; line-height: 1; border-radius: 0.35em;\">\n",
       "    Wisconsin\n",
       "    <span style=\"font-size: 0.8em; font-weight: bold; line-height: 1; border-radius: 0.35em; vertical-align: middle; margin-left: 0.5rem\">GPE</span>\n",
       "</mark>\n",
       " &quot;hadn’t been won by a \n",
       "<mark class=\"entity\" style=\"background: #c887fb; padding: 0.45em 0.6em; margin: 0 0.25em; line-height: 1; border-radius: 0.35em;\">\n",
       "    Republican\n",
       "    <span style=\"font-size: 0.8em; font-weight: bold; line-height: 1; border-radius: 0.35em; vertical-align: middle; margin-left: 0.5rem\">NORP</span>\n",
       "</mark>\n",
       " since \n",
       "<mark class=\"entity\" style=\"background: #aa9cfc; padding: 0.45em 0.6em; margin: 0 0.25em; line-height: 1; border-radius: 0.35em;\">\n",
       "    Dwight D. Eisenhower\n",
       "    <span style=\"font-size: 0.8em; font-weight: bold; line-height: 1; border-radius: 0.35em; vertical-align: middle; margin-left: 0.5rem\">PERSON</span>\n",
       "</mark>\n",
       ", in \n",
       "<mark class=\"entity\" style=\"background: #bfe1d9; padding: 0.45em 0.6em; margin: 0 0.25em; line-height: 1; border-radius: 0.35em;\">\n",
       "    1952\n",
       "    <span style=\"font-size: 0.8em; font-weight: bold; line-height: 1; border-radius: 0.35em; vertical-align: middle; margin-left: 0.5rem\">DATE</span>\n",
       "</mark>\n",
       ". And I won \n",
       "<mark class=\"entity\" style=\"background: #feca74; padding: 0.45em 0.6em; margin: 0 0.25em; line-height: 1; border-radius: 0.35em;\">\n",
       "    Wisconsin\n",
       "    <span style=\"font-size: 0.8em; font-weight: bold; line-height: 1; border-radius: 0.35em; vertical-align: middle; margin-left: 0.5rem\">GPE</span>\n",
       "</mark>\n",
       ". …  \n",
       "<mark class=\"entity\" style=\"background: #aa9cfc; padding: 0.45em 0.6em; margin: 0 0.25em; line-height: 1; border-radius: 0.35em;\">\n",
       "    Ronald Reagan\n",
       "    <span style=\"font-size: 0.8em; font-weight: bold; line-height: 1; border-radius: 0.35em; vertical-align: middle; margin-left: 0.5rem\">PERSON</span>\n",
       "</mark>\n",
       ", remember, \n",
       "<mark class=\"entity\" style=\"background: #feca74; padding: 0.45em 0.6em; margin: 0 0.25em; line-height: 1; border-radius: 0.35em;\">\n",
       "    Wisconsin\n",
       "    <span style=\"font-size: 0.8em; font-weight: bold; line-height: 1; border-radius: 0.35em; vertical-align: middle; margin-left: 0.5rem\">GPE</span>\n",
       "</mark>\n",
       " was the state that \n",
       "<mark class=\"entity\" style=\"background: #aa9cfc; padding: 0.45em 0.6em; margin: 0 0.25em; line-height: 1; border-radius: 0.35em;\">\n",
       "    Ronald Reagan\n",
       "    <span style=\"font-size: 0.8em; font-weight: bold; line-height: 1; border-radius: 0.35em; vertical-align: middle; margin-left: 0.5rem\">PERSON</span>\n",
       "</mark>\n",
       " did not win.&quot;</div></span>"
      ],
      "text/plain": [
       "<IPython.core.display.HTML object>"
      ]
     },
     "metadata": {},
     "output_type": "display_data"
    }
   ],
   "source": [
    "# Intuitive vizualization of how the POS tagger works\n",
    "displacy.render(nobj,\n",
    "                style='ent',\n",
    "                options = {\n",
    "                          \"distance\" : 100,\n",
    "                          \"arrow_stroke\" : 3, # thickness of arrow line\n",
    "                          \"arrow_width\" : 8, # thickness of arrow head\n",
    "                          \"font\" : \"Helvetica\", # font\n",
    "                          \"bg\" : \"#FFFFF\" # background color\n",
    "                         })"
   ]
  },
  {
   "cell_type": "code",
   "execution_count": null,
   "metadata": {},
   "outputs": [],
   "source": []
  }
 ],
 "metadata": {
  "kernelspec": {
   "display_name": "Python 3",
   "language": "python",
   "name": "python3"
  },
  "language_info": {
   "codemirror_mode": {
    "name": "ipython",
    "version": 3
   },
   "file_extension": ".py",
   "mimetype": "text/x-python",
   "name": "python",
   "nbconvert_exporter": "python",
   "pygments_lexer": "ipython3",
   "version": "3.8.8"
  }
 },
 "nbformat": 4,
 "nbformat_minor": 2
}
