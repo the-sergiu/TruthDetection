{
 "cells": [
  {
   "cell_type": "code",
   "execution_count": 25,
   "id": "baking-while",
   "metadata": {},
   "outputs": [],
   "source": [
    "import pandas as pd\n",
    "import numpy as np\n",
    "import matplotlib.pyplot as plt"
   ]
  },
  {
   "cell_type": "markdown",
   "id": "capital-drive",
   "metadata": {},
   "source": [
    "## Initial Dataset"
   ]
  },
  {
   "cell_type": "code",
   "execution_count": 14,
   "id": "equivalent-austria",
   "metadata": {},
   "outputs": [
    {
     "data": {
      "text/html": [
       "<div>\n",
       "<style scoped>\n",
       "    .dataframe tbody tr th:only-of-type {\n",
       "        vertical-align: middle;\n",
       "    }\n",
       "\n",
       "    .dataframe tbody tr th {\n",
       "        vertical-align: top;\n",
       "    }\n",
       "\n",
       "    .dataframe thead th {\n",
       "        text-align: right;\n",
       "    }\n",
       "</style>\n",
       "<table border=\"1\" class=\"dataframe\">\n",
       "  <thead>\n",
       "    <tr style=\"text-align: right;\">\n",
       "      <th></th>\n",
       "      <th>statement</th>\n",
       "      <th>source</th>\n",
       "      <th>link</th>\n",
       "      <th>veracity</th>\n",
       "    </tr>\n",
       "  </thead>\n",
       "  <tbody>\n",
       "    <tr>\n",
       "      <th>0</th>\n",
       "      <td>Sen. Kamala Harris is \"supporting the animals ...</td>\n",
       "      <td>Donald Trump</td>\n",
       "      <td>/web/20180705082623/https://www.politifact.com...</td>\n",
       "      <td>Pants on Fire!</td>\n",
       "    </tr>\n",
       "    <tr>\n",
       "      <th>1</th>\n",
       "      <td>Says Ronald Reagan said immigrants \"brought wi...</td>\n",
       "      <td>Becoming American Initiative</td>\n",
       "      <td>/web/20180705082623/https://www.politifact.com...</td>\n",
       "      <td>Mostly True</td>\n",
       "    </tr>\n",
       "    <tr>\n",
       "      <th>2</th>\n",
       "      <td>Says Democratic Senators \"demand Supreme Court...</td>\n",
       "      <td>Viral image</td>\n",
       "      <td>/web/20180705082623/https://www.politifact.com...</td>\n",
       "      <td>Pants on Fire!</td>\n",
       "    </tr>\n",
       "    <tr>\n",
       "      <th>3</th>\n",
       "      <td>\"Tim Kaine doesn’t want a border at all. He wa...</td>\n",
       "      <td>Corey  Stewart</td>\n",
       "      <td>/web/20180705082623/https://www.politifact.com...</td>\n",
       "      <td>Pants on Fire!</td>\n",
       "    </tr>\n",
       "    <tr>\n",
       "      <th>4</th>\n",
       "      <td>\"There are a lot of private charters. And in f...</td>\n",
       "      <td>Kelda Helen Roys</td>\n",
       "      <td>/web/20180705082623/https://www.politifact.com...</td>\n",
       "      <td>Half-True</td>\n",
       "    </tr>\n",
       "  </tbody>\n",
       "</table>\n",
       "</div>"
      ],
      "text/plain": [
       "                                           statement  \\\n",
       "0  Sen. Kamala Harris is \"supporting the animals ...   \n",
       "1  Says Ronald Reagan said immigrants \"brought wi...   \n",
       "2  Says Democratic Senators \"demand Supreme Court...   \n",
       "3  \"Tim Kaine doesn’t want a border at all. He wa...   \n",
       "4  \"There are a lot of private charters. And in f...   \n",
       "\n",
       "                         source  \\\n",
       "0                  Donald Trump   \n",
       "1  Becoming American Initiative   \n",
       "2                   Viral image   \n",
       "3                Corey  Stewart   \n",
       "4              Kelda Helen Roys   \n",
       "\n",
       "                                                link        veracity  \n",
       "0  /web/20180705082623/https://www.politifact.com...  Pants on Fire!  \n",
       "1  /web/20180705082623/https://www.politifact.com...     Mostly True  \n",
       "2  /web/20180705082623/https://www.politifact.com...  Pants on Fire!  \n",
       "3  /web/20180705082623/https://www.politifact.com...  Pants on Fire!  \n",
       "4  /web/20180705082623/https://www.politifact.com...       Half-True  "
      ]
     },
     "execution_count": 14,
     "metadata": {},
     "output_type": "execute_result"
    }
   ],
   "source": [
    "df = pd.read_csv('politifact.csv')\n",
    "df.head()"
   ]
  },
  {
   "cell_type": "code",
   "execution_count": 15,
   "id": "parental-logistics",
   "metadata": {},
   "outputs": [
    {
     "name": "stdout",
     "output_type": "stream",
     "text": [
      "(14209, 4)\n"
     ]
    }
   ],
   "source": [
    "print(df.shape)"
   ]
  },
  {
   "cell_type": "markdown",
   "id": "abandoned-gates",
   "metadata": {},
   "source": [
    "## Dataset after removing Full Flop, Half Flip, No Flip, Half-True"
   ]
  },
  {
   "cell_type": "markdown",
   "id": "collect-seattle",
   "metadata": {},
   "source": [
    "Reason for removal: \n",
    "\n",
    "Full Flop, Half Flip, No Flip do not imply any sort of veracity.\n",
    "\n",
    "Half-True is usually tough to predict/say because it does not belong to Truth or Lie"
   ]
  },
  {
   "cell_type": "code",
   "execution_count": 18,
   "id": "floral-ordering",
   "metadata": {},
   "outputs": [
    {
     "data": {
      "text/plain": [
       "(11188, 4)"
      ]
     },
     "execution_count": 18,
     "metadata": {},
     "output_type": "execute_result"
    }
   ],
   "source": [
    "df_2 = df[~df.isin(['Full Flop',\n",
    "                    'Half Flip',\n",
    "                     'No Flip',\n",
    "                     'Half-True']).any(axis=1)]\n",
    "df_2.shape"
   ]
  },
  {
   "cell_type": "code",
   "execution_count": 19,
   "id": "phantom-commonwealth",
   "metadata": {},
   "outputs": [],
   "source": [
    "df_2.to_csv('politifact_clean.csv', index=False)"
   ]
  },
  {
   "cell_type": "code",
   "execution_count": 20,
   "id": "round-infrastructure",
   "metadata": {},
   "outputs": [
    {
     "data": {
      "text/plain": [
       "Mostly True       0.240883\n",
       "False             0.236056\n",
       "Mostly False      0.208706\n",
       "True              0.192885\n",
       "Pants on Fire!    0.121469\n",
       "Name: veracity, dtype: float64"
      ]
     },
     "execution_count": 20,
     "metadata": {},
     "output_type": "execute_result"
    }
   ],
   "source": [
    "df_2['veracity'].value_counts(normalize=True)"
   ]
  },
  {
   "cell_type": "markdown",
   "id": "minute-farmer",
   "metadata": {},
   "source": [
    "### Binarizing the clean dataset"
   ]
  },
  {
   "cell_type": "code",
   "execution_count": 21,
   "id": "familiar-church",
   "metadata": {},
   "outputs": [
    {
     "data": {
      "text/plain": [
       "(11188, 4)"
      ]
     },
     "execution_count": 21,
     "metadata": {},
     "output_type": "execute_result"
    }
   ],
   "source": [
    "df_2 = df_2.replace({\"False\" : 0,\n",
    "                \"Mostly True\" : 1,\n",
    "                \"Mostly False\" : 0,\n",
    "                \"True\" : 1,\n",
    "                \"Pants on Fire!\" : 0\n",
    "               })\n",
    "df_2.shape"
   ]
  },
  {
   "cell_type": "code",
   "execution_count": 22,
   "id": "focal-jaguar",
   "metadata": {},
   "outputs": [
    {
     "data": {
      "text/html": [
       "<div>\n",
       "<style scoped>\n",
       "    .dataframe tbody tr th:only-of-type {\n",
       "        vertical-align: middle;\n",
       "    }\n",
       "\n",
       "    .dataframe tbody tr th {\n",
       "        vertical-align: top;\n",
       "    }\n",
       "\n",
       "    .dataframe thead th {\n",
       "        text-align: right;\n",
       "    }\n",
       "</style>\n",
       "<table border=\"1\" class=\"dataframe\">\n",
       "  <thead>\n",
       "    <tr style=\"text-align: right;\">\n",
       "      <th></th>\n",
       "      <th>statement</th>\n",
       "      <th>source</th>\n",
       "      <th>link</th>\n",
       "      <th>veracity</th>\n",
       "    </tr>\n",
       "  </thead>\n",
       "  <tbody>\n",
       "    <tr>\n",
       "      <th>0</th>\n",
       "      <td>Sen. Kamala Harris is \"supporting the animals ...</td>\n",
       "      <td>Donald Trump</td>\n",
       "      <td>/web/20180705082623/https://www.politifact.com...</td>\n",
       "      <td>0</td>\n",
       "    </tr>\n",
       "    <tr>\n",
       "      <th>1</th>\n",
       "      <td>Says Ronald Reagan said immigrants \"brought wi...</td>\n",
       "      <td>Becoming American Initiative</td>\n",
       "      <td>/web/20180705082623/https://www.politifact.com...</td>\n",
       "      <td>1</td>\n",
       "    </tr>\n",
       "    <tr>\n",
       "      <th>2</th>\n",
       "      <td>Says Democratic Senators \"demand Supreme Court...</td>\n",
       "      <td>Viral image</td>\n",
       "      <td>/web/20180705082623/https://www.politifact.com...</td>\n",
       "      <td>0</td>\n",
       "    </tr>\n",
       "    <tr>\n",
       "      <th>3</th>\n",
       "      <td>\"Tim Kaine doesn’t want a border at all. He wa...</td>\n",
       "      <td>Corey  Stewart</td>\n",
       "      <td>/web/20180705082623/https://www.politifact.com...</td>\n",
       "      <td>0</td>\n",
       "    </tr>\n",
       "    <tr>\n",
       "      <th>5</th>\n",
       "      <td>\"George H.W. Bush has died at 94.\"</td>\n",
       "      <td>Bloggers</td>\n",
       "      <td>/web/20180705082623/https://www.politifact.com...</td>\n",
       "      <td>0</td>\n",
       "    </tr>\n",
       "  </tbody>\n",
       "</table>\n",
       "</div>"
      ],
      "text/plain": [
       "                                           statement  \\\n",
       "0  Sen. Kamala Harris is \"supporting the animals ...   \n",
       "1  Says Ronald Reagan said immigrants \"brought wi...   \n",
       "2  Says Democratic Senators \"demand Supreme Court...   \n",
       "3  \"Tim Kaine doesn’t want a border at all. He wa...   \n",
       "5                 \"George H.W. Bush has died at 94.\"   \n",
       "\n",
       "                         source  \\\n",
       "0                  Donald Trump   \n",
       "1  Becoming American Initiative   \n",
       "2                   Viral image   \n",
       "3                Corey  Stewart   \n",
       "5                      Bloggers   \n",
       "\n",
       "                                                link  veracity  \n",
       "0  /web/20180705082623/https://www.politifact.com...         0  \n",
       "1  /web/20180705082623/https://www.politifact.com...         1  \n",
       "2  /web/20180705082623/https://www.politifact.com...         0  \n",
       "3  /web/20180705082623/https://www.politifact.com...         0  \n",
       "5  /web/20180705082623/https://www.politifact.com...         0  "
      ]
     },
     "execution_count": 22,
     "metadata": {},
     "output_type": "execute_result"
    }
   ],
   "source": [
    "df_2.head()"
   ]
  },
  {
   "cell_type": "markdown",
   "id": "chief-citation",
   "metadata": {},
   "source": [
    "### We obtain our first dataset that can be used for training a ML model"
   ]
  },
  {
   "cell_type": "markdown",
   "id": "improved-sweet",
   "metadata": {},
   "source": [
    "#### politifact_clean_binarised.csv\n",
    "It contains samples from classes: False, Mostly False, Pants On Fire! / True, Mostly True "
   ]
  },
  {
   "cell_type": "code",
   "execution_count": 29,
   "id": "crude-firmware",
   "metadata": {},
   "outputs": [
    {
     "data": {
      "image/png": "[encoded data removed]",
      "text/plain": [
       "<Figure size 432x288 with 1 Axes>"
      ]
     },
     "metadata": {},
     "output_type": "display_data"
    }
   ],
   "source": [
    "plt.pie(df_2['veracity'].value_counts(), explode=(0.1, 0), labels=df_2['veracity'].unique().tolist(), autopct='%1.1f%%')\n",
    "plt.axis('equal')\n",
    "plt.show()"
   ]
  },
  {
   "cell_type": "code",
   "execution_count": 24,
   "id": "coordinated-lender",
   "metadata": {},
   "outputs": [],
   "source": [
    "df_2.to_csv('politifact_clean_binarized.csv', index=False)"
   ]
  },
  {
   "cell_type": "markdown",
   "id": "swedish-milan",
   "metadata": {},
   "source": [
    "## Creating new dataset that is a stricter, also removing Mostly True and Mostly False"
   ]
  },
  {
   "cell_type": "markdown",
   "id": "civil-france",
   "metadata": {},
   "source": [
    "This dataset will only include the following categories: True, False, Pants on Fire!"
   ]
  },
  {
   "cell_type": "code",
   "execution_count": 30,
   "id": "ranging-promise",
   "metadata": {},
   "outputs": [
    {
     "data": {
      "text/html": [
       "<div>\n",
       "<style scoped>\n",
       "    .dataframe tbody tr th:only-of-type {\n",
       "        vertical-align: middle;\n",
       "    }\n",
       "\n",
       "    .dataframe tbody tr th {\n",
       "        vertical-align: top;\n",
       "    }\n",
       "\n",
       "    .dataframe thead th {\n",
       "        text-align: right;\n",
       "    }\n",
       "</style>\n",
       "<table border=\"1\" class=\"dataframe\">\n",
       "  <thead>\n",
       "    <tr style=\"text-align: right;\">\n",
       "      <th></th>\n",
       "      <th>statement</th>\n",
       "      <th>source</th>\n",
       "      <th>link</th>\n",
       "      <th>veracity</th>\n",
       "    </tr>\n",
       "  </thead>\n",
       "  <tbody>\n",
       "    <tr>\n",
       "      <th>0</th>\n",
       "      <td>Sen. Kamala Harris is \"supporting the animals ...</td>\n",
       "      <td>Donald Trump</td>\n",
       "      <td>/web/20180705082623/https://www.politifact.com...</td>\n",
       "      <td>Pants on Fire!</td>\n",
       "    </tr>\n",
       "    <tr>\n",
       "      <th>1</th>\n",
       "      <td>Says Ronald Reagan said immigrants \"brought wi...</td>\n",
       "      <td>Becoming American Initiative</td>\n",
       "      <td>/web/20180705082623/https://www.politifact.com...</td>\n",
       "      <td>Mostly True</td>\n",
       "    </tr>\n",
       "    <tr>\n",
       "      <th>2</th>\n",
       "      <td>Says Democratic Senators \"demand Supreme Court...</td>\n",
       "      <td>Viral image</td>\n",
       "      <td>/web/20180705082623/https://www.politifact.com...</td>\n",
       "      <td>Pants on Fire!</td>\n",
       "    </tr>\n",
       "    <tr>\n",
       "      <th>3</th>\n",
       "      <td>\"Tim Kaine doesn’t want a border at all. He wa...</td>\n",
       "      <td>Corey  Stewart</td>\n",
       "      <td>/web/20180705082623/https://www.politifact.com...</td>\n",
       "      <td>Pants on Fire!</td>\n",
       "    </tr>\n",
       "    <tr>\n",
       "      <th>4</th>\n",
       "      <td>\"George H.W. Bush has died at 94.\"</td>\n",
       "      <td>Bloggers</td>\n",
       "      <td>/web/20180705082623/https://www.politifact.com...</td>\n",
       "      <td>Pants on Fire!</td>\n",
       "    </tr>\n",
       "  </tbody>\n",
       "</table>\n",
       "</div>"
      ],
      "text/plain": [
       "                                           statement  \\\n",
       "0  Sen. Kamala Harris is \"supporting the animals ...   \n",
       "1  Says Ronald Reagan said immigrants \"brought wi...   \n",
       "2  Says Democratic Senators \"demand Supreme Court...   \n",
       "3  \"Tim Kaine doesn’t want a border at all. He wa...   \n",
       "4                 \"George H.W. Bush has died at 94.\"   \n",
       "\n",
       "                         source  \\\n",
       "0                  Donald Trump   \n",
       "1  Becoming American Initiative   \n",
       "2                   Viral image   \n",
       "3                Corey  Stewart   \n",
       "4                      Bloggers   \n",
       "\n",
       "                                                link        veracity  \n",
       "0  /web/20180705082623/https://www.politifact.com...  Pants on Fire!  \n",
       "1  /web/20180705082623/https://www.politifact.com...     Mostly True  \n",
       "2  /web/20180705082623/https://www.politifact.com...  Pants on Fire!  \n",
       "3  /web/20180705082623/https://www.politifact.com...  Pants on Fire!  \n",
       "4  /web/20180705082623/https://www.politifact.com...  Pants on Fire!  "
      ]
     },
     "execution_count": 30,
     "metadata": {},
     "output_type": "execute_result"
    }
   ],
   "source": [
    "df = pd.read_csv('politifact_clean.csv')\n",
    "df.head()"
   ]
  },
  {
   "cell_type": "code",
   "execution_count": 31,
   "id": "imposed-metadata",
   "metadata": {},
   "outputs": [
    {
     "data": {
      "text/plain": [
       "(11188, 4)"
      ]
     },
     "execution_count": 31,
     "metadata": {},
     "output_type": "execute_result"
    }
   ],
   "source": [
    "df.shape"
   ]
  },
  {
   "cell_type": "code",
   "execution_count": 32,
   "id": "optimum-venice",
   "metadata": {},
   "outputs": [
    {
     "data": {
      "text/plain": [
       "(6158, 4)"
      ]
     },
     "execution_count": 32,
     "metadata": {},
     "output_type": "execute_result"
    }
   ],
   "source": [
    "df_2 = df[~df.isin(['Full Flop',\n",
    "                    'Half Flip',\n",
    "                    'No Flip',\n",
    "                    'Half-True',\n",
    "                    'Mostly True',\n",
    "                    'Mostly False']).any(axis=1)]\n",
    "df_2.shape"
   ]
  },
  {
   "cell_type": "code",
   "execution_count": 33,
   "id": "cordless-complaint",
   "metadata": {},
   "outputs": [
    {
     "data": {
      "text/plain": [
       "False             0.428873\n",
       "True              0.350438\n",
       "Pants on Fire!    0.220689\n",
       "Name: veracity, dtype: float64"
      ]
     },
     "execution_count": 33,
     "metadata": {},
     "output_type": "execute_result"
    }
   ],
   "source": [
    "df_2['veracity'].value_counts(normalize=True)"
   ]
  },
  {
   "cell_type": "markdown",
   "id": "disturbed-manitoba",
   "metadata": {},
   "source": [
    "### Binarizing the strict dataset"
   ]
  },
  {
   "cell_type": "markdown",
   "id": "absent-internship",
   "metadata": {},
   "source": [
    "#### politifact_strict_binarized.csv\n",
    "This dataset now includes the following classes: False, True, Pants on Fire.\n",
    "\n",
    "As can be seen below, this dataset is more skewed towards False news as opposed the previous, more lenient dataset."
   ]
  },
  {
   "cell_type": "code",
   "execution_count": 34,
   "id": "cheap-slovenia",
   "metadata": {},
   "outputs": [
    {
     "data": {
      "text/plain": [
       "(6158, 4)"
      ]
     },
     "execution_count": 34,
     "metadata": {},
     "output_type": "execute_result"
    }
   ],
   "source": [
    "df_2 = df_2.replace({\"False\" : 0,\n",
    "                \"True\" : 1,\n",
    "                \"Pants on Fire!\" : 0\n",
    "               })\n",
    "df_2.shape"
   ]
  },
  {
   "cell_type": "code",
   "execution_count": 35,
   "id": "resident-gibson",
   "metadata": {
    "scrolled": true
   },
   "outputs": [
    {
     "data": {
      "image/png": "[encoded data removed]",
      "text/plain": [
       "<Figure size 432x288 with 1 Axes>"
      ]
     },
     "metadata": {},
     "output_type": "display_data"
    }
   ],
   "source": [
    "plt.pie(df_2['veracity'].value_counts(), explode=(0.1, 0), labels=df_2['veracity'].unique().tolist(), autopct='%1.1f%%')\n",
    "plt.axis('equal')\n",
    "plt.show()"
   ]
  },
  {
   "cell_type": "code",
   "execution_count": 36,
   "id": "noticed-happening",
   "metadata": {},
   "outputs": [],
   "source": [
    "df_2.to_csv('politifact_strict_binarized.csv', index=False)"
   ]
  },
  {
   "cell_type": "code",
   "execution_count": null,
   "id": "executed-eugene",
   "metadata": {},
   "outputs": [],
   "source": []
  }
 ],
 "metadata": {
  "kernelspec": {
   "display_name": "Python 3",
   "language": "python",
   "name": "python3"
  },
  "language_info": {
   "codemirror_mode": {
    "name": "ipython",
    "version": 3
   },
   "file_extension": ".py",
   "mimetype": "text/x-python",
   "name": "python",
   "nbconvert_exporter": "python",
   "pygments_lexer": "ipython3",
   "version": "3.8.8"
  }
 },
 "nbformat": 4,
 "nbformat_minor": 5
}
