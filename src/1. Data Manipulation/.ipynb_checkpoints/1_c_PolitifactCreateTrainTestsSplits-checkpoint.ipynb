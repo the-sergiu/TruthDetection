{
 "cells": [
  {
   "cell_type": "code",
   "execution_count": 29,
   "id": "quality-second",
   "metadata": {},
   "outputs": [],
   "source": [
    "import pandas as pd\n",
    "import numpy as np\n",
    "from sklearn.model_selection import train_test_split"
   ]
  },
  {
   "cell_type": "markdown",
   "id": "entertaining-packaging",
   "metadata": {},
   "source": [
    "## politifact_clean_binarized.csv"
   ]
  },
  {
   "cell_type": "code",
   "execution_count": 30,
   "id": "disciplinary-broadcasting",
   "metadata": {
    "scrolled": true
   },
   "outputs": [
    {
     "data": {
      "text/html": [
       "<div>\n",
       "<style scoped>\n",
       "    .dataframe tbody tr th:only-of-type {\n",
       "        vertical-align: middle;\n",
       "    }\n",
       "\n",
       "    .dataframe tbody tr th {\n",
       "        vertical-align: top;\n",
       "    }\n",
       "\n",
       "    .dataframe thead th {\n",
       "        text-align: right;\n",
       "    }\n",
       "</style>\n",
       "<table border=\"1\" class=\"dataframe\">\n",
       "  <thead>\n",
       "    <tr style=\"text-align: right;\">\n",
       "      <th></th>\n",
       "      <th>statement</th>\n",
       "      <th>source</th>\n",
       "      <th>link</th>\n",
       "      <th>veracity</th>\n",
       "    </tr>\n",
       "  </thead>\n",
       "  <tbody>\n",
       "    <tr>\n",
       "      <th>0</th>\n",
       "      <td>Sen. Kamala Harris is \"supporting the animals ...</td>\n",
       "      <td>Donald Trump</td>\n",
       "      <td>/web/20180705082623/https://www.politifact.com...</td>\n",
       "      <td>0</td>\n",
       "    </tr>\n",
       "    <tr>\n",
       "      <th>1</th>\n",
       "      <td>Says Ronald Reagan said immigrants \"brought wi...</td>\n",
       "      <td>Becoming American Initiative</td>\n",
       "      <td>/web/20180705082623/https://www.politifact.com...</td>\n",
       "      <td>1</td>\n",
       "    </tr>\n",
       "    <tr>\n",
       "      <th>2</th>\n",
       "      <td>Says Democratic Senators \"demand Supreme Court...</td>\n",
       "      <td>Viral image</td>\n",
       "      <td>/web/20180705082623/https://www.politifact.com...</td>\n",
       "      <td>0</td>\n",
       "    </tr>\n",
       "    <tr>\n",
       "      <th>3</th>\n",
       "      <td>\"Tim Kaine doesn’t want a border at all. He wa...</td>\n",
       "      <td>Corey  Stewart</td>\n",
       "      <td>/web/20180705082623/https://www.politifact.com...</td>\n",
       "      <td>0</td>\n",
       "    </tr>\n",
       "    <tr>\n",
       "      <th>4</th>\n",
       "      <td>\"George H.W. Bush has died at 94.\"</td>\n",
       "      <td>Bloggers</td>\n",
       "      <td>/web/20180705082623/https://www.politifact.com...</td>\n",
       "      <td>0</td>\n",
       "    </tr>\n",
       "  </tbody>\n",
       "</table>\n",
       "</div>"
      ],
      "text/plain": [
       "                                           statement  \\\n",
       "0  Sen. Kamala Harris is \"supporting the animals ...   \n",
       "1  Says Ronald Reagan said immigrants \"brought wi...   \n",
       "2  Says Democratic Senators \"demand Supreme Court...   \n",
       "3  \"Tim Kaine doesn’t want a border at all. He wa...   \n",
       "4                 \"George H.W. Bush has died at 94.\"   \n",
       "\n",
       "                         source  \\\n",
       "0                  Donald Trump   \n",
       "1  Becoming American Initiative   \n",
       "2                   Viral image   \n",
       "3                Corey  Stewart   \n",
       "4                      Bloggers   \n",
       "\n",
       "                                                link  veracity  \n",
       "0  /web/20180705082623/https://www.politifact.com...         0  \n",
       "1  /web/20180705082623/https://www.politifact.com...         1  \n",
       "2  /web/20180705082623/https://www.politifact.com...         0  \n",
       "3  /web/20180705082623/https://www.politifact.com...         0  \n",
       "4  /web/20180705082623/https://www.politifact.com...         0  "
      ]
     },
     "execution_count": 30,
     "metadata": {},
     "output_type": "execute_result"
    }
   ],
   "source": [
    "df = pd.read_csv('politifact_clean_binarized.csv')\n",
    "df.head()"
   ]
  },
  {
   "cell_type": "code",
   "execution_count": 31,
   "id": "honey-feeding",
   "metadata": {},
   "outputs": [
    {
     "data": {
      "text/plain": [
       "(11188, 4)"
      ]
     },
     "execution_count": 31,
     "metadata": {},
     "output_type": "execute_result"
    }
   ],
   "source": [
    "df.shape"
   ]
  },
  {
   "cell_type": "markdown",
   "id": "recreational-commerce",
   "metadata": {},
   "source": [
    "### Train"
   ]
  },
  {
   "cell_type": "code",
   "execution_count": 32,
   "id": "cheap-lease",
   "metadata": {},
   "outputs": [],
   "source": [
    "train_text, temp_text, train_labels, temp_labels = train_test_split(df['statement'], df['veracity'], \n",
    "                                                                    random_state=2018, \n",
    "                                                                    test_size=0.1, \n",
    "                                                                    stratify=df['veracity'])"
   ]
  },
  {
   "cell_type": "code",
   "execution_count": 33,
   "id": "higher-learning",
   "metadata": {},
   "outputs": [
    {
     "data": {
      "text/html": [
       "<div>\n",
       "<style scoped>\n",
       "    .dataframe tbody tr th:only-of-type {\n",
       "        vertical-align: middle;\n",
       "    }\n",
       "\n",
       "    .dataframe tbody tr th {\n",
       "        vertical-align: top;\n",
       "    }\n",
       "\n",
       "    .dataframe thead th {\n",
       "        text-align: right;\n",
       "    }\n",
       "</style>\n",
       "<table border=\"1\" class=\"dataframe\">\n",
       "  <thead>\n",
       "    <tr style=\"text-align: right;\">\n",
       "      <th></th>\n",
       "      <th>statement</th>\n",
       "      <th>source</th>\n",
       "      <th>link</th>\n",
       "      <th>veracity</th>\n",
       "    </tr>\n",
       "  </thead>\n",
       "  <tbody>\n",
       "    <tr>\n",
       "      <th>0</th>\n",
       "      <td>Sen. Kamala Harris is \"supporting the animals ...</td>\n",
       "      <td>Donald Trump</td>\n",
       "      <td>/web/20180705082623/https://www.politifact.com...</td>\n",
       "      <td>0</td>\n",
       "    </tr>\n",
       "    <tr>\n",
       "      <th>1</th>\n",
       "      <td>Says Ronald Reagan said immigrants \"brought wi...</td>\n",
       "      <td>Becoming American Initiative</td>\n",
       "      <td>/web/20180705082623/https://www.politifact.com...</td>\n",
       "      <td>1</td>\n",
       "    </tr>\n",
       "    <tr>\n",
       "      <th>2</th>\n",
       "      <td>Says Democratic Senators \"demand Supreme Court...</td>\n",
       "      <td>Viral image</td>\n",
       "      <td>/web/20180705082623/https://www.politifact.com...</td>\n",
       "      <td>0</td>\n",
       "    </tr>\n",
       "    <tr>\n",
       "      <th>3</th>\n",
       "      <td>\"Tim Kaine doesn’t want a border at all. He wa...</td>\n",
       "      <td>Corey  Stewart</td>\n",
       "      <td>/web/20180705082623/https://www.politifact.com...</td>\n",
       "      <td>0</td>\n",
       "    </tr>\n",
       "    <tr>\n",
       "      <th>4</th>\n",
       "      <td>\"George H.W. Bush has died at 94.\"</td>\n",
       "      <td>Bloggers</td>\n",
       "      <td>/web/20180705082623/https://www.politifact.com...</td>\n",
       "      <td>0</td>\n",
       "    </tr>\n",
       "  </tbody>\n",
       "</table>\n",
       "</div>"
      ],
      "text/plain": [
       "                                           statement  \\\n",
       "0  Sen. Kamala Harris is \"supporting the animals ...   \n",
       "1  Says Ronald Reagan said immigrants \"brought wi...   \n",
       "2  Says Democratic Senators \"demand Supreme Court...   \n",
       "3  \"Tim Kaine doesn’t want a border at all. He wa...   \n",
       "4                 \"George H.W. Bush has died at 94.\"   \n",
       "\n",
       "                         source  \\\n",
       "0                  Donald Trump   \n",
       "1  Becoming American Initiative   \n",
       "2                   Viral image   \n",
       "3                Corey  Stewart   \n",
       "4                      Bloggers   \n",
       "\n",
       "                                                link  veracity  \n",
       "0  /web/20180705082623/https://www.politifact.com...         0  \n",
       "1  /web/20180705082623/https://www.politifact.com...         1  \n",
       "2  /web/20180705082623/https://www.politifact.com...         0  \n",
       "3  /web/20180705082623/https://www.politifact.com...         0  \n",
       "4  /web/20180705082623/https://www.politifact.com...         0  "
      ]
     },
     "execution_count": 33,
     "metadata": {},
     "output_type": "execute_result"
    }
   ],
   "source": [
    "train = df[:int(-len(df) * 0.1)]\n",
    "train.head()"
   ]
  },
  {
   "cell_type": "code",
   "execution_count": 34,
   "id": "eastern-wellington",
   "metadata": {},
   "outputs": [
    {
     "data": {
      "text/plain": [
       "(10070, 4)"
      ]
     },
     "execution_count": 34,
     "metadata": {},
     "output_type": "execute_result"
    }
   ],
   "source": [
    "train.shape"
   ]
  },
  {
   "cell_type": "code",
   "execution_count": 35,
   "id": "oriented-survey",
   "metadata": {},
   "outputs": [
    {
     "data": {
      "text/plain": [
       "0    0.5715\n",
       "1    0.4285\n",
       "Name: veracity, dtype: float64"
      ]
     },
     "execution_count": 35,
     "metadata": {},
     "output_type": "execute_result"
    }
   ],
   "source": [
    "train['veracity'].value_counts(normalize=True)"
   ]
  },
  {
   "cell_type": "markdown",
   "id": "associate-annotation",
   "metadata": {},
   "source": [
    "### Test"
   ]
  },
  {
   "cell_type": "code",
   "execution_count": 36,
   "id": "authentic-wheel",
   "metadata": {
    "scrolled": true
   },
   "outputs": [
    {
     "data": {
      "text/html": [
       "<div>\n",
       "<style scoped>\n",
       "    .dataframe tbody tr th:only-of-type {\n",
       "        vertical-align: middle;\n",
       "    }\n",
       "\n",
       "    .dataframe tbody tr th {\n",
       "        vertical-align: top;\n",
       "    }\n",
       "\n",
       "    .dataframe thead th {\n",
       "        text-align: right;\n",
       "    }\n",
       "</style>\n",
       "<table border=\"1\" class=\"dataframe\">\n",
       "  <thead>\n",
       "    <tr style=\"text-align: right;\">\n",
       "      <th></th>\n",
       "      <th>statement</th>\n",
       "      <th>source</th>\n",
       "      <th>link</th>\n",
       "      <th>veracity</th>\n",
       "    </tr>\n",
       "  </thead>\n",
       "  <tbody>\n",
       "    <tr>\n",
       "      <th>10070</th>\n",
       "      <td>Challenger Tim Tuggey \"is a lobbyist who donat...</td>\n",
       "      <td>Ken Mercer</td>\n",
       "      <td>/web/20180119180030/http://www.politifact.com/...</td>\n",
       "      <td>0</td>\n",
       "    </tr>\n",
       "    <tr>\n",
       "      <th>10071</th>\n",
       "      <td>\"Her opponent: zero times a judge, zero ruling...</td>\n",
       "      <td>Jan Patterson</td>\n",
       "      <td>/web/20180119180030/http://www.politifact.com/...</td>\n",
       "      <td>1</td>\n",
       "    </tr>\n",
       "    <tr>\n",
       "      <th>10072</th>\n",
       "      <td>\"I'm glad for the wording of it (an ethics rep...</td>\n",
       "      <td>Charles Rangel</td>\n",
       "      <td>/web/20180119180030/http://www.politifact.com/...</td>\n",
       "      <td>0</td>\n",
       "    </tr>\n",
       "    <tr>\n",
       "      <th>10073</th>\n",
       "      <td>Says Paul Workman \"voted in the Democrat prima...</td>\n",
       "      <td>Holly  Turner</td>\n",
       "      <td>/web/20180119180030/http://www.politifact.com/...</td>\n",
       "      <td>1</td>\n",
       "    </tr>\n",
       "    <tr>\n",
       "      <th>10074</th>\n",
       "      <td>\"Speaker Rubio supported gun restrictions that...</td>\n",
       "      <td>Charlie Crist</td>\n",
       "      <td>/web/20180119180041/http://www.politifact.com/...</td>\n",
       "      <td>1</td>\n",
       "    </tr>\n",
       "  </tbody>\n",
       "</table>\n",
       "</div>"
      ],
      "text/plain": [
       "                                               statement          source  \\\n",
       "10070  Challenger Tim Tuggey \"is a lobbyist who donat...      Ken Mercer   \n",
       "10071  \"Her opponent: zero times a judge, zero ruling...   Jan Patterson   \n",
       "10072  \"I'm glad for the wording of it (an ethics rep...  Charles Rangel   \n",
       "10073  Says Paul Workman \"voted in the Democrat prima...   Holly  Turner   \n",
       "10074  \"Speaker Rubio supported gun restrictions that...   Charlie Crist   \n",
       "\n",
       "                                                    link  veracity  \n",
       "10070  /web/20180119180030/http://www.politifact.com/...         0  \n",
       "10071  /web/20180119180030/http://www.politifact.com/...         1  \n",
       "10072  /web/20180119180030/http://www.politifact.com/...         0  \n",
       "10073  /web/20180119180030/http://www.politifact.com/...         1  \n",
       "10074  /web/20180119180041/http://www.politifact.com/...         1  "
      ]
     },
     "execution_count": 36,
     "metadata": {},
     "output_type": "execute_result"
    }
   ],
   "source": [
    "test = df[int(-len(df) * 0.1):]\n",
    "test.head()"
   ]
  },
  {
   "cell_type": "code",
   "execution_count": 37,
   "id": "eastern-mayor",
   "metadata": {},
   "outputs": [
    {
     "data": {
      "text/plain": [
       "(1118, 4)"
      ]
     },
     "execution_count": 37,
     "metadata": {},
     "output_type": "execute_result"
    }
   ],
   "source": [
    "test.shape"
   ]
  },
  {
   "cell_type": "code",
   "execution_count": 38,
   "id": "hungarian-special",
   "metadata": {},
   "outputs": [
    {
     "data": {
      "text/plain": [
       "0    0.518784\n",
       "1    0.481216\n",
       "Name: veracity, dtype: float64"
      ]
     },
     "execution_count": 38,
     "metadata": {},
     "output_type": "execute_result"
    }
   ],
   "source": [
    "test['veracity'].value_counts(normalize=True)"
   ]
  },
  {
   "cell_type": "code",
   "execution_count": 39,
   "id": "voluntary-prediction",
   "metadata": {},
   "outputs": [],
   "source": [
    "test_y = test['veracity']"
   ]
  },
  {
   "cell_type": "code",
   "execution_count": 40,
   "id": "generous-limitation",
   "metadata": {},
   "outputs": [
    {
     "data": {
      "text/plain": [
       "10070    0\n",
       "10071    1\n",
       "10072    0\n",
       "10073    1\n",
       "10074    1\n",
       "        ..\n",
       "11183    0\n",
       "11184    1\n",
       "11185    1\n",
       "11186    1\n",
       "11187    1\n",
       "Name: veracity, Length: 1118, dtype: int64"
      ]
     },
     "execution_count": 40,
     "metadata": {},
     "output_type": "execute_result"
    }
   ],
   "source": [
    "test_y"
   ]
  },
  {
   "cell_type": "code",
   "execution_count": 25,
   "id": "isolated-recipe",
   "metadata": {},
   "outputs": [],
   "source": [
    "test = test.drop(columns=['veracity'])"
   ]
  },
  {
   "cell_type": "markdown",
   "id": "approved-plain",
   "metadata": {},
   "source": [
    "### Quick sanity check"
   ]
  },
  {
   "cell_type": "code",
   "execution_count": 26,
   "id": "obvious-machinery",
   "metadata": {},
   "outputs": [
    {
     "name": "stdout",
     "output_type": "stream",
     "text": [
      "Index(['statement', 'source', 'link', 'veracity'], dtype='object')\n",
      "(10070, 4)\n"
     ]
    }
   ],
   "source": [
    "print(train.columns)\n",
    "print(train.shape)"
   ]
  },
  {
   "cell_type": "code",
   "execution_count": 27,
   "id": "documentary-opinion",
   "metadata": {},
   "outputs": [
    {
     "name": "stdout",
     "output_type": "stream",
     "text": [
      "Index(['statement', 'source', 'link'], dtype='object')\n",
      "(1118, 3)\n"
     ]
    }
   ],
   "source": [
    "print(test.columns)\n",
    "print(test.shape)"
   ]
  },
  {
   "cell_type": "markdown",
   "id": "promising-conversation",
   "metadata": {},
   "source": [
    "### Save to csv train/test. Test will most likely be used for validation."
   ]
  },
  {
   "cell_type": "code",
   "execution_count": 42,
   "id": "drawn-travel",
   "metadata": {},
   "outputs": [],
   "source": [
    "train.to_csv('politifact_clean_binarized_train.csv', index=False)\n",
    "test.to_csv('politifact_clean_binarized_test.csv', index=False)\n",
    "test_y.to_csv('politifact_clean_binarized_test_labels.csv', index=False)"
   ]
  },
  {
   "cell_type": "code",
   "execution_count": null,
   "id": "touched-transition",
   "metadata": {},
   "outputs": [],
   "source": []
  }
 ],
 "metadata": {
  "kernelspec": {
   "display_name": "Python 3",
   "language": "python",
   "name": "python3"
  },
  "language_info": {
   "codemirror_mode": {
    "name": "ipython",
    "version": 3
   },
   "file_extension": ".py",
   "mimetype": "text/x-python",
   "name": "python",
   "nbconvert_exporter": "python",
   "pygments_lexer": "ipython3",
   "version": "3.8.8"
  }
 },
 "nbformat": 4,
 "nbformat_minor": 5
}
