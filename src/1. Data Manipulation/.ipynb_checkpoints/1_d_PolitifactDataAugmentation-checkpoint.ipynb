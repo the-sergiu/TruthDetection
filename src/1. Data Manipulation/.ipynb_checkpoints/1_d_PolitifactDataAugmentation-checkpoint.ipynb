{
 "cells": [
  {
   "cell_type": "markdown",
   "id": "convenient-particle",
   "metadata": {},
   "source": [
    "## Imports"
   ]
  },
  {
   "cell_type": "code",
   "execution_count": 1,
   "id": "portuguese-packet",
   "metadata": {},
   "outputs": [],
   "source": [
    "import pandas as pd\n",
    "import numpy as np"
   ]
  },
  {
   "cell_type": "markdown",
   "id": "adjustable-laugh",
   "metadata": {},
   "source": [
    "## Dataset Import"
   ]
  },
  {
   "cell_type": "code",
   "execution_count": 5,
   "id": "worth-trade",
   "metadata": {},
   "outputs": [
    {
     "name": "stdout",
     "output_type": "stream",
     "text": [
      "                                           statement  veracity\n",
      "0  Sen. Kamala Harris is \"supporting the animals ...         0\n",
      "1  Says Ronald Reagan said immigrants \"brought wi...         1\n",
      "2  Says Democratic Senators \"demand Supreme Court...         0\n",
      "3  \"Tim Kaine doesn’t want a border at all. He wa...         0\n",
      "4                 \"George H.W. Bush has died at 94.\"         0\n"
     ]
    },
    {
     "data": {
      "text/plain": [
       "(10070, 2)"
      ]
     },
     "execution_count": 5,
     "metadata": {},
     "output_type": "execute_result"
    }
   ],
   "source": [
    "df = pd.read_csv(\"politifact_clean_binarized_train.csv\")\n",
    "df = df[['statement', 'veracity']]\n",
    "print(df.head())\n",
    "df.shape"
   ]
  },
  {
   "cell_type": "code",
   "execution_count": 6,
   "id": "professional-rapid",
   "metadata": {},
   "outputs": [
    {
     "data": {
      "text/html": [
       "<div>\n",
       "<style scoped>\n",
       "    .dataframe tbody tr th:only-of-type {\n",
       "        vertical-align: middle;\n",
       "    }\n",
       "\n",
       "    .dataframe tbody tr th {\n",
       "        vertical-align: top;\n",
       "    }\n",
       "\n",
       "    .dataframe thead th {\n",
       "        text-align: right;\n",
       "    }\n",
       "</style>\n",
       "<table border=\"1\" class=\"dataframe\">\n",
       "  <thead>\n",
       "    <tr style=\"text-align: right;\">\n",
       "      <th></th>\n",
       "      <th>statement</th>\n",
       "      <th>veracity</th>\n",
       "    </tr>\n",
       "  </thead>\n",
       "  <tbody>\n",
       "    <tr>\n",
       "      <th>0</th>\n",
       "      <td>Sen. Kamala Harris is \"supporting the animals ...</td>\n",
       "      <td>0</td>\n",
       "    </tr>\n",
       "    <tr>\n",
       "      <th>1</th>\n",
       "      <td>Says Ronald Reagan said immigrants \"brought wi...</td>\n",
       "      <td>1</td>\n",
       "    </tr>\n",
       "    <tr>\n",
       "      <th>2</th>\n",
       "      <td>Says Democratic Senators \"demand Supreme Court...</td>\n",
       "      <td>0</td>\n",
       "    </tr>\n",
       "    <tr>\n",
       "      <th>3</th>\n",
       "      <td>\"Tim Kaine doesn’t want a border at all. He wa...</td>\n",
       "      <td>0</td>\n",
       "    </tr>\n",
       "    <tr>\n",
       "      <th>4</th>\n",
       "      <td>\"George H.W. Bush has died at 94.\"</td>\n",
       "      <td>0</td>\n",
       "    </tr>\n",
       "  </tbody>\n",
       "</table>\n",
       "</div>"
      ],
      "text/plain": [
       "                                           statement  veracity\n",
       "0  Sen. Kamala Harris is \"supporting the animals ...         0\n",
       "1  Says Ronald Reagan said immigrants \"brought wi...         1\n",
       "2  Says Democratic Senators \"demand Supreme Court...         0\n",
       "3  \"Tim Kaine doesn’t want a border at all. He wa...         0\n",
       "4                 \"George H.W. Bush has died at 94.\"         0"
      ]
     },
     "execution_count": 6,
     "metadata": {},
     "output_type": "execute_result"
    }
   ],
   "source": [
    "exp = df[:5]\n",
    "exp"
   ]
  },
  {
   "cell_type": "markdown",
   "id": "emerging-annex",
   "metadata": {},
   "source": [
    "## Data Manipulation Functions"
   ]
  },
  {
   "cell_type": "code",
   "execution_count": 7,
   "id": "palestinian-bicycle",
   "metadata": {},
   "outputs": [],
   "source": [
    "def insert(df, row):\n",
    "    insert_loc = df.index.max()\n",
    "    \n",
    "    if pd.isna(insert_loc):\n",
    "        df.loc[0] = row\n",
    "    else:\n",
    "        df.loc[insert_loc + 1] = row"
   ]
  },
  {
   "cell_type": "code",
   "execution_count": 8,
   "id": "continued-launch",
   "metadata": {},
   "outputs": [],
   "source": [
    "def listToString(s):\n",
    "    return (' '.join(s))"
   ]
  },
  {
   "cell_type": "markdown",
   "id": "contained-retreat",
   "metadata": {},
   "source": [
    "## Perform Augmentation Operation"
   ]
  },
  {
   "cell_type": "code",
   "execution_count": 26,
   "id": "retired-increase",
   "metadata": {},
   "outputs": [
    {
     "name": "stdout",
     "output_type": "stream",
     "text": [
      "Empty DataFrame\n",
      "Columns: [statement, veracity]\n",
      "Index: []\n"
     ]
    }
   ],
   "source": [
    "# Create a new dataframe\n",
    "df_new = pd.DataFrame(columns=[\"statement\", \"veracity\"])\n",
    "print(df_new.head())"
   ]
  },
  {
   "cell_type": "code",
   "execution_count": null,
   "id": "underlying-captain",
   "metadata": {},
   "outputs": [],
   "source": [
    "# The cell below takes around 30 minutes to run "
   ]
  },
  {
   "cell_type": "code",
   "execution_count": 27,
   "id": "acknowledged-knitting",
   "metadata": {},
   "outputs": [],
   "source": [
    "for i in range(len(df)):\n",
    "    \n",
    "    l = df['statement'][i].split()\n",
    "    \n",
    "    res = []\n",
    "    for j in range(2, len(l), 2):\n",
    "        insert(df_new, [listToString(l[:j]), df['veracity'][i]])  \n",
    "    insert(df_new, [listToString(l), df['veracity'][i]])"
   ]
  },
  {
   "cell_type": "markdown",
   "id": "colonial-player",
   "metadata": {},
   "source": [
    "## Check Results"
   ]
  },
  {
   "cell_type": "code",
   "execution_count": 28,
   "id": "patient-reputation",
   "metadata": {},
   "outputs": [
    {
     "name": "stdout",
     "output_type": "stream",
     "text": [
      "(102893, 2)\n"
     ]
    }
   ],
   "source": [
    "print(df_new.shape)"
   ]
  },
  {
   "cell_type": "code",
   "execution_count": 29,
   "id": "sorted-louisville",
   "metadata": {},
   "outputs": [
    {
     "name": "stdout",
     "output_type": "stream",
     "text": [
      "                                            statement veracity\n",
      "0                                         Sen. Kamala        0\n",
      "1                               Sen. Kamala Harris is        0\n",
      "2               Sen. Kamala Harris is \"supporting the        0\n",
      "3    Sen. Kamala Harris is \"supporting the animals of        0\n",
      "4   Sen. Kamala Harris is \"supporting the animals ...        0\n",
      "..                                                ...      ...\n",
      "95  Says a progressive income tax proposal from De...        0\n",
      "96  Says a progressive income tax proposal from De...        0\n",
      "97  Says a progressive income tax proposal from De...        0\n",
      "98  Says a progressive income tax proposal from De...        0\n",
      "99                                     Says Wisconsin        0\n",
      "\n",
      "[100 rows x 2 columns]\n"
     ]
    }
   ],
   "source": [
    "print(df_new[:100])"
   ]
  },
  {
   "cell_type": "markdown",
   "id": "brutal-pharmacology",
   "metadata": {},
   "source": [
    "## Save to csv"
   ]
  },
  {
   "cell_type": "code",
   "execution_count": 30,
   "id": "fleet-police",
   "metadata": {},
   "outputs": [
    {
     "data": {
      "text/plain": [
       "Index(['statement', 'veracity'], dtype='object')"
      ]
     },
     "execution_count": 30,
     "metadata": {},
     "output_type": "execute_result"
    }
   ],
   "source": [
    "df.columns"
   ]
  },
  {
   "cell_type": "code",
   "execution_count": 31,
   "id": "falling-gnome",
   "metadata": {},
   "outputs": [],
   "source": [
    "df_new.to_csv('politifact_binarized_augmented.csv', index=False)"
   ]
  },
  {
   "cell_type": "markdown",
   "id": "spoken-presentation",
   "metadata": {},
   "source": [
    "## Check saved csv"
   ]
  },
  {
   "cell_type": "code",
   "execution_count": 9,
   "id": "endless-equality",
   "metadata": {},
   "outputs": [
    {
     "data": {
      "text/html": [
       "<div>\n",
       "<style scoped>\n",
       "    .dataframe tbody tr th:only-of-type {\n",
       "        vertical-align: middle;\n",
       "    }\n",
       "\n",
       "    .dataframe tbody tr th {\n",
       "        vertical-align: top;\n",
       "    }\n",
       "\n",
       "    .dataframe thead th {\n",
       "        text-align: right;\n",
       "    }\n",
       "</style>\n",
       "<table border=\"1\" class=\"dataframe\">\n",
       "  <thead>\n",
       "    <tr style=\"text-align: right;\">\n",
       "      <th></th>\n",
       "      <th>statement</th>\n",
       "      <th>veracity</th>\n",
       "    </tr>\n",
       "  </thead>\n",
       "  <tbody>\n",
       "    <tr>\n",
       "      <th>0</th>\n",
       "      <td>Sen. Kamala</td>\n",
       "      <td>0</td>\n",
       "    </tr>\n",
       "    <tr>\n",
       "      <th>1</th>\n",
       "      <td>Sen. Kamala Harris is</td>\n",
       "      <td>0</td>\n",
       "    </tr>\n",
       "    <tr>\n",
       "      <th>2</th>\n",
       "      <td>Sen. Kamala Harris is \"supporting the</td>\n",
       "      <td>0</td>\n",
       "    </tr>\n",
       "    <tr>\n",
       "      <th>3</th>\n",
       "      <td>Sen. Kamala Harris is \"supporting the animals of</td>\n",
       "      <td>0</td>\n",
       "    </tr>\n",
       "    <tr>\n",
       "      <th>4</th>\n",
       "      <td>Sen. Kamala Harris is \"supporting the animals ...</td>\n",
       "      <td>0</td>\n",
       "    </tr>\n",
       "  </tbody>\n",
       "</table>\n",
       "</div>"
      ],
      "text/plain": [
       "                                           statement  veracity\n",
       "0                                        Sen. Kamala         0\n",
       "1                              Sen. Kamala Harris is         0\n",
       "2              Sen. Kamala Harris is \"supporting the         0\n",
       "3   Sen. Kamala Harris is \"supporting the animals of         0\n",
       "4  Sen. Kamala Harris is \"supporting the animals ...         0"
      ]
     },
     "execution_count": 9,
     "metadata": {},
     "output_type": "execute_result"
    }
   ],
   "source": [
    "df2 = pd.read_csv('politifact_binarized_augmented.csv')\n",
    "df2.head()"
   ]
  },
  {
   "cell_type": "code",
   "execution_count": 10,
   "id": "tender-commerce",
   "metadata": {},
   "outputs": [
    {
     "data": {
      "text/plain": [
       "Index(['statement', 'veracity'], dtype='object')"
      ]
     },
     "execution_count": 10,
     "metadata": {},
     "output_type": "execute_result"
    }
   ],
   "source": [
    "df2.columns"
   ]
  },
  {
   "cell_type": "code",
   "execution_count": 11,
   "id": "encouraging-partition",
   "metadata": {},
   "outputs": [
    {
     "data": {
      "text/plain": [
       "(102893, 2)"
      ]
     },
     "execution_count": 11,
     "metadata": {},
     "output_type": "execute_result"
    }
   ],
   "source": [
    "df2.shape"
   ]
  },
  {
   "cell_type": "code",
   "execution_count": 12,
   "id": "atomic-navigation",
   "metadata": {},
   "outputs": [
    {
     "data": {
      "text/plain": [
       "(90000, 2)"
      ]
     },
     "execution_count": 12,
     "metadata": {},
     "output_type": "execute_result"
    }
   ],
   "source": [
    "train_augmented = df2[:90000]\n",
    "train_augmented.shape"
   ]
  },
  {
   "cell_type": "code",
   "execution_count": 13,
   "id": "cardiac-bullet",
   "metadata": {},
   "outputs": [],
   "source": [
    "train_augmented.to_csv(\"politifact_train_augmented.csv\", index=False)"
   ]
  },
  {
   "cell_type": "markdown",
   "id": "short-portrait",
   "metadata": {},
   "source": [
    "## Check test data"
   ]
  },
  {
   "cell_type": "code",
   "execution_count": 14,
   "id": "copyrighted-halifax",
   "metadata": {},
   "outputs": [
    {
     "data": {
      "text/plain": [
       "Index(['statement', 'source', 'link', 'veracity'], dtype='object')"
      ]
     },
     "execution_count": 14,
     "metadata": {},
     "output_type": "execute_result"
    }
   ],
   "source": [
    "test = pd.read_csv('politifact_clean_binarized_test.csv')\n",
    "test.columns"
   ]
  },
  {
   "cell_type": "code",
   "execution_count": 15,
   "id": "therapeutic-nightlife",
   "metadata": {},
   "outputs": [
    {
     "data": {
      "text/plain": [
       "(1118, 4)"
      ]
     },
     "execution_count": 15,
     "metadata": {},
     "output_type": "execute_result"
    }
   ],
   "source": [
    "test.shape"
   ]
  },
  {
   "cell_type": "code",
   "execution_count": null,
   "id": "lesser-action",
   "metadata": {},
   "outputs": [],
   "source": []
  }
 ],
 "metadata": {
  "kernelspec": {
   "display_name": "Python 3",
   "language": "python",
   "name": "python3"
  },
  "language_info": {
   "codemirror_mode": {
    "name": "ipython",
    "version": 3
   },
   "file_extension": ".py",
   "mimetype": "text/x-python",
   "name": "python",
   "nbconvert_exporter": "python",
   "pygments_lexer": "ipython3",
   "version": "3.8.8"
  }
 },
 "nbformat": 4,
 "nbformat_minor": 5
}
